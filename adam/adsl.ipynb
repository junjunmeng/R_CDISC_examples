{
 "cells": [
  {
   "cell_type": "markdown",
   "id": "36574088",
   "metadata": {},
   "source": [
    "---\n"
   ]
  },
  {
   "cell_type": "markdown",
   "id": "4e9c9ee7",
   "metadata": {},
   "source": [
    "# title: \"ADSL\"\n"
   ]
  },
  {
   "cell_type": "markdown",
   "id": "1bb46457",
   "metadata": {},
   "source": [
    "---\n"
   ]
  },
  {
   "cell_type": "markdown",
   "id": "69e177a1",
   "metadata": {},
   "source": [
    "## Introduction\n"
   ]
  },
  {
   "cell_type": "markdown",
   "id": "2c7b4025",
   "metadata": {},
   "source": [
    "This guide will show you how four pharmaverse packages, along with some from tidyverse, can be used to create an ADaM such as `ADSL` end-to-end, using `{pharmaversesdtm}` SDTM data as input.\n"
   ]
  },
  {
   "cell_type": "markdown",
   "id": "9f72495e",
   "metadata": {},
   "source": [
    "The four packages used with a brief description of their purpose are as follows:\n"
   ]
  },
  {
   "cell_type": "markdown",
   "id": "366f6a85",
   "metadata": {},
   "source": [
    "-   [`{metacore}`](https://atorus-research.github.io/metacore/): provides harmonized metadata/specifications object.\n"
   ]
  },
  {
   "cell_type": "markdown",
   "id": "991598e4",
   "metadata": {},
   "source": [
    "-   [`{metatools}`](https://pharmaverse.github.io/metatools/): uses the provided metadata to build/enhance and check the dataset.\n"
   ]
  },
  {
   "cell_type": "markdown",
   "id": "487519e7",
   "metadata": {},
   "source": [
    "-   [`{admiral}`](https://pharmaverse.github.io/admiral/index.html): provides the ADaM derivations.\n"
   ]
  },
  {
   "cell_type": "markdown",
   "id": "e9d3e537",
   "metadata": {},
   "source": [
    "-   [`{xportr}`](https://atorus-research.github.io/xportr/): delivers the SAS transport file (XPT) and eSub checks.\n"
   ]
  },
  {
   "cell_type": "markdown",
   "id": "5a5dbee6",
   "metadata": {},
   "source": [
    "It is important to understand `{metacore}` objects by reading through the above linked package site, as these are fundamental to being able to use `{metatools}` and `{xportr}`. Each company may need to build a specification reader to create these objects from their source standard specification templates.\n"
   ]
  },
  {
   "cell_type": "markdown",
   "id": "88306fa4",
   "metadata": {},
   "source": [
    "## Load Data and Required pharmaverse Packages\n"
   ]
  },
  {
   "cell_type": "markdown",
   "id": "230ddeb0",
   "metadata": {},
   "source": [
    "The first step is to load our pharmaverse packages and input data.\n"
   ]
  },
  {
   "cell_type": "code",
   "execution_count": null,
   "id": "68013944",
   "metadata": {
    "language": "{r setup, message=FALSE, warning=FALSE, results='hold'"
   },
   "outputs": [],
   "source": [
    "library(metacore)\n",
    "library(metatools)\n",
    "library(pharmaversesdtm)\n",
    "library(admiral)\n",
    "library(xportr)\n",
    "library(dplyr)\n",
    "library(tidyr)\n",
    "library(lubridate)\n",
    "library(stringr)\n",
    "\n",
    "# Read in input SDTM data\n",
    "data(\"dm\")\n",
    "data(\"ex\")\n"
   ]
  },
  {
   "cell_type": "markdown",
   "id": "43ac49e8",
   "metadata": {},
   "source": [
    "First, check the components of metacore and metacore_example objects\n"
   ]
  },
  {
   "cell_type": "code",
   "execution_count": null,
   "id": "f6d53be4",
   "metadata": {
    "language": "{r"
   },
   "outputs": [],
   "source": [
    "str(metacore)\n",
    "\n",
    "print(paste(\"supp is\", metacore$supp))\n",
    "print(metacore$codelist)\n",
    "print(metacore$derivations)\n",
    "print(metacore$value_spec)\n",
    "print(metacore$ds_vars)\n",
    "print(metacore$ds_spec)\n"
   ]
  },
  {
   "cell_type": "code",
   "execution_count": null,
   "id": "ee114f8c",
   "metadata": {
    "language": "{r"
   },
   "outputs": [],
   "source": [
    "metacore_example()"
   ]
  },
  {
   "cell_type": "code",
   "execution_count": null,
   "id": "39011c9a",
   "metadata": {
    "language": "{r"
   },
   "outputs": [],
   "source": [
    "load(metacore_example(\"pilot_SDTM.rda\"))\n",
    "\n",
    "# List all loaded objects\n",
    "loaded_objects <- ls()\n",
    "\n",
    "# Inspect each loaded object\n",
    "for (obj in loaded_objects) {\n",
    "   cat(\"Inspecting object:\", obj, \"\\n\")\n",
    "   print(str(get(obj)))\n",
    "   cat(\"\\n\\n\")\n",
    "}\n"
   ]
  },
  {
   "cell_type": "markdown",
   "id": "ab3554e9",
   "metadata": {},
   "source": [
    "Next we need to load the specification file in the form of a `{metacore}` object.\n"
   ]
  },
  {
   "cell_type": "code",
   "execution_count": null,
   "id": "d5fb6632",
   "metadata": {
    "language": "{r metacore, warning=FALSE, results='hold'"
   },
   "outputs": [],
   "source": [
    "# Read in metacore object\n",
    "load(metacore_example(\"pilot_ADaM.rda\"))\n",
    "metacore <- metacore %>%\n",
    "   select_dataset(\"ADSL\")\n"
   ]
  },
  {
   "cell_type": "markdown",
   "id": "960bd14a",
   "metadata": {},
   "source": [
    "\n"
   ]
  },
  {
   "cell_type": "markdown",
   "id": "4785db85",
   "metadata": {},
   "source": [
    "Here is an example of how a `{metacore}` object looks showing variable level metadata:\n"
   ]
  },
  {
   "cell_type": "markdown",
   "id": "1a19c82f",
   "metadata": {},
   "source": [
    "\n"
   ]
  },
  {
   "cell_type": "code",
   "execution_count": null,
   "id": "561b80a8",
   "metadata": {
    "language": "{r"
   },
   "outputs": [],
   "source": [
    "metacore$ds_vars\n"
   ]
  },
  {
   "cell_type": "markdown",
   "id": "c38e3395",
   "metadata": {},
   "source": [
    "## Start Building Derivations\n"
   ]
  },
  {
   "cell_type": "markdown",
   "id": "4ab4ee79",
   "metadata": {},
   "source": [
    "\n"
   ]
  },
  {
   "cell_type": "markdown",
   "id": "2f4f909c",
   "metadata": {},
   "source": [
    "The first derivation step we are going to do is to pull through all the columns that come directly from the SDTM datasets. You might know which datasets you are going to pull from directly already, but if you don't you can call `metatools::build_from_derived()` with just an empty list and the error will tell you which datasets you need to supply.\n"
   ]
  },
  {
   "cell_type": "markdown",
   "id": "65ff83b8",
   "metadata": {},
   "source": [
    "\n"
   ]
  },
  {
   "cell_type": "code",
   "execution_count": null,
   "id": "0eadb7b8",
   "metadata": {
    "language": "{r, error=TRUE"
   },
   "outputs": [],
   "source": [
    "build_from_derived(metacore, ds_list = list(\"dm\" = dm), predecessor_only = FALSE)\n"
   ]
  },
  {
   "cell_type": "markdown",
   "id": "f6649ce6",
   "metadata": {},
   "source": [
    "\n"
   ]
  },
  {
   "cell_type": "markdown",
   "id": "7359d73e",
   "metadata": {},
   "source": [
    "In this case all the columns come from `DM` so that is the only dataset we will pass into `metatools::build_from_derived()`. The resulting dataset has all the columns combined and any columns that needed renaming between SDTM and ADaM are renamed.\n"
   ]
  },
  {
   "cell_type": "markdown",
   "id": "8942b2da",
   "metadata": {},
   "source": [
    "\n"
   ]
  },
  {
   "cell_type": "code",
   "execution_count": null,
   "id": "a4b52fc7",
   "metadata": {
    "language": "{r demographcis"
   },
   "outputs": [],
   "source": [
    "adsl_preds <- build_from_derived(metacore,\n",
    "                                 ds_list = list(\"dm\" = dm),\n",
    "                                 predecessor_only = FALSE, keep = TRUE)\n",
    "head(adsl_preds, n=10)\n"
   ]
  },
  {
   "cell_type": "markdown",
   "id": "61ce638e",
   "metadata": {},
   "source": [
    "\n"
   ]
  },
  {
   "cell_type": "markdown",
   "id": "f6589950",
   "metadata": {},
   "source": [
    "Now we have the base dataset, we can start to create some variables. We can start with creating the subgroups using the controlled terminology, in this case `AGEGR1`. The metacore object holds all the metadata needed to make `ADSL`. Part of that metadata is the controlled terminology, which can help automate the creation of subgroups. We can look into the `{metacore}` object and see the controlled terminology for `AGEGR1`.\n"
   ]
  },
  {
   "cell_type": "markdown",
   "id": "c0f614c2",
   "metadata": {},
   "source": [
    "\n"
   ]
  },
  {
   "cell_type": "code",
   "execution_count": null,
   "id": "156ca28e",
   "metadata": {
    "language": "{r"
   },
   "outputs": [],
   "source": [
    "get_control_term(metacore, variable = AGEGR1)\n"
   ]
  },
  {
   "cell_type": "markdown",
   "id": "a411be01",
   "metadata": {},
   "source": [
    "\n"
   ]
  },
  {
   "cell_type": "markdown",
   "id": "80c07349",
   "metadata": {},
   "source": [
    "Because this controlled terminology is written in a fairly standard format we can automate the creation of `AGEGR1`. The function `metatools::create_cat_var()` takes in a `{metacore}` object, a reference variable - in this case `AGE` because that is the continuous variable `AGEGR1` is created from, and the name of the sub-grouped variable. It will take the controlled terminology from the sub-grouped variable and group the reference variables accordingly.\n"
   ]
  },
  {
   "cell_type": "markdown",
   "id": "9754096e",
   "metadata": {},
   "source": [
    "\n"
   ]
  },
  {
   "cell_type": "markdown",
   "id": "bbf2435f",
   "metadata": {},
   "source": [
    "Using a similar philosophy we can create the numeric version of `RACE` using the controlled terminology stored in the `{metacore}` object with the `metatools::create_var_from_codelist()` function.\n"
   ]
  },
  {
   "cell_type": "markdown",
   "id": "fd13fc0b",
   "metadata": {},
   "source": [
    "\n"
   ]
  },
  {
   "cell_type": "code",
   "execution_count": null,
   "id": "5cdfbbc2",
   "metadata": {
    "language": "{r ct"
   },
   "outputs": [],
   "source": [
    "adsl_ct <- adsl_preds %>%\n",
    "   create_cat_var(metacore, ref_var = AGE,\n",
    "                  grp_var = AGEGR1, num_grp_var = AGEGR1N) %>%\n",
    "   create_var_from_codelist(metacore = metacore,\n",
    "                            input_var = RACE,\n",
    "                            out_var = RACEN) %>%\n",
    "   #Removing screen failures from ARM and TRT01P to match the define and FDA guidence\n",
    "   mutate(ARM = if_else(ARM == \"Screen Failure\", NA_character_, ARM),\n",
    "          TRT01P = if_else(TRT01P == \"Screen Failure\", NA_character_, TRT01P)\n",
    "   )\n",
    "\n",
    "head(adsl_ct, n=10)\n"
   ]
  },
  {
   "cell_type": "markdown",
   "id": "00edccd9",
   "metadata": {},
   "source": [
    "Now we have sorted out what we can easily do with controlled terminology it is time to start deriving some variables. Here you could refer directly to using the `{admiral}` template and [vignette](https://pharmaverse.github.io/admiral/cran-release/articles/adsl.html) in practice, but for the purpose of this end-to-end ADaM vignette we will share a few exposure derivations from there. We derive the start and end of treatment (which requires dates to first be converted from DTC to DTM), the treatment duration, and the safety population flag.\n"
   ]
  },
  {
   "cell_type": "code",
   "execution_count": null,
   "id": "b1d71603",
   "metadata": {
    "language": "{r exposure"
   },
   "outputs": [],
   "source": [
    "ex_ext <- ex %>%\n",
    "  derive_vars_dtm(\n",
    "    dtc = EXSTDTC,\n",
    "    new_vars_prefix = \"EXST\"\n",
    "  ) %>%\n",
    "  derive_vars_dtm(\n",
    "    dtc = EXENDTC,\n",
    "    new_vars_prefix = \"EXEN\",\n",
    "    time_imputation = \"last\"\n",
    "  )\n",
    "\n",
    "adsl_raw <- adsl_ct %>%\n",
    "  derive_vars_merged(\n",
    "    dataset_add = ex_ext,\n",
    "    filter_add = (EXDOSE > 0 |\n",
    "      (EXDOSE == 0 &\n",
    "        str_detect(EXTRT, \"PLACEBO\"))) & nchar(EXSTDTC) >= 10,\n",
    "    new_vars = exprs(TRTSDTM = EXSTDTM),\n",
    "    order = exprs(EXSTDTM, EXSEQ),\n",
    "    mode = \"first\",\n",
    "    by_vars = exprs(STUDYID, USUBJID)\n",
    "  ) %>%\n",
    "  derive_vars_merged(\n",
    "    dataset_add = ex_ext,\n",
    "    filter_add = (EXDOSE > 0 |\n",
    "      (EXDOSE == 0 &\n",
    "        str_detect(EXTRT, \"PLACEBO\"))) & nchar(EXENDTC) >= 10,\n",
    "    new_vars = exprs(TRTEDTM = EXENDTM),\n",
    "    order = exprs(EXENDTM, EXSEQ),\n",
    "    mode = \"last\",\n",
    "    by_vars = exprs(STUDYID, USUBJID)\n",
    "  ) %>%\n",
    "   derive_vars_dtm_to_dt(source_vars = exprs(TRTSDTM, TRTEDTM)) %>%  #Convert Datetime variables to date\n",
    "   derive_var_trtdurd() %>%\n",
    "   derive_var_merged_exist_flag(\n",
    "     dataset_add = ex,\n",
    "     by_vars = exprs(STUDYID, USUBJID),\n",
    "     new_var = SAFFL,\n",
    "     condition = (EXDOSE > 0 | (EXDOSE == 0 & str_detect(EXTRT, \"PLACEBO\")))\n",
    "   ) %>%\n",
    "   drop_unspec_vars(metacore) #This will drop any columns that aren't specified in the metacore object\n",
    "\n",
    "head(adsl_raw, n=10)\n"
   ]
  },
  {
   "cell_type": "markdown",
   "id": "c3d782ee",
   "metadata": {},
   "source": [
    "\n"
   ]
  },
  {
   "cell_type": "code",
   "execution_count": null,
   "id": "91a83d09",
   "metadata": {
    "language": "{r, warning=FALSE, message=FALSE, include=FALSE"
   },
   "outputs": [],
   "source": [
    "# Create dummy variables to match metacore specs to avoid later errors\n",
    "# In practice these would be mainly created using derivation functions from admiral\n",
    "adsl_raw <- adsl_raw %>%\n",
    "  mutate(\n",
    "    SITEGR1 = NA,\n",
    "    TRT01PN = NA,\n",
    "    TRT01A = NA,\n",
    "    TRT01AN = NA,\n",
    "    AVGDD = NA,\n",
    "    CUMDOSE = NA,\n",
    "    ITTFL = NA,\n",
    "    EFFFL = NA,\n",
    "    COMP8FL = NA,\n",
    "    COMP16FL = NA,\n",
    "    COMP24FL = NA,\n",
    "    DISCONFL = NA,\n",
    "    DSRAEFL = NA,\n",
    "    BMIBL = NA,\n",
    "    BMIBLGR1 = NA,\n",
    "    HEIGHTBL = NA,\n",
    "    WEIGHTBL = NA,\n",
    "    EDUCLVL = NA,\n",
    "    DISONSDT = NA,\n",
    "    DURDIS = NA,\n",
    "    DURDSGR1 = NA,\n",
    "    VISIT1DT = NA,\n",
    "    VISNUMEN = NA,\n",
    "    RFENDT = NA,\n",
    "    DCDECOD = NA,\n",
    "    EOSSTT = NA,\n",
    "    DCSREAS = NA,\n",
    "    MMSETOT = NA\n",
    "  )\n"
   ]
  },
  {
   "cell_type": "markdown",
   "id": "9cf7ff11",
   "metadata": {},
   "source": [
    "\n"
   ]
  },
  {
   "cell_type": "markdown",
   "id": "12215ff7",
   "metadata": {},
   "source": [
    "## Apply Metadata to Create an eSub XPT and Perform Associated Checks\n"
   ]
  },
  {
   "cell_type": "markdown",
   "id": "94e54794",
   "metadata": {},
   "source": [
    "\n"
   ]
  },
  {
   "cell_type": "markdown",
   "id": "00f7d4b6",
   "metadata": {},
   "source": [
    "Now we have all the variables defined we can run some checks before applying the necessary formatting. The top four functions performing checks and sorting/ordering come from `{metatools}`, whereas the others focused around applying attributes to prepare for XPT come from `{xportr}`. At the end you could add a call to `xportr::xportr_write()` to produce the XPT file.\n"
   ]
  },
  {
   "cell_type": "markdown",
   "id": "557ad692",
   "metadata": {},
   "source": [
    "\n"
   ]
  },
  {
   "cell_type": "code",
   "execution_count": null,
   "id": "3686361f",
   "metadata": {
    "language": "{r checks, warning=FALSE, message=FALSE"
   },
   "outputs": [],
   "source": [
    "\n",
    "adsl_raw %>%\n",
    "   check_variables(metacore) %>% # Check all variables specified are present and no more\n",
    "   check_ct_data(metacore, na_acceptable = TRUE) %>% # Checks all variables with CT only contain values within the CT\n",
    "   order_cols(metacore) %>% # Orders the columns according to the spec\n",
    "   sort_by_key(metacore) %>% # Sorts the rows by the sort keys\n",
    "   xportr_type(metacore, domain = \"ADSL\") %>% # Coerce variable type to match spec\n",
    "   xportr_length(metacore) %>% # Assigns SAS length from a variable level metadata\n",
    "   xportr_label(metacore) %>% # Assigns variable label from metacore specifications\n",
    "   xportr_df_label(metacore) # Assigns dataset label from metacore specifications\n"
   ]
  },
  {
   "cell_type": "markdown",
   "id": "f649dc2f",
   "metadata": {},
   "source": [
    "\n"
   ]
  }
 ],
 "metadata": {
  "language_info": {
   "name": "python"
  }
 },
 "nbformat": 4,
 "nbformat_minor": 5
}
