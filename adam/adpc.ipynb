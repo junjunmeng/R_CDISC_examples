{
 "cells": [
  {
   "cell_type": "markdown",
   "id": "6460e09f",
   "metadata": {},
   "source": [
    "---\n"
   ]
  },
  {
   "cell_type": "markdown",
   "id": "65341761",
   "metadata": {},
   "source": [
    "title: \"ADPC\"\n"
   ]
  },
  {
   "cell_type": "markdown",
   "id": "5606e88d",
   "metadata": {},
   "source": [
    "order: 2\n"
   ]
  },
  {
   "cell_type": "markdown",
   "id": "f2fe88a5",
   "metadata": {},
   "source": [
    "---\n"
   ]
  },
  {
   "cell_type": "markdown",
   "id": "f5b5fb57",
   "metadata": {},
   "source": [
    "\n"
   ]
  },
  {
   "cell_type": "code",
   "execution_count": null,
   "id": "3612bff8",
   "metadata": {
    "language": "{r setup script, include=FALSE, purl=FALSE"
   },
   "outputs": [],
   "source": [
    "invisible_hook_purl <- function(before, options, ...) {knitr::hook_purl(before, options, ...); NULL}\n",
    "knitr::knit_hooks$set(purl = invisible_hook_purl)\n"
   ]
  },
  {
   "cell_type": "markdown",
   "id": "a0eb2bfc",
   "metadata": {},
   "source": [
    "\n"
   ]
  },
  {
   "cell_type": "markdown",
   "id": "c7a22920",
   "metadata": {},
   "source": [
    "The Non-compartmental analysis (NCA) ADaM uses the CDISC Implementation Guide (<https://www.cdisc.org/standards/foundational/adam/adamig-non-compartmental-analysis-input-data-v1-0>). This example presented uses underlying `EX` and `PC` domains where the `EX` and `PC` domains represent data as collected and the `ADPC` ADaM is output. For more details see the `{admiral}` [vignette](https://pharmaverse.github.io/admiral/articles/pk_adnca.html){target=\"_blank\"}.\n"
   ]
  },
  {
   "cell_type": "markdown",
   "id": "11ce4fc1",
   "metadata": {},
   "source": [
    "\n"
   ]
  },
  {
   "cell_type": "markdown",
   "id": "74803d70",
   "metadata": {},
   "source": [
    "## First Load Packages\n"
   ]
  },
  {
   "cell_type": "markdown",
   "id": "378c5a3c",
   "metadata": {},
   "source": [
    "\n"
   ]
  },
  {
   "cell_type": "markdown",
   "id": "b32ad80c",
   "metadata": {},
   "source": [
    "First we will load the packages required for our project. We will use `{admiral}` for the creation of analysis data. `{admiral}` requires `{dplyr}`, `{lubridate}` and `{stringr}`. We will use `{metacore}` and `{metatools}` to store and manipulate metadata from our specifications. We will use `{xportr}` to perform checks on the final data and export to a transport file.\n"
   ]
  },
  {
   "cell_type": "markdown",
   "id": "ae1b2eb6",
   "metadata": {},
   "source": [
    "\n"
   ]
  },
  {
   "cell_type": "markdown",
   "id": "3011d7cb",
   "metadata": {},
   "source": [
    "The source SDTM data will come from the CDISC pilot study data stored in `{pharmaversesdtm}`.\n"
   ]
  },
  {
   "cell_type": "markdown",
   "id": "595a26ff",
   "metadata": {},
   "source": [
    "\n"
   ]
  },
  {
   "cell_type": "code",
   "execution_count": null,
   "id": "e31492bb",
   "metadata": {
    "language": "{r echo=TRUE, message=FALSE"
   },
   "outputs": [],
   "source": [
    "#| label: Load Packages\n",
    "# Load Packages\n",
    "library(admiral)\n",
    "library(dplyr)\n",
    "library(lubridate)\n",
    "library(stringr)\n",
    "library(metacore)\n",
    "library(metatools)\n",
    "library(xportr)\n",
    "library(pharmaversesdtm)\n",
    "library(pharmaverseadam)\n"
   ]
  },
  {
   "cell_type": "markdown",
   "id": "f9439709",
   "metadata": {},
   "source": [
    "\n"
   ]
  },
  {
   "cell_type": "markdown",
   "id": "6b24cfea",
   "metadata": {},
   "source": [
    "## Next Load Specifications for Metacore\n"
   ]
  },
  {
   "cell_type": "markdown",
   "id": "6cf34d2b",
   "metadata": {},
   "source": [
    "\n"
   ]
  },
  {
   "cell_type": "markdown",
   "id": "d39ff617",
   "metadata": {},
   "source": [
    "We have saved our specifications in an Excel file and will load them into `{metacore}` with the `metacore::spec_to_metacore()` function.\n"
   ]
  },
  {
   "cell_type": "markdown",
   "id": "5017c380",
   "metadata": {},
   "source": [
    "\n"
   ]
  },
  {
   "cell_type": "code",
   "execution_count": null,
   "id": "084c4dd4",
   "metadata": {
    "language": "{r echo=TRUE"
   },
   "outputs": [],
   "source": [
    "#| label: Load Specs\n",
    "#| warning: false\n",
    "# ---- Load Specs for Metacore ----\n",
    "\n",
    "metacore <- spec_to_metacore(\"./metadata/pk_spec.xlsx\") %>%\n",
    "  select_dataset(\"ADPC\")\n"
   ]
  },
  {
   "cell_type": "markdown",
   "id": "d02722a4",
   "metadata": {},
   "source": [
    "\n"
   ]
  },
  {
   "cell_type": "markdown",
   "id": "593d6de5",
   "metadata": {},
   "source": [
    "## Load Source Datasets\n"
   ]
  },
  {
   "cell_type": "markdown",
   "id": "564c0e3d",
   "metadata": {},
   "source": [
    "\n"
   ]
  },
  {
   "cell_type": "markdown",
   "id": "08c1b060",
   "metadata": {},
   "source": [
    "We will load are SDTM data from `{pharmaversesdtm}`. The main components of this will be exposure data from `EX` and pharmacokinetic concentration data from `PC`. We will use `ADSL` for baseline characteristics and we will derive additional baselines from vital signs `VS`.\n"
   ]
  },
  {
   "cell_type": "markdown",
   "id": "38c33e64",
   "metadata": {},
   "source": [
    "\n"
   ]
  },
  {
   "cell_type": "code",
   "execution_count": null,
   "id": "65d3692c",
   "metadata": {
    "language": "{r"
   },
   "outputs": [],
   "source": [
    "#| label: Load Source\n",
    "# ---- Load source datasets ----\n",
    "# Load PC, EX, VS, LB and ADSL\n",
    "data(\"pc\")\n",
    "data(\"ex\")\n",
    "data(\"vs\")\n",
    "\n",
    "data(\"adsl\")\n",
    "\n",
    "ex <- convert_blanks_to_na(ex)\n",
    "pc <- convert_blanks_to_na(pc)\n",
    "vs <- convert_blanks_to_na(vs)\n"
   ]
  },
  {
   "cell_type": "markdown",
   "id": "684588ea",
   "metadata": {},
   "source": [
    "\n"
   ]
  },
  {
   "cell_type": "markdown",
   "id": "4c9a5e1c",
   "metadata": {},
   "source": [
    "## Derivations\n"
   ]
  },
  {
   "cell_type": "markdown",
   "id": "cb8915a8",
   "metadata": {},
   "source": [
    "\n"
   ]
  },
  {
   "cell_type": "markdown",
   "id": "96619382",
   "metadata": {},
   "source": [
    "### Derive PC Dates\n"
   ]
  },
  {
   "cell_type": "markdown",
   "id": "d20e1c04",
   "metadata": {},
   "source": [
    "\n"
   ]
  },
  {
   "cell_type": "markdown",
   "id": "472e8cae",
   "metadata": {},
   "source": [
    "Here we use `{admiral}` functions for working with dates and we will also create a nominal time from first dose `NFRLT` for `PC` data based on `PCTPTNUM`.\n"
   ]
  },
  {
   "cell_type": "markdown",
   "id": "3451ecc4",
   "metadata": {},
   "source": [
    "\n"
   ]
  },
  {
   "cell_type": "code",
   "execution_count": null,
   "id": "65601297",
   "metadata": {
    "language": "{r"
   },
   "outputs": [],
   "source": [
    "#| label: PC Dates\n",
    "\n",
    "# Get list of ADSL vars required for derivations\n",
    "adsl_vars <- exprs(TRTSDT, TRTSDTM, TRT01P, TRT01A)\n",
    "\n",
    "pc_dates <- pc %>%\n",
    "  # Join ADSL with PC (need TRTSDT for ADY derivation)\n",
    "  derive_vars_merged(\n",
    "    dataset_add = adsl,\n",
    "    new_vars = adsl_vars,\n",
    "    by_vars = exprs(STUDYID, USUBJID)\n",
    "  ) %>%\n",
    "  # Derive analysis date/time\n",
    "  # Impute missing time to 00:00:00\n",
    "  derive_vars_dtm(\n",
    "    new_vars_prefix = \"A\",\n",
    "    dtc = PCDTC,\n",
    "    time_imputation = \"00:00:00\"\n",
    "  ) %>%\n",
    "  # Derive dates and times from date/times\n",
    "  derive_vars_dtm_to_dt(exprs(ADTM)) %>%\n",
    "  derive_vars_dtm_to_tm(exprs(ADTM)) %>%\n",
    "  derive_vars_dy(reference_date = TRTSDT, source_vars = exprs(ADT)) %>%\n",
    "  # Derive event ID and nominal relative time from first dose (NFRLT)\n",
    "  mutate(\n",
    "    EVID = 0,\n",
    "    DRUG = PCTEST,\n",
    "    NFRLT = if_else(PCTPTNUM < 0, 0, PCTPTNUM), .after = USUBJID\n",
    "  )\n"
   ]
  },
  {
   "cell_type": "markdown",
   "id": "9ae96186",
   "metadata": {},
   "source": [
    "\n"
   ]
  },
  {
   "cell_type": "markdown",
   "id": "9fd60d0e",
   "metadata": {},
   "source": [
    "### Get Dosing Information\n"
   ]
  },
  {
   "cell_type": "markdown",
   "id": "d5039dce",
   "metadata": {},
   "source": [
    "\n"
   ]
  },
  {
   "cell_type": "markdown",
   "id": "5b7de30e",
   "metadata": {},
   "source": [
    "Here we also create nomimal time from first dose `NFRLT` for `EX` data based on `VISITDY`.\n"
   ]
  },
  {
   "cell_type": "markdown",
   "id": "cd439318",
   "metadata": {},
   "source": [
    "\n"
   ]
  },
  {
   "cell_type": "code",
   "execution_count": null,
   "id": "32518465",
   "metadata": {
    "language": "{r"
   },
   "outputs": [],
   "source": [
    "#| label: Dosing\n",
    "\n",
    "ex_dates <- ex %>%\n",
    "  derive_vars_merged(\n",
    "    dataset_add = adsl,\n",
    "    new_vars = adsl_vars,\n",
    "    by_vars = exprs(STUDYID, USUBJID)\n",
    "  ) %>%\n",
    "  # Keep records with nonzero dose\n",
    "  filter(EXDOSE > 0) %>%\n",
    "  # Add time and set missing end date to start date\n",
    "  # Impute missing time to 00:00:00\n",
    "  # Note all times are missing for dosing records in this example data\n",
    "  # Derive Analysis Start and End Dates\n",
    "  derive_vars_dtm(\n",
    "    new_vars_prefix = \"AST\",\n",
    "    dtc = EXSTDTC,\n",
    "    time_imputation = \"00:00:00\"\n",
    "  ) %>%\n",
    "  derive_vars_dtm(\n",
    "    new_vars_prefix = \"AEN\",\n",
    "    dtc = EXENDTC,\n",
    "    time_imputation = \"00:00:00\"\n",
    "  ) %>%\n",
    "  # Derive event ID and nominal relative time from first dose (NFRLT)\n",
    "  mutate(\n",
    "    EVID = 1,\n",
    "    NFRLT = case_when(\n",
    "      VISITDY == 1 ~ 0,\n",
    "      TRUE ~ 24 * VISITDY\n",
    "    )\n",
    "  ) %>%\n",
    "  # Set missing end dates to start date\n",
    "  mutate(AENDTM = case_when(\n",
    "    is.na(AENDTM) ~ ASTDTM,\n",
    "    TRUE ~ AENDTM\n",
    "  )) %>%\n",
    "  # Derive dates from date/times\n",
    "  derive_vars_dtm_to_dt(exprs(ASTDTM)) %>%\n",
    "  derive_vars_dtm_to_dt(exprs(AENDTM))\n"
   ]
  },
  {
   "cell_type": "markdown",
   "id": "662275a5",
   "metadata": {},
   "source": [
    "\n"
   ]
  },
  {
   "cell_type": "markdown",
   "id": "41e5f170",
   "metadata": {},
   "source": [
    "### Expand Dosing Records\n"
   ]
  },
  {
   "cell_type": "markdown",
   "id": "22d0aee6",
   "metadata": {},
   "source": [
    "\n"
   ]
  },
  {
   "cell_type": "markdown",
   "id": "396eee8b",
   "metadata": {},
   "source": [
    "Since there is a start date and end date for dosing records we need to expand the dosing records between the start date and end date using the function `admiral::create_single_dose_dataset()`.\n"
   ]
  },
  {
   "cell_type": "markdown",
   "id": "6c2923ee",
   "metadata": {},
   "source": [
    "\n"
   ]
  },
  {
   "cell_type": "code",
   "execution_count": null,
   "id": "d9bbc911",
   "metadata": {
    "language": "{r"
   },
   "outputs": [],
   "source": [
    "#| label: Expand\n",
    "\n",
    "ex_exp <- ex_dates %>%\n",
    "  create_single_dose_dataset(\n",
    "    dose_freq = EXDOSFRQ,\n",
    "    start_date = ASTDT,\n",
    "    start_datetime = ASTDTM,\n",
    "    end_date = AENDT,\n",
    "    end_datetime = AENDTM,\n",
    "    nominal_time = NFRLT,\n",
    "    lookup_table = dose_freq_lookup,\n",
    "    lookup_column = CDISC_VALUE,\n",
    "    keep_source_vars = exprs(\n",
    "      STUDYID, USUBJID, EVID, EXDOSFRQ, EXDOSFRM,\n",
    "      NFRLT, EXDOSE, EXDOSU, EXTRT, ASTDT, ASTDTM, AENDT, AENDTM,\n",
    "      VISIT, VISITNUM, VISITDY,\n",
    "      TRT01A, TRT01P, DOMAIN, EXSEQ, !!!adsl_vars\n",
    "    )\n",
    "  ) %>%\n",
    "  # Derive AVISIT based on nominal relative time\n",
    "  # Derive AVISITN to nominal time in whole days using integer division\n",
    "  # Define AVISIT based on nominal day\n",
    "  mutate(\n",
    "    AVISITN = NFRLT %/% 24 + 1,\n",
    "    AVISIT = paste(\"Day\", AVISITN),\n",
    "    ADTM = ASTDTM,\n",
    "    DRUG = EXTRT\n",
    "  ) %>%\n",
    "  # Derive dates and times from datetimes\n",
    "  derive_vars_dtm_to_dt(exprs(ADTM)) %>%\n",
    "  derive_vars_dtm_to_tm(exprs(ADTM)) %>%\n",
    "  derive_vars_dtm_to_tm(exprs(ASTDTM)) %>%\n",
    "  derive_vars_dtm_to_tm(exprs(AENDTM)) %>%\n",
    "  derive_vars_dy(reference_date = TRTSDT, source_vars = exprs(ADT))\n"
   ]
  },
  {
   "cell_type": "markdown",
   "id": "7fc5e13a",
   "metadata": {},
   "source": [
    "\n"
   ]
  },
  {
   "cell_type": "markdown",
   "id": "24ba896a",
   "metadata": {},
   "source": [
    "### Find First Dose\n"
   ]
  },
  {
   "cell_type": "markdown",
   "id": "602835e4",
   "metadata": {},
   "source": [
    "\n"
   ]
  },
  {
   "cell_type": "markdown",
   "id": "8e3f9287",
   "metadata": {},
   "source": [
    "In this section we will find the first dose for each subject and drug.\n"
   ]
  },
  {
   "cell_type": "markdown",
   "id": "1b4deb4e",
   "metadata": {},
   "source": [
    "\n"
   ]
  },
  {
   "cell_type": "code",
   "execution_count": null,
   "id": "33848fb2",
   "metadata": {
    "language": "{r"
   },
   "outputs": [],
   "source": [
    "#| label: First Dose\n",
    "\n",
    "adpc_first_dose <- pc_dates %>%\n",
    "  derive_vars_merged(\n",
    "    dataset_add = ex_exp,\n",
    "    filter_add = (EXDOSE > 0 & !is.na(ADTM)),\n",
    "    new_vars = exprs(FANLDTM = ADTM),\n",
    "    order = exprs(ADTM, EXSEQ),\n",
    "    mode = \"first\",\n",
    "    by_vars = exprs(STUDYID, USUBJID, DRUG)\n",
    "  ) %>%\n",
    "  filter(!is.na(FANLDTM)) %>%\n",
    "  # Derive AVISIT based on nominal relative time\n",
    "  # Derive AVISITN to nominal time in whole days using integer division\n",
    "  # Define AVISIT based on nominal day\n",
    "  mutate(\n",
    "    AVISITN = NFRLT %/% 24 + 1,\n",
    "    AVISIT = paste(\"Day\", AVISITN),\n",
    "  )\n"
   ]
  },
  {
   "cell_type": "markdown",
   "id": "132c971a",
   "metadata": {},
   "source": [
    "\n"
   ]
  },
  {
   "cell_type": "markdown",
   "id": "5b36aa98",
   "metadata": {},
   "source": [
    "### Find Previous Dose and Next Dose\n"
   ]
  },
  {
   "cell_type": "markdown",
   "id": "f978a2b2",
   "metadata": {},
   "source": [
    "\n"
   ]
  },
  {
   "cell_type": "markdown",
   "id": "ee9baa09",
   "metadata": {},
   "source": [
    "Use `derive_vars_joined()` to find the previous dose and the next dose.\n"
   ]
  },
  {
   "cell_type": "markdown",
   "id": "39be6892",
   "metadata": {},
   "source": [
    "\n"
   ]
  },
  {
   "cell_type": "code",
   "execution_count": null,
   "id": "aa37cf75",
   "metadata": {
    "language": "{r"
   },
   "outputs": [],
   "source": [
    "#| label: Previous Dose and Next Dose\n",
    "\n",
    "adpc_prev <- adpc_first_dose %>%\n",
    "  derive_vars_joined(\n",
    "    dataset_add = ex_exp,\n",
    "    by_vars = exprs(USUBJID),\n",
    "    order = exprs(ADTM),\n",
    "    new_vars = exprs(\n",
    "      ADTM_prev = ADTM, EXDOSE_prev = EXDOSE, AVISIT_prev = AVISIT,\n",
    "      AENDTM_prev = AENDTM\n",
    "    ),\n",
    "    join_vars = exprs(ADTM),\n",
    "    join_type = \"all\",\n",
    "    filter_add = NULL,\n",
    "    filter_join = ADTM > ADTM.join,\n",
    "    mode = \"last\",\n",
    "    check_type = \"none\"\n",
    "  )\n",
    "\n",
    "adpc_next <- adpc_prev %>%\n",
    "  derive_vars_joined(\n",
    "    dataset_add = ex_exp,\n",
    "    by_vars = exprs(USUBJID),\n",
    "    order = exprs(ADTM),\n",
    "    new_vars = exprs(\n",
    "      ADTM_next = ADTM, EXDOSE_next = EXDOSE, AVISIT_next = AVISIT,\n",
    "      AENDTM_next = AENDTM\n",
    "    ),\n",
    "    join_vars = exprs(ADTM),\n",
    "    join_type = \"all\",\n",
    "    filter_add = NULL,\n",
    "    filter_join = ADTM <= ADTM.join,\n",
    "    mode = \"first\",\n",
    "    check_type = \"none\"\n",
    "  )\n"
   ]
  },
  {
   "cell_type": "markdown",
   "id": "f031350b",
   "metadata": {},
   "source": [
    "\n"
   ]
  },
  {
   "cell_type": "markdown",
   "id": "36e7998b",
   "metadata": {},
   "source": [
    "### Find Previous and Next Nominal Dose\n"
   ]
  },
  {
   "cell_type": "markdown",
   "id": "d01690bc",
   "metadata": {},
   "source": [
    "\n"
   ]
  },
  {
   "cell_type": "markdown",
   "id": "c0ccf88c",
   "metadata": {},
   "source": [
    "Use the same method to find the previous and next nominal times.\n"
   ]
  },
  {
   "cell_type": "markdown",
   "id": "7cd2d128",
   "metadata": {},
   "source": [
    "\n"
   ]
  },
  {
   "cell_type": "code",
   "execution_count": null,
   "id": "253e2a38",
   "metadata": {
    "language": "{r"
   },
   "outputs": [],
   "source": [
    "#| label: Previous Nominal Dose\n",
    "\n",
    "adpc_nom_prev <- adpc_next %>%\n",
    "  derive_vars_joined(\n",
    "    dataset_add = ex_exp,\n",
    "    by_vars = exprs(USUBJID),\n",
    "    order = exprs(NFRLT),\n",
    "    new_vars = exprs(NFRLT_prev = NFRLT),\n",
    "    join_vars = exprs(NFRLT),\n",
    "    join_type = \"all\",\n",
    "    filter_add = NULL,\n",
    "    filter_join = NFRLT > NFRLT.join,\n",
    "    mode = \"last\",\n",
    "    check_type = \"none\"\n",
    "  )\n",
    "\n",
    "adpc_nom_next <- adpc_nom_prev %>%\n",
    "  derive_vars_joined(\n",
    "    dataset_add = ex_exp,\n",
    "    by_vars = exprs(USUBJID),\n",
    "    order = exprs(NFRLT),\n",
    "    new_vars = exprs(NFRLT_next = NFRLT),\n",
    "    join_vars = exprs(NFRLT),\n",
    "    join_type = \"all\",\n",
    "    filter_add = NULL,\n",
    "    filter_join = NFRLT <= NFRLT.join,\n",
    "    mode = \"first\",\n",
    "    check_type = \"none\"\n",
    "  )\n"
   ]
  },
  {
   "cell_type": "markdown",
   "id": "85ab1d2f",
   "metadata": {},
   "source": [
    "\n"
   ]
  },
  {
   "cell_type": "markdown",
   "id": "f830874e",
   "metadata": {},
   "source": [
    "### Combine PC and EX Data\n"
   ]
  },
  {
   "cell_type": "markdown",
   "id": "865bfeeb",
   "metadata": {},
   "source": [
    "\n"
   ]
  },
  {
   "cell_type": "markdown",
   "id": "fc32fa98",
   "metadata": {},
   "source": [
    "Combine `PC` and `EX` records and derive the additional relative time variables.\n"
   ]
  },
  {
   "cell_type": "markdown",
   "id": "906c919d",
   "metadata": {},
   "source": [
    "\n"
   ]
  },
  {
   "cell_type": "code",
   "execution_count": null,
   "id": "9547cbc1",
   "metadata": {
    "language": "{r"
   },
   "outputs": [],
   "source": [
    "#| label: Combine\n",
    "\n",
    "adpc_arrlt <- bind_rows(adpc_nom_next, ex_exp) %>%\n",
    "  group_by(USUBJID, DRUG) %>%\n",
    "  mutate(\n",
    "    FANLDTM = min(FANLDTM, na.rm = TRUE),\n",
    "    min_NFRLT = min(NFRLT_prev, na.rm = TRUE),\n",
    "    maxdate = max(ADT[EVID == 0], na.rm = TRUE), .after = USUBJID\n",
    "  ) %>%\n",
    "  arrange(USUBJID, ADTM) %>%\n",
    "  ungroup() %>%\n",
    "  filter(ADT <= maxdate) %>%\n",
    "  # Derive Actual Relative Time from First Dose (AFRLT)\n",
    "  derive_vars_duration(\n",
    "    new_var = AFRLT,\n",
    "    start_date = FANLDTM,\n",
    "    end_date = ADTM,\n",
    "    out_unit = \"hours\",\n",
    "    floor_in = FALSE,\n",
    "    add_one = FALSE\n",
    "  ) %>%\n",
    "  # Derive Actual Relative Time from Reference Dose (ARRLT)\n",
    "  derive_vars_duration(\n",
    "    new_var = ARRLT,\n",
    "    start_date = ADTM_prev,\n",
    "    end_date = ADTM,\n",
    "    out_unit = \"hours\",\n",
    "    floor_in = FALSE,\n",
    "    add_one = FALSE\n",
    "  ) %>%\n",
    "  # Derive Actual Relative Time from Next Dose (AXRLT not kept)\n",
    "  derive_vars_duration(\n",
    "    new_var = AXRLT,\n",
    "    start_date = ADTM_next,\n",
    "    end_date = ADTM,\n",
    "    out_unit = \"hours\",\n",
    "    floor_in = FALSE,\n",
    "    add_one = FALSE\n",
    "  ) %>%\n",
    "  mutate(\n",
    "    ARRLT = case_when(\n",
    "      EVID == 1 ~ 0,\n",
    "      is.na(ARRLT) ~ AXRLT,\n",
    "      TRUE ~ ARRLT\n",
    "    ),\n",
    "    # Derive Reference Dose Date\n",
    "    PCRFTDTM = case_when(\n",
    "      EVID == 1 ~ ADTM,\n",
    "      is.na(ADTM_prev) ~ ADTM_next,\n",
    "      TRUE ~ ADTM_prev\n",
    "    )\n",
    "  ) %>%\n",
    "  # Derive dates and times from datetimes\n",
    "  derive_vars_dtm_to_dt(exprs(FANLDTM)) %>%\n",
    "  derive_vars_dtm_to_tm(exprs(FANLDTM)) %>%\n",
    "  derive_vars_dtm_to_dt(exprs(PCRFTDTM)) %>%\n",
    "  derive_vars_dtm_to_tm(exprs(PCRFTDTM))\n"
   ]
  },
  {
   "cell_type": "markdown",
   "id": "4df20889",
   "metadata": {},
   "source": [
    "\n"
   ]
  },
  {
   "cell_type": "markdown",
   "id": "2c8f1e45",
   "metadata": {},
   "source": [
    "### Derive Nominal Reference\n"
   ]
  },
  {
   "cell_type": "markdown",
   "id": "84078bdb",
   "metadata": {},
   "source": [
    "\n"
   ]
  },
  {
   "cell_type": "markdown",
   "id": "d87314e1",
   "metadata": {},
   "source": [
    "For nominal relative times we calculate the nominal relative time to reference dose `NRRLT`.\n"
   ]
  },
  {
   "cell_type": "markdown",
   "id": "533b7a59",
   "metadata": {},
   "source": [
    "\n"
   ]
  },
  {
   "cell_type": "code",
   "execution_count": null,
   "id": "c6610cba",
   "metadata": {
    "language": "{r"
   },
   "outputs": [],
   "source": [
    "#| label: Nominal Reference\n",
    "\n",
    "# Derive Nominal Relative Time from Reference Dose (NRRLT)\n",
    "\n",
    "adpc_nrrlt <- adpc_arrlt %>%\n",
    "  mutate(\n",
    "    NRRLT = case_when(\n",
    "      EVID == 1 ~ 0,\n",
    "      is.na(NFRLT_prev) ~ NFRLT - min_NFRLT,\n",
    "      TRUE ~ NFRLT - NFRLT_prev\n",
    "    ),\n",
    "    NXRLT = case_when(\n",
    "      EVID == 1 ~ 0,\n",
    "      TRUE ~ NFRLT - NFRLT_next\n",
    "    )\n",
    "  )\n"
   ]
  },
  {
   "cell_type": "markdown",
   "id": "ed1dd827",
   "metadata": {},
   "source": [
    "\n"
   ]
  },
  {
   "cell_type": "markdown",
   "id": "222ce6bf",
   "metadata": {},
   "source": [
    "### Derive Analysis Variables\n"
   ]
  },
  {
   "cell_type": "markdown",
   "id": "1311a9bc",
   "metadata": {},
   "source": [
    "\n"
   ]
  },
  {
   "cell_type": "markdown",
   "id": "5c738a06",
   "metadata": {},
   "source": [
    "Here we derive the analysis variables such as `AVAL` and `ATPTREF`.\n"
   ]
  },
  {
   "cell_type": "markdown",
   "id": "a299d3be",
   "metadata": {},
   "source": [
    "\n"
   ]
  },
  {
   "cell_type": "code",
   "execution_count": null,
   "id": "1f762a5c",
   "metadata": {
    "language": "{r"
   },
   "outputs": [],
   "source": [
    "#| label: Analysis Variables\n",
    "\n",
    "adpc_aval <- adpc_nrrlt %>%\n",
    "  mutate(\n",
    "    PARCAT1 = PCSPEC,\n",
    "    ATPTN = case_when(\n",
    "      EVID == 1 ~ 0,\n",
    "      TRUE ~ PCTPTNUM\n",
    "    ),\n",
    "    ATPT = case_when(\n",
    "      EVID == 1 ~ \"Dose\",\n",
    "      TRUE ~ PCTPT\n",
    "    ),\n",
    "    ATPTREF = case_when(\n",
    "      EVID == 1 ~ AVISIT,\n",
    "      is.na(AVISIT_prev) ~ AVISIT_next,\n",
    "      TRUE ~ AVISIT_prev\n",
    "    ),\n",
    "    # Derive baseline flag for pre-dose records\n",
    "    ABLFL = case_when(\n",
    "      ATPT == \"Pre-dose\" ~ \"Y\",\n",
    "      TRUE ~ NA_character_\n",
    "    ),\n",
    "    # Derive BASETYPE\n",
    "    BASETYPE = paste(ATPTREF, \"Baseline\"),\n",
    "\n",
    "    # Derive Actual Dose\n",
    "    DOSEA = case_when(\n",
    "      EVID == 1 ~ EXDOSE,\n",
    "      is.na(EXDOSE_prev) ~ EXDOSE_next,\n",
    "      TRUE ~ EXDOSE_prev\n",
    "    ),\n",
    "    # Derive Planned Dose\n",
    "    DOSEP = case_when(\n",
    "      TRT01P == \"Xanomeline High Dose\" ~ 81,\n",
    "      TRT01P == \"Xanomeline Low Dose\" ~ 54\n",
    "    ),\n",
    "    DOSEU = \"mg\",\n",
    "  ) %>%\n",
    "  # Derive relative time units\n",
    "  mutate(\n",
    "    FRLTU = \"h\",\n",
    "    RRLTU = \"h\",\n",
    "    # Derive PARAMCD\n",
    "    PARAMCD = coalesce(PCTESTCD, \"DOSE\"),\n",
    "    ALLOQ = PCLLOQ,\n",
    "    # Derive AVAL\n",
    "    AVAL = case_when(\n",
    "      EVID == 1 ~ EXDOSE,\n",
    "      PCSTRESC == \"<BLQ\" & NFRLT == 0 ~ 0,\n",
    "      PCSTRESC == \"<BLQ\" & NFRLT > 0 ~ 0.5 * ALLOQ,\n",
    "      TRUE ~ PCSTRESN\n",
    "    ),\n",
    "    AVALU = case_when(\n",
    "      EVID == 1 ~ EXDOSU,\n",
    "      TRUE ~ PCSTRESU\n",
    "    ),\n",
    "    AVALCAT1 = if_else(PCSTRESC == \"<BLQ\", PCSTRESC, prettyNum(signif(AVAL, digits = 3))),\n",
    "  ) %>%\n",
    "  # Add SRCSEQ\n",
    "  mutate(\n",
    "    SRCDOM = DOMAIN,\n",
    "    SRCVAR = \"SEQ\",\n",
    "    SRCSEQ = coalesce(PCSEQ, EXSEQ)\n",
    "  )\n"
   ]
  },
  {
   "cell_type": "markdown",
   "id": "69675ac5",
   "metadata": {},
   "source": [
    "\n"
   ]
  },
  {
   "cell_type": "markdown",
   "id": "0d7ac345",
   "metadata": {},
   "source": [
    "### Derive DTYPE Copy Records\n"
   ]
  },
  {
   "cell_type": "markdown",
   "id": "750c57e4",
   "metadata": {},
   "source": [
    "\n"
   ]
  },
  {
   "cell_type": "markdown",
   "id": "d8a59a74",
   "metadata": {},
   "source": [
    "The CDISC ADaM Implementation Guide for Non-compartmental Analysis uses duplicated records for analysis when a record needs to be used in more than one way. In this example the 24 hour post-dose record will also be used a the pre-dose record for the \"Day 2\" dose.\n"
   ]
  },
  {
   "cell_type": "markdown",
   "id": "6355a07b",
   "metadata": {},
   "source": [
    "\n"
   ]
  },
  {
   "cell_type": "code",
   "execution_count": null,
   "id": "0e135166",
   "metadata": {
    "language": "{r"
   },
   "outputs": [],
   "source": [
    "#| label: DTYPE\n",
    "\n",
    "dtype <- adpc_aval %>%\n",
    "  filter(NFRLT > 0 & NXRLT == 0 & EVID == 0 & !is.na(AVISIT_next)) %>%\n",
    "  select(-PCRFTDT, -PCRFTTM) %>%\n",
    "  # Re-derive variables in for DTYPE copy records\n",
    "  mutate(\n",
    "    ABLFL = NA_character_,\n",
    "    ATPTREF = AVISIT_next,\n",
    "    ARRLT = AXRLT,\n",
    "    NRRLT = NXRLT,\n",
    "    PCRFTDTM = ADTM_next,\n",
    "    DOSEA = EXDOSE_next,\n",
    "    BASETYPE = paste(AVISIT_next, \"Baseline\"),\n",
    "    ATPT = \"Pre-dose\",\n",
    "    ATPTN = NFRLT,\n",
    "    ABLFL = \"Y\",\n",
    "    DTYPE = \"COPY\"\n",
    "  ) %>%\n",
    "  derive_vars_dtm_to_dt(exprs(PCRFTDTM)) %>%\n",
    "  derive_vars_dtm_to_tm(exprs(PCRFTDTM))\n"
   ]
  },
  {
   "cell_type": "markdown",
   "id": "31ee556e",
   "metadata": {},
   "source": [
    "\n"
   ]
  },
  {
   "cell_type": "markdown",
   "id": "45331719",
   "metadata": {},
   "source": [
    "### Combine Original and DTYPE Copy\n"
   ]
  },
  {
   "cell_type": "markdown",
   "id": "77b7ba51",
   "metadata": {},
   "source": [
    "\n"
   ]
  },
  {
   "cell_type": "markdown",
   "id": "17376458",
   "metadata": {},
   "source": [
    "Now the duplicated records are combined with the original records.\n"
   ]
  },
  {
   "cell_type": "markdown",
   "id": "5fc2f9c6",
   "metadata": {},
   "source": [
    "\n"
   ]
  },
  {
   "cell_type": "code",
   "execution_count": null,
   "id": "cb5b2a98",
   "metadata": {
    "language": "{r"
   },
   "outputs": [],
   "source": [
    "#| label: Combine DTYPE\n",
    "\n",
    "adpc_dtype <- bind_rows(adpc_aval, dtype) %>%\n",
    "  arrange(STUDYID, USUBJID, BASETYPE, ADTM, NFRLT) %>%\n",
    "  mutate(\n",
    "    # Derive MRRLT, ANL01FL and ANL02FL\n",
    "    MRRLT = if_else(ARRLT < 0, 0, ARRLT),\n",
    "    ANL01FL = \"Y\",\n",
    "    ANL02FL = if_else(is.na(DTYPE), \"Y\", NA_character_),\n",
    "  )\n"
   ]
  },
  {
   "cell_type": "markdown",
   "id": "c4c8757e",
   "metadata": {},
   "source": [
    "\n"
   ]
  },
  {
   "cell_type": "markdown",
   "id": "d132e95f",
   "metadata": {},
   "source": [
    "### Derive BASE and CHG\n"
   ]
  },
  {
   "cell_type": "markdown",
   "id": "290b69a7",
   "metadata": {},
   "source": [
    "\n"
   ]
  },
  {
   "cell_type": "code",
   "execution_count": null,
   "id": "4fb6e520",
   "metadata": {
    "language": "{r"
   },
   "outputs": [],
   "source": [
    "#| label: BASE\n",
    "\n",
    "# ---- Derive BASE and Calculate Change from Baseline ----\n",
    "\n",
    "adpc_base <- adpc_dtype %>%\n",
    "  derive_var_base(\n",
    "    by_vars = exprs(STUDYID, USUBJID, PARAMCD, PARCAT1, BASETYPE),\n",
    "    source_var = AVAL,\n",
    "    new_var = BASE,\n",
    "    filter = ABLFL == \"Y\"\n",
    "  )\n",
    "\n",
    "adpc_chg <- derive_var_chg(adpc_base)\n"
   ]
  },
  {
   "cell_type": "markdown",
   "id": "8c575434",
   "metadata": {},
   "source": [
    "\n"
   ]
  },
  {
   "cell_type": "markdown",
   "id": "1d4d60e9",
   "metadata": {},
   "source": [
    "### Derive `PARAM` with `{metatools}`\n"
   ]
  },
  {
   "cell_type": "markdown",
   "id": "66434439",
   "metadata": {},
   "source": [
    "\n"
   ]
  },
  {
   "cell_type": "markdown",
   "id": "53d7cd1f",
   "metadata": {},
   "source": [
    "Here we derive `PARAM` and `PARAMN` using `create_var_from_codelist()` from `{metatools}`.\n"
   ]
  },
  {
   "cell_type": "markdown",
   "id": "39fe18af",
   "metadata": {},
   "source": [
    "\n"
   ]
  },
  {
   "cell_type": "code",
   "execution_count": null,
   "id": "2169df69",
   "metadata": {
    "language": "{r"
   },
   "outputs": [],
   "source": [
    "#| label: ASEQ\n",
    "\n",
    "# ---- Add ASEQ ----\n",
    "\n",
    "adpc_aseq <- adpc_chg %>%\n",
    "  # Calculate ASEQ\n",
    "  derive_var_obs_number(\n",
    "    new_var = ASEQ,\n",
    "    by_vars = exprs(STUDYID, USUBJID),\n",
    "    order = exprs(ADTM, BASETYPE, EVID, AVISITN, ATPTN, PARCAT1, DTYPE),\n",
    "    check_type = \"error\"\n",
    "  ) %>%\n",
    "  # Derive PARAM and PARAMN using metatools\n",
    "  create_var_from_codelist(metacore, input_var = PARAMCD, out_var = PARAM) %>%\n",
    "  create_var_from_codelist(metacore, input_var = PARAMCD, out_var = PARAMN)\n"
   ]
  },
  {
   "cell_type": "markdown",
   "id": "ad913890",
   "metadata": {},
   "source": [
    "\n"
   ]
  },
  {
   "cell_type": "markdown",
   "id": "ee87b550",
   "metadata": {},
   "source": [
    "### Derive Additional Baselines\n"
   ]
  },
  {
   "cell_type": "markdown",
   "id": "a3a1dc37",
   "metadata": {},
   "source": [
    "\n"
   ]
  },
  {
   "cell_type": "markdown",
   "id": "048c57bb",
   "metadata": {},
   "source": [
    "Here we derive additional baseline values from `VS` for baseline height `HTBL` and weight `WTBL` and compute the body mass index (BMI) with `compute_bmi()`.\n"
   ]
  },
  {
   "cell_type": "markdown",
   "id": "9ae6acca",
   "metadata": {},
   "source": [
    "\n"
   ]
  },
  {
   "cell_type": "code",
   "execution_count": null,
   "id": "6366c487",
   "metadata": {
    "language": "{r"
   },
   "outputs": [],
   "source": [
    "#| label: Baselines\n",
    "#---- Derive additional baselines from VS ----\n",
    "\n",
    "adpc_baselines <- adpc_aseq %>%\n",
    "  derive_vars_merged(\n",
    "    dataset_add = vs,\n",
    "    filter_add = VSTESTCD == \"HEIGHT\",\n",
    "    by_vars = exprs(STUDYID, USUBJID),\n",
    "    new_vars = exprs(HTBL = VSSTRESN, HTBLU = VSSTRESU)\n",
    "  ) %>%\n",
    "  derive_vars_merged(\n",
    "    dataset_add = vs,\n",
    "    filter_add = VSTESTCD == \"WEIGHT\" & VSBLFL == \"Y\",\n",
    "    by_vars = exprs(STUDYID, USUBJID),\n",
    "    new_vars = exprs(WTBL = VSSTRESN, WTBLU = VSSTRESU)\n",
    "  ) %>%\n",
    "  mutate(\n",
    "    BMIBL = compute_bmi(height = HTBL, weight = WTBL),\n",
    "    BMIBLU = \"kg/m^2\"\n",
    "  )\n"
   ]
  },
  {
   "cell_type": "markdown",
   "id": "dc11562f",
   "metadata": {},
   "source": [
    "\n"
   ]
  },
  {
   "cell_type": "markdown",
   "id": "8f0df07a",
   "metadata": {},
   "source": [
    "### Combine with ADSL\n"
   ]
  },
  {
   "cell_type": "markdown",
   "id": "0415de44",
   "metadata": {},
   "source": [
    "\n"
   ]
  },
  {
   "cell_type": "markdown",
   "id": "669c9cae",
   "metadata": {},
   "source": [
    "If needed, the other `ADSL` variables can now be added:\n"
   ]
  },
  {
   "cell_type": "markdown",
   "id": "d3334f25",
   "metadata": {},
   "source": [
    "\n"
   ]
  },
  {
   "cell_type": "code",
   "execution_count": null,
   "id": "d1a19ab9",
   "metadata": {
    "language": "{r"
   },
   "outputs": [],
   "source": [
    "#| label: Combine with ADSL\n",
    "# ---- Add all ADSL variables ----\n",
    "\n",
    "# Add all ADSL variables\n",
    "adpc_prefinal <- adpc_baselines %>%\n",
    "  derive_vars_merged(\n",
    "    dataset_add = select(adsl, !!!negate_vars(adsl_vars)),\n",
    "    by_vars = exprs(STUDYID, USUBJID)\n",
    "  )\n"
   ]
  },
  {
   "cell_type": "markdown",
   "id": "d68065eb",
   "metadata": {},
   "source": [
    "\n"
   ]
  },
  {
   "cell_type": "markdown",
   "id": "ce00c719",
   "metadata": {},
   "source": [
    "## Check Data With metacore and metatools\n"
   ]
  },
  {
   "cell_type": "markdown",
   "id": "99acd011",
   "metadata": {},
   "source": [
    "\n"
   ]
  },
  {
   "cell_type": "markdown",
   "id": "6afaba1c",
   "metadata": {},
   "source": [
    "We use `{metacore}` objects with `{metatools}` functions to perform a number of checks on the data. We will drop variables not in the specs and make sure all the variables from the specs are included.\n"
   ]
  },
  {
   "cell_type": "markdown",
   "id": "9ff719d7",
   "metadata": {},
   "source": [
    "\n"
   ]
  },
  {
   "cell_type": "code",
   "execution_count": null,
   "id": "d24a519b",
   "metadata": {
    "language": "{r"
   },
   "outputs": [],
   "source": [
    "#| label: Metacore\n",
    "#| warning: false\n",
    "# Apply metadata and perform associated checks ----\n",
    "adpc <- adpc_prefinal %>%\n",
    "  drop_unspec_vars(metacore) %>% # Drop unspecified variables from specs\n",
    "  check_variables(metacore) %>% # Check all variables specified are present and no more\n",
    "  check_ct_data(metacore) %>% # Checks all variables with CT only contain values within the CT\n",
    "  order_cols(metacore) %>% # Orders the columns according to the spec\n",
    "  sort_by_key(metacore) # Sorts the rows by the sort keys\n"
   ]
  },
  {
   "cell_type": "markdown",
   "id": "67232507",
   "metadata": {},
   "source": [
    "\n"
   ]
  },
  {
   "cell_type": "markdown",
   "id": "f4d4bdaa",
   "metadata": {},
   "source": [
    "## Apply Labels and Formats with xportr\n"
   ]
  },
  {
   "cell_type": "markdown",
   "id": "beb5c6fb",
   "metadata": {},
   "source": [
    "\n"
   ]
  },
  {
   "cell_type": "markdown",
   "id": "32b79dcd",
   "metadata": {},
   "source": [
    "Using `{xportr}` we check variable type, assign variable lenght, add variable labels, add variable formats, and save a transport file. At the end you could add a call to `xportr::xportr_write()` to produce the XPT file.\n"
   ]
  },
  {
   "cell_type": "markdown",
   "id": "c1b97229",
   "metadata": {},
   "source": [
    "\n"
   ]
  },
  {
   "cell_type": "code",
   "execution_count": null,
   "id": "3accc314",
   "metadata": {
    "language": "{r"
   },
   "outputs": [],
   "source": [
    "#| label: xportr\n",
    "#| warning: false\n",
    "dir <- tempdir() # Change to whichever directory you want to save the dataset in\n",
    "\n",
    "adpc_xpt <- adpc %>%\n",
    "  xportr_type(metacore, domain = \"ADPC\") %>% # Coerce variable type to match spec\n",
    "  xportr_length(metacore) %>% # Assigns SAS length from a variable level metadata\n",
    "  xportr_label(metacore) %>% # Assigns variable label from metacore specifications\n",
    "  xportr_format(metacore) %>% # Assigns variable format from metacore specifications\n",
    "  xportr_df_label(metacore) %>% # Assigns dataset label from metacore specifications\n",
    "  xportr_write(file.path(dir, \"adpc.xpt\")) # Write xpt v5 transport file\n"
   ]
  },
  {
   "cell_type": "markdown",
   "id": "e192ec55",
   "metadata": {},
   "source": [
    "\n"
   ]
  }
 ],
 "metadata": {},
 "nbformat": 4,
 "nbformat_minor": 5
}
