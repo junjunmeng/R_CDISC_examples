{
 "cells": [
  {
   "cell_type": "markdown",
   "id": "6460e09f",
   "metadata": {},
   "source": [
    "---\n"
   ]
  },
  {
   "cell_type": "markdown",
   "id": "65341761",
   "metadata": {},
   "source": [
    "title: \"ADPC\"\n"
   ]
  },
  {
   "cell_type": "markdown",
   "id": "5606e88d",
   "metadata": {},
   "source": [
    "order: 2\n"
   ]
  },
  {
   "cell_type": "markdown",
   "id": "f2fe88a5",
   "metadata": {},
   "source": [
    "---\n"
   ]
  },
  {
   "cell_type": "markdown",
   "id": "c7a22920",
   "metadata": {},
   "source": [
    "The Non-compartmental analysis (NCA) ADaM uses the CDISC Implementation Guide (<https://www.cdisc.org/standards/foundational/adam/adamig-non-compartmental-analysis-input-data-v1-0>). This example presented uses underlying `EX` and `PC` domains where the `EX` and `PC` domains represent data as collected and the `ADPC` ADaM is output. For more details see the `{admiral}` [vignette](https://pharmaverse.github.io/admiral/articles/pk_adnca.html){target=\"_blank\"}.\n"
   ]
  },
  {
   "cell_type": "markdown",
   "id": "74803d70",
   "metadata": {},
   "source": [
    "## First Load Packages\n"
   ]
  },
  {
   "cell_type": "markdown",
   "id": "b32ad80c",
   "metadata": {},
   "source": [
    "First we will load the packages required for our project. We will use `{admiral}` for the creation of analysis data. `{admiral}` requires `{dplyr}`, `{lubridate}` and `{stringr}`. We will use `{metacore}` and `{metatools}` to store and manipulate metadata from our specifications. We will use `{xportr}` to perform checks on the final data and export to a transport file.\n"
   ]
  },
  {
   "cell_type": "markdown",
   "id": "3011d7cb",
   "metadata": {},
   "source": [
    "The source SDTM data will come from the CDISC pilot study data stored in `{pharmaversesdtm}`.\n"
   ]
  },
  {
   "cell_type": "code",
   "execution_count": null,
   "id": "e31492bb",
   "metadata": {
    "language": "{r echo=TRUE, message=FALSE",
    "vscode": {
     "languageId": "r"
    }
   },
   "outputs": [],
   "source": [
    "#| label: Load Packages\n",
    "# Load Packages\n",
    "library(admiral)\n",
    "library(dplyr)\n",
    "library(lubridate)\n",
    "library(stringr)\n",
    "library(metacore)\n",
    "library(metatools)\n",
    "library(xportr)\n",
    "library(pharmaversesdtm)\n",
    "library(pharmaverseadam)\n"
   ]
  },
  {
   "cell_type": "markdown",
   "id": "6b24cfea",
   "metadata": {},
   "source": [
    "## Next Load Specifications for Metacore\n"
   ]
  },
  {
   "cell_type": "markdown",
   "id": "d39ff617",
   "metadata": {},
   "source": [
    "We have saved our specifications in an Excel file and will load them into `{metacore}` with the `metacore::spec_to_metacore()` function.\n"
   ]
  },
  {
   "cell_type": "code",
   "execution_count": null,
   "id": "084c4dd4",
   "metadata": {
    "language": "{r echo=TRUE",
    "vscode": {
     "languageId": "r"
    }
   },
   "outputs": [],
   "source": [
    "#| label: Load Specs\n",
    "#| warning: false\n",
    "# ---- Load Specs for Metacore ----\n",
    "\n",
    "metacore <- spec_to_metacore(\"../metadata/pk_spec.xlsx\") %>%\n",
    "  select_dataset(\"ADPC\")"
   ]
  },
  {
   "cell_type": "markdown",
   "id": "593d6de5",
   "metadata": {},
   "source": [
    "## Load Source Datasets\n"
   ]
  },
  {
   "cell_type": "markdown",
   "id": "08c1b060",
   "metadata": {},
   "source": [
    "We will load are SDTM data from `{pharmaversesdtm}`. The main components of this will be exposure data from `EX` and pharmacokinetic concentration data from `PC`. We will use `ADSL` for baseline characteristics and we will derive additional baselines from vital signs `VS`.\n"
   ]
  },
  {
   "cell_type": "code",
   "execution_count": 5,
   "id": "65d3692c",
   "metadata": {
    "language": "{r",
    "vscode": {
     "languageId": "r"
    }
   },
   "outputs": [],
   "source": [
    "#| label: Load Source\n",
    "# ---- Load source datasets ----\n",
    "# Load PC, EX, VS, LB and ADSL\n",
    "data(\"pc\")\n",
    "data(\"ex\")\n",
    "data(\"vs\")\n",
    "\n",
    "data(\"adsl\")\n",
    "\n",
    "ex <- convert_blanks_to_na(ex)\n",
    "pc <- convert_blanks_to_na(pc)\n",
    "vs <- convert_blanks_to_na(vs)\n"
   ]
  },
  {
   "cell_type": "code",
   "execution_count": 21,
   "id": "ae713975",
   "metadata": {
    "vscode": {
     "languageId": "r"
    }
   },
   "outputs": [
    {
     "data": {
      "text/html": [
       "<table class=\"dataframe\">\n",
       "<caption>A tibble: 3 x 17</caption>\n",
       "<thead>\n",
       "\t<tr><th scope=col>STUDYID</th><th scope=col>DOMAIN</th><th scope=col>USUBJID</th><th scope=col>EXSEQ</th><th scope=col>EXTRT</th><th scope=col>EXDOSE</th><th scope=col>EXDOSU</th><th scope=col>EXDOSFRM</th><th scope=col>EXDOSFRQ</th><th scope=col>EXROUTE</th><th scope=col>VISITNUM</th><th scope=col>VISIT</th><th scope=col>VISITDY</th><th scope=col>EXSTDTC</th><th scope=col>EXENDTC</th><th scope=col>EXSTDY</th><th scope=col>EXENDY</th></tr>\n",
       "\t<tr><th scope=col>&lt;chr&gt;</th><th scope=col>&lt;chr&gt;</th><th scope=col>&lt;chr&gt;</th><th scope=col>&lt;dbl&gt;</th><th scope=col>&lt;chr&gt;</th><th scope=col>&lt;dbl&gt;</th><th scope=col>&lt;chr&gt;</th><th scope=col>&lt;chr&gt;</th><th scope=col>&lt;chr&gt;</th><th scope=col>&lt;chr&gt;</th><th scope=col>&lt;dbl&gt;</th><th scope=col>&lt;chr&gt;</th><th scope=col>&lt;dbl&gt;</th><th scope=col>&lt;chr&gt;</th><th scope=col>&lt;chr&gt;</th><th scope=col>&lt;dbl&gt;</th><th scope=col>&lt;dbl&gt;</th></tr>\n",
       "</thead>\n",
       "<tbody>\n",
       "\t<tr><td>CDISCPILOT01</td><td>EX</td><td>01-701-1015</td><td>1</td><td>PLACEBO</td><td>0</td><td>mg</td><td>PATCH</td><td>QD</td><td>TRANSDERMAL</td><td> 3</td><td>BASELINE</td><td>  1</td><td>2014-01-02</td><td>2014-01-16</td><td>  1</td><td> 15</td></tr>\n",
       "\t<tr><td>CDISCPILOT01</td><td>EX</td><td>01-701-1015</td><td>2</td><td>PLACEBO</td><td>0</td><td>mg</td><td>PATCH</td><td>QD</td><td>TRANSDERMAL</td><td> 4</td><td>WEEK 2  </td><td> 14</td><td>2014-01-17</td><td>2014-06-18</td><td> 16</td><td>168</td></tr>\n",
       "\t<tr><td>CDISCPILOT01</td><td>EX</td><td>01-701-1015</td><td>3</td><td>PLACEBO</td><td>0</td><td>mg</td><td>PATCH</td><td>QD</td><td>TRANSDERMAL</td><td>12</td><td>WEEK 24 </td><td>168</td><td>2014-06-19</td><td>2014-07-02</td><td>169</td><td>182</td></tr>\n",
       "</tbody>\n",
       "</table>\n"
      ],
      "text/latex": [
       "A tibble: 3 x 17\n",
       "\\begin{tabular}{lllllllllllllllll}\n",
       " STUDYID & DOMAIN & USUBJID & EXSEQ & EXTRT & EXDOSE & EXDOSU & EXDOSFRM & EXDOSFRQ & EXROUTE & VISITNUM & VISIT & VISITDY & EXSTDTC & EXENDTC & EXSTDY & EXENDY\\\\\n",
       " <chr> & <chr> & <chr> & <dbl> & <chr> & <dbl> & <chr> & <chr> & <chr> & <chr> & <dbl> & <chr> & <dbl> & <chr> & <chr> & <dbl> & <dbl>\\\\\n",
       "\\hline\n",
       "\t CDISCPILOT01 & EX & 01-701-1015 & 1 & PLACEBO & 0 & mg & PATCH & QD & TRANSDERMAL &  3 & BASELINE &   1 & 2014-01-02 & 2014-01-16 &   1 &  15\\\\\n",
       "\t CDISCPILOT01 & EX & 01-701-1015 & 2 & PLACEBO & 0 & mg & PATCH & QD & TRANSDERMAL &  4 & WEEK 2   &  14 & 2014-01-17 & 2014-06-18 &  16 & 168\\\\\n",
       "\t CDISCPILOT01 & EX & 01-701-1015 & 3 & PLACEBO & 0 & mg & PATCH & QD & TRANSDERMAL & 12 & WEEK 24  & 168 & 2014-06-19 & 2014-07-02 & 169 & 182\\\\\n",
       "\\end{tabular}\n"
      ],
      "text/markdown": [
       "\n",
       "A tibble: 3 x 17\n",
       "\n",
       "| STUDYID &lt;chr&gt; | DOMAIN &lt;chr&gt; | USUBJID &lt;chr&gt; | EXSEQ &lt;dbl&gt; | EXTRT &lt;chr&gt; | EXDOSE &lt;dbl&gt; | EXDOSU &lt;chr&gt; | EXDOSFRM &lt;chr&gt; | EXDOSFRQ &lt;chr&gt; | EXROUTE &lt;chr&gt; | VISITNUM &lt;dbl&gt; | VISIT &lt;chr&gt; | VISITDY &lt;dbl&gt; | EXSTDTC &lt;chr&gt; | EXENDTC &lt;chr&gt; | EXSTDY &lt;dbl&gt; | EXENDY &lt;dbl&gt; |\n",
       "|---|---|---|---|---|---|---|---|---|---|---|---|---|---|---|---|---|\n",
       "| CDISCPILOT01 | EX | 01-701-1015 | 1 | PLACEBO | 0 | mg | PATCH | QD | TRANSDERMAL |  3 | BASELINE |   1 | 2014-01-02 | 2014-01-16 |   1 |  15 |\n",
       "| CDISCPILOT01 | EX | 01-701-1015 | 2 | PLACEBO | 0 | mg | PATCH | QD | TRANSDERMAL |  4 | WEEK 2   |  14 | 2014-01-17 | 2014-06-18 |  16 | 168 |\n",
       "| CDISCPILOT01 | EX | 01-701-1015 | 3 | PLACEBO | 0 | mg | PATCH | QD | TRANSDERMAL | 12 | WEEK 24  | 168 | 2014-06-19 | 2014-07-02 | 169 | 182 |\n",
       "\n"
      ],
      "text/plain": [
       "  STUDYID      DOMAIN USUBJID     EXSEQ EXTRT   EXDOSE EXDOSU EXDOSFRM EXDOSFRQ\n",
       "1 CDISCPILOT01 EX     01-701-1015 1     PLACEBO 0      mg     PATCH    QD      \n",
       "2 CDISCPILOT01 EX     01-701-1015 2     PLACEBO 0      mg     PATCH    QD      \n",
       "3 CDISCPILOT01 EX     01-701-1015 3     PLACEBO 0      mg     PATCH    QD      \n",
       "  EXROUTE     VISITNUM VISIT    VISITDY EXSTDTC    EXENDTC    EXSTDY EXENDY\n",
       "1 TRANSDERMAL  3       BASELINE   1     2014-01-02 2014-01-16   1     15   \n",
       "2 TRANSDERMAL  4       WEEK 2    14     2014-01-17 2014-06-18  16    168   \n",
       "3 TRANSDERMAL 12       WEEK 24  168     2014-06-19 2014-07-02 169    182   "
      ]
     },
     "metadata": {},
     "output_type": "display_data"
    }
   ],
   "source": [
    "head(ex,3)"
   ]
  },
  {
   "cell_type": "code",
   "execution_count": 13,
   "id": "cf9229f5",
   "metadata": {
    "vscode": {
     "languageId": "r"
    }
   },
   "outputs": [
    {
     "data": {
      "text/html": [
       "<style>\n",
       ".list-inline {list-style: none; margin:0; padding: 0}\n",
       ".list-inline>li {display: inline-block}\n",
       ".list-inline>li:not(:last-child)::after {content: \"\\00b7\"; padding: 0 .5ex}\n",
       "</style>\n",
       "<ol class=list-inline><li>'STUDYID'</li><li>'DOMAIN'</li><li>'USUBJID'</li><li>'EXSEQ'</li><li>'EXTRT'</li><li>'EXDOSE'</li><li>'EXDOSU'</li><li>'EXDOSFRM'</li><li>'EXDOSFRQ'</li><li>'EXROUTE'</li><li>'VISITNUM'</li><li>'VISIT'</li><li>'VISITDY'</li><li>'EXSTDTC'</li><li>'EXENDTC'</li><li>'EXSTDY'</li><li>'EXENDY'</li></ol>\n"
      ],
      "text/latex": [
       "\\begin{enumerate*}\n",
       "\\item 'STUDYID'\n",
       "\\item 'DOMAIN'\n",
       "\\item 'USUBJID'\n",
       "\\item 'EXSEQ'\n",
       "\\item 'EXTRT'\n",
       "\\item 'EXDOSE'\n",
       "\\item 'EXDOSU'\n",
       "\\item 'EXDOSFRM'\n",
       "\\item 'EXDOSFRQ'\n",
       "\\item 'EXROUTE'\n",
       "\\item 'VISITNUM'\n",
       "\\item 'VISIT'\n",
       "\\item 'VISITDY'\n",
       "\\item 'EXSTDTC'\n",
       "\\item 'EXENDTC'\n",
       "\\item 'EXSTDY'\n",
       "\\item 'EXENDY'\n",
       "\\end{enumerate*}\n"
      ],
      "text/markdown": [
       "1. 'STUDYID'\n",
       "2. 'DOMAIN'\n",
       "3. 'USUBJID'\n",
       "4. 'EXSEQ'\n",
       "5. 'EXTRT'\n",
       "6. 'EXDOSE'\n",
       "7. 'EXDOSU'\n",
       "8. 'EXDOSFRM'\n",
       "9. 'EXDOSFRQ'\n",
       "10. 'EXROUTE'\n",
       "11. 'VISITNUM'\n",
       "12. 'VISIT'\n",
       "13. 'VISITDY'\n",
       "14. 'EXSTDTC'\n",
       "15. 'EXENDTC'\n",
       "16. 'EXSTDY'\n",
       "17. 'EXENDY'\n",
       "\n",
       "\n"
      ],
      "text/plain": [
       " [1] \"STUDYID\"  \"DOMAIN\"   \"USUBJID\"  \"EXSEQ\"    \"EXTRT\"    \"EXDOSE\"  \n",
       " [7] \"EXDOSU\"   \"EXDOSFRM\" \"EXDOSFRQ\" \"EXROUTE\"  \"VISITNUM\" \"VISIT\"   \n",
       "[13] \"VISITDY\"  \"EXSTDTC\"  \"EXENDTC\"  \"EXSTDY\"   \"EXENDY\"  "
      ]
     },
     "metadata": {},
     "output_type": "display_data"
    }
   ],
   "source": [
    "colnames(ex)"
   ]
  },
  {
   "cell_type": "code",
   "execution_count": 20,
   "id": "c0513097",
   "metadata": {
    "vscode": {
     "languageId": "r"
    }
   },
   "outputs": [
    {
     "data": {
      "text/html": [
       "<table class=\"dataframe\">\n",
       "<caption>A tibble: 3 x 20</caption>\n",
       "<thead>\n",
       "\t<tr><th scope=col>STUDYID</th><th scope=col>DOMAIN</th><th scope=col>USUBJID</th><th scope=col>PCSEQ</th><th scope=col>PCTESTCD</th><th scope=col>PCTEST</th><th scope=col>PCORRES</th><th scope=col>PCORRESU</th><th scope=col>PCSTRESC</th><th scope=col>PCSTRESN</th><th scope=col>PCSTRESU</th><th scope=col>PCNAM</th><th scope=col>PCSPEC</th><th scope=col>PCLLOQ</th><th scope=col>VISIT</th><th scope=col>VISITNUM</th><th scope=col>PCDTC</th><th scope=col>PCDY</th><th scope=col>PCTPT</th><th scope=col>PCTPTNUM</th></tr>\n",
       "\t<tr><th scope=col>&lt;chr&gt;</th><th scope=col>&lt;chr&gt;</th><th scope=col>&lt;chr&gt;</th><th scope=col>&lt;int&gt;</th><th scope=col>&lt;chr&gt;</th><th scope=col>&lt;chr&gt;</th><th scope=col>&lt;chr&gt;</th><th scope=col>&lt;chr&gt;</th><th scope=col>&lt;chr&gt;</th><th scope=col>&lt;dbl&gt;</th><th scope=col>&lt;chr&gt;</th><th scope=col>&lt;chr&gt;</th><th scope=col>&lt;chr&gt;</th><th scope=col>&lt;dbl&gt;</th><th scope=col>&lt;chr&gt;</th><th scope=col>&lt;dbl&gt;</th><th scope=col>&lt;chr&gt;</th><th scope=col>&lt;dbl&gt;</th><th scope=col>&lt;chr&gt;</th><th scope=col>&lt;dbl&gt;</th></tr>\n",
       "</thead>\n",
       "<tbody>\n",
       "\t<tr><td>CDISCPILOT01</td><td>PC</td><td>01-701-1015</td><td>1</td><td>XAN</td><td>XANOMELINE</td><td>&lt;BLQ</td><td>ug/ml</td><td>&lt;BLQ</td><td> 0</td><td>ug/ml</td><td>Imaginary Labs</td><td>PLASMA</td><td>0.01</td><td>BASELINE</td><td>3</td><td>2014-01-01T23:30:00</td><td>-1</td><td><span style=white-space:pre-wrap>Pre-dose        </span></td><td>-0.50</td></tr>\n",
       "\t<tr><td>CDISCPILOT01</td><td>PC</td><td>01-701-1015</td><td>2</td><td>XAN</td><td>XANOMELINE</td><td>&lt;BLQ</td><td>ug/ml</td><td>&lt;BLQ</td><td>NA</td><td>ug/ml</td><td>Imaginary Labs</td><td>PLASMA</td><td>0.01</td><td>BASELINE</td><td>3</td><td>2014-01-02T00:05:00</td><td> 1</td><td>5 Min Post-dose </td><td> 0.08</td></tr>\n",
       "\t<tr><td>CDISCPILOT01</td><td>PC</td><td>01-701-1015</td><td>3</td><td>XAN</td><td>XANOMELINE</td><td>&lt;BLQ</td><td>ug/ml</td><td>&lt;BLQ</td><td>NA</td><td>ug/ml</td><td>Imaginary Labs</td><td>PLASMA</td><td>0.01</td><td>BASELINE</td><td>3</td><td>2014-01-02T00:30:00</td><td> 1</td><td>30 Min Post-dose</td><td> 0.50</td></tr>\n",
       "</tbody>\n",
       "</table>\n"
      ],
      "text/latex": [
       "A tibble: 3 x 20\n",
       "\\begin{tabular}{llllllllllllllllllll}\n",
       " STUDYID & DOMAIN & USUBJID & PCSEQ & PCTESTCD & PCTEST & PCORRES & PCORRESU & PCSTRESC & PCSTRESN & PCSTRESU & PCNAM & PCSPEC & PCLLOQ & VISIT & VISITNUM & PCDTC & PCDY & PCTPT & PCTPTNUM\\\\\n",
       " <chr> & <chr> & <chr> & <int> & <chr> & <chr> & <chr> & <chr> & <chr> & <dbl> & <chr> & <chr> & <chr> & <dbl> & <chr> & <dbl> & <chr> & <dbl> & <chr> & <dbl>\\\\\n",
       "\\hline\n",
       "\t CDISCPILOT01 & PC & 01-701-1015 & 1 & XAN & XANOMELINE & <BLQ & ug/ml & <BLQ &  0 & ug/ml & Imaginary Labs & PLASMA & 0.01 & BASELINE & 3 & 2014-01-01T23:30:00 & -1 & Pre-dose         & -0.50\\\\\n",
       "\t CDISCPILOT01 & PC & 01-701-1015 & 2 & XAN & XANOMELINE & <BLQ & ug/ml & <BLQ & NA & ug/ml & Imaginary Labs & PLASMA & 0.01 & BASELINE & 3 & 2014-01-02T00:05:00 &  1 & 5 Min Post-dose  &  0.08\\\\\n",
       "\t CDISCPILOT01 & PC & 01-701-1015 & 3 & XAN & XANOMELINE & <BLQ & ug/ml & <BLQ & NA & ug/ml & Imaginary Labs & PLASMA & 0.01 & BASELINE & 3 & 2014-01-02T00:30:00 &  1 & 30 Min Post-dose &  0.50\\\\\n",
       "\\end{tabular}\n"
      ],
      "text/markdown": [
       "\n",
       "A tibble: 3 x 20\n",
       "\n",
       "| STUDYID &lt;chr&gt; | DOMAIN &lt;chr&gt; | USUBJID &lt;chr&gt; | PCSEQ &lt;int&gt; | PCTESTCD &lt;chr&gt; | PCTEST &lt;chr&gt; | PCORRES &lt;chr&gt; | PCORRESU &lt;chr&gt; | PCSTRESC &lt;chr&gt; | PCSTRESN &lt;dbl&gt; | PCSTRESU &lt;chr&gt; | PCNAM &lt;chr&gt; | PCSPEC &lt;chr&gt; | PCLLOQ &lt;dbl&gt; | VISIT &lt;chr&gt; | VISITNUM &lt;dbl&gt; | PCDTC &lt;chr&gt; | PCDY &lt;dbl&gt; | PCTPT &lt;chr&gt; | PCTPTNUM &lt;dbl&gt; |\n",
       "|---|---|---|---|---|---|---|---|---|---|---|---|---|---|---|---|---|---|---|---|\n",
       "| CDISCPILOT01 | PC | 01-701-1015 | 1 | XAN | XANOMELINE | &lt;BLQ | ug/ml | &lt;BLQ |  0 | ug/ml | Imaginary Labs | PLASMA | 0.01 | BASELINE | 3 | 2014-01-01T23:30:00 | -1 | Pre-dose         | -0.50 |\n",
       "| CDISCPILOT01 | PC | 01-701-1015 | 2 | XAN | XANOMELINE | &lt;BLQ | ug/ml | &lt;BLQ | NA | ug/ml | Imaginary Labs | PLASMA | 0.01 | BASELINE | 3 | 2014-01-02T00:05:00 |  1 | 5 Min Post-dose  |  0.08 |\n",
       "| CDISCPILOT01 | PC | 01-701-1015 | 3 | XAN | XANOMELINE | &lt;BLQ | ug/ml | &lt;BLQ | NA | ug/ml | Imaginary Labs | PLASMA | 0.01 | BASELINE | 3 | 2014-01-02T00:30:00 |  1 | 30 Min Post-dose |  0.50 |\n",
       "\n"
      ],
      "text/plain": [
       "  STUDYID      DOMAIN USUBJID     PCSEQ PCTESTCD PCTEST     PCORRES PCORRESU\n",
       "1 CDISCPILOT01 PC     01-701-1015 1     XAN      XANOMELINE <BLQ    ug/ml   \n",
       "2 CDISCPILOT01 PC     01-701-1015 2     XAN      XANOMELINE <BLQ    ug/ml   \n",
       "3 CDISCPILOT01 PC     01-701-1015 3     XAN      XANOMELINE <BLQ    ug/ml   \n",
       "  PCSTRESC PCSTRESN PCSTRESU PCNAM          PCSPEC PCLLOQ VISIT    VISITNUM\n",
       "1 <BLQ      0       ug/ml    Imaginary Labs PLASMA 0.01   BASELINE 3       \n",
       "2 <BLQ     NA       ug/ml    Imaginary Labs PLASMA 0.01   BASELINE 3       \n",
       "3 <BLQ     NA       ug/ml    Imaginary Labs PLASMA 0.01   BASELINE 3       \n",
       "  PCDTC               PCDY PCTPT            PCTPTNUM\n",
       "1 2014-01-01T23:30:00 -1   Pre-dose         -0.50   \n",
       "2 2014-01-02T00:05:00  1   5 Min Post-dose   0.08   \n",
       "3 2014-01-02T00:30:00  1   30 Min Post-dose  0.50   "
      ]
     },
     "metadata": {},
     "output_type": "display_data"
    }
   ],
   "source": [
    "head(pc, 3)"
   ]
  },
  {
   "cell_type": "code",
   "execution_count": 14,
   "id": "73d329f5",
   "metadata": {
    "vscode": {
     "languageId": "r"
    }
   },
   "outputs": [
    {
     "data": {
      "text/html": [
       "<style>\n",
       ".list-inline {list-style: none; margin:0; padding: 0}\n",
       ".list-inline>li {display: inline-block}\n",
       ".list-inline>li:not(:last-child)::after {content: \"\\00b7\"; padding: 0 .5ex}\n",
       "</style>\n",
       "<ol class=list-inline><li>'STUDYID'</li><li>'DOMAIN'</li><li>'USUBJID'</li><li>'PCSEQ'</li><li>'PCTESTCD'</li><li>'PCTEST'</li><li>'PCORRES'</li><li>'PCORRESU'</li><li>'PCSTRESC'</li><li>'PCSTRESN'</li><li>'PCSTRESU'</li><li>'PCNAM'</li><li>'PCSPEC'</li><li>'PCLLOQ'</li><li>'VISIT'</li><li>'VISITNUM'</li><li>'PCDTC'</li><li>'PCDY'</li><li>'PCTPT'</li><li>'PCTPTNUM'</li></ol>\n"
      ],
      "text/latex": [
       "\\begin{enumerate*}\n",
       "\\item 'STUDYID'\n",
       "\\item 'DOMAIN'\n",
       "\\item 'USUBJID'\n",
       "\\item 'PCSEQ'\n",
       "\\item 'PCTESTCD'\n",
       "\\item 'PCTEST'\n",
       "\\item 'PCORRES'\n",
       "\\item 'PCORRESU'\n",
       "\\item 'PCSTRESC'\n",
       "\\item 'PCSTRESN'\n",
       "\\item 'PCSTRESU'\n",
       "\\item 'PCNAM'\n",
       "\\item 'PCSPEC'\n",
       "\\item 'PCLLOQ'\n",
       "\\item 'VISIT'\n",
       "\\item 'VISITNUM'\n",
       "\\item 'PCDTC'\n",
       "\\item 'PCDY'\n",
       "\\item 'PCTPT'\n",
       "\\item 'PCTPTNUM'\n",
       "\\end{enumerate*}\n"
      ],
      "text/markdown": [
       "1. 'STUDYID'\n",
       "2. 'DOMAIN'\n",
       "3. 'USUBJID'\n",
       "4. 'PCSEQ'\n",
       "5. 'PCTESTCD'\n",
       "6. 'PCTEST'\n",
       "7. 'PCORRES'\n",
       "8. 'PCORRESU'\n",
       "9. 'PCSTRESC'\n",
       "10. 'PCSTRESN'\n",
       "11. 'PCSTRESU'\n",
       "12. 'PCNAM'\n",
       "13. 'PCSPEC'\n",
       "14. 'PCLLOQ'\n",
       "15. 'VISIT'\n",
       "16. 'VISITNUM'\n",
       "17. 'PCDTC'\n",
       "18. 'PCDY'\n",
       "19. 'PCTPT'\n",
       "20. 'PCTPTNUM'\n",
       "\n",
       "\n"
      ],
      "text/plain": [
       " [1] \"STUDYID\"  \"DOMAIN\"   \"USUBJID\"  \"PCSEQ\"    \"PCTESTCD\" \"PCTEST\"  \n",
       " [7] \"PCORRES\"  \"PCORRESU\" \"PCSTRESC\" \"PCSTRESN\" \"PCSTRESU\" \"PCNAM\"   \n",
       "[13] \"PCSPEC\"   \"PCLLOQ\"   \"VISIT\"    \"VISITNUM\" \"PCDTC\"    \"PCDY\"    \n",
       "[19] \"PCTPT\"    \"PCTPTNUM\""
      ]
     },
     "metadata": {},
     "output_type": "display_data"
    }
   ],
   "source": [
    "colnames(pc)"
   ]
  },
  {
   "cell_type": "code",
   "execution_count": 19,
   "id": "a391ee8a",
   "metadata": {
    "vscode": {
     "languageId": "r"
    }
   },
   "outputs": [
    {
     "data": {
      "text/html": [
       "<table class=\"dataframe\">\n",
       "<caption>A tibble: 3 x 24</caption>\n",
       "<thead>\n",
       "\t<tr><th scope=col>STUDYID</th><th scope=col>DOMAIN</th><th scope=col>USUBJID</th><th scope=col>VSSEQ</th><th scope=col>VSTESTCD</th><th scope=col>VSTEST</th><th scope=col>VSPOS</th><th scope=col>VSORRES</th><th scope=col>VSORRESU</th><th scope=col>VSSTRESC</th><th scope=col>...</th><th scope=col>VSBLFL</th><th scope=col>VISITNUM</th><th scope=col>VISIT</th><th scope=col>VISITDY</th><th scope=col>VSDTC</th><th scope=col>VSDY</th><th scope=col>VSTPT</th><th scope=col>VSTPTNUM</th><th scope=col>VSELTM</th><th scope=col>VSTPTREF</th></tr>\n",
       "\t<tr><th scope=col>&lt;chr&gt;</th><th scope=col>&lt;chr&gt;</th><th scope=col>&lt;chr&gt;</th><th scope=col>&lt;dbl&gt;</th><th scope=col>&lt;chr&gt;</th><th scope=col>&lt;chr&gt;</th><th scope=col>&lt;chr&gt;</th><th scope=col>&lt;chr&gt;</th><th scope=col>&lt;chr&gt;</th><th scope=col>&lt;chr&gt;</th><th scope=col>...</th><th scope=col>&lt;chr&gt;</th><th scope=col>&lt;dbl&gt;</th><th scope=col>&lt;chr&gt;</th><th scope=col>&lt;dbl&gt;</th><th scope=col>&lt;chr&gt;</th><th scope=col>&lt;dbl&gt;</th><th scope=col>&lt;chr&gt;</th><th scope=col>&lt;dbl&gt;</th><th scope=col>&lt;chr&gt;</th><th scope=col>&lt;chr&gt;</th></tr>\n",
       "</thead>\n",
       "<tbody>\n",
       "\t<tr><td>CDISCPILOT01</td><td>VS</td><td>01-701-1015</td><td>1</td><td>DIABP</td><td>Diastolic Blood Pressure</td><td>SUPINE  </td><td>64</td><td>mmHg</td><td>64</td><td>...</td><td>NA</td><td>1</td><td>SCREENING 1</td><td>-7</td><td>2013-12-26</td><td>-7</td><td>AFTER LYING DOWN FOR 5 MINUTES</td><td>815</td><td>PT5M</td><td>PATIENT SUPINE  </td></tr>\n",
       "\t<tr><td>CDISCPILOT01</td><td>VS</td><td>01-701-1015</td><td>2</td><td>DIABP</td><td>Diastolic Blood Pressure</td><td>STANDING</td><td>83</td><td>mmHg</td><td>83</td><td>...</td><td>NA</td><td>1</td><td>SCREENING 1</td><td>-7</td><td>2013-12-26</td><td>-7</td><td>AFTER STANDING FOR 1 MINUTE   </td><td>816</td><td>PT1M</td><td>PATIENT STANDING</td></tr>\n",
       "\t<tr><td>CDISCPILOT01</td><td>VS</td><td>01-701-1015</td><td>3</td><td>DIABP</td><td>Diastolic Blood Pressure</td><td>STANDING</td><td>57</td><td>mmHg</td><td>57</td><td>...</td><td>NA</td><td>1</td><td>SCREENING 1</td><td>-7</td><td>2013-12-26</td><td>-7</td><td>AFTER STANDING FOR 3 MINUTES  </td><td>817</td><td>PT3M</td><td>PATIENT STANDING</td></tr>\n",
       "</tbody>\n",
       "</table>\n"
      ],
      "text/latex": [
       "A tibble: 3 x 24\n",
       "\\begin{tabular}{lllllllllllllllllllll}\n",
       " STUDYID & DOMAIN & USUBJID & VSSEQ & VSTESTCD & VSTEST & VSPOS & VSORRES & VSORRESU & VSSTRESC & ... & VSBLFL & VISITNUM & VISIT & VISITDY & VSDTC & VSDY & VSTPT & VSTPTNUM & VSELTM & VSTPTREF\\\\\n",
       " <chr> & <chr> & <chr> & <dbl> & <chr> & <chr> & <chr> & <chr> & <chr> & <chr> & ... & <chr> & <dbl> & <chr> & <dbl> & <chr> & <dbl> & <chr> & <dbl> & <chr> & <chr>\\\\\n",
       "\\hline\n",
       "\t CDISCPILOT01 & VS & 01-701-1015 & 1 & DIABP & Diastolic Blood Pressure & SUPINE   & 64 & mmHg & 64 & ... & NA & 1 & SCREENING 1 & -7 & 2013-12-26 & -7 & AFTER LYING DOWN FOR 5 MINUTES & 815 & PT5M & PATIENT SUPINE  \\\\\n",
       "\t CDISCPILOT01 & VS & 01-701-1015 & 2 & DIABP & Diastolic Blood Pressure & STANDING & 83 & mmHg & 83 & ... & NA & 1 & SCREENING 1 & -7 & 2013-12-26 & -7 & AFTER STANDING FOR 1 MINUTE    & 816 & PT1M & PATIENT STANDING\\\\\n",
       "\t CDISCPILOT01 & VS & 01-701-1015 & 3 & DIABP & Diastolic Blood Pressure & STANDING & 57 & mmHg & 57 & ... & NA & 1 & SCREENING 1 & -7 & 2013-12-26 & -7 & AFTER STANDING FOR 3 MINUTES   & 817 & PT3M & PATIENT STANDING\\\\\n",
       "\\end{tabular}\n"
      ],
      "text/markdown": [
       "\n",
       "A tibble: 3 x 24\n",
       "\n",
       "| STUDYID &lt;chr&gt; | DOMAIN &lt;chr&gt; | USUBJID &lt;chr&gt; | VSSEQ &lt;dbl&gt; | VSTESTCD &lt;chr&gt; | VSTEST &lt;chr&gt; | VSPOS &lt;chr&gt; | VSORRES &lt;chr&gt; | VSORRESU &lt;chr&gt; | VSSTRESC &lt;chr&gt; | ... ... | VSBLFL &lt;chr&gt; | VISITNUM &lt;dbl&gt; | VISIT &lt;chr&gt; | VISITDY &lt;dbl&gt; | VSDTC &lt;chr&gt; | VSDY &lt;dbl&gt; | VSTPT &lt;chr&gt; | VSTPTNUM &lt;dbl&gt; | VSELTM &lt;chr&gt; | VSTPTREF &lt;chr&gt; |\n",
       "|---|---|---|---|---|---|---|---|---|---|---|---|---|---|---|---|---|---|---|---|---|\n",
       "| CDISCPILOT01 | VS | 01-701-1015 | 1 | DIABP | Diastolic Blood Pressure | SUPINE   | 64 | mmHg | 64 | ... | NA | 1 | SCREENING 1 | -7 | 2013-12-26 | -7 | AFTER LYING DOWN FOR 5 MINUTES | 815 | PT5M | PATIENT SUPINE   |\n",
       "| CDISCPILOT01 | VS | 01-701-1015 | 2 | DIABP | Diastolic Blood Pressure | STANDING | 83 | mmHg | 83 | ... | NA | 1 | SCREENING 1 | -7 | 2013-12-26 | -7 | AFTER STANDING FOR 1 MINUTE    | 816 | PT1M | PATIENT STANDING |\n",
       "| CDISCPILOT01 | VS | 01-701-1015 | 3 | DIABP | Diastolic Blood Pressure | STANDING | 57 | mmHg | 57 | ... | NA | 1 | SCREENING 1 | -7 | 2013-12-26 | -7 | AFTER STANDING FOR 3 MINUTES   | 817 | PT3M | PATIENT STANDING |\n",
       "\n"
      ],
      "text/plain": [
       "  STUDYID      DOMAIN USUBJID     VSSEQ VSTESTCD VSTEST                  \n",
       "1 CDISCPILOT01 VS     01-701-1015 1     DIABP    Diastolic Blood Pressure\n",
       "2 CDISCPILOT01 VS     01-701-1015 2     DIABP    Diastolic Blood Pressure\n",
       "3 CDISCPILOT01 VS     01-701-1015 3     DIABP    Diastolic Blood Pressure\n",
       "  VSPOS    VSORRES VSORRESU VSSTRESC ... VSBLFL VISITNUM VISIT       VISITDY\n",
       "1 SUPINE   64      mmHg     64       ... NA     1        SCREENING 1 -7     \n",
       "2 STANDING 83      mmHg     83       ... NA     1        SCREENING 1 -7     \n",
       "3 STANDING 57      mmHg     57       ... NA     1        SCREENING 1 -7     \n",
       "  VSDTC      VSDY VSTPT                          VSTPTNUM VSELTM\n",
       "1 2013-12-26 -7   AFTER LYING DOWN FOR 5 MINUTES 815      PT5M  \n",
       "2 2013-12-26 -7   AFTER STANDING FOR 1 MINUTE    816      PT1M  \n",
       "3 2013-12-26 -7   AFTER STANDING FOR 3 MINUTES   817      PT3M  \n",
       "  VSTPTREF        \n",
       "1 PATIENT SUPINE  \n",
       "2 PATIENT STANDING\n",
       "3 PATIENT STANDING"
      ]
     },
     "metadata": {},
     "output_type": "display_data"
    }
   ],
   "source": [
    "head(vs, 3)"
   ]
  },
  {
   "cell_type": "code",
   "execution_count": 16,
   "id": "6578860a",
   "metadata": {
    "vscode": {
     "languageId": "r"
    }
   },
   "outputs": [
    {
     "data": {
      "text/html": [
       "<style>\n",
       ".list-inline {list-style: none; margin:0; padding: 0}\n",
       ".list-inline>li {display: inline-block}\n",
       ".list-inline>li:not(:last-child)::after {content: \"\\00b7\"; padding: 0 .5ex}\n",
       "</style>\n",
       "<ol class=list-inline><li>'STUDYID'</li><li>'DOMAIN'</li><li>'USUBJID'</li><li>'VSSEQ'</li><li>'VSTESTCD'</li><li>'VSTEST'</li><li>'VSPOS'</li><li>'VSORRES'</li><li>'VSORRESU'</li><li>'VSSTRESC'</li><li>'VSSTRESN'</li><li>'VSSTRESU'</li><li>'VSSTAT'</li><li>'VSLOC'</li><li>'VSBLFL'</li><li>'VISITNUM'</li><li>'VISIT'</li><li>'VISITDY'</li><li>'VSDTC'</li><li>'VSDY'</li><li>'VSTPT'</li><li>'VSTPTNUM'</li><li>'VSELTM'</li><li>'VSTPTREF'</li></ol>\n"
      ],
      "text/latex": [
       "\\begin{enumerate*}\n",
       "\\item 'STUDYID'\n",
       "\\item 'DOMAIN'\n",
       "\\item 'USUBJID'\n",
       "\\item 'VSSEQ'\n",
       "\\item 'VSTESTCD'\n",
       "\\item 'VSTEST'\n",
       "\\item 'VSPOS'\n",
       "\\item 'VSORRES'\n",
       "\\item 'VSORRESU'\n",
       "\\item 'VSSTRESC'\n",
       "\\item 'VSSTRESN'\n",
       "\\item 'VSSTRESU'\n",
       "\\item 'VSSTAT'\n",
       "\\item 'VSLOC'\n",
       "\\item 'VSBLFL'\n",
       "\\item 'VISITNUM'\n",
       "\\item 'VISIT'\n",
       "\\item 'VISITDY'\n",
       "\\item 'VSDTC'\n",
       "\\item 'VSDY'\n",
       "\\item 'VSTPT'\n",
       "\\item 'VSTPTNUM'\n",
       "\\item 'VSELTM'\n",
       "\\item 'VSTPTREF'\n",
       "\\end{enumerate*}\n"
      ],
      "text/markdown": [
       "1. 'STUDYID'\n",
       "2. 'DOMAIN'\n",
       "3. 'USUBJID'\n",
       "4. 'VSSEQ'\n",
       "5. 'VSTESTCD'\n",
       "6. 'VSTEST'\n",
       "7. 'VSPOS'\n",
       "8. 'VSORRES'\n",
       "9. 'VSORRESU'\n",
       "10. 'VSSTRESC'\n",
       "11. 'VSSTRESN'\n",
       "12. 'VSSTRESU'\n",
       "13. 'VSSTAT'\n",
       "14. 'VSLOC'\n",
       "15. 'VSBLFL'\n",
       "16. 'VISITNUM'\n",
       "17. 'VISIT'\n",
       "18. 'VISITDY'\n",
       "19. 'VSDTC'\n",
       "20. 'VSDY'\n",
       "21. 'VSTPT'\n",
       "22. 'VSTPTNUM'\n",
       "23. 'VSELTM'\n",
       "24. 'VSTPTREF'\n",
       "\n",
       "\n"
      ],
      "text/plain": [
       " [1] \"STUDYID\"  \"DOMAIN\"   \"USUBJID\"  \"VSSEQ\"    \"VSTESTCD\" \"VSTEST\"  \n",
       " [7] \"VSPOS\"    \"VSORRES\"  \"VSORRESU\" \"VSSTRESC\" \"VSSTRESN\" \"VSSTRESU\"\n",
       "[13] \"VSSTAT\"   \"VSLOC\"    \"VSBLFL\"   \"VISITNUM\" \"VISIT\"    \"VISITDY\" \n",
       "[19] \"VSDTC\"    \"VSDY\"     \"VSTPT\"    \"VSTPTNUM\" \"VSELTM\"   \"VSTPTREF\""
      ]
     },
     "metadata": {},
     "output_type": "display_data"
    }
   ],
   "source": [
    "colnames(vs)"
   ]
  },
  {
   "cell_type": "markdown",
   "id": "4c9a5e1c",
   "metadata": {},
   "source": [
    "## Derivations\n"
   ]
  },
  {
   "cell_type": "markdown",
   "id": "96619382",
   "metadata": {},
   "source": [
    "### Derive PC Dates\n"
   ]
  },
  {
   "cell_type": "markdown",
   "id": "472e8cae",
   "metadata": {},
   "source": [
    "Here we use `{admiral}` functions for working with dates and we will also create a nominal time from first dose `NFRLT` for `PC` data based on `PCTPTNUM`.\n"
   ]
  },
  {
   "cell_type": "code",
   "execution_count": 6,
   "id": "65601297",
   "metadata": {
    "language": "{r",
    "vscode": {
     "languageId": "r"
    }
   },
   "outputs": [],
   "source": [
    "#| label: PC Dates\n",
    "\n",
    "# Get list of ADSL vars required for derivations\n",
    "adsl_vars <- exprs(TRTSDT, TRTSDTM, TRT01P, TRT01A)\n",
    "\n",
    "pc_dates <- pc %>%\n",
    "  # Join ADSL with PC (need TRTSDT for ADY derivation)\n",
    "  derive_vars_merged(\n",
    "    dataset_add = adsl,\n",
    "    new_vars = adsl_vars,\n",
    "    by_vars = exprs(STUDYID, USUBJID)\n",
    "  ) %>%\n",
    "  # Derive analysis date/time\n",
    "  # Impute missing time to 00:00:00\n",
    "  derive_vars_dtm(\n",
    "    new_vars_prefix = \"A\",\n",
    "    dtc = PCDTC,\n",
    "    time_imputation = \"00:00:00\"\n",
    "  ) %>%\n",
    "  # Derive dates and times from date/times\n",
    "  derive_vars_dtm_to_dt(exprs(ADTM)) %>%\n",
    "  derive_vars_dtm_to_tm(exprs(ADTM)) %>%\n",
    "  derive_vars_dy(reference_date = TRTSDT, source_vars = exprs(ADT)) %>%\n",
    "  # Derive event ID and nominal relative time from first dose (NFRLT)\n",
    "  mutate(\n",
    "    EVID = 0,\n",
    "    DRUG = PCTEST,\n",
    "    NFRLT = if_else(PCTPTNUM < 0, 0, PCTPTNUM), .after = USUBJID\n",
    "  )\n"
   ]
  },
  {
   "cell_type": "code",
   "execution_count": 18,
   "id": "110e8a98",
   "metadata": {
    "vscode": {
     "languageId": "r"
    }
   },
   "outputs": [
    {
     "data": {
      "text/html": [
       "<table class=\"dataframe\">\n",
       "<caption>A tibble: 3 x 32</caption>\n",
       "<thead>\n",
       "\t<tr><th scope=col>STUDYID</th><th scope=col>DOMAIN</th><th scope=col>USUBJID</th><th scope=col>EVID</th><th scope=col>DRUG</th><th scope=col>NFRLT</th><th scope=col>PCSEQ</th><th scope=col>PCTESTCD</th><th scope=col>PCTEST</th><th scope=col>PCORRES</th><th scope=col>...</th><th scope=col>PCTPTNUM</th><th scope=col>TRTSDT</th><th scope=col>TRTSDTM</th><th scope=col>TRT01P</th><th scope=col>TRT01A</th><th scope=col>ADTM</th><th scope=col>ATMF</th><th scope=col>ADT</th><th scope=col>ATM</th><th scope=col>ADY</th></tr>\n",
       "\t<tr><th scope=col>&lt;chr&gt;</th><th scope=col>&lt;chr&gt;</th><th scope=col>&lt;chr&gt;</th><th scope=col>&lt;dbl&gt;</th><th scope=col>&lt;chr&gt;</th><th scope=col>&lt;dbl&gt;</th><th scope=col>&lt;int&gt;</th><th scope=col>&lt;chr&gt;</th><th scope=col>&lt;chr&gt;</th><th scope=col>&lt;chr&gt;</th><th scope=col>...</th><th scope=col>&lt;dbl&gt;</th><th scope=col>&lt;date&gt;</th><th scope=col>&lt;dttm&gt;</th><th scope=col>&lt;chr&gt;</th><th scope=col>&lt;chr&gt;</th><th scope=col>&lt;dttm&gt;</th><th scope=col>&lt;chr&gt;</th><th scope=col>&lt;date&gt;</th><th scope=col>&lt;time&gt;</th><th scope=col>&lt;dbl&gt;</th></tr>\n",
       "</thead>\n",
       "<tbody>\n",
       "\t<tr><td>CDISCPILOT01</td><td>PC</td><td>01-701-1015</td><td>0</td><td>XANOMELINE</td><td>0.00</td><td>1</td><td>XAN</td><td>XANOMELINE</td><td>&lt;BLQ</td><td>...</td><td>-0.50</td><td>2014-01-02</td><td>2014-01-02</td><td>Placebo</td><td>Placebo</td><td>2014-01-01 23:30:00</td><td>NA</td><td>2014-01-01</td><td>23:30:00</td><td>-1</td></tr>\n",
       "\t<tr><td>CDISCPILOT01</td><td>PC</td><td>01-701-1015</td><td>0</td><td>XANOMELINE</td><td>0.08</td><td>2</td><td>XAN</td><td>XANOMELINE</td><td>&lt;BLQ</td><td>...</td><td> 0.08</td><td>2014-01-02</td><td>2014-01-02</td><td>Placebo</td><td>Placebo</td><td>2014-01-02 00:05:00</td><td>NA</td><td>2014-01-02</td><td>00:05:00</td><td> 1</td></tr>\n",
       "\t<tr><td>CDISCPILOT01</td><td>PC</td><td>01-701-1015</td><td>0</td><td>XANOMELINE</td><td>0.50</td><td>3</td><td>XAN</td><td>XANOMELINE</td><td>&lt;BLQ</td><td>...</td><td> 0.50</td><td>2014-01-02</td><td>2014-01-02</td><td>Placebo</td><td>Placebo</td><td>2014-01-02 00:30:00</td><td>NA</td><td>2014-01-02</td><td>00:30:00</td><td> 1</td></tr>\n",
       "</tbody>\n",
       "</table>\n"
      ],
      "text/latex": [
       "A tibble: 3 x 32\n",
       "\\begin{tabular}{lllllllllllllllllllll}\n",
       " STUDYID & DOMAIN & USUBJID & EVID & DRUG & NFRLT & PCSEQ & PCTESTCD & PCTEST & PCORRES & ... & PCTPTNUM & TRTSDT & TRTSDTM & TRT01P & TRT01A & ADTM & ATMF & ADT & ATM & ADY\\\\\n",
       " <chr> & <chr> & <chr> & <dbl> & <chr> & <dbl> & <int> & <chr> & <chr> & <chr> & ... & <dbl> & <date> & <dttm> & <chr> & <chr> & <dttm> & <chr> & <date> & <time> & <dbl>\\\\\n",
       "\\hline\n",
       "\t CDISCPILOT01 & PC & 01-701-1015 & 0 & XANOMELINE & 0.00 & 1 & XAN & XANOMELINE & <BLQ & ... & -0.50 & 2014-01-02 & 2014-01-02 & Placebo & Placebo & 2014-01-01 23:30:00 & NA & 2014-01-01 & 23:30:00 & -1\\\\\n",
       "\t CDISCPILOT01 & PC & 01-701-1015 & 0 & XANOMELINE & 0.08 & 2 & XAN & XANOMELINE & <BLQ & ... &  0.08 & 2014-01-02 & 2014-01-02 & Placebo & Placebo & 2014-01-02 00:05:00 & NA & 2014-01-02 & 00:05:00 &  1\\\\\n",
       "\t CDISCPILOT01 & PC & 01-701-1015 & 0 & XANOMELINE & 0.50 & 3 & XAN & XANOMELINE & <BLQ & ... &  0.50 & 2014-01-02 & 2014-01-02 & Placebo & Placebo & 2014-01-02 00:30:00 & NA & 2014-01-02 & 00:30:00 &  1\\\\\n",
       "\\end{tabular}\n"
      ],
      "text/markdown": [
       "\n",
       "A tibble: 3 x 32\n",
       "\n",
       "| STUDYID &lt;chr&gt; | DOMAIN &lt;chr&gt; | USUBJID &lt;chr&gt; | EVID &lt;dbl&gt; | DRUG &lt;chr&gt; | NFRLT &lt;dbl&gt; | PCSEQ &lt;int&gt; | PCTESTCD &lt;chr&gt; | PCTEST &lt;chr&gt; | PCORRES &lt;chr&gt; | ... ... | PCTPTNUM &lt;dbl&gt; | TRTSDT &lt;date&gt; | TRTSDTM &lt;dttm&gt; | TRT01P &lt;chr&gt; | TRT01A &lt;chr&gt; | ADTM &lt;dttm&gt; | ATMF &lt;chr&gt; | ADT &lt;date&gt; | ATM &lt;time&gt; | ADY &lt;dbl&gt; |\n",
       "|---|---|---|---|---|---|---|---|---|---|---|---|---|---|---|---|---|---|---|---|---|\n",
       "| CDISCPILOT01 | PC | 01-701-1015 | 0 | XANOMELINE | 0.00 | 1 | XAN | XANOMELINE | &lt;BLQ | ... | -0.50 | 2014-01-02 | 2014-01-02 | Placebo | Placebo | 2014-01-01 23:30:00 | NA | 2014-01-01 | 23:30:00 | -1 |\n",
       "| CDISCPILOT01 | PC | 01-701-1015 | 0 | XANOMELINE | 0.08 | 2 | XAN | XANOMELINE | &lt;BLQ | ... |  0.08 | 2014-01-02 | 2014-01-02 | Placebo | Placebo | 2014-01-02 00:05:00 | NA | 2014-01-02 | 00:05:00 |  1 |\n",
       "| CDISCPILOT01 | PC | 01-701-1015 | 0 | XANOMELINE | 0.50 | 3 | XAN | XANOMELINE | &lt;BLQ | ... |  0.50 | 2014-01-02 | 2014-01-02 | Placebo | Placebo | 2014-01-02 00:30:00 | NA | 2014-01-02 | 00:30:00 |  1 |\n",
       "\n"
      ],
      "text/plain": [
       "  STUDYID      DOMAIN USUBJID     EVID DRUG       NFRLT PCSEQ PCTESTCD\n",
       "1 CDISCPILOT01 PC     01-701-1015 0    XANOMELINE 0.00  1     XAN     \n",
       "2 CDISCPILOT01 PC     01-701-1015 0    XANOMELINE 0.08  2     XAN     \n",
       "3 CDISCPILOT01 PC     01-701-1015 0    XANOMELINE 0.50  3     XAN     \n",
       "  PCTEST     PCORRES ... PCTPTNUM TRTSDT     TRTSDTM    TRT01P  TRT01A \n",
       "1 XANOMELINE <BLQ    ... -0.50    2014-01-02 2014-01-02 Placebo Placebo\n",
       "2 XANOMELINE <BLQ    ...  0.08    2014-01-02 2014-01-02 Placebo Placebo\n",
       "3 XANOMELINE <BLQ    ...  0.50    2014-01-02 2014-01-02 Placebo Placebo\n",
       "  ADTM                ATMF ADT        ATM      ADY\n",
       "1 2014-01-01 23:30:00 NA   2014-01-01 23:30:00 -1 \n",
       "2 2014-01-02 00:05:00 NA   2014-01-02 00:05:00  1 \n",
       "3 2014-01-02 00:30:00 NA   2014-01-02 00:30:00  1 "
      ]
     },
     "metadata": {},
     "output_type": "display_data"
    }
   ],
   "source": [
    "head(pc_dates, 3)"
   ]
  },
  {
   "cell_type": "code",
   "execution_count": 22,
   "id": "176179f8",
   "metadata": {
    "vscode": {
     "languageId": "r"
    }
   },
   "outputs": [
    {
     "data": {
      "text/html": [
       "<style>\n",
       ".list-inline {list-style: none; margin:0; padding: 0}\n",
       ".list-inline>li {display: inline-block}\n",
       ".list-inline>li:not(:last-child)::after {content: \"\\00b7\"; padding: 0 .5ex}\n",
       "</style>\n",
       "<ol class=list-inline><li>'STUDYID'</li><li>'DOMAIN'</li><li>'USUBJID'</li><li>'EVID'</li><li>'DRUG'</li><li>'NFRLT'</li><li>'PCSEQ'</li><li>'PCTESTCD'</li><li>'PCTEST'</li><li>'PCORRES'</li><li>'PCORRESU'</li><li>'PCSTRESC'</li><li>'PCSTRESN'</li><li>'PCSTRESU'</li><li>'PCNAM'</li><li>'PCSPEC'</li><li>'PCLLOQ'</li><li>'VISIT'</li><li>'VISITNUM'</li><li>'PCDTC'</li><li>'PCDY'</li><li>'PCTPT'</li><li>'PCTPTNUM'</li><li>'TRTSDT'</li><li>'TRTSDTM'</li><li>'TRT01P'</li><li>'TRT01A'</li><li>'ADTM'</li><li>'ATMF'</li><li>'ADT'</li><li>'ATM'</li><li>'ADY'</li></ol>\n"
      ],
      "text/latex": [
       "\\begin{enumerate*}\n",
       "\\item 'STUDYID'\n",
       "\\item 'DOMAIN'\n",
       "\\item 'USUBJID'\n",
       "\\item 'EVID'\n",
       "\\item 'DRUG'\n",
       "\\item 'NFRLT'\n",
       "\\item 'PCSEQ'\n",
       "\\item 'PCTESTCD'\n",
       "\\item 'PCTEST'\n",
       "\\item 'PCORRES'\n",
       "\\item 'PCORRESU'\n",
       "\\item 'PCSTRESC'\n",
       "\\item 'PCSTRESN'\n",
       "\\item 'PCSTRESU'\n",
       "\\item 'PCNAM'\n",
       "\\item 'PCSPEC'\n",
       "\\item 'PCLLOQ'\n",
       "\\item 'VISIT'\n",
       "\\item 'VISITNUM'\n",
       "\\item 'PCDTC'\n",
       "\\item 'PCDY'\n",
       "\\item 'PCTPT'\n",
       "\\item 'PCTPTNUM'\n",
       "\\item 'TRTSDT'\n",
       "\\item 'TRTSDTM'\n",
       "\\item 'TRT01P'\n",
       "\\item 'TRT01A'\n",
       "\\item 'ADTM'\n",
       "\\item 'ATMF'\n",
       "\\item 'ADT'\n",
       "\\item 'ATM'\n",
       "\\item 'ADY'\n",
       "\\end{enumerate*}\n"
      ],
      "text/markdown": [
       "1. 'STUDYID'\n",
       "2. 'DOMAIN'\n",
       "3. 'USUBJID'\n",
       "4. 'EVID'\n",
       "5. 'DRUG'\n",
       "6. 'NFRLT'\n",
       "7. 'PCSEQ'\n",
       "8. 'PCTESTCD'\n",
       "9. 'PCTEST'\n",
       "10. 'PCORRES'\n",
       "11. 'PCORRESU'\n",
       "12. 'PCSTRESC'\n",
       "13. 'PCSTRESN'\n",
       "14. 'PCSTRESU'\n",
       "15. 'PCNAM'\n",
       "16. 'PCSPEC'\n",
       "17. 'PCLLOQ'\n",
       "18. 'VISIT'\n",
       "19. 'VISITNUM'\n",
       "20. 'PCDTC'\n",
       "21. 'PCDY'\n",
       "22. 'PCTPT'\n",
       "23. 'PCTPTNUM'\n",
       "24. 'TRTSDT'\n",
       "25. 'TRTSDTM'\n",
       "26. 'TRT01P'\n",
       "27. 'TRT01A'\n",
       "28. 'ADTM'\n",
       "29. 'ATMF'\n",
       "30. 'ADT'\n",
       "31. 'ATM'\n",
       "32. 'ADY'\n",
       "\n",
       "\n"
      ],
      "text/plain": [
       " [1] \"STUDYID\"  \"DOMAIN\"   \"USUBJID\"  \"EVID\"     \"DRUG\"     \"NFRLT\"   \n",
       " [7] \"PCSEQ\"    \"PCTESTCD\" \"PCTEST\"   \"PCORRES\"  \"PCORRESU\" \"PCSTRESC\"\n",
       "[13] \"PCSTRESN\" \"PCSTRESU\" \"PCNAM\"    \"PCSPEC\"   \"PCLLOQ\"   \"VISIT\"   \n",
       "[19] \"VISITNUM\" \"PCDTC\"    \"PCDY\"     \"PCTPT\"    \"PCTPTNUM\" \"TRTSDT\"  \n",
       "[25] \"TRTSDTM\"  \"TRT01P\"   \"TRT01A\"   \"ADTM\"     \"ATMF\"     \"ADT\"     \n",
       "[31] \"ATM\"      \"ADY\"     "
      ]
     },
     "metadata": {},
     "output_type": "display_data"
    }
   ],
   "source": [
    "colnames(pc_dates)"
   ]
  },
  {
   "cell_type": "markdown",
   "id": "9fd60d0e",
   "metadata": {},
   "source": [
    "### Get Dosing Information\n"
   ]
  },
  {
   "cell_type": "markdown",
   "id": "5b7de30e",
   "metadata": {},
   "source": [
    "Here we also create nomimal time from first dose `NFRLT` for `EX` data based on `VISITDY`.\n"
   ]
  },
  {
   "cell_type": "code",
   "execution_count": 23,
   "id": "32518465",
   "metadata": {
    "language": "{r",
    "vscode": {
     "languageId": "r"
    }
   },
   "outputs": [],
   "source": [
    "#| label: Dosing\n",
    "\n",
    "ex_dates <- ex %>%\n",
    "  derive_vars_merged(\n",
    "    dataset_add = adsl,\n",
    "    new_vars = adsl_vars,\n",
    "    by_vars = exprs(STUDYID, USUBJID)\n",
    "  ) %>%\n",
    "  # Keep records with nonzero dose\n",
    "  filter(EXDOSE > 0) %>%\n",
    "  # Add time and set missing end date to start date\n",
    "  # Impute missing time to 00:00:00\n",
    "  # Note all times are missing for dosing records in this example data\n",
    "  # Derive Analysis Start and End Dates\n",
    "  derive_vars_dtm(\n",
    "    new_vars_prefix = \"AST\",\n",
    "    dtc = EXSTDTC,\n",
    "    time_imputation = \"00:00:00\"\n",
    "  ) %>%\n",
    "  derive_vars_dtm(\n",
    "    new_vars_prefix = \"AEN\",\n",
    "    dtc = EXENDTC,\n",
    "    time_imputation = \"00:00:00\"\n",
    "  ) %>%\n",
    "  # Derive event ID and nominal relative time from first dose (NFRLT)\n",
    "  mutate(\n",
    "    EVID = 1,\n",
    "    NFRLT = case_when(\n",
    "      VISITDY == 1 ~ 0,\n",
    "      TRUE ~ 24 * VISITDY\n",
    "    )\n",
    "  ) %>%\n",
    "  # Set missing end dates to start date\n",
    "  mutate(AENDTM = case_when(\n",
    "    is.na(AENDTM) ~ ASTDTM,\n",
    "    TRUE ~ AENDTM\n",
    "  )) %>%\n",
    "  # Derive dates from date/times\n",
    "  derive_vars_dtm_to_dt(exprs(ASTDTM)) %>%\n",
    "  derive_vars_dtm_to_dt(exprs(AENDTM))\n"
   ]
  },
  {
   "cell_type": "code",
   "execution_count": 24,
   "id": "5e61f8cf",
   "metadata": {
    "vscode": {
     "languageId": "r"
    }
   },
   "outputs": [
    {
     "data": {
      "text/html": [
       "<table class=\"dataframe\">\n",
       "<caption>A tibble: 3 x 29</caption>\n",
       "<thead>\n",
       "\t<tr><th scope=col>STUDYID</th><th scope=col>DOMAIN</th><th scope=col>USUBJID</th><th scope=col>EXSEQ</th><th scope=col>EXTRT</th><th scope=col>EXDOSE</th><th scope=col>EXDOSU</th><th scope=col>EXDOSFRM</th><th scope=col>EXDOSFRQ</th><th scope=col>EXROUTE</th><th scope=col>...</th><th scope=col>TRT01P</th><th scope=col>TRT01A</th><th scope=col>ASTDTM</th><th scope=col>ASTTMF</th><th scope=col>AENDTM</th><th scope=col>AENTMF</th><th scope=col>EVID</th><th scope=col>NFRLT</th><th scope=col>ASTDT</th><th scope=col>AENDT</th></tr>\n",
       "\t<tr><th scope=col>&lt;chr&gt;</th><th scope=col>&lt;chr&gt;</th><th scope=col>&lt;chr&gt;</th><th scope=col>&lt;dbl&gt;</th><th scope=col>&lt;chr&gt;</th><th scope=col>&lt;dbl&gt;</th><th scope=col>&lt;chr&gt;</th><th scope=col>&lt;chr&gt;</th><th scope=col>&lt;chr&gt;</th><th scope=col>&lt;chr&gt;</th><th scope=col>...</th><th scope=col>&lt;chr&gt;</th><th scope=col>&lt;chr&gt;</th><th scope=col>&lt;dttm&gt;</th><th scope=col>&lt;chr&gt;</th><th scope=col>&lt;dttm&gt;</th><th scope=col>&lt;chr&gt;</th><th scope=col>&lt;dbl&gt;</th><th scope=col>&lt;dbl&gt;</th><th scope=col>&lt;date&gt;</th><th scope=col>&lt;date&gt;</th></tr>\n",
       "</thead>\n",
       "<tbody>\n",
       "\t<tr><td>CDISCPILOT01</td><td>EX</td><td>01-701-1028</td><td>1</td><td>XANOMELINE</td><td>54</td><td>mg</td><td>PATCH</td><td>QD</td><td>TRANSDERMAL</td><td>...</td><td>Xanomeline High Dose</td><td>Xanomeline High Dose</td><td>2013-07-19</td><td>H</td><td>2013-08-01</td><td>H</td><td>1</td><td>   0</td><td>2013-07-19</td><td>2013-08-01</td></tr>\n",
       "\t<tr><td>CDISCPILOT01</td><td>EX</td><td>01-701-1028</td><td>2</td><td>XANOMELINE</td><td>81</td><td>mg</td><td>PATCH</td><td>QD</td><td>TRANSDERMAL</td><td>...</td><td>Xanomeline High Dose</td><td>Xanomeline High Dose</td><td>2013-08-02</td><td>H</td><td>2014-01-06</td><td>H</td><td>1</td><td> 336</td><td>2013-08-02</td><td>2014-01-06</td></tr>\n",
       "\t<tr><td>CDISCPILOT01</td><td>EX</td><td>01-701-1028</td><td>3</td><td>XANOMELINE</td><td>54</td><td>mg</td><td>PATCH</td><td>QD</td><td>TRANSDERMAL</td><td>...</td><td>Xanomeline High Dose</td><td>Xanomeline High Dose</td><td>2014-01-07</td><td>H</td><td>2014-01-14</td><td>H</td><td>1</td><td>4032</td><td>2014-01-07</td><td>2014-01-14</td></tr>\n",
       "</tbody>\n",
       "</table>\n"
      ],
      "text/latex": [
       "A tibble: 3 x 29\n",
       "\\begin{tabular}{lllllllllllllllllllll}\n",
       " STUDYID & DOMAIN & USUBJID & EXSEQ & EXTRT & EXDOSE & EXDOSU & EXDOSFRM & EXDOSFRQ & EXROUTE & ... & TRT01P & TRT01A & ASTDTM & ASTTMF & AENDTM & AENTMF & EVID & NFRLT & ASTDT & AENDT\\\\\n",
       " <chr> & <chr> & <chr> & <dbl> & <chr> & <dbl> & <chr> & <chr> & <chr> & <chr> & ... & <chr> & <chr> & <dttm> & <chr> & <dttm> & <chr> & <dbl> & <dbl> & <date> & <date>\\\\\n",
       "\\hline\n",
       "\t CDISCPILOT01 & EX & 01-701-1028 & 1 & XANOMELINE & 54 & mg & PATCH & QD & TRANSDERMAL & ... & Xanomeline High Dose & Xanomeline High Dose & 2013-07-19 & H & 2013-08-01 & H & 1 &    0 & 2013-07-19 & 2013-08-01\\\\\n",
       "\t CDISCPILOT01 & EX & 01-701-1028 & 2 & XANOMELINE & 81 & mg & PATCH & QD & TRANSDERMAL & ... & Xanomeline High Dose & Xanomeline High Dose & 2013-08-02 & H & 2014-01-06 & H & 1 &  336 & 2013-08-02 & 2014-01-06\\\\\n",
       "\t CDISCPILOT01 & EX & 01-701-1028 & 3 & XANOMELINE & 54 & mg & PATCH & QD & TRANSDERMAL & ... & Xanomeline High Dose & Xanomeline High Dose & 2014-01-07 & H & 2014-01-14 & H & 1 & 4032 & 2014-01-07 & 2014-01-14\\\\\n",
       "\\end{tabular}\n"
      ],
      "text/markdown": [
       "\n",
       "A tibble: 3 x 29\n",
       "\n",
       "| STUDYID &lt;chr&gt; | DOMAIN &lt;chr&gt; | USUBJID &lt;chr&gt; | EXSEQ &lt;dbl&gt; | EXTRT &lt;chr&gt; | EXDOSE &lt;dbl&gt; | EXDOSU &lt;chr&gt; | EXDOSFRM &lt;chr&gt; | EXDOSFRQ &lt;chr&gt; | EXROUTE &lt;chr&gt; | ... ... | TRT01P &lt;chr&gt; | TRT01A &lt;chr&gt; | ASTDTM &lt;dttm&gt; | ASTTMF &lt;chr&gt; | AENDTM &lt;dttm&gt; | AENTMF &lt;chr&gt; | EVID &lt;dbl&gt; | NFRLT &lt;dbl&gt; | ASTDT &lt;date&gt; | AENDT &lt;date&gt; |\n",
       "|---|---|---|---|---|---|---|---|---|---|---|---|---|---|---|---|---|---|---|---|---|\n",
       "| CDISCPILOT01 | EX | 01-701-1028 | 1 | XANOMELINE | 54 | mg | PATCH | QD | TRANSDERMAL | ... | Xanomeline High Dose | Xanomeline High Dose | 2013-07-19 | H | 2013-08-01 | H | 1 |    0 | 2013-07-19 | 2013-08-01 |\n",
       "| CDISCPILOT01 | EX | 01-701-1028 | 2 | XANOMELINE | 81 | mg | PATCH | QD | TRANSDERMAL | ... | Xanomeline High Dose | Xanomeline High Dose | 2013-08-02 | H | 2014-01-06 | H | 1 |  336 | 2013-08-02 | 2014-01-06 |\n",
       "| CDISCPILOT01 | EX | 01-701-1028 | 3 | XANOMELINE | 54 | mg | PATCH | QD | TRANSDERMAL | ... | Xanomeline High Dose | Xanomeline High Dose | 2014-01-07 | H | 2014-01-14 | H | 1 | 4032 | 2014-01-07 | 2014-01-14 |\n",
       "\n"
      ],
      "text/plain": [
       "  STUDYID      DOMAIN USUBJID     EXSEQ EXTRT      EXDOSE EXDOSU EXDOSFRM\n",
       "1 CDISCPILOT01 EX     01-701-1028 1     XANOMELINE 54     mg     PATCH   \n",
       "2 CDISCPILOT01 EX     01-701-1028 2     XANOMELINE 81     mg     PATCH   \n",
       "3 CDISCPILOT01 EX     01-701-1028 3     XANOMELINE 54     mg     PATCH   \n",
       "  EXDOSFRQ EXROUTE     ... TRT01P               TRT01A               ASTDTM    \n",
       "1 QD       TRANSDERMAL ... Xanomeline High Dose Xanomeline High Dose 2013-07-19\n",
       "2 QD       TRANSDERMAL ... Xanomeline High Dose Xanomeline High Dose 2013-08-02\n",
       "3 QD       TRANSDERMAL ... Xanomeline High Dose Xanomeline High Dose 2014-01-07\n",
       "  ASTTMF AENDTM     AENTMF EVID NFRLT ASTDT      AENDT     \n",
       "1 H      2013-08-01 H      1       0  2013-07-19 2013-08-01\n",
       "2 H      2014-01-06 H      1     336  2013-08-02 2014-01-06\n",
       "3 H      2014-01-14 H      1    4032  2014-01-07 2014-01-14"
      ]
     },
     "metadata": {},
     "output_type": "display_data"
    }
   ],
   "source": [
    "head(ex_dates,3)"
   ]
  },
  {
   "cell_type": "code",
   "execution_count": 25,
   "id": "0b00b671",
   "metadata": {
    "vscode": {
     "languageId": "r"
    }
   },
   "outputs": [
    {
     "data": {
      "text/html": [
       "<style>\n",
       ".list-inline {list-style: none; margin:0; padding: 0}\n",
       ".list-inline>li {display: inline-block}\n",
       ".list-inline>li:not(:last-child)::after {content: \"\\00b7\"; padding: 0 .5ex}\n",
       "</style>\n",
       "<ol class=list-inline><li>'STUDYID'</li><li>'DOMAIN'</li><li>'USUBJID'</li><li>'EXSEQ'</li><li>'EXTRT'</li><li>'EXDOSE'</li><li>'EXDOSU'</li><li>'EXDOSFRM'</li><li>'EXDOSFRQ'</li><li>'EXROUTE'</li><li>'VISITNUM'</li><li>'VISIT'</li><li>'VISITDY'</li><li>'EXSTDTC'</li><li>'EXENDTC'</li><li>'EXSTDY'</li><li>'EXENDY'</li><li>'TRTSDT'</li><li>'TRTSDTM'</li><li>'TRT01P'</li><li>'TRT01A'</li><li>'ASTDTM'</li><li>'ASTTMF'</li><li>'AENDTM'</li><li>'AENTMF'</li><li>'EVID'</li><li>'NFRLT'</li><li>'ASTDT'</li><li>'AENDT'</li></ol>\n"
      ],
      "text/latex": [
       "\\begin{enumerate*}\n",
       "\\item 'STUDYID'\n",
       "\\item 'DOMAIN'\n",
       "\\item 'USUBJID'\n",
       "\\item 'EXSEQ'\n",
       "\\item 'EXTRT'\n",
       "\\item 'EXDOSE'\n",
       "\\item 'EXDOSU'\n",
       "\\item 'EXDOSFRM'\n",
       "\\item 'EXDOSFRQ'\n",
       "\\item 'EXROUTE'\n",
       "\\item 'VISITNUM'\n",
       "\\item 'VISIT'\n",
       "\\item 'VISITDY'\n",
       "\\item 'EXSTDTC'\n",
       "\\item 'EXENDTC'\n",
       "\\item 'EXSTDY'\n",
       "\\item 'EXENDY'\n",
       "\\item 'TRTSDT'\n",
       "\\item 'TRTSDTM'\n",
       "\\item 'TRT01P'\n",
       "\\item 'TRT01A'\n",
       "\\item 'ASTDTM'\n",
       "\\item 'ASTTMF'\n",
       "\\item 'AENDTM'\n",
       "\\item 'AENTMF'\n",
       "\\item 'EVID'\n",
       "\\item 'NFRLT'\n",
       "\\item 'ASTDT'\n",
       "\\item 'AENDT'\n",
       "\\end{enumerate*}\n"
      ],
      "text/markdown": [
       "1. 'STUDYID'\n",
       "2. 'DOMAIN'\n",
       "3. 'USUBJID'\n",
       "4. 'EXSEQ'\n",
       "5. 'EXTRT'\n",
       "6. 'EXDOSE'\n",
       "7. 'EXDOSU'\n",
       "8. 'EXDOSFRM'\n",
       "9. 'EXDOSFRQ'\n",
       "10. 'EXROUTE'\n",
       "11. 'VISITNUM'\n",
       "12. 'VISIT'\n",
       "13. 'VISITDY'\n",
       "14. 'EXSTDTC'\n",
       "15. 'EXENDTC'\n",
       "16. 'EXSTDY'\n",
       "17. 'EXENDY'\n",
       "18. 'TRTSDT'\n",
       "19. 'TRTSDTM'\n",
       "20. 'TRT01P'\n",
       "21. 'TRT01A'\n",
       "22. 'ASTDTM'\n",
       "23. 'ASTTMF'\n",
       "24. 'AENDTM'\n",
       "25. 'AENTMF'\n",
       "26. 'EVID'\n",
       "27. 'NFRLT'\n",
       "28. 'ASTDT'\n",
       "29. 'AENDT'\n",
       "\n",
       "\n"
      ],
      "text/plain": [
       " [1] \"STUDYID\"  \"DOMAIN\"   \"USUBJID\"  \"EXSEQ\"    \"EXTRT\"    \"EXDOSE\"  \n",
       " [7] \"EXDOSU\"   \"EXDOSFRM\" \"EXDOSFRQ\" \"EXROUTE\"  \"VISITNUM\" \"VISIT\"   \n",
       "[13] \"VISITDY\"  \"EXSTDTC\"  \"EXENDTC\"  \"EXSTDY\"   \"EXENDY\"   \"TRTSDT\"  \n",
       "[19] \"TRTSDTM\"  \"TRT01P\"   \"TRT01A\"   \"ASTDTM\"   \"ASTTMF\"   \"AENDTM\"  \n",
       "[25] \"AENTMF\"   \"EVID\"     \"NFRLT\"    \"ASTDT\"    \"AENDT\"   "
      ]
     },
     "metadata": {},
     "output_type": "display_data"
    }
   ],
   "source": [
    "colnames(ex_dates)"
   ]
  },
  {
   "cell_type": "markdown",
   "id": "41e5f170",
   "metadata": {},
   "source": [
    "### Expand Dosing Records\n"
   ]
  },
  {
   "cell_type": "markdown",
   "id": "396eee8b",
   "metadata": {},
   "source": [
    "Since there is a start date and end date for dosing records we need to expand the dosing records between the start date and end date using the function `admiral::create_single_dose_dataset()`.\n"
   ]
  },
  {
   "cell_type": "code",
   "execution_count": 26,
   "id": "d9bbc911",
   "metadata": {
    "language": "{r",
    "vscode": {
     "languageId": "r"
    }
   },
   "outputs": [],
   "source": [
    "#| label: Expand\n",
    "\n",
    "ex_exp <- ex_dates %>%\n",
    "  create_single_dose_dataset(\n",
    "    dose_freq = EXDOSFRQ,\n",
    "    start_date = ASTDT,\n",
    "    start_datetime = ASTDTM,\n",
    "    end_date = AENDT,\n",
    "    end_datetime = AENDTM,\n",
    "    nominal_time = NFRLT,\n",
    "    lookup_table = dose_freq_lookup,\n",
    "    lookup_column = CDISC_VALUE,\n",
    "    keep_source_vars = exprs(\n",
    "      STUDYID, USUBJID, EVID, EXDOSFRQ, EXDOSFRM,\n",
    "      NFRLT, EXDOSE, EXDOSU, EXTRT, ASTDT, ASTDTM, AENDT, AENDTM,\n",
    "      VISIT, VISITNUM, VISITDY,\n",
    "      TRT01A, TRT01P, DOMAIN, EXSEQ, !!!adsl_vars\n",
    "    )\n",
    "  ) %>%\n",
    "  # Derive AVISIT based on nominal relative time\n",
    "  # Derive AVISITN to nominal time in whole days using integer division\n",
    "  # Define AVISIT based on nominal day\n",
    "  mutate(\n",
    "    AVISITN = NFRLT %/% 24 + 1,\n",
    "    AVISIT = paste(\"Day\", AVISITN),\n",
    "    ADTM = ASTDTM,\n",
    "    DRUG = EXTRT\n",
    "  ) %>%\n",
    "  # Derive dates and times from datetimes\n",
    "  derive_vars_dtm_to_dt(exprs(ADTM)) %>%\n",
    "  derive_vars_dtm_to_tm(exprs(ADTM)) %>%\n",
    "  derive_vars_dtm_to_tm(exprs(ASTDTM)) %>%\n",
    "  derive_vars_dtm_to_tm(exprs(AENDTM)) %>%\n",
    "  derive_vars_dy(reference_date = TRTSDT, source_vars = exprs(ADT))\n"
   ]
  },
  {
   "cell_type": "code",
   "execution_count": 27,
   "id": "052472bc",
   "metadata": {
    "vscode": {
     "languageId": "r"
    }
   },
   "outputs": [
    {
     "data": {
      "text/html": [
       "<table class=\"dataframe\">\n",
       "<caption>A tibble: 3 x 31</caption>\n",
       "<thead>\n",
       "\t<tr><th scope=col>STUDYID</th><th scope=col>USUBJID</th><th scope=col>EVID</th><th scope=col>EXDOSFRQ</th><th scope=col>EXDOSFRM</th><th scope=col>NFRLT</th><th scope=col>EXDOSE</th><th scope=col>EXDOSU</th><th scope=col>EXTRT</th><th scope=col>ASTDT</th><th scope=col>...</th><th scope=col>TRTSDTM</th><th scope=col>AVISITN</th><th scope=col>AVISIT</th><th scope=col>ADTM</th><th scope=col>DRUG</th><th scope=col>ADT</th><th scope=col>ATM</th><th scope=col>ASTTM</th><th scope=col>AENTM</th><th scope=col>ADY</th></tr>\n",
       "\t<tr><th scope=col>&lt;chr&gt;</th><th scope=col>&lt;chr&gt;</th><th scope=col>&lt;dbl&gt;</th><th scope=col>&lt;chr&gt;</th><th scope=col>&lt;chr&gt;</th><th scope=col>&lt;dbl&gt;</th><th scope=col>&lt;dbl&gt;</th><th scope=col>&lt;chr&gt;</th><th scope=col>&lt;chr&gt;</th><th scope=col>&lt;date&gt;</th><th scope=col>...</th><th scope=col>&lt;dttm&gt;</th><th scope=col>&lt;dbl&gt;</th><th scope=col>&lt;chr&gt;</th><th scope=col>&lt;dttm&gt;</th><th scope=col>&lt;chr&gt;</th><th scope=col>&lt;date&gt;</th><th scope=col>&lt;time&gt;</th><th scope=col>&lt;time&gt;</th><th scope=col>&lt;time&gt;</th><th scope=col>&lt;dbl&gt;</th></tr>\n",
       "</thead>\n",
       "<tbody>\n",
       "\t<tr><td>CDISCPILOT01</td><td>01-701-1028</td><td>1</td><td>ONCE</td><td>PATCH</td><td> 0</td><td>54</td><td>mg</td><td>XANOMELINE</td><td>2013-07-19</td><td>...</td><td>2013-07-19</td><td>1</td><td>Day 1</td><td>2013-07-19</td><td>XANOMELINE</td><td>2013-07-19</td><td>00:00:00</td><td>00:00:00</td><td>00:00:00</td><td>1</td></tr>\n",
       "\t<tr><td>CDISCPILOT01</td><td>01-701-1028</td><td>1</td><td>ONCE</td><td>PATCH</td><td>24</td><td>54</td><td>mg</td><td>XANOMELINE</td><td>2013-07-20</td><td>...</td><td>2013-07-19</td><td>2</td><td>Day 2</td><td>2013-07-20</td><td>XANOMELINE</td><td>2013-07-20</td><td>00:00:00</td><td>00:00:00</td><td>00:00:00</td><td>2</td></tr>\n",
       "\t<tr><td>CDISCPILOT01</td><td>01-701-1028</td><td>1</td><td>ONCE</td><td>PATCH</td><td>48</td><td>54</td><td>mg</td><td>XANOMELINE</td><td>2013-07-21</td><td>...</td><td>2013-07-19</td><td>3</td><td>Day 3</td><td>2013-07-21</td><td>XANOMELINE</td><td>2013-07-21</td><td>00:00:00</td><td>00:00:00</td><td>00:00:00</td><td>3</td></tr>\n",
       "</tbody>\n",
       "</table>\n"
      ],
      "text/latex": [
       "A tibble: 3 x 31\n",
       "\\begin{tabular}{lllllllllllllllllllll}\n",
       " STUDYID & USUBJID & EVID & EXDOSFRQ & EXDOSFRM & NFRLT & EXDOSE & EXDOSU & EXTRT & ASTDT & ... & TRTSDTM & AVISITN & AVISIT & ADTM & DRUG & ADT & ATM & ASTTM & AENTM & ADY\\\\\n",
       " <chr> & <chr> & <dbl> & <chr> & <chr> & <dbl> & <dbl> & <chr> & <chr> & <date> & ... & <dttm> & <dbl> & <chr> & <dttm> & <chr> & <date> & <time> & <time> & <time> & <dbl>\\\\\n",
       "\\hline\n",
       "\t CDISCPILOT01 & 01-701-1028 & 1 & ONCE & PATCH &  0 & 54 & mg & XANOMELINE & 2013-07-19 & ... & 2013-07-19 & 1 & Day 1 & 2013-07-19 & XANOMELINE & 2013-07-19 & 00:00:00 & 00:00:00 & 00:00:00 & 1\\\\\n",
       "\t CDISCPILOT01 & 01-701-1028 & 1 & ONCE & PATCH & 24 & 54 & mg & XANOMELINE & 2013-07-20 & ... & 2013-07-19 & 2 & Day 2 & 2013-07-20 & XANOMELINE & 2013-07-20 & 00:00:00 & 00:00:00 & 00:00:00 & 2\\\\\n",
       "\t CDISCPILOT01 & 01-701-1028 & 1 & ONCE & PATCH & 48 & 54 & mg & XANOMELINE & 2013-07-21 & ... & 2013-07-19 & 3 & Day 3 & 2013-07-21 & XANOMELINE & 2013-07-21 & 00:00:00 & 00:00:00 & 00:00:00 & 3\\\\\n",
       "\\end{tabular}\n"
      ],
      "text/markdown": [
       "\n",
       "A tibble: 3 x 31\n",
       "\n",
       "| STUDYID &lt;chr&gt; | USUBJID &lt;chr&gt; | EVID &lt;dbl&gt; | EXDOSFRQ &lt;chr&gt; | EXDOSFRM &lt;chr&gt; | NFRLT &lt;dbl&gt; | EXDOSE &lt;dbl&gt; | EXDOSU &lt;chr&gt; | EXTRT &lt;chr&gt; | ASTDT &lt;date&gt; | ... ... | TRTSDTM &lt;dttm&gt; | AVISITN &lt;dbl&gt; | AVISIT &lt;chr&gt; | ADTM &lt;dttm&gt; | DRUG &lt;chr&gt; | ADT &lt;date&gt; | ATM &lt;time&gt; | ASTTM &lt;time&gt; | AENTM &lt;time&gt; | ADY &lt;dbl&gt; |\n",
       "|---|---|---|---|---|---|---|---|---|---|---|---|---|---|---|---|---|---|---|---|---|\n",
       "| CDISCPILOT01 | 01-701-1028 | 1 | ONCE | PATCH |  0 | 54 | mg | XANOMELINE | 2013-07-19 | ... | 2013-07-19 | 1 | Day 1 | 2013-07-19 | XANOMELINE | 2013-07-19 | 00:00:00 | 00:00:00 | 00:00:00 | 1 |\n",
       "| CDISCPILOT01 | 01-701-1028 | 1 | ONCE | PATCH | 24 | 54 | mg | XANOMELINE | 2013-07-20 | ... | 2013-07-19 | 2 | Day 2 | 2013-07-20 | XANOMELINE | 2013-07-20 | 00:00:00 | 00:00:00 | 00:00:00 | 2 |\n",
       "| CDISCPILOT01 | 01-701-1028 | 1 | ONCE | PATCH | 48 | 54 | mg | XANOMELINE | 2013-07-21 | ... | 2013-07-19 | 3 | Day 3 | 2013-07-21 | XANOMELINE | 2013-07-21 | 00:00:00 | 00:00:00 | 00:00:00 | 3 |\n",
       "\n"
      ],
      "text/plain": [
       "  STUDYID      USUBJID     EVID EXDOSFRQ EXDOSFRM NFRLT EXDOSE EXDOSU\n",
       "1 CDISCPILOT01 01-701-1028 1    ONCE     PATCH     0    54     mg    \n",
       "2 CDISCPILOT01 01-701-1028 1    ONCE     PATCH    24    54     mg    \n",
       "3 CDISCPILOT01 01-701-1028 1    ONCE     PATCH    48    54     mg    \n",
       "  EXTRT      ASTDT      ... TRTSDTM    AVISITN AVISIT ADTM       DRUG      \n",
       "1 XANOMELINE 2013-07-19 ... 2013-07-19 1       Day 1  2013-07-19 XANOMELINE\n",
       "2 XANOMELINE 2013-07-20 ... 2013-07-19 2       Day 2  2013-07-20 XANOMELINE\n",
       "3 XANOMELINE 2013-07-21 ... 2013-07-19 3       Day 3  2013-07-21 XANOMELINE\n",
       "  ADT        ATM      ASTTM    AENTM    ADY\n",
       "1 2013-07-19 00:00:00 00:00:00 00:00:00 1  \n",
       "2 2013-07-20 00:00:00 00:00:00 00:00:00 2  \n",
       "3 2013-07-21 00:00:00 00:00:00 00:00:00 3  "
      ]
     },
     "metadata": {},
     "output_type": "display_data"
    }
   ],
   "source": [
    "head(ex_exp,3)"
   ]
  },
  {
   "cell_type": "code",
   "execution_count": 28,
   "id": "e72e2817",
   "metadata": {
    "vscode": {
     "languageId": "r"
    }
   },
   "outputs": [
    {
     "data": {
      "text/html": [
       "<style>\n",
       ".list-inline {list-style: none; margin:0; padding: 0}\n",
       ".list-inline>li {display: inline-block}\n",
       ".list-inline>li:not(:last-child)::after {content: \"\\00b7\"; padding: 0 .5ex}\n",
       "</style>\n",
       "<ol class=list-inline><li>'STUDYID'</li><li>'USUBJID'</li><li>'EVID'</li><li>'EXDOSFRQ'</li><li>'EXDOSFRM'</li><li>'NFRLT'</li><li>'EXDOSE'</li><li>'EXDOSU'</li><li>'EXTRT'</li><li>'ASTDT'</li><li>'ASTDTM'</li><li>'AENDT'</li><li>'AENDTM'</li><li>'VISIT'</li><li>'VISITNUM'</li><li>'VISITDY'</li><li>'TRT01A'</li><li>'TRT01P'</li><li>'DOMAIN'</li><li>'EXSEQ'</li><li>'TRTSDT'</li><li>'TRTSDTM'</li><li>'AVISITN'</li><li>'AVISIT'</li><li>'ADTM'</li><li>'DRUG'</li><li>'ADT'</li><li>'ATM'</li><li>'ASTTM'</li><li>'AENTM'</li><li>'ADY'</li></ol>\n"
      ],
      "text/latex": [
       "\\begin{enumerate*}\n",
       "\\item 'STUDYID'\n",
       "\\item 'USUBJID'\n",
       "\\item 'EVID'\n",
       "\\item 'EXDOSFRQ'\n",
       "\\item 'EXDOSFRM'\n",
       "\\item 'NFRLT'\n",
       "\\item 'EXDOSE'\n",
       "\\item 'EXDOSU'\n",
       "\\item 'EXTRT'\n",
       "\\item 'ASTDT'\n",
       "\\item 'ASTDTM'\n",
       "\\item 'AENDT'\n",
       "\\item 'AENDTM'\n",
       "\\item 'VISIT'\n",
       "\\item 'VISITNUM'\n",
       "\\item 'VISITDY'\n",
       "\\item 'TRT01A'\n",
       "\\item 'TRT01P'\n",
       "\\item 'DOMAIN'\n",
       "\\item 'EXSEQ'\n",
       "\\item 'TRTSDT'\n",
       "\\item 'TRTSDTM'\n",
       "\\item 'AVISITN'\n",
       "\\item 'AVISIT'\n",
       "\\item 'ADTM'\n",
       "\\item 'DRUG'\n",
       "\\item 'ADT'\n",
       "\\item 'ATM'\n",
       "\\item 'ASTTM'\n",
       "\\item 'AENTM'\n",
       "\\item 'ADY'\n",
       "\\end{enumerate*}\n"
      ],
      "text/markdown": [
       "1. 'STUDYID'\n",
       "2. 'USUBJID'\n",
       "3. 'EVID'\n",
       "4. 'EXDOSFRQ'\n",
       "5. 'EXDOSFRM'\n",
       "6. 'NFRLT'\n",
       "7. 'EXDOSE'\n",
       "8. 'EXDOSU'\n",
       "9. 'EXTRT'\n",
       "10. 'ASTDT'\n",
       "11. 'ASTDTM'\n",
       "12. 'AENDT'\n",
       "13. 'AENDTM'\n",
       "14. 'VISIT'\n",
       "15. 'VISITNUM'\n",
       "16. 'VISITDY'\n",
       "17. 'TRT01A'\n",
       "18. 'TRT01P'\n",
       "19. 'DOMAIN'\n",
       "20. 'EXSEQ'\n",
       "21. 'TRTSDT'\n",
       "22. 'TRTSDTM'\n",
       "23. 'AVISITN'\n",
       "24. 'AVISIT'\n",
       "25. 'ADTM'\n",
       "26. 'DRUG'\n",
       "27. 'ADT'\n",
       "28. 'ATM'\n",
       "29. 'ASTTM'\n",
       "30. 'AENTM'\n",
       "31. 'ADY'\n",
       "\n",
       "\n"
      ],
      "text/plain": [
       " [1] \"STUDYID\"  \"USUBJID\"  \"EVID\"     \"EXDOSFRQ\" \"EXDOSFRM\" \"NFRLT\"   \n",
       " [7] \"EXDOSE\"   \"EXDOSU\"   \"EXTRT\"    \"ASTDT\"    \"ASTDTM\"   \"AENDT\"   \n",
       "[13] \"AENDTM\"   \"VISIT\"    \"VISITNUM\" \"VISITDY\"  \"TRT01A\"   \"TRT01P\"  \n",
       "[19] \"DOMAIN\"   \"EXSEQ\"    \"TRTSDT\"   \"TRTSDTM\"  \"AVISITN\"  \"AVISIT\"  \n",
       "[25] \"ADTM\"     \"DRUG\"     \"ADT\"      \"ATM\"      \"ASTTM\"    \"AENTM\"   \n",
       "[31] \"ADY\"     "
      ]
     },
     "metadata": {},
     "output_type": "display_data"
    }
   ],
   "source": [
    "colnames(ex_exp)"
   ]
  },
  {
   "cell_type": "markdown",
   "id": "24ba896a",
   "metadata": {},
   "source": [
    "### Find First Dose\n"
   ]
  },
  {
   "cell_type": "markdown",
   "id": "8e3f9287",
   "metadata": {},
   "source": [
    "In this section we will find the first dose for each subject and drug.\n"
   ]
  },
  {
   "cell_type": "code",
   "execution_count": 29,
   "id": "33848fb2",
   "metadata": {
    "language": "{r",
    "vscode": {
     "languageId": "r"
    }
   },
   "outputs": [],
   "source": [
    "#| label: First Dose\n",
    "\n",
    "adpc_first_dose <- pc_dates %>%\n",
    "  derive_vars_merged(\n",
    "    dataset_add = ex_exp,\n",
    "    filter_add = (EXDOSE > 0 & !is.na(ADTM)),\n",
    "    new_vars = exprs(FANLDTM = ADTM),\n",
    "    order = exprs(ADTM, EXSEQ),\n",
    "    mode = \"first\",\n",
    "    by_vars = exprs(STUDYID, USUBJID, DRUG)\n",
    "  ) %>%\n",
    "  filter(!is.na(FANLDTM)) %>%\n",
    "  # Derive AVISIT based on nominal relative time\n",
    "  # Derive AVISITN to nominal time in whole days using integer division\n",
    "  # Define AVISIT based on nominal day\n",
    "  mutate(\n",
    "    AVISITN = NFRLT %/% 24 + 1,\n",
    "    AVISIT = paste(\"Day\", AVISITN),\n",
    "  )\n"
   ]
  },
  {
   "cell_type": "code",
   "execution_count": 30,
   "id": "5cc1c1cb",
   "metadata": {
    "vscode": {
     "languageId": "r"
    }
   },
   "outputs": [
    {
     "data": {
      "text/html": [
       "<table class=\"dataframe\">\n",
       "<caption>A tibble: 3 x 35</caption>\n",
       "<thead>\n",
       "\t<tr><th scope=col>STUDYID</th><th scope=col>DOMAIN</th><th scope=col>USUBJID</th><th scope=col>EVID</th><th scope=col>DRUG</th><th scope=col>NFRLT</th><th scope=col>PCSEQ</th><th scope=col>PCTESTCD</th><th scope=col>PCTEST</th><th scope=col>PCORRES</th><th scope=col>...</th><th scope=col>TRT01P</th><th scope=col>TRT01A</th><th scope=col>ADTM</th><th scope=col>ATMF</th><th scope=col>ADT</th><th scope=col>ATM</th><th scope=col>ADY</th><th scope=col>FANLDTM</th><th scope=col>AVISITN</th><th scope=col>AVISIT</th></tr>\n",
       "\t<tr><th scope=col>&lt;chr&gt;</th><th scope=col>&lt;chr&gt;</th><th scope=col>&lt;chr&gt;</th><th scope=col>&lt;dbl&gt;</th><th scope=col>&lt;chr&gt;</th><th scope=col>&lt;dbl&gt;</th><th scope=col>&lt;int&gt;</th><th scope=col>&lt;chr&gt;</th><th scope=col>&lt;chr&gt;</th><th scope=col>&lt;chr&gt;</th><th scope=col>...</th><th scope=col>&lt;chr&gt;</th><th scope=col>&lt;chr&gt;</th><th scope=col>&lt;dttm&gt;</th><th scope=col>&lt;chr&gt;</th><th scope=col>&lt;date&gt;</th><th scope=col>&lt;time&gt;</th><th scope=col>&lt;dbl&gt;</th><th scope=col>&lt;dttm&gt;</th><th scope=col>&lt;dbl&gt;</th><th scope=col>&lt;chr&gt;</th></tr>\n",
       "</thead>\n",
       "<tbody>\n",
       "\t<tr><td>CDISCPILOT01</td><td>PC</td><td>01-701-1028</td><td>0</td><td>XANOMELINE</td><td>0.00</td><td>1</td><td>XAN</td><td>XANOMELINE</td><td><span style=white-space:pre-wrap>&lt;BLQ             </span></td><td>...</td><td>Xanomeline High Dose</td><td>Xanomeline High Dose</td><td>2013-07-18 23:30:00</td><td>NA</td><td>2013-07-18</td><td>23:30:00</td><td>-1</td><td>2013-07-19</td><td>1</td><td>Day 1</td></tr>\n",
       "\t<tr><td>CDISCPILOT01</td><td>PC</td><td>01-701-1028</td><td>0</td><td>XANOMELINE</td><td>0.08</td><td>2</td><td>XAN</td><td>XANOMELINE</td><td>0.101566224882241</td><td>...</td><td>Xanomeline High Dose</td><td>Xanomeline High Dose</td><td>2013-07-19 00:05:00</td><td>NA</td><td>2013-07-19</td><td>00:05:00</td><td> 1</td><td>2013-07-19</td><td>1</td><td>Day 1</td></tr>\n",
       "\t<tr><td>CDISCPILOT01</td><td>PC</td><td>01-701-1028</td><td>0</td><td>XANOMELINE</td><td>0.50</td><td>3</td><td>XAN</td><td>XANOMELINE</td><td>0.546901773708848</td><td>...</td><td>Xanomeline High Dose</td><td>Xanomeline High Dose</td><td>2013-07-19 00:30:00</td><td>NA</td><td>2013-07-19</td><td>00:30:00</td><td> 1</td><td>2013-07-19</td><td>1</td><td>Day 1</td></tr>\n",
       "</tbody>\n",
       "</table>\n"
      ],
      "text/latex": [
       "A tibble: 3 x 35\n",
       "\\begin{tabular}{lllllllllllllllllllll}\n",
       " STUDYID & DOMAIN & USUBJID & EVID & DRUG & NFRLT & PCSEQ & PCTESTCD & PCTEST & PCORRES & ... & TRT01P & TRT01A & ADTM & ATMF & ADT & ATM & ADY & FANLDTM & AVISITN & AVISIT\\\\\n",
       " <chr> & <chr> & <chr> & <dbl> & <chr> & <dbl> & <int> & <chr> & <chr> & <chr> & ... & <chr> & <chr> & <dttm> & <chr> & <date> & <time> & <dbl> & <dttm> & <dbl> & <chr>\\\\\n",
       "\\hline\n",
       "\t CDISCPILOT01 & PC & 01-701-1028 & 0 & XANOMELINE & 0.00 & 1 & XAN & XANOMELINE & <BLQ              & ... & Xanomeline High Dose & Xanomeline High Dose & 2013-07-18 23:30:00 & NA & 2013-07-18 & 23:30:00 & -1 & 2013-07-19 & 1 & Day 1\\\\\n",
       "\t CDISCPILOT01 & PC & 01-701-1028 & 0 & XANOMELINE & 0.08 & 2 & XAN & XANOMELINE & 0.101566224882241 & ... & Xanomeline High Dose & Xanomeline High Dose & 2013-07-19 00:05:00 & NA & 2013-07-19 & 00:05:00 &  1 & 2013-07-19 & 1 & Day 1\\\\\n",
       "\t CDISCPILOT01 & PC & 01-701-1028 & 0 & XANOMELINE & 0.50 & 3 & XAN & XANOMELINE & 0.546901773708848 & ... & Xanomeline High Dose & Xanomeline High Dose & 2013-07-19 00:30:00 & NA & 2013-07-19 & 00:30:00 &  1 & 2013-07-19 & 1 & Day 1\\\\\n",
       "\\end{tabular}\n"
      ],
      "text/markdown": [
       "\n",
       "A tibble: 3 x 35\n",
       "\n",
       "| STUDYID &lt;chr&gt; | DOMAIN &lt;chr&gt; | USUBJID &lt;chr&gt; | EVID &lt;dbl&gt; | DRUG &lt;chr&gt; | NFRLT &lt;dbl&gt; | PCSEQ &lt;int&gt; | PCTESTCD &lt;chr&gt; | PCTEST &lt;chr&gt; | PCORRES &lt;chr&gt; | ... ... | TRT01P &lt;chr&gt; | TRT01A &lt;chr&gt; | ADTM &lt;dttm&gt; | ATMF &lt;chr&gt; | ADT &lt;date&gt; | ATM &lt;time&gt; | ADY &lt;dbl&gt; | FANLDTM &lt;dttm&gt; | AVISITN &lt;dbl&gt; | AVISIT &lt;chr&gt; |\n",
       "|---|---|---|---|---|---|---|---|---|---|---|---|---|---|---|---|---|---|---|---|---|\n",
       "| CDISCPILOT01 | PC | 01-701-1028 | 0 | XANOMELINE | 0.00 | 1 | XAN | XANOMELINE | &lt;BLQ              | ... | Xanomeline High Dose | Xanomeline High Dose | 2013-07-18 23:30:00 | NA | 2013-07-18 | 23:30:00 | -1 | 2013-07-19 | 1 | Day 1 |\n",
       "| CDISCPILOT01 | PC | 01-701-1028 | 0 | XANOMELINE | 0.08 | 2 | XAN | XANOMELINE | 0.101566224882241 | ... | Xanomeline High Dose | Xanomeline High Dose | 2013-07-19 00:05:00 | NA | 2013-07-19 | 00:05:00 |  1 | 2013-07-19 | 1 | Day 1 |\n",
       "| CDISCPILOT01 | PC | 01-701-1028 | 0 | XANOMELINE | 0.50 | 3 | XAN | XANOMELINE | 0.546901773708848 | ... | Xanomeline High Dose | Xanomeline High Dose | 2013-07-19 00:30:00 | NA | 2013-07-19 | 00:30:00 |  1 | 2013-07-19 | 1 | Day 1 |\n",
       "\n"
      ],
      "text/plain": [
       "  STUDYID      DOMAIN USUBJID     EVID DRUG       NFRLT PCSEQ PCTESTCD\n",
       "1 CDISCPILOT01 PC     01-701-1028 0    XANOMELINE 0.00  1     XAN     \n",
       "2 CDISCPILOT01 PC     01-701-1028 0    XANOMELINE 0.08  2     XAN     \n",
       "3 CDISCPILOT01 PC     01-701-1028 0    XANOMELINE 0.50  3     XAN     \n",
       "  PCTEST     PCORRES           ... TRT01P               TRT01A              \n",
       "1 XANOMELINE <BLQ              ... Xanomeline High Dose Xanomeline High Dose\n",
       "2 XANOMELINE 0.101566224882241 ... Xanomeline High Dose Xanomeline High Dose\n",
       "3 XANOMELINE 0.546901773708848 ... Xanomeline High Dose Xanomeline High Dose\n",
       "  ADTM                ATMF ADT        ATM      ADY FANLDTM    AVISITN AVISIT\n",
       "1 2013-07-18 23:30:00 NA   2013-07-18 23:30:00 -1  2013-07-19 1       Day 1 \n",
       "2 2013-07-19 00:05:00 NA   2013-07-19 00:05:00  1  2013-07-19 1       Day 1 \n",
       "3 2013-07-19 00:30:00 NA   2013-07-19 00:30:00  1  2013-07-19 1       Day 1 "
      ]
     },
     "metadata": {},
     "output_type": "display_data"
    }
   ],
   "source": [
    "head(adpc_first_dose, 3)"
   ]
  },
  {
   "cell_type": "markdown",
   "id": "5b36aa98",
   "metadata": {},
   "source": [
    "### Find Previous Dose and Next Dose\n"
   ]
  },
  {
   "cell_type": "markdown",
   "id": "ee9baa09",
   "metadata": {},
   "source": [
    "Use `derive_vars_joined()` to find the previous dose and the next dose.\n"
   ]
  },
  {
   "cell_type": "code",
   "execution_count": 32,
   "id": "aa37cf75",
   "metadata": {
    "language": "{r",
    "vscode": {
     "languageId": "r"
    }
   },
   "outputs": [],
   "source": [
    "#| label: Previous Dose and Next Dose\n",
    "\n",
    "adpc_prev <- adpc_first_dose %>%\n",
    "  derive_vars_joined(\n",
    "    dataset_add = ex_exp,\n",
    "    by_vars = exprs(USUBJID),\n",
    "    order = exprs(ADTM),\n",
    "    new_vars = exprs(\n",
    "      ADTM_prev = ADTM, EXDOSE_prev = EXDOSE, AVISIT_prev = AVISIT,\n",
    "      AENDTM_prev = AENDTM\n",
    "    ),\n",
    "    join_vars = exprs(ADTM),\n",
    "    join_type = \"all\",\n",
    "    filter_add = NULL,\n",
    "    filter_join = ADTM > ADTM.join,\n",
    "    mode = \"last\",\n",
    "    check_type = \"none\"\n",
    "  )\n",
    "\n",
    "adpc_next <- adpc_prev %>%\n",
    "  derive_vars_joined(\n",
    "    dataset_add = ex_exp,\n",
    "    by_vars = exprs(USUBJID),\n",
    "    order = exprs(ADTM),\n",
    "    new_vars = exprs(\n",
    "      ADTM_next = ADTM, EXDOSE_next = EXDOSE, AVISIT_next = AVISIT,\n",
    "      AENDTM_next = AENDTM\n",
    "    ),\n",
    "    join_vars = exprs(ADTM),\n",
    "    join_type = \"all\",\n",
    "    filter_add = NULL,\n",
    "    filter_join = ADTM <= ADTM.join,\n",
    "    mode = \"first\",\n",
    "    check_type = \"none\"\n",
    "  )\n"
   ]
  },
  {
   "cell_type": "code",
   "execution_count": 33,
   "id": "25140e42",
   "metadata": {
    "vscode": {
     "languageId": "r"
    }
   },
   "outputs": [
    {
     "data": {
      "text/html": [
       "<table class=\"dataframe\">\n",
       "<caption>A tibble: 3 x 39</caption>\n",
       "<thead>\n",
       "\t<tr><th scope=col>STUDYID</th><th scope=col>DOMAIN</th><th scope=col>USUBJID</th><th scope=col>EVID</th><th scope=col>DRUG</th><th scope=col>NFRLT</th><th scope=col>PCSEQ</th><th scope=col>PCTESTCD</th><th scope=col>PCTEST</th><th scope=col>PCORRES</th><th scope=col>...</th><th scope=col>ADT</th><th scope=col>ATM</th><th scope=col>ADY</th><th scope=col>FANLDTM</th><th scope=col>AVISITN</th><th scope=col>AVISIT</th><th scope=col>ADTM_prev</th><th scope=col>EXDOSE_prev</th><th scope=col>AVISIT_prev</th><th scope=col>AENDTM_prev</th></tr>\n",
       "\t<tr><th scope=col>&lt;chr&gt;</th><th scope=col>&lt;chr&gt;</th><th scope=col>&lt;chr&gt;</th><th scope=col>&lt;dbl&gt;</th><th scope=col>&lt;chr&gt;</th><th scope=col>&lt;dbl&gt;</th><th scope=col>&lt;int&gt;</th><th scope=col>&lt;chr&gt;</th><th scope=col>&lt;chr&gt;</th><th scope=col>&lt;chr&gt;</th><th scope=col>...</th><th scope=col>&lt;date&gt;</th><th scope=col>&lt;time&gt;</th><th scope=col>&lt;dbl&gt;</th><th scope=col>&lt;dttm&gt;</th><th scope=col>&lt;dbl&gt;</th><th scope=col>&lt;chr&gt;</th><th scope=col>&lt;dttm&gt;</th><th scope=col>&lt;dbl&gt;</th><th scope=col>&lt;chr&gt;</th><th scope=col>&lt;dttm&gt;</th></tr>\n",
       "</thead>\n",
       "<tbody>\n",
       "\t<tr><td>CDISCPILOT01</td><td>PC</td><td>01-701-1028</td><td>0</td><td>XANOMELINE</td><td>0.00</td><td>1</td><td>XAN</td><td>XANOMELINE</td><td><span style=white-space:pre-wrap>&lt;BLQ             </span></td><td>...</td><td>2013-07-18</td><td>23:30:00</td><td>-1</td><td>2013-07-19</td><td>1</td><td>Day 1</td><td>NA</td><td>NA</td><td><span style=white-space:pre-wrap>NA   </span></td><td>NA</td></tr>\n",
       "\t<tr><td>CDISCPILOT01</td><td>PC</td><td>01-701-1028</td><td>0</td><td>XANOMELINE</td><td>0.08</td><td>2</td><td>XAN</td><td>XANOMELINE</td><td>0.101566224882241</td><td>...</td><td>2013-07-19</td><td>00:05:00</td><td> 1</td><td>2013-07-19</td><td>1</td><td>Day 1</td><td>2013-07-19</td><td>54</td><td>Day 1</td><td>2013-07-19</td></tr>\n",
       "\t<tr><td>CDISCPILOT01</td><td>PC</td><td>01-701-1028</td><td>0</td><td>XANOMELINE</td><td>0.50</td><td>3</td><td>XAN</td><td>XANOMELINE</td><td>0.546901773708848</td><td>...</td><td>2013-07-19</td><td>00:30:00</td><td> 1</td><td>2013-07-19</td><td>1</td><td>Day 1</td><td>2013-07-19</td><td>54</td><td>Day 1</td><td>2013-07-19</td></tr>\n",
       "</tbody>\n",
       "</table>\n"
      ],
      "text/latex": [
       "A tibble: 3 x 39\n",
       "\\begin{tabular}{lllllllllllllllllllll}\n",
       " STUDYID & DOMAIN & USUBJID & EVID & DRUG & NFRLT & PCSEQ & PCTESTCD & PCTEST & PCORRES & ... & ADT & ATM & ADY & FANLDTM & AVISITN & AVISIT & ADTM\\_prev & EXDOSE\\_prev & AVISIT\\_prev & AENDTM\\_prev\\\\\n",
       " <chr> & <chr> & <chr> & <dbl> & <chr> & <dbl> & <int> & <chr> & <chr> & <chr> & ... & <date> & <time> & <dbl> & <dttm> & <dbl> & <chr> & <dttm> & <dbl> & <chr> & <dttm>\\\\\n",
       "\\hline\n",
       "\t CDISCPILOT01 & PC & 01-701-1028 & 0 & XANOMELINE & 0.00 & 1 & XAN & XANOMELINE & <BLQ              & ... & 2013-07-18 & 23:30:00 & -1 & 2013-07-19 & 1 & Day 1 & NA & NA & NA    & NA\\\\\n",
       "\t CDISCPILOT01 & PC & 01-701-1028 & 0 & XANOMELINE & 0.08 & 2 & XAN & XANOMELINE & 0.101566224882241 & ... & 2013-07-19 & 00:05:00 &  1 & 2013-07-19 & 1 & Day 1 & 2013-07-19 & 54 & Day 1 & 2013-07-19\\\\\n",
       "\t CDISCPILOT01 & PC & 01-701-1028 & 0 & XANOMELINE & 0.50 & 3 & XAN & XANOMELINE & 0.546901773708848 & ... & 2013-07-19 & 00:30:00 &  1 & 2013-07-19 & 1 & Day 1 & 2013-07-19 & 54 & Day 1 & 2013-07-19\\\\\n",
       "\\end{tabular}\n"
      ],
      "text/markdown": [
       "\n",
       "A tibble: 3 x 39\n",
       "\n",
       "| STUDYID &lt;chr&gt; | DOMAIN &lt;chr&gt; | USUBJID &lt;chr&gt; | EVID &lt;dbl&gt; | DRUG &lt;chr&gt; | NFRLT &lt;dbl&gt; | PCSEQ &lt;int&gt; | PCTESTCD &lt;chr&gt; | PCTEST &lt;chr&gt; | PCORRES &lt;chr&gt; | ... ... | ADT &lt;date&gt; | ATM &lt;time&gt; | ADY &lt;dbl&gt; | FANLDTM &lt;dttm&gt; | AVISITN &lt;dbl&gt; | AVISIT &lt;chr&gt; | ADTM_prev &lt;dttm&gt; | EXDOSE_prev &lt;dbl&gt; | AVISIT_prev &lt;chr&gt; | AENDTM_prev &lt;dttm&gt; |\n",
       "|---|---|---|---|---|---|---|---|---|---|---|---|---|---|---|---|---|---|---|---|---|\n",
       "| CDISCPILOT01 | PC | 01-701-1028 | 0 | XANOMELINE | 0.00 | 1 | XAN | XANOMELINE | &lt;BLQ              | ... | 2013-07-18 | 23:30:00 | -1 | 2013-07-19 | 1 | Day 1 | NA | NA | NA    | NA |\n",
       "| CDISCPILOT01 | PC | 01-701-1028 | 0 | XANOMELINE | 0.08 | 2 | XAN | XANOMELINE | 0.101566224882241 | ... | 2013-07-19 | 00:05:00 |  1 | 2013-07-19 | 1 | Day 1 | 2013-07-19 | 54 | Day 1 | 2013-07-19 |\n",
       "| CDISCPILOT01 | PC | 01-701-1028 | 0 | XANOMELINE | 0.50 | 3 | XAN | XANOMELINE | 0.546901773708848 | ... | 2013-07-19 | 00:30:00 |  1 | 2013-07-19 | 1 | Day 1 | 2013-07-19 | 54 | Day 1 | 2013-07-19 |\n",
       "\n"
      ],
      "text/plain": [
       "  STUDYID      DOMAIN USUBJID     EVID DRUG       NFRLT PCSEQ PCTESTCD\n",
       "1 CDISCPILOT01 PC     01-701-1028 0    XANOMELINE 0.00  1     XAN     \n",
       "2 CDISCPILOT01 PC     01-701-1028 0    XANOMELINE 0.08  2     XAN     \n",
       "3 CDISCPILOT01 PC     01-701-1028 0    XANOMELINE 0.50  3     XAN     \n",
       "  PCTEST     PCORRES           ... ADT        ATM      ADY FANLDTM    AVISITN\n",
       "1 XANOMELINE <BLQ              ... 2013-07-18 23:30:00 -1  2013-07-19 1      \n",
       "2 XANOMELINE 0.101566224882241 ... 2013-07-19 00:05:00  1  2013-07-19 1      \n",
       "3 XANOMELINE 0.546901773708848 ... 2013-07-19 00:30:00  1  2013-07-19 1      \n",
       "  AVISIT ADTM_prev  EXDOSE_prev AVISIT_prev AENDTM_prev\n",
       "1 Day 1  <NA>       NA          NA          <NA>       \n",
       "2 Day 1  2013-07-19 54          Day 1       2013-07-19 \n",
       "3 Day 1  2013-07-19 54          Day 1       2013-07-19 "
      ]
     },
     "metadata": {},
     "output_type": "display_data"
    }
   ],
   "source": [
    "head(adpc_prev,3)"
   ]
  },
  {
   "cell_type": "code",
   "execution_count": 34,
   "id": "87e41ba1",
   "metadata": {
    "vscode": {
     "languageId": "r"
    }
   },
   "outputs": [
    {
     "data": {
      "text/html": [
       "<style>\n",
       ".list-inline {list-style: none; margin:0; padding: 0}\n",
       ".list-inline>li {display: inline-block}\n",
       ".list-inline>li:not(:last-child)::after {content: \"\\00b7\"; padding: 0 .5ex}\n",
       "</style>\n",
       "<ol class=list-inline><li>'STUDYID'</li><li>'DOMAIN'</li><li>'USUBJID'</li><li>'EVID'</li><li>'DRUG'</li><li>'NFRLT'</li><li>'PCSEQ'</li><li>'PCTESTCD'</li><li>'PCTEST'</li><li>'PCORRES'</li><li>'PCORRESU'</li><li>'PCSTRESC'</li><li>'PCSTRESN'</li><li>'PCSTRESU'</li><li>'PCNAM'</li><li>'PCSPEC'</li><li>'PCLLOQ'</li><li>'VISIT'</li><li>'VISITNUM'</li><li>'PCDTC'</li><li>'PCDY'</li><li>'PCTPT'</li><li>'PCTPTNUM'</li><li>'TRTSDT'</li><li>'TRTSDTM'</li><li>'TRT01P'</li><li>'TRT01A'</li><li>'ADTM'</li><li>'ATMF'</li><li>'ADT'</li><li>'ATM'</li><li>'ADY'</li><li>'FANLDTM'</li><li>'AVISITN'</li><li>'AVISIT'</li><li>'ADTM_prev'</li><li>'EXDOSE_prev'</li><li>'AVISIT_prev'</li><li>'AENDTM_prev'</li></ol>\n"
      ],
      "text/latex": [
       "\\begin{enumerate*}\n",
       "\\item 'STUDYID'\n",
       "\\item 'DOMAIN'\n",
       "\\item 'USUBJID'\n",
       "\\item 'EVID'\n",
       "\\item 'DRUG'\n",
       "\\item 'NFRLT'\n",
       "\\item 'PCSEQ'\n",
       "\\item 'PCTESTCD'\n",
       "\\item 'PCTEST'\n",
       "\\item 'PCORRES'\n",
       "\\item 'PCORRESU'\n",
       "\\item 'PCSTRESC'\n",
       "\\item 'PCSTRESN'\n",
       "\\item 'PCSTRESU'\n",
       "\\item 'PCNAM'\n",
       "\\item 'PCSPEC'\n",
       "\\item 'PCLLOQ'\n",
       "\\item 'VISIT'\n",
       "\\item 'VISITNUM'\n",
       "\\item 'PCDTC'\n",
       "\\item 'PCDY'\n",
       "\\item 'PCTPT'\n",
       "\\item 'PCTPTNUM'\n",
       "\\item 'TRTSDT'\n",
       "\\item 'TRTSDTM'\n",
       "\\item 'TRT01P'\n",
       "\\item 'TRT01A'\n",
       "\\item 'ADTM'\n",
       "\\item 'ATMF'\n",
       "\\item 'ADT'\n",
       "\\item 'ATM'\n",
       "\\item 'ADY'\n",
       "\\item 'FANLDTM'\n",
       "\\item 'AVISITN'\n",
       "\\item 'AVISIT'\n",
       "\\item 'ADTM\\_prev'\n",
       "\\item 'EXDOSE\\_prev'\n",
       "\\item 'AVISIT\\_prev'\n",
       "\\item 'AENDTM\\_prev'\n",
       "\\end{enumerate*}\n"
      ],
      "text/markdown": [
       "1. 'STUDYID'\n",
       "2. 'DOMAIN'\n",
       "3. 'USUBJID'\n",
       "4. 'EVID'\n",
       "5. 'DRUG'\n",
       "6. 'NFRLT'\n",
       "7. 'PCSEQ'\n",
       "8. 'PCTESTCD'\n",
       "9. 'PCTEST'\n",
       "10. 'PCORRES'\n",
       "11. 'PCORRESU'\n",
       "12. 'PCSTRESC'\n",
       "13. 'PCSTRESN'\n",
       "14. 'PCSTRESU'\n",
       "15. 'PCNAM'\n",
       "16. 'PCSPEC'\n",
       "17. 'PCLLOQ'\n",
       "18. 'VISIT'\n",
       "19. 'VISITNUM'\n",
       "20. 'PCDTC'\n",
       "21. 'PCDY'\n",
       "22. 'PCTPT'\n",
       "23. 'PCTPTNUM'\n",
       "24. 'TRTSDT'\n",
       "25. 'TRTSDTM'\n",
       "26. 'TRT01P'\n",
       "27. 'TRT01A'\n",
       "28. 'ADTM'\n",
       "29. 'ATMF'\n",
       "30. 'ADT'\n",
       "31. 'ATM'\n",
       "32. 'ADY'\n",
       "33. 'FANLDTM'\n",
       "34. 'AVISITN'\n",
       "35. 'AVISIT'\n",
       "36. 'ADTM_prev'\n",
       "37. 'EXDOSE_prev'\n",
       "38. 'AVISIT_prev'\n",
       "39. 'AENDTM_prev'\n",
       "\n",
       "\n"
      ],
      "text/plain": [
       " [1] \"STUDYID\"     \"DOMAIN\"      \"USUBJID\"     \"EVID\"        \"DRUG\"       \n",
       " [6] \"NFRLT\"       \"PCSEQ\"       \"PCTESTCD\"    \"PCTEST\"      \"PCORRES\"    \n",
       "[11] \"PCORRESU\"    \"PCSTRESC\"    \"PCSTRESN\"    \"PCSTRESU\"    \"PCNAM\"      \n",
       "[16] \"PCSPEC\"      \"PCLLOQ\"      \"VISIT\"       \"VISITNUM\"    \"PCDTC\"      \n",
       "[21] \"PCDY\"        \"PCTPT\"       \"PCTPTNUM\"    \"TRTSDT\"      \"TRTSDTM\"    \n",
       "[26] \"TRT01P\"      \"TRT01A\"      \"ADTM\"        \"ATMF\"        \"ADT\"        \n",
       "[31] \"ATM\"         \"ADY\"         \"FANLDTM\"     \"AVISITN\"     \"AVISIT\"     \n",
       "[36] \"ADTM_prev\"   \"EXDOSE_prev\" \"AVISIT_prev\" \"AENDTM_prev\""
      ]
     },
     "metadata": {},
     "output_type": "display_data"
    }
   ],
   "source": [
    "colnames(adpc_prev)"
   ]
  },
  {
   "cell_type": "code",
   "execution_count": 35,
   "id": "4e59031a",
   "metadata": {
    "vscode": {
     "languageId": "r"
    }
   },
   "outputs": [
    {
     "data": {
      "text/html": [
       "<table class=\"dataframe\">\n",
       "<caption>A tibble: 3 x 43</caption>\n",
       "<thead>\n",
       "\t<tr><th scope=col>STUDYID</th><th scope=col>DOMAIN</th><th scope=col>USUBJID</th><th scope=col>EVID</th><th scope=col>DRUG</th><th scope=col>NFRLT</th><th scope=col>PCSEQ</th><th scope=col>PCTESTCD</th><th scope=col>PCTEST</th><th scope=col>PCORRES</th><th scope=col>...</th><th scope=col>AVISITN</th><th scope=col>AVISIT</th><th scope=col>ADTM_prev</th><th scope=col>EXDOSE_prev</th><th scope=col>AVISIT_prev</th><th scope=col>AENDTM_prev</th><th scope=col>ADTM_next</th><th scope=col>EXDOSE_next</th><th scope=col>AVISIT_next</th><th scope=col>AENDTM_next</th></tr>\n",
       "\t<tr><th scope=col>&lt;chr&gt;</th><th scope=col>&lt;chr&gt;</th><th scope=col>&lt;chr&gt;</th><th scope=col>&lt;dbl&gt;</th><th scope=col>&lt;chr&gt;</th><th scope=col>&lt;dbl&gt;</th><th scope=col>&lt;int&gt;</th><th scope=col>&lt;chr&gt;</th><th scope=col>&lt;chr&gt;</th><th scope=col>&lt;chr&gt;</th><th scope=col>...</th><th scope=col>&lt;dbl&gt;</th><th scope=col>&lt;chr&gt;</th><th scope=col>&lt;dttm&gt;</th><th scope=col>&lt;dbl&gt;</th><th scope=col>&lt;chr&gt;</th><th scope=col>&lt;dttm&gt;</th><th scope=col>&lt;dttm&gt;</th><th scope=col>&lt;dbl&gt;</th><th scope=col>&lt;chr&gt;</th><th scope=col>&lt;dttm&gt;</th></tr>\n",
       "</thead>\n",
       "<tbody>\n",
       "\t<tr><td>CDISCPILOT01</td><td>PC</td><td>01-701-1028</td><td>0</td><td>XANOMELINE</td><td>0.00</td><td>1</td><td>XAN</td><td>XANOMELINE</td><td><span style=white-space:pre-wrap>&lt;BLQ             </span></td><td>...</td><td>1</td><td>Day 1</td><td>NA</td><td>NA</td><td><span style=white-space:pre-wrap>NA   </span></td><td>NA</td><td>2013-07-19</td><td>54</td><td>Day 1</td><td>2013-07-19</td></tr>\n",
       "\t<tr><td>CDISCPILOT01</td><td>PC</td><td>01-701-1028</td><td>0</td><td>XANOMELINE</td><td>0.08</td><td>2</td><td>XAN</td><td>XANOMELINE</td><td>0.101566224882241</td><td>...</td><td>1</td><td>Day 1</td><td>2013-07-19</td><td>54</td><td>Day 1</td><td>2013-07-19</td><td>2013-07-20</td><td>54</td><td>Day 2</td><td>2013-07-20</td></tr>\n",
       "\t<tr><td>CDISCPILOT01</td><td>PC</td><td>01-701-1028</td><td>0</td><td>XANOMELINE</td><td>0.50</td><td>3</td><td>XAN</td><td>XANOMELINE</td><td>0.546901773708848</td><td>...</td><td>1</td><td>Day 1</td><td>2013-07-19</td><td>54</td><td>Day 1</td><td>2013-07-19</td><td>2013-07-20</td><td>54</td><td>Day 2</td><td>2013-07-20</td></tr>\n",
       "</tbody>\n",
       "</table>\n"
      ],
      "text/latex": [
       "A tibble: 3 x 43\n",
       "\\begin{tabular}{lllllllllllllllllllll}\n",
       " STUDYID & DOMAIN & USUBJID & EVID & DRUG & NFRLT & PCSEQ & PCTESTCD & PCTEST & PCORRES & ... & AVISITN & AVISIT & ADTM\\_prev & EXDOSE\\_prev & AVISIT\\_prev & AENDTM\\_prev & ADTM\\_next & EXDOSE\\_next & AVISIT\\_next & AENDTM\\_next\\\\\n",
       " <chr> & <chr> & <chr> & <dbl> & <chr> & <dbl> & <int> & <chr> & <chr> & <chr> & ... & <dbl> & <chr> & <dttm> & <dbl> & <chr> & <dttm> & <dttm> & <dbl> & <chr> & <dttm>\\\\\n",
       "\\hline\n",
       "\t CDISCPILOT01 & PC & 01-701-1028 & 0 & XANOMELINE & 0.00 & 1 & XAN & XANOMELINE & <BLQ              & ... & 1 & Day 1 & NA & NA & NA    & NA & 2013-07-19 & 54 & Day 1 & 2013-07-19\\\\\n",
       "\t CDISCPILOT01 & PC & 01-701-1028 & 0 & XANOMELINE & 0.08 & 2 & XAN & XANOMELINE & 0.101566224882241 & ... & 1 & Day 1 & 2013-07-19 & 54 & Day 1 & 2013-07-19 & 2013-07-20 & 54 & Day 2 & 2013-07-20\\\\\n",
       "\t CDISCPILOT01 & PC & 01-701-1028 & 0 & XANOMELINE & 0.50 & 3 & XAN & XANOMELINE & 0.546901773708848 & ... & 1 & Day 1 & 2013-07-19 & 54 & Day 1 & 2013-07-19 & 2013-07-20 & 54 & Day 2 & 2013-07-20\\\\\n",
       "\\end{tabular}\n"
      ],
      "text/markdown": [
       "\n",
       "A tibble: 3 x 43\n",
       "\n",
       "| STUDYID &lt;chr&gt; | DOMAIN &lt;chr&gt; | USUBJID &lt;chr&gt; | EVID &lt;dbl&gt; | DRUG &lt;chr&gt; | NFRLT &lt;dbl&gt; | PCSEQ &lt;int&gt; | PCTESTCD &lt;chr&gt; | PCTEST &lt;chr&gt; | PCORRES &lt;chr&gt; | ... ... | AVISITN &lt;dbl&gt; | AVISIT &lt;chr&gt; | ADTM_prev &lt;dttm&gt; | EXDOSE_prev &lt;dbl&gt; | AVISIT_prev &lt;chr&gt; | AENDTM_prev &lt;dttm&gt; | ADTM_next &lt;dttm&gt; | EXDOSE_next &lt;dbl&gt; | AVISIT_next &lt;chr&gt; | AENDTM_next &lt;dttm&gt; |\n",
       "|---|---|---|---|---|---|---|---|---|---|---|---|---|---|---|---|---|---|---|---|---|\n",
       "| CDISCPILOT01 | PC | 01-701-1028 | 0 | XANOMELINE | 0.00 | 1 | XAN | XANOMELINE | &lt;BLQ              | ... | 1 | Day 1 | NA | NA | NA    | NA | 2013-07-19 | 54 | Day 1 | 2013-07-19 |\n",
       "| CDISCPILOT01 | PC | 01-701-1028 | 0 | XANOMELINE | 0.08 | 2 | XAN | XANOMELINE | 0.101566224882241 | ... | 1 | Day 1 | 2013-07-19 | 54 | Day 1 | 2013-07-19 | 2013-07-20 | 54 | Day 2 | 2013-07-20 |\n",
       "| CDISCPILOT01 | PC | 01-701-1028 | 0 | XANOMELINE | 0.50 | 3 | XAN | XANOMELINE | 0.546901773708848 | ... | 1 | Day 1 | 2013-07-19 | 54 | Day 1 | 2013-07-19 | 2013-07-20 | 54 | Day 2 | 2013-07-20 |\n",
       "\n"
      ],
      "text/plain": [
       "  STUDYID      DOMAIN USUBJID     EVID DRUG       NFRLT PCSEQ PCTESTCD\n",
       "1 CDISCPILOT01 PC     01-701-1028 0    XANOMELINE 0.00  1     XAN     \n",
       "2 CDISCPILOT01 PC     01-701-1028 0    XANOMELINE 0.08  2     XAN     \n",
       "3 CDISCPILOT01 PC     01-701-1028 0    XANOMELINE 0.50  3     XAN     \n",
       "  PCTEST     PCORRES           ... AVISITN AVISIT ADTM_prev  EXDOSE_prev\n",
       "1 XANOMELINE <BLQ              ... 1       Day 1  <NA>       NA         \n",
       "2 XANOMELINE 0.101566224882241 ... 1       Day 1  2013-07-19 54         \n",
       "3 XANOMELINE 0.546901773708848 ... 1       Day 1  2013-07-19 54         \n",
       "  AVISIT_prev AENDTM_prev ADTM_next  EXDOSE_next AVISIT_next AENDTM_next\n",
       "1 NA          <NA>        2013-07-19 54          Day 1       2013-07-19 \n",
       "2 Day 1       2013-07-19  2013-07-20 54          Day 2       2013-07-20 \n",
       "3 Day 1       2013-07-19  2013-07-20 54          Day 2       2013-07-20 "
      ]
     },
     "metadata": {},
     "output_type": "display_data"
    }
   ],
   "source": [
    "head(adpc_next,3)"
   ]
  },
  {
   "cell_type": "code",
   "execution_count": 36,
   "id": "fd916135",
   "metadata": {
    "vscode": {
     "languageId": "r"
    }
   },
   "outputs": [
    {
     "data": {
      "text/html": [
       "<style>\n",
       ".list-inline {list-style: none; margin:0; padding: 0}\n",
       ".list-inline>li {display: inline-block}\n",
       ".list-inline>li:not(:last-child)::after {content: \"\\00b7\"; padding: 0 .5ex}\n",
       "</style>\n",
       "<ol class=list-inline><li>'STUDYID'</li><li>'DOMAIN'</li><li>'USUBJID'</li><li>'EVID'</li><li>'DRUG'</li><li>'NFRLT'</li><li>'PCSEQ'</li><li>'PCTESTCD'</li><li>'PCTEST'</li><li>'PCORRES'</li><li>'PCORRESU'</li><li>'PCSTRESC'</li><li>'PCSTRESN'</li><li>'PCSTRESU'</li><li>'PCNAM'</li><li>'PCSPEC'</li><li>'PCLLOQ'</li><li>'VISIT'</li><li>'VISITNUM'</li><li>'PCDTC'</li><li>'PCDY'</li><li>'PCTPT'</li><li>'PCTPTNUM'</li><li>'TRTSDT'</li><li>'TRTSDTM'</li><li>'TRT01P'</li><li>'TRT01A'</li><li>'ADTM'</li><li>'ATMF'</li><li>'ADT'</li><li>'ATM'</li><li>'ADY'</li><li>'FANLDTM'</li><li>'AVISITN'</li><li>'AVISIT'</li><li>'ADTM_prev'</li><li>'EXDOSE_prev'</li><li>'AVISIT_prev'</li><li>'AENDTM_prev'</li><li>'ADTM_next'</li><li>'EXDOSE_next'</li><li>'AVISIT_next'</li><li>'AENDTM_next'</li></ol>\n"
      ],
      "text/latex": [
       "\\begin{enumerate*}\n",
       "\\item 'STUDYID'\n",
       "\\item 'DOMAIN'\n",
       "\\item 'USUBJID'\n",
       "\\item 'EVID'\n",
       "\\item 'DRUG'\n",
       "\\item 'NFRLT'\n",
       "\\item 'PCSEQ'\n",
       "\\item 'PCTESTCD'\n",
       "\\item 'PCTEST'\n",
       "\\item 'PCORRES'\n",
       "\\item 'PCORRESU'\n",
       "\\item 'PCSTRESC'\n",
       "\\item 'PCSTRESN'\n",
       "\\item 'PCSTRESU'\n",
       "\\item 'PCNAM'\n",
       "\\item 'PCSPEC'\n",
       "\\item 'PCLLOQ'\n",
       "\\item 'VISIT'\n",
       "\\item 'VISITNUM'\n",
       "\\item 'PCDTC'\n",
       "\\item 'PCDY'\n",
       "\\item 'PCTPT'\n",
       "\\item 'PCTPTNUM'\n",
       "\\item 'TRTSDT'\n",
       "\\item 'TRTSDTM'\n",
       "\\item 'TRT01P'\n",
       "\\item 'TRT01A'\n",
       "\\item 'ADTM'\n",
       "\\item 'ATMF'\n",
       "\\item 'ADT'\n",
       "\\item 'ATM'\n",
       "\\item 'ADY'\n",
       "\\item 'FANLDTM'\n",
       "\\item 'AVISITN'\n",
       "\\item 'AVISIT'\n",
       "\\item 'ADTM\\_prev'\n",
       "\\item 'EXDOSE\\_prev'\n",
       "\\item 'AVISIT\\_prev'\n",
       "\\item 'AENDTM\\_prev'\n",
       "\\item 'ADTM\\_next'\n",
       "\\item 'EXDOSE\\_next'\n",
       "\\item 'AVISIT\\_next'\n",
       "\\item 'AENDTM\\_next'\n",
       "\\end{enumerate*}\n"
      ],
      "text/markdown": [
       "1. 'STUDYID'\n",
       "2. 'DOMAIN'\n",
       "3. 'USUBJID'\n",
       "4. 'EVID'\n",
       "5. 'DRUG'\n",
       "6. 'NFRLT'\n",
       "7. 'PCSEQ'\n",
       "8. 'PCTESTCD'\n",
       "9. 'PCTEST'\n",
       "10. 'PCORRES'\n",
       "11. 'PCORRESU'\n",
       "12. 'PCSTRESC'\n",
       "13. 'PCSTRESN'\n",
       "14. 'PCSTRESU'\n",
       "15. 'PCNAM'\n",
       "16. 'PCSPEC'\n",
       "17. 'PCLLOQ'\n",
       "18. 'VISIT'\n",
       "19. 'VISITNUM'\n",
       "20. 'PCDTC'\n",
       "21. 'PCDY'\n",
       "22. 'PCTPT'\n",
       "23. 'PCTPTNUM'\n",
       "24. 'TRTSDT'\n",
       "25. 'TRTSDTM'\n",
       "26. 'TRT01P'\n",
       "27. 'TRT01A'\n",
       "28. 'ADTM'\n",
       "29. 'ATMF'\n",
       "30. 'ADT'\n",
       "31. 'ATM'\n",
       "32. 'ADY'\n",
       "33. 'FANLDTM'\n",
       "34. 'AVISITN'\n",
       "35. 'AVISIT'\n",
       "36. 'ADTM_prev'\n",
       "37. 'EXDOSE_prev'\n",
       "38. 'AVISIT_prev'\n",
       "39. 'AENDTM_prev'\n",
       "40. 'ADTM_next'\n",
       "41. 'EXDOSE_next'\n",
       "42. 'AVISIT_next'\n",
       "43. 'AENDTM_next'\n",
       "\n",
       "\n"
      ],
      "text/plain": [
       " [1] \"STUDYID\"     \"DOMAIN\"      \"USUBJID\"     \"EVID\"        \"DRUG\"       \n",
       " [6] \"NFRLT\"       \"PCSEQ\"       \"PCTESTCD\"    \"PCTEST\"      \"PCORRES\"    \n",
       "[11] \"PCORRESU\"    \"PCSTRESC\"    \"PCSTRESN\"    \"PCSTRESU\"    \"PCNAM\"      \n",
       "[16] \"PCSPEC\"      \"PCLLOQ\"      \"VISIT\"       \"VISITNUM\"    \"PCDTC\"      \n",
       "[21] \"PCDY\"        \"PCTPT\"       \"PCTPTNUM\"    \"TRTSDT\"      \"TRTSDTM\"    \n",
       "[26] \"TRT01P\"      \"TRT01A\"      \"ADTM\"        \"ATMF\"        \"ADT\"        \n",
       "[31] \"ATM\"         \"ADY\"         \"FANLDTM\"     \"AVISITN\"     \"AVISIT\"     \n",
       "[36] \"ADTM_prev\"   \"EXDOSE_prev\" \"AVISIT_prev\" \"AENDTM_prev\" \"ADTM_next\"  \n",
       "[41] \"EXDOSE_next\" \"AVISIT_next\" \"AENDTM_next\""
      ]
     },
     "metadata": {},
     "output_type": "display_data"
    }
   ],
   "source": [
    "colnames(adpc_next)"
   ]
  },
  {
   "cell_type": "markdown",
   "id": "36e7998b",
   "metadata": {},
   "source": [
    "### Find Previous and Next Nominal Dose\n"
   ]
  },
  {
   "cell_type": "markdown",
   "id": "c0ccf88c",
   "metadata": {},
   "source": [
    "Use the same method to find the previous and next nominal times.\n"
   ]
  },
  {
   "cell_type": "code",
   "execution_count": 37,
   "id": "253e2a38",
   "metadata": {
    "language": "{r",
    "vscode": {
     "languageId": "r"
    }
   },
   "outputs": [],
   "source": [
    "#| label: Previous Nominal Dose\n",
    "\n",
    "adpc_nom_prev <- adpc_next %>%\n",
    "  derive_vars_joined(\n",
    "    dataset_add = ex_exp,\n",
    "    by_vars = exprs(USUBJID),\n",
    "    order = exprs(NFRLT),\n",
    "    new_vars = exprs(NFRLT_prev = NFRLT),\n",
    "    join_vars = exprs(NFRLT),\n",
    "    join_type = \"all\",\n",
    "    filter_add = NULL,\n",
    "    filter_join = NFRLT > NFRLT.join,\n",
    "    mode = \"last\",\n",
    "    check_type = \"none\"\n",
    "  )\n",
    "\n",
    "adpc_nom_next <- adpc_nom_prev %>%\n",
    "  derive_vars_joined(\n",
    "    dataset_add = ex_exp,\n",
    "    by_vars = exprs(USUBJID),\n",
    "    order = exprs(NFRLT),\n",
    "    new_vars = exprs(NFRLT_next = NFRLT),\n",
    "    join_vars = exprs(NFRLT),\n",
    "    join_type = \"all\",\n",
    "    filter_add = NULL,\n",
    "    filter_join = NFRLT <= NFRLT.join,\n",
    "    mode = \"first\",\n",
    "    check_type = \"none\"\n",
    "  )\n"
   ]
  },
  {
   "cell_type": "code",
   "execution_count": 38,
   "id": "6e578284",
   "metadata": {
    "vscode": {
     "languageId": "r"
    }
   },
   "outputs": [
    {
     "data": {
      "text/html": [
       "<table class=\"dataframe\">\n",
       "<caption>A tibble: 3 x 44</caption>\n",
       "<thead>\n",
       "\t<tr><th scope=col>STUDYID</th><th scope=col>DOMAIN</th><th scope=col>USUBJID</th><th scope=col>EVID</th><th scope=col>DRUG</th><th scope=col>NFRLT</th><th scope=col>PCSEQ</th><th scope=col>PCTESTCD</th><th scope=col>PCTEST</th><th scope=col>PCORRES</th><th scope=col>...</th><th scope=col>AVISIT</th><th scope=col>ADTM_prev</th><th scope=col>EXDOSE_prev</th><th scope=col>AVISIT_prev</th><th scope=col>AENDTM_prev</th><th scope=col>ADTM_next</th><th scope=col>EXDOSE_next</th><th scope=col>AVISIT_next</th><th scope=col>AENDTM_next</th><th scope=col>NFRLT_prev</th></tr>\n",
       "\t<tr><th scope=col>&lt;chr&gt;</th><th scope=col>&lt;chr&gt;</th><th scope=col>&lt;chr&gt;</th><th scope=col>&lt;dbl&gt;</th><th scope=col>&lt;chr&gt;</th><th scope=col>&lt;dbl&gt;</th><th scope=col>&lt;int&gt;</th><th scope=col>&lt;chr&gt;</th><th scope=col>&lt;chr&gt;</th><th scope=col>&lt;chr&gt;</th><th scope=col>...</th><th scope=col>&lt;chr&gt;</th><th scope=col>&lt;dttm&gt;</th><th scope=col>&lt;dbl&gt;</th><th scope=col>&lt;chr&gt;</th><th scope=col>&lt;dttm&gt;</th><th scope=col>&lt;dttm&gt;</th><th scope=col>&lt;dbl&gt;</th><th scope=col>&lt;chr&gt;</th><th scope=col>&lt;dttm&gt;</th><th scope=col>&lt;dbl&gt;</th></tr>\n",
       "</thead>\n",
       "<tbody>\n",
       "\t<tr><td>CDISCPILOT01</td><td>PC</td><td>01-701-1028</td><td>0</td><td>XANOMELINE</td><td>0.00</td><td>1</td><td>XAN</td><td>XANOMELINE</td><td><span style=white-space:pre-wrap>&lt;BLQ             </span></td><td>...</td><td>Day 1</td><td>NA</td><td>NA</td><td><span style=white-space:pre-wrap>NA   </span></td><td>NA</td><td>2013-07-19</td><td>54</td><td>Day 1</td><td>2013-07-19</td><td>NA</td></tr>\n",
       "\t<tr><td>CDISCPILOT01</td><td>PC</td><td>01-701-1028</td><td>0</td><td>XANOMELINE</td><td>0.08</td><td>2</td><td>XAN</td><td>XANOMELINE</td><td>0.101566224882241</td><td>...</td><td>Day 1</td><td>2013-07-19</td><td>54</td><td>Day 1</td><td>2013-07-19</td><td>2013-07-20</td><td>54</td><td>Day 2</td><td>2013-07-20</td><td> 0</td></tr>\n",
       "\t<tr><td>CDISCPILOT01</td><td>PC</td><td>01-701-1028</td><td>0</td><td>XANOMELINE</td><td>0.50</td><td>3</td><td>XAN</td><td>XANOMELINE</td><td>0.546901773708848</td><td>...</td><td>Day 1</td><td>2013-07-19</td><td>54</td><td>Day 1</td><td>2013-07-19</td><td>2013-07-20</td><td>54</td><td>Day 2</td><td>2013-07-20</td><td> 0</td></tr>\n",
       "</tbody>\n",
       "</table>\n"
      ],
      "text/latex": [
       "A tibble: 3 x 44\n",
       "\\begin{tabular}{lllllllllllllllllllll}\n",
       " STUDYID & DOMAIN & USUBJID & EVID & DRUG & NFRLT & PCSEQ & PCTESTCD & PCTEST & PCORRES & ... & AVISIT & ADTM\\_prev & EXDOSE\\_prev & AVISIT\\_prev & AENDTM\\_prev & ADTM\\_next & EXDOSE\\_next & AVISIT\\_next & AENDTM\\_next & NFRLT\\_prev\\\\\n",
       " <chr> & <chr> & <chr> & <dbl> & <chr> & <dbl> & <int> & <chr> & <chr> & <chr> & ... & <chr> & <dttm> & <dbl> & <chr> & <dttm> & <dttm> & <dbl> & <chr> & <dttm> & <dbl>\\\\\n",
       "\\hline\n",
       "\t CDISCPILOT01 & PC & 01-701-1028 & 0 & XANOMELINE & 0.00 & 1 & XAN & XANOMELINE & <BLQ              & ... & Day 1 & NA & NA & NA    & NA & 2013-07-19 & 54 & Day 1 & 2013-07-19 & NA\\\\\n",
       "\t CDISCPILOT01 & PC & 01-701-1028 & 0 & XANOMELINE & 0.08 & 2 & XAN & XANOMELINE & 0.101566224882241 & ... & Day 1 & 2013-07-19 & 54 & Day 1 & 2013-07-19 & 2013-07-20 & 54 & Day 2 & 2013-07-20 &  0\\\\\n",
       "\t CDISCPILOT01 & PC & 01-701-1028 & 0 & XANOMELINE & 0.50 & 3 & XAN & XANOMELINE & 0.546901773708848 & ... & Day 1 & 2013-07-19 & 54 & Day 1 & 2013-07-19 & 2013-07-20 & 54 & Day 2 & 2013-07-20 &  0\\\\\n",
       "\\end{tabular}\n"
      ],
      "text/markdown": [
       "\n",
       "A tibble: 3 x 44\n",
       "\n",
       "| STUDYID &lt;chr&gt; | DOMAIN &lt;chr&gt; | USUBJID &lt;chr&gt; | EVID &lt;dbl&gt; | DRUG &lt;chr&gt; | NFRLT &lt;dbl&gt; | PCSEQ &lt;int&gt; | PCTESTCD &lt;chr&gt; | PCTEST &lt;chr&gt; | PCORRES &lt;chr&gt; | ... ... | AVISIT &lt;chr&gt; | ADTM_prev &lt;dttm&gt; | EXDOSE_prev &lt;dbl&gt; | AVISIT_prev &lt;chr&gt; | AENDTM_prev &lt;dttm&gt; | ADTM_next &lt;dttm&gt; | EXDOSE_next &lt;dbl&gt; | AVISIT_next &lt;chr&gt; | AENDTM_next &lt;dttm&gt; | NFRLT_prev &lt;dbl&gt; |\n",
       "|---|---|---|---|---|---|---|---|---|---|---|---|---|---|---|---|---|---|---|---|---|\n",
       "| CDISCPILOT01 | PC | 01-701-1028 | 0 | XANOMELINE | 0.00 | 1 | XAN | XANOMELINE | &lt;BLQ              | ... | Day 1 | NA | NA | NA    | NA | 2013-07-19 | 54 | Day 1 | 2013-07-19 | NA |\n",
       "| CDISCPILOT01 | PC | 01-701-1028 | 0 | XANOMELINE | 0.08 | 2 | XAN | XANOMELINE | 0.101566224882241 | ... | Day 1 | 2013-07-19 | 54 | Day 1 | 2013-07-19 | 2013-07-20 | 54 | Day 2 | 2013-07-20 |  0 |\n",
       "| CDISCPILOT01 | PC | 01-701-1028 | 0 | XANOMELINE | 0.50 | 3 | XAN | XANOMELINE | 0.546901773708848 | ... | Day 1 | 2013-07-19 | 54 | Day 1 | 2013-07-19 | 2013-07-20 | 54 | Day 2 | 2013-07-20 |  0 |\n",
       "\n"
      ],
      "text/plain": [
       "  STUDYID      DOMAIN USUBJID     EVID DRUG       NFRLT PCSEQ PCTESTCD\n",
       "1 CDISCPILOT01 PC     01-701-1028 0    XANOMELINE 0.00  1     XAN     \n",
       "2 CDISCPILOT01 PC     01-701-1028 0    XANOMELINE 0.08  2     XAN     \n",
       "3 CDISCPILOT01 PC     01-701-1028 0    XANOMELINE 0.50  3     XAN     \n",
       "  PCTEST     PCORRES           ... AVISIT ADTM_prev  EXDOSE_prev AVISIT_prev\n",
       "1 XANOMELINE <BLQ              ... Day 1  <NA>       NA          NA         \n",
       "2 XANOMELINE 0.101566224882241 ... Day 1  2013-07-19 54          Day 1      \n",
       "3 XANOMELINE 0.546901773708848 ... Day 1  2013-07-19 54          Day 1      \n",
       "  AENDTM_prev ADTM_next  EXDOSE_next AVISIT_next AENDTM_next NFRLT_prev\n",
       "1 <NA>        2013-07-19 54          Day 1       2013-07-19  NA        \n",
       "2 2013-07-19  2013-07-20 54          Day 2       2013-07-20   0        \n",
       "3 2013-07-19  2013-07-20 54          Day 2       2013-07-20   0        "
      ]
     },
     "metadata": {},
     "output_type": "display_data"
    }
   ],
   "source": [
    "head(adpc_nom_prev,3)"
   ]
  },
  {
   "cell_type": "code",
   "execution_count": 39,
   "id": "ba1b6cf2",
   "metadata": {
    "vscode": {
     "languageId": "r"
    }
   },
   "outputs": [
    {
     "data": {
      "text/html": [
       "<table class=\"dataframe\">\n",
       "<caption>A tibble: 3 x 45</caption>\n",
       "<thead>\n",
       "\t<tr><th scope=col>STUDYID</th><th scope=col>DOMAIN</th><th scope=col>USUBJID</th><th scope=col>EVID</th><th scope=col>DRUG</th><th scope=col>NFRLT</th><th scope=col>PCSEQ</th><th scope=col>PCTESTCD</th><th scope=col>PCTEST</th><th scope=col>PCORRES</th><th scope=col>...</th><th scope=col>ADTM_prev</th><th scope=col>EXDOSE_prev</th><th scope=col>AVISIT_prev</th><th scope=col>AENDTM_prev</th><th scope=col>ADTM_next</th><th scope=col>EXDOSE_next</th><th scope=col>AVISIT_next</th><th scope=col>AENDTM_next</th><th scope=col>NFRLT_prev</th><th scope=col>NFRLT_next</th></tr>\n",
       "\t<tr><th scope=col>&lt;chr&gt;</th><th scope=col>&lt;chr&gt;</th><th scope=col>&lt;chr&gt;</th><th scope=col>&lt;dbl&gt;</th><th scope=col>&lt;chr&gt;</th><th scope=col>&lt;dbl&gt;</th><th scope=col>&lt;int&gt;</th><th scope=col>&lt;chr&gt;</th><th scope=col>&lt;chr&gt;</th><th scope=col>&lt;chr&gt;</th><th scope=col>...</th><th scope=col>&lt;dttm&gt;</th><th scope=col>&lt;dbl&gt;</th><th scope=col>&lt;chr&gt;</th><th scope=col>&lt;dttm&gt;</th><th scope=col>&lt;dttm&gt;</th><th scope=col>&lt;dbl&gt;</th><th scope=col>&lt;chr&gt;</th><th scope=col>&lt;dttm&gt;</th><th scope=col>&lt;dbl&gt;</th><th scope=col>&lt;dbl&gt;</th></tr>\n",
       "</thead>\n",
       "<tbody>\n",
       "\t<tr><td>CDISCPILOT01</td><td>PC</td><td>01-701-1028</td><td>0</td><td>XANOMELINE</td><td>0.00</td><td>1</td><td>XAN</td><td>XANOMELINE</td><td><span style=white-space:pre-wrap>&lt;BLQ             </span></td><td>...</td><td>NA</td><td>NA</td><td><span style=white-space:pre-wrap>NA   </span></td><td>NA</td><td>2013-07-19</td><td>54</td><td>Day 1</td><td>2013-07-19</td><td>NA</td><td> 0</td></tr>\n",
       "\t<tr><td>CDISCPILOT01</td><td>PC</td><td>01-701-1028</td><td>0</td><td>XANOMELINE</td><td>0.08</td><td>2</td><td>XAN</td><td>XANOMELINE</td><td>0.101566224882241</td><td>...</td><td>2013-07-19</td><td>54</td><td>Day 1</td><td>2013-07-19</td><td>2013-07-20</td><td>54</td><td>Day 2</td><td>2013-07-20</td><td> 0</td><td>24</td></tr>\n",
       "\t<tr><td>CDISCPILOT01</td><td>PC</td><td>01-701-1028</td><td>0</td><td>XANOMELINE</td><td>0.50</td><td>3</td><td>XAN</td><td>XANOMELINE</td><td>0.546901773708848</td><td>...</td><td>2013-07-19</td><td>54</td><td>Day 1</td><td>2013-07-19</td><td>2013-07-20</td><td>54</td><td>Day 2</td><td>2013-07-20</td><td> 0</td><td>24</td></tr>\n",
       "</tbody>\n",
       "</table>\n"
      ],
      "text/latex": [
       "A tibble: 3 x 45\n",
       "\\begin{tabular}{lllllllllllllllllllll}\n",
       " STUDYID & DOMAIN & USUBJID & EVID & DRUG & NFRLT & PCSEQ & PCTESTCD & PCTEST & PCORRES & ... & ADTM\\_prev & EXDOSE\\_prev & AVISIT\\_prev & AENDTM\\_prev & ADTM\\_next & EXDOSE\\_next & AVISIT\\_next & AENDTM\\_next & NFRLT\\_prev & NFRLT\\_next\\\\\n",
       " <chr> & <chr> & <chr> & <dbl> & <chr> & <dbl> & <int> & <chr> & <chr> & <chr> & ... & <dttm> & <dbl> & <chr> & <dttm> & <dttm> & <dbl> & <chr> & <dttm> & <dbl> & <dbl>\\\\\n",
       "\\hline\n",
       "\t CDISCPILOT01 & PC & 01-701-1028 & 0 & XANOMELINE & 0.00 & 1 & XAN & XANOMELINE & <BLQ              & ... & NA & NA & NA    & NA & 2013-07-19 & 54 & Day 1 & 2013-07-19 & NA &  0\\\\\n",
       "\t CDISCPILOT01 & PC & 01-701-1028 & 0 & XANOMELINE & 0.08 & 2 & XAN & XANOMELINE & 0.101566224882241 & ... & 2013-07-19 & 54 & Day 1 & 2013-07-19 & 2013-07-20 & 54 & Day 2 & 2013-07-20 &  0 & 24\\\\\n",
       "\t CDISCPILOT01 & PC & 01-701-1028 & 0 & XANOMELINE & 0.50 & 3 & XAN & XANOMELINE & 0.546901773708848 & ... & 2013-07-19 & 54 & Day 1 & 2013-07-19 & 2013-07-20 & 54 & Day 2 & 2013-07-20 &  0 & 24\\\\\n",
       "\\end{tabular}\n"
      ],
      "text/markdown": [
       "\n",
       "A tibble: 3 x 45\n",
       "\n",
       "| STUDYID &lt;chr&gt; | DOMAIN &lt;chr&gt; | USUBJID &lt;chr&gt; | EVID &lt;dbl&gt; | DRUG &lt;chr&gt; | NFRLT &lt;dbl&gt; | PCSEQ &lt;int&gt; | PCTESTCD &lt;chr&gt; | PCTEST &lt;chr&gt; | PCORRES &lt;chr&gt; | ... ... | ADTM_prev &lt;dttm&gt; | EXDOSE_prev &lt;dbl&gt; | AVISIT_prev &lt;chr&gt; | AENDTM_prev &lt;dttm&gt; | ADTM_next &lt;dttm&gt; | EXDOSE_next &lt;dbl&gt; | AVISIT_next &lt;chr&gt; | AENDTM_next &lt;dttm&gt; | NFRLT_prev &lt;dbl&gt; | NFRLT_next &lt;dbl&gt; |\n",
       "|---|---|---|---|---|---|---|---|---|---|---|---|---|---|---|---|---|---|---|---|---|\n",
       "| CDISCPILOT01 | PC | 01-701-1028 | 0 | XANOMELINE | 0.00 | 1 | XAN | XANOMELINE | &lt;BLQ              | ... | NA | NA | NA    | NA | 2013-07-19 | 54 | Day 1 | 2013-07-19 | NA |  0 |\n",
       "| CDISCPILOT01 | PC | 01-701-1028 | 0 | XANOMELINE | 0.08 | 2 | XAN | XANOMELINE | 0.101566224882241 | ... | 2013-07-19 | 54 | Day 1 | 2013-07-19 | 2013-07-20 | 54 | Day 2 | 2013-07-20 |  0 | 24 |\n",
       "| CDISCPILOT01 | PC | 01-701-1028 | 0 | XANOMELINE | 0.50 | 3 | XAN | XANOMELINE | 0.546901773708848 | ... | 2013-07-19 | 54 | Day 1 | 2013-07-19 | 2013-07-20 | 54 | Day 2 | 2013-07-20 |  0 | 24 |\n",
       "\n"
      ],
      "text/plain": [
       "  STUDYID      DOMAIN USUBJID     EVID DRUG       NFRLT PCSEQ PCTESTCD\n",
       "1 CDISCPILOT01 PC     01-701-1028 0    XANOMELINE 0.00  1     XAN     \n",
       "2 CDISCPILOT01 PC     01-701-1028 0    XANOMELINE 0.08  2     XAN     \n",
       "3 CDISCPILOT01 PC     01-701-1028 0    XANOMELINE 0.50  3     XAN     \n",
       "  PCTEST     PCORRES           ... ADTM_prev  EXDOSE_prev AVISIT_prev\n",
       "1 XANOMELINE <BLQ              ... <NA>       NA          NA         \n",
       "2 XANOMELINE 0.101566224882241 ... 2013-07-19 54          Day 1      \n",
       "3 XANOMELINE 0.546901773708848 ... 2013-07-19 54          Day 1      \n",
       "  AENDTM_prev ADTM_next  EXDOSE_next AVISIT_next AENDTM_next NFRLT_prev\n",
       "1 <NA>        2013-07-19 54          Day 1       2013-07-19  NA        \n",
       "2 2013-07-19  2013-07-20 54          Day 2       2013-07-20   0        \n",
       "3 2013-07-19  2013-07-20 54          Day 2       2013-07-20   0        \n",
       "  NFRLT_next\n",
       "1  0        \n",
       "2 24        \n",
       "3 24        "
      ]
     },
     "metadata": {},
     "output_type": "display_data"
    }
   ],
   "source": [
    "head(adpc_nom_next,3)"
   ]
  },
  {
   "cell_type": "markdown",
   "id": "f830874e",
   "metadata": {},
   "source": [
    "### Combine PC and EX Data\n"
   ]
  },
  {
   "cell_type": "markdown",
   "id": "fc32fa98",
   "metadata": {},
   "source": [
    "Combine `PC` and `EX` records and derive the additional relative time variables.\n"
   ]
  },
  {
   "cell_type": "code",
   "execution_count": 41,
   "id": "9547cbc1",
   "metadata": {
    "language": "{r",
    "vscode": {
     "languageId": "r"
    }
   },
   "outputs": [],
   "source": [
    "#| label: Combine\n",
    "\n",
    "adpc_arrlt <- bind_rows(adpc_nom_next, ex_exp) %>%\n",
    "  group_by(USUBJID, DRUG) %>%\n",
    "  mutate(\n",
    "    FANLDTM = min(FANLDTM, na.rm = TRUE),\n",
    "    min_NFRLT = min(NFRLT_prev, na.rm = TRUE),\n",
    "    maxdate = max(ADT[EVID == 0], na.rm = TRUE), .after = USUBJID\n",
    "  ) %>%\n",
    "  arrange(USUBJID, ADTM) %>%\n",
    "  ungroup() %>%\n",
    "  filter(ADT <= maxdate) %>%\n",
    "  # Derive Actual Relative Time from First Dose (AFRLT)\n",
    "  derive_vars_duration(\n",
    "    new_var = AFRLT,\n",
    "    start_date = FANLDTM,\n",
    "    end_date = ADTM,\n",
    "    out_unit = \"hours\",\n",
    "    floor_in = FALSE,\n",
    "    add_one = FALSE\n",
    "  ) %>%\n",
    "  # Derive Actual Relative Time from Reference Dose (ARRLT)\n",
    "  derive_vars_duration(\n",
    "    new_var = ARRLT,\n",
    "    start_date = ADTM_prev,\n",
    "    end_date = ADTM,\n",
    "    out_unit = \"hours\",\n",
    "    floor_in = FALSE,\n",
    "    add_one = FALSE\n",
    "  ) %>%\n",
    "  # Derive Actual Relative Time from Next Dose (AXRLT not kept)\n",
    "  derive_vars_duration(\n",
    "    new_var = AXRLT,\n",
    "    start_date = ADTM_next,\n",
    "    end_date = ADTM,\n",
    "    out_unit = \"hours\",\n",
    "    floor_in = FALSE,\n",
    "    add_one = FALSE\n",
    "  ) %>%\n",
    "  mutate(\n",
    "    ARRLT = case_when(\n",
    "      EVID == 1 ~ 0,\n",
    "      is.na(ARRLT) ~ AXRLT,\n",
    "      TRUE ~ ARRLT\n",
    "    ),\n",
    "    # Derive Reference Dose Date\n",
    "    PCRFTDTM = case_when(\n",
    "      EVID == 1 ~ ADTM,\n",
    "      is.na(ADTM_prev) ~ ADTM_next,\n",
    "      TRUE ~ ADTM_prev\n",
    "    )\n",
    "  ) %>%\n",
    "  # Derive dates and times from datetimes\n",
    "  derive_vars_dtm_to_dt(exprs(FANLDTM)) %>%\n",
    "  derive_vars_dtm_to_tm(exprs(FANLDTM)) %>%\n",
    "  derive_vars_dtm_to_dt(exprs(PCRFTDTM)) %>%\n",
    "  derive_vars_dtm_to_tm(exprs(PCRFTDTM))\n"
   ]
  },
  {
   "cell_type": "code",
   "execution_count": 42,
   "id": "ae404768",
   "metadata": {
    "vscode": {
     "languageId": "r"
    }
   },
   "outputs": [
    {
     "data": {
      "text/html": [
       "<table class=\"dataframe\">\n",
       "<caption>A tibble: 3 x 68</caption>\n",
       "<thead>\n",
       "\t<tr><th scope=col>STUDYID</th><th scope=col>DOMAIN</th><th scope=col>USUBJID</th><th scope=col>min_NFRLT</th><th scope=col>maxdate</th><th scope=col>EVID</th><th scope=col>DRUG</th><th scope=col>NFRLT</th><th scope=col>PCSEQ</th><th scope=col>PCTESTCD</th><th scope=col>...</th><th scope=col>ASTTM</th><th scope=col>AENTM</th><th scope=col>AFRLT</th><th scope=col>ARRLT</th><th scope=col>AXRLT</th><th scope=col>PCRFTDTM</th><th scope=col>FANLDT</th><th scope=col>FANLTM</th><th scope=col>PCRFTDT</th><th scope=col>PCRFTTM</th></tr>\n",
       "\t<tr><th scope=col>&lt;chr&gt;</th><th scope=col>&lt;chr&gt;</th><th scope=col>&lt;chr&gt;</th><th scope=col>&lt;dbl&gt;</th><th scope=col>&lt;date&gt;</th><th scope=col>&lt;dbl&gt;</th><th scope=col>&lt;chr&gt;</th><th scope=col>&lt;dbl&gt;</th><th scope=col>&lt;int&gt;</th><th scope=col>&lt;chr&gt;</th><th scope=col>...</th><th scope=col>&lt;time&gt;</th><th scope=col>&lt;time&gt;</th><th scope=col>&lt;dbl&gt;</th><th scope=col>&lt;dbl&gt;</th><th scope=col>&lt;dbl&gt;</th><th scope=col>&lt;dttm&gt;</th><th scope=col>&lt;date&gt;</th><th scope=col>&lt;time&gt;</th><th scope=col>&lt;date&gt;</th><th scope=col>&lt;time&gt;</th></tr>\n",
       "</thead>\n",
       "<tbody>\n",
       "\t<tr><td>CDISCPILOT01</td><td>PC</td><td>01-701-1028</td><td>0</td><td>2013-07-21</td><td>0</td><td>XANOMELINE</td><td>0.00</td><td> 1</td><td>XAN</td><td>...</td><td>      NA</td><td>      NA</td><td>-0.50000000</td><td>-0.50000000</td><td> -0.50000</td><td>2013-07-19</td><td>2013-07-19</td><td>00:00:00</td><td>2013-07-19</td><td>00:00:00</td></tr>\n",
       "\t<tr><td>CDISCPILOT01</td><td>EX</td><td>01-701-1028</td><td>0</td><td>2013-07-21</td><td>1</td><td>XANOMELINE</td><td>0.00</td><td>NA</td><td>NA </td><td>...</td><td>00:00:00</td><td>00:00:00</td><td> 0.00000000</td><td> 0.00000000</td><td>       NA</td><td>2013-07-19</td><td>2013-07-19</td><td>00:00:00</td><td>2013-07-19</td><td>00:00:00</td></tr>\n",
       "\t<tr><td>CDISCPILOT01</td><td>PC</td><td>01-701-1028</td><td>0</td><td>2013-07-21</td><td>0</td><td>XANOMELINE</td><td>0.08</td><td> 2</td><td>XAN</td><td>...</td><td>      NA</td><td>      NA</td><td> 0.08333333</td><td> 0.08333333</td><td>-23.91667</td><td>2013-07-19</td><td>2013-07-19</td><td>00:00:00</td><td>2013-07-19</td><td>00:00:00</td></tr>\n",
       "</tbody>\n",
       "</table>\n"
      ],
      "text/latex": [
       "A tibble: 3 x 68\n",
       "\\begin{tabular}{lllllllllllllllllllll}\n",
       " STUDYID & DOMAIN & USUBJID & min\\_NFRLT & maxdate & EVID & DRUG & NFRLT & PCSEQ & PCTESTCD & ... & ASTTM & AENTM & AFRLT & ARRLT & AXRLT & PCRFTDTM & FANLDT & FANLTM & PCRFTDT & PCRFTTM\\\\\n",
       " <chr> & <chr> & <chr> & <dbl> & <date> & <dbl> & <chr> & <dbl> & <int> & <chr> & ... & <time> & <time> & <dbl> & <dbl> & <dbl> & <dttm> & <date> & <time> & <date> & <time>\\\\\n",
       "\\hline\n",
       "\t CDISCPILOT01 & PC & 01-701-1028 & 0 & 2013-07-21 & 0 & XANOMELINE & 0.00 &  1 & XAN & ... &       NA &       NA & -0.50000000 & -0.50000000 &  -0.50000 & 2013-07-19 & 2013-07-19 & 00:00:00 & 2013-07-19 & 00:00:00\\\\\n",
       "\t CDISCPILOT01 & EX & 01-701-1028 & 0 & 2013-07-21 & 1 & XANOMELINE & 0.00 & NA & NA  & ... & 00:00:00 & 00:00:00 &  0.00000000 &  0.00000000 &        NA & 2013-07-19 & 2013-07-19 & 00:00:00 & 2013-07-19 & 00:00:00\\\\\n",
       "\t CDISCPILOT01 & PC & 01-701-1028 & 0 & 2013-07-21 & 0 & XANOMELINE & 0.08 &  2 & XAN & ... &       NA &       NA &  0.08333333 &  0.08333333 & -23.91667 & 2013-07-19 & 2013-07-19 & 00:00:00 & 2013-07-19 & 00:00:00\\\\\n",
       "\\end{tabular}\n"
      ],
      "text/markdown": [
       "\n",
       "A tibble: 3 x 68\n",
       "\n",
       "| STUDYID &lt;chr&gt; | DOMAIN &lt;chr&gt; | USUBJID &lt;chr&gt; | min_NFRLT &lt;dbl&gt; | maxdate &lt;date&gt; | EVID &lt;dbl&gt; | DRUG &lt;chr&gt; | NFRLT &lt;dbl&gt; | PCSEQ &lt;int&gt; | PCTESTCD &lt;chr&gt; | ... ... | ASTTM &lt;time&gt; | AENTM &lt;time&gt; | AFRLT &lt;dbl&gt; | ARRLT &lt;dbl&gt; | AXRLT &lt;dbl&gt; | PCRFTDTM &lt;dttm&gt; | FANLDT &lt;date&gt; | FANLTM &lt;time&gt; | PCRFTDT &lt;date&gt; | PCRFTTM &lt;time&gt; |\n",
       "|---|---|---|---|---|---|---|---|---|---|---|---|---|---|---|---|---|---|---|---|---|\n",
       "| CDISCPILOT01 | PC | 01-701-1028 | 0 | 2013-07-21 | 0 | XANOMELINE | 0.00 |  1 | XAN | ... |       NA |       NA | -0.50000000 | -0.50000000 |  -0.50000 | 2013-07-19 | 2013-07-19 | 00:00:00 | 2013-07-19 | 00:00:00 |\n",
       "| CDISCPILOT01 | EX | 01-701-1028 | 0 | 2013-07-21 | 1 | XANOMELINE | 0.00 | NA | NA  | ... | 00:00:00 | 00:00:00 |  0.00000000 |  0.00000000 |        NA | 2013-07-19 | 2013-07-19 | 00:00:00 | 2013-07-19 | 00:00:00 |\n",
       "| CDISCPILOT01 | PC | 01-701-1028 | 0 | 2013-07-21 | 0 | XANOMELINE | 0.08 |  2 | XAN | ... |       NA |       NA |  0.08333333 |  0.08333333 | -23.91667 | 2013-07-19 | 2013-07-19 | 00:00:00 | 2013-07-19 | 00:00:00 |\n",
       "\n"
      ],
      "text/plain": [
       "  STUDYID      DOMAIN USUBJID     min_NFRLT maxdate    EVID DRUG       NFRLT\n",
       "1 CDISCPILOT01 PC     01-701-1028 0         2013-07-21 0    XANOMELINE 0.00 \n",
       "2 CDISCPILOT01 EX     01-701-1028 0         2013-07-21 1    XANOMELINE 0.00 \n",
       "3 CDISCPILOT01 PC     01-701-1028 0         2013-07-21 0    XANOMELINE 0.08 \n",
       "  PCSEQ PCTESTCD ... ASTTM    AENTM    AFRLT       ARRLT       AXRLT    \n",
       "1  1    XAN      ...       NA       NA -0.50000000 -0.50000000  -0.50000\n",
       "2 NA    NA       ... 00:00:00 00:00:00  0.00000000  0.00000000        NA\n",
       "3  2    XAN      ...       NA       NA  0.08333333  0.08333333 -23.91667\n",
       "  PCRFTDTM   FANLDT     FANLTM   PCRFTDT    PCRFTTM \n",
       "1 2013-07-19 2013-07-19 00:00:00 2013-07-19 00:00:00\n",
       "2 2013-07-19 2013-07-19 00:00:00 2013-07-19 00:00:00\n",
       "3 2013-07-19 2013-07-19 00:00:00 2013-07-19 00:00:00"
      ]
     },
     "metadata": {},
     "output_type": "display_data"
    }
   ],
   "source": [
    "head(adpc_arrlt, 3)"
   ]
  },
  {
   "cell_type": "code",
   "execution_count": 43,
   "id": "a1622e9c",
   "metadata": {
    "vscode": {
     "languageId": "r"
    }
   },
   "outputs": [
    {
     "data": {
      "text/html": [
       "<style>\n",
       ".list-inline {list-style: none; margin:0; padding: 0}\n",
       ".list-inline>li {display: inline-block}\n",
       ".list-inline>li:not(:last-child)::after {content: \"\\00b7\"; padding: 0 .5ex}\n",
       "</style>\n",
       "<ol class=list-inline><li>'STUDYID'</li><li>'DOMAIN'</li><li>'USUBJID'</li><li>'min_NFRLT'</li><li>'maxdate'</li><li>'EVID'</li><li>'DRUG'</li><li>'NFRLT'</li><li>'PCSEQ'</li><li>'PCTESTCD'</li><li>'PCTEST'</li><li>'PCORRES'</li><li>'PCORRESU'</li><li>'PCSTRESC'</li><li>'PCSTRESN'</li><li>'PCSTRESU'</li><li>'PCNAM'</li><li>'PCSPEC'</li><li>'PCLLOQ'</li><li>'VISIT'</li><li>'VISITNUM'</li><li>'PCDTC'</li><li>'PCDY'</li><li>'PCTPT'</li><li>'PCTPTNUM'</li><li>'TRTSDT'</li><li>'TRTSDTM'</li><li>'TRT01P'</li><li>'TRT01A'</li><li>'ADTM'</li><li>'ATMF'</li><li>'ADT'</li><li>'ATM'</li><li>'ADY'</li><li>'FANLDTM'</li><li>'AVISITN'</li><li>'AVISIT'</li><li>'ADTM_prev'</li><li>'EXDOSE_prev'</li><li>'AVISIT_prev'</li><li>'AENDTM_prev'</li><li>'ADTM_next'</li><li>'EXDOSE_next'</li><li>'AVISIT_next'</li><li>'AENDTM_next'</li><li>'NFRLT_prev'</li><li>'NFRLT_next'</li><li>'EXDOSFRQ'</li><li>'EXDOSFRM'</li><li>'EXDOSE'</li><li>'EXDOSU'</li><li>'EXTRT'</li><li>'ASTDT'</li><li>'ASTDTM'</li><li>'AENDT'</li><li>'AENDTM'</li><li>'VISITDY'</li><li>'EXSEQ'</li><li>'ASTTM'</li><li>'AENTM'</li><li>'AFRLT'</li><li>'ARRLT'</li><li>'AXRLT'</li><li>'PCRFTDTM'</li><li>'FANLDT'</li><li>'FANLTM'</li><li>'PCRFTDT'</li><li>'PCRFTTM'</li></ol>\n"
      ],
      "text/latex": [
       "\\begin{enumerate*}\n",
       "\\item 'STUDYID'\n",
       "\\item 'DOMAIN'\n",
       "\\item 'USUBJID'\n",
       "\\item 'min\\_NFRLT'\n",
       "\\item 'maxdate'\n",
       "\\item 'EVID'\n",
       "\\item 'DRUG'\n",
       "\\item 'NFRLT'\n",
       "\\item 'PCSEQ'\n",
       "\\item 'PCTESTCD'\n",
       "\\item 'PCTEST'\n",
       "\\item 'PCORRES'\n",
       "\\item 'PCORRESU'\n",
       "\\item 'PCSTRESC'\n",
       "\\item 'PCSTRESN'\n",
       "\\item 'PCSTRESU'\n",
       "\\item 'PCNAM'\n",
       "\\item 'PCSPEC'\n",
       "\\item 'PCLLOQ'\n",
       "\\item 'VISIT'\n",
       "\\item 'VISITNUM'\n",
       "\\item 'PCDTC'\n",
       "\\item 'PCDY'\n",
       "\\item 'PCTPT'\n",
       "\\item 'PCTPTNUM'\n",
       "\\item 'TRTSDT'\n",
       "\\item 'TRTSDTM'\n",
       "\\item 'TRT01P'\n",
       "\\item 'TRT01A'\n",
       "\\item 'ADTM'\n",
       "\\item 'ATMF'\n",
       "\\item 'ADT'\n",
       "\\item 'ATM'\n",
       "\\item 'ADY'\n",
       "\\item 'FANLDTM'\n",
       "\\item 'AVISITN'\n",
       "\\item 'AVISIT'\n",
       "\\item 'ADTM\\_prev'\n",
       "\\item 'EXDOSE\\_prev'\n",
       "\\item 'AVISIT\\_prev'\n",
       "\\item 'AENDTM\\_prev'\n",
       "\\item 'ADTM\\_next'\n",
       "\\item 'EXDOSE\\_next'\n",
       "\\item 'AVISIT\\_next'\n",
       "\\item 'AENDTM\\_next'\n",
       "\\item 'NFRLT\\_prev'\n",
       "\\item 'NFRLT\\_next'\n",
       "\\item 'EXDOSFRQ'\n",
       "\\item 'EXDOSFRM'\n",
       "\\item 'EXDOSE'\n",
       "\\item 'EXDOSU'\n",
       "\\item 'EXTRT'\n",
       "\\item 'ASTDT'\n",
       "\\item 'ASTDTM'\n",
       "\\item 'AENDT'\n",
       "\\item 'AENDTM'\n",
       "\\item 'VISITDY'\n",
       "\\item 'EXSEQ'\n",
       "\\item 'ASTTM'\n",
       "\\item 'AENTM'\n",
       "\\item 'AFRLT'\n",
       "\\item 'ARRLT'\n",
       "\\item 'AXRLT'\n",
       "\\item 'PCRFTDTM'\n",
       "\\item 'FANLDT'\n",
       "\\item 'FANLTM'\n",
       "\\item 'PCRFTDT'\n",
       "\\item 'PCRFTTM'\n",
       "\\end{enumerate*}\n"
      ],
      "text/markdown": [
       "1. 'STUDYID'\n",
       "2. 'DOMAIN'\n",
       "3. 'USUBJID'\n",
       "4. 'min_NFRLT'\n",
       "5. 'maxdate'\n",
       "6. 'EVID'\n",
       "7. 'DRUG'\n",
       "8. 'NFRLT'\n",
       "9. 'PCSEQ'\n",
       "10. 'PCTESTCD'\n",
       "11. 'PCTEST'\n",
       "12. 'PCORRES'\n",
       "13. 'PCORRESU'\n",
       "14. 'PCSTRESC'\n",
       "15. 'PCSTRESN'\n",
       "16. 'PCSTRESU'\n",
       "17. 'PCNAM'\n",
       "18. 'PCSPEC'\n",
       "19. 'PCLLOQ'\n",
       "20. 'VISIT'\n",
       "21. 'VISITNUM'\n",
       "22. 'PCDTC'\n",
       "23. 'PCDY'\n",
       "24. 'PCTPT'\n",
       "25. 'PCTPTNUM'\n",
       "26. 'TRTSDT'\n",
       "27. 'TRTSDTM'\n",
       "28. 'TRT01P'\n",
       "29. 'TRT01A'\n",
       "30. 'ADTM'\n",
       "31. 'ATMF'\n",
       "32. 'ADT'\n",
       "33. 'ATM'\n",
       "34. 'ADY'\n",
       "35. 'FANLDTM'\n",
       "36. 'AVISITN'\n",
       "37. 'AVISIT'\n",
       "38. 'ADTM_prev'\n",
       "39. 'EXDOSE_prev'\n",
       "40. 'AVISIT_prev'\n",
       "41. 'AENDTM_prev'\n",
       "42. 'ADTM_next'\n",
       "43. 'EXDOSE_next'\n",
       "44. 'AVISIT_next'\n",
       "45. 'AENDTM_next'\n",
       "46. 'NFRLT_prev'\n",
       "47. 'NFRLT_next'\n",
       "48. 'EXDOSFRQ'\n",
       "49. 'EXDOSFRM'\n",
       "50. 'EXDOSE'\n",
       "51. 'EXDOSU'\n",
       "52. 'EXTRT'\n",
       "53. 'ASTDT'\n",
       "54. 'ASTDTM'\n",
       "55. 'AENDT'\n",
       "56. 'AENDTM'\n",
       "57. 'VISITDY'\n",
       "58. 'EXSEQ'\n",
       "59. 'ASTTM'\n",
       "60. 'AENTM'\n",
       "61. 'AFRLT'\n",
       "62. 'ARRLT'\n",
       "63. 'AXRLT'\n",
       "64. 'PCRFTDTM'\n",
       "65. 'FANLDT'\n",
       "66. 'FANLTM'\n",
       "67. 'PCRFTDT'\n",
       "68. 'PCRFTTM'\n",
       "\n",
       "\n"
      ],
      "text/plain": [
       " [1] \"STUDYID\"     \"DOMAIN\"      \"USUBJID\"     \"min_NFRLT\"   \"maxdate\"    \n",
       " [6] \"EVID\"        \"DRUG\"        \"NFRLT\"       \"PCSEQ\"       \"PCTESTCD\"   \n",
       "[11] \"PCTEST\"      \"PCORRES\"     \"PCORRESU\"    \"PCSTRESC\"    \"PCSTRESN\"   \n",
       "[16] \"PCSTRESU\"    \"PCNAM\"       \"PCSPEC\"      \"PCLLOQ\"      \"VISIT\"      \n",
       "[21] \"VISITNUM\"    \"PCDTC\"       \"PCDY\"        \"PCTPT\"       \"PCTPTNUM\"   \n",
       "[26] \"TRTSDT\"      \"TRTSDTM\"     \"TRT01P\"      \"TRT01A\"      \"ADTM\"       \n",
       "[31] \"ATMF\"        \"ADT\"         \"ATM\"         \"ADY\"         \"FANLDTM\"    \n",
       "[36] \"AVISITN\"     \"AVISIT\"      \"ADTM_prev\"   \"EXDOSE_prev\" \"AVISIT_prev\"\n",
       "[41] \"AENDTM_prev\" \"ADTM_next\"   \"EXDOSE_next\" \"AVISIT_next\" \"AENDTM_next\"\n",
       "[46] \"NFRLT_prev\"  \"NFRLT_next\"  \"EXDOSFRQ\"    \"EXDOSFRM\"    \"EXDOSE\"     \n",
       "[51] \"EXDOSU\"      \"EXTRT\"       \"ASTDT\"       \"ASTDTM\"      \"AENDT\"      \n",
       "[56] \"AENDTM\"      \"VISITDY\"     \"EXSEQ\"       \"ASTTM\"       \"AENTM\"      \n",
       "[61] \"AFRLT\"       \"ARRLT\"       \"AXRLT\"       \"PCRFTDTM\"    \"FANLDT\"     \n",
       "[66] \"FANLTM\"      \"PCRFTDT\"     \"PCRFTTM\"    "
      ]
     },
     "metadata": {},
     "output_type": "display_data"
    }
   ],
   "source": [
    "colnames(adpc_arrlt)"
   ]
  },
  {
   "cell_type": "markdown",
   "id": "2c8f1e45",
   "metadata": {},
   "source": [
    "### Derive Nominal Reference\n"
   ]
  },
  {
   "cell_type": "markdown",
   "id": "d87314e1",
   "metadata": {},
   "source": [
    "For nominal relative times we calculate the nominal relative time to reference dose `NRRLT`.\n"
   ]
  },
  {
   "cell_type": "code",
   "execution_count": 45,
   "id": "c6610cba",
   "metadata": {
    "language": "{r",
    "vscode": {
     "languageId": "r"
    }
   },
   "outputs": [],
   "source": [
    "#| label: Nominal Reference\n",
    "\n",
    "# Derive Nominal Relative Time from Reference Dose (NRRLT)\n",
    "\n",
    "adpc_nrrlt <- adpc_arrlt %>%\n",
    "  mutate(\n",
    "    NRRLT = case_when(\n",
    "      EVID == 1 ~ 0,\n",
    "      is.na(NFRLT_prev) ~ NFRLT - min_NFRLT,\n",
    "      TRUE ~ NFRLT - NFRLT_prev\n",
    "    ),\n",
    "    NXRLT = case_when(\n",
    "      EVID == 1 ~ 0,\n",
    "      TRUE ~ NFRLT - NFRLT_next\n",
    "    )\n",
    "  )\n"
   ]
  },
  {
   "cell_type": "code",
   "execution_count": 46,
   "id": "d7a1b626",
   "metadata": {
    "vscode": {
     "languageId": "r"
    }
   },
   "outputs": [
    {
     "data": {
      "text/html": [
       "<table class=\"dataframe\">\n",
       "<caption>A tibble: 3 x 70</caption>\n",
       "<thead>\n",
       "\t<tr><th scope=col>STUDYID</th><th scope=col>DOMAIN</th><th scope=col>USUBJID</th><th scope=col>min_NFRLT</th><th scope=col>maxdate</th><th scope=col>EVID</th><th scope=col>DRUG</th><th scope=col>NFRLT</th><th scope=col>PCSEQ</th><th scope=col>PCTESTCD</th><th scope=col>...</th><th scope=col>AFRLT</th><th scope=col>ARRLT</th><th scope=col>AXRLT</th><th scope=col>PCRFTDTM</th><th scope=col>FANLDT</th><th scope=col>FANLTM</th><th scope=col>PCRFTDT</th><th scope=col>PCRFTTM</th><th scope=col>NRRLT</th><th scope=col>NXRLT</th></tr>\n",
       "\t<tr><th scope=col>&lt;chr&gt;</th><th scope=col>&lt;chr&gt;</th><th scope=col>&lt;chr&gt;</th><th scope=col>&lt;dbl&gt;</th><th scope=col>&lt;date&gt;</th><th scope=col>&lt;dbl&gt;</th><th scope=col>&lt;chr&gt;</th><th scope=col>&lt;dbl&gt;</th><th scope=col>&lt;int&gt;</th><th scope=col>&lt;chr&gt;</th><th scope=col>...</th><th scope=col>&lt;dbl&gt;</th><th scope=col>&lt;dbl&gt;</th><th scope=col>&lt;dbl&gt;</th><th scope=col>&lt;dttm&gt;</th><th scope=col>&lt;date&gt;</th><th scope=col>&lt;time&gt;</th><th scope=col>&lt;date&gt;</th><th scope=col>&lt;time&gt;</th><th scope=col>&lt;dbl&gt;</th><th scope=col>&lt;dbl&gt;</th></tr>\n",
       "</thead>\n",
       "<tbody>\n",
       "\t<tr><td>CDISCPILOT01</td><td>PC</td><td>01-701-1028</td><td>0</td><td>2013-07-21</td><td>0</td><td>XANOMELINE</td><td>0.00</td><td> 1</td><td>XAN</td><td>...</td><td>-0.50000000</td><td>-0.50000000</td><td> -0.50000</td><td>2013-07-19</td><td>2013-07-19</td><td>00:00:00</td><td>2013-07-19</td><td>00:00:00</td><td>0.00</td><td>  0.00</td></tr>\n",
       "\t<tr><td>CDISCPILOT01</td><td>EX</td><td>01-701-1028</td><td>0</td><td>2013-07-21</td><td>1</td><td>XANOMELINE</td><td>0.00</td><td>NA</td><td>NA </td><td>...</td><td> 0.00000000</td><td> 0.00000000</td><td>       NA</td><td>2013-07-19</td><td>2013-07-19</td><td>00:00:00</td><td>2013-07-19</td><td>00:00:00</td><td>0.00</td><td>  0.00</td></tr>\n",
       "\t<tr><td>CDISCPILOT01</td><td>PC</td><td>01-701-1028</td><td>0</td><td>2013-07-21</td><td>0</td><td>XANOMELINE</td><td>0.08</td><td> 2</td><td>XAN</td><td>...</td><td> 0.08333333</td><td> 0.08333333</td><td>-23.91667</td><td>2013-07-19</td><td>2013-07-19</td><td>00:00:00</td><td>2013-07-19</td><td>00:00:00</td><td>0.08</td><td>-23.92</td></tr>\n",
       "</tbody>\n",
       "</table>\n"
      ],
      "text/latex": [
       "A tibble: 3 x 70\n",
       "\\begin{tabular}{lllllllllllllllllllll}\n",
       " STUDYID & DOMAIN & USUBJID & min\\_NFRLT & maxdate & EVID & DRUG & NFRLT & PCSEQ & PCTESTCD & ... & AFRLT & ARRLT & AXRLT & PCRFTDTM & FANLDT & FANLTM & PCRFTDT & PCRFTTM & NRRLT & NXRLT\\\\\n",
       " <chr> & <chr> & <chr> & <dbl> & <date> & <dbl> & <chr> & <dbl> & <int> & <chr> & ... & <dbl> & <dbl> & <dbl> & <dttm> & <date> & <time> & <date> & <time> & <dbl> & <dbl>\\\\\n",
       "\\hline\n",
       "\t CDISCPILOT01 & PC & 01-701-1028 & 0 & 2013-07-21 & 0 & XANOMELINE & 0.00 &  1 & XAN & ... & -0.50000000 & -0.50000000 &  -0.50000 & 2013-07-19 & 2013-07-19 & 00:00:00 & 2013-07-19 & 00:00:00 & 0.00 &   0.00\\\\\n",
       "\t CDISCPILOT01 & EX & 01-701-1028 & 0 & 2013-07-21 & 1 & XANOMELINE & 0.00 & NA & NA  & ... &  0.00000000 &  0.00000000 &        NA & 2013-07-19 & 2013-07-19 & 00:00:00 & 2013-07-19 & 00:00:00 & 0.00 &   0.00\\\\\n",
       "\t CDISCPILOT01 & PC & 01-701-1028 & 0 & 2013-07-21 & 0 & XANOMELINE & 0.08 &  2 & XAN & ... &  0.08333333 &  0.08333333 & -23.91667 & 2013-07-19 & 2013-07-19 & 00:00:00 & 2013-07-19 & 00:00:00 & 0.08 & -23.92\\\\\n",
       "\\end{tabular}\n"
      ],
      "text/markdown": [
       "\n",
       "A tibble: 3 x 70\n",
       "\n",
       "| STUDYID &lt;chr&gt; | DOMAIN &lt;chr&gt; | USUBJID &lt;chr&gt; | min_NFRLT &lt;dbl&gt; | maxdate &lt;date&gt; | EVID &lt;dbl&gt; | DRUG &lt;chr&gt; | NFRLT &lt;dbl&gt; | PCSEQ &lt;int&gt; | PCTESTCD &lt;chr&gt; | ... ... | AFRLT &lt;dbl&gt; | ARRLT &lt;dbl&gt; | AXRLT &lt;dbl&gt; | PCRFTDTM &lt;dttm&gt; | FANLDT &lt;date&gt; | FANLTM &lt;time&gt; | PCRFTDT &lt;date&gt; | PCRFTTM &lt;time&gt; | NRRLT &lt;dbl&gt; | NXRLT &lt;dbl&gt; |\n",
       "|---|---|---|---|---|---|---|---|---|---|---|---|---|---|---|---|---|---|---|---|---|\n",
       "| CDISCPILOT01 | PC | 01-701-1028 | 0 | 2013-07-21 | 0 | XANOMELINE | 0.00 |  1 | XAN | ... | -0.50000000 | -0.50000000 |  -0.50000 | 2013-07-19 | 2013-07-19 | 00:00:00 | 2013-07-19 | 00:00:00 | 0.00 |   0.00 |\n",
       "| CDISCPILOT01 | EX | 01-701-1028 | 0 | 2013-07-21 | 1 | XANOMELINE | 0.00 | NA | NA  | ... |  0.00000000 |  0.00000000 |        NA | 2013-07-19 | 2013-07-19 | 00:00:00 | 2013-07-19 | 00:00:00 | 0.00 |   0.00 |\n",
       "| CDISCPILOT01 | PC | 01-701-1028 | 0 | 2013-07-21 | 0 | XANOMELINE | 0.08 |  2 | XAN | ... |  0.08333333 |  0.08333333 | -23.91667 | 2013-07-19 | 2013-07-19 | 00:00:00 | 2013-07-19 | 00:00:00 | 0.08 | -23.92 |\n",
       "\n"
      ],
      "text/plain": [
       "  STUDYID      DOMAIN USUBJID     min_NFRLT maxdate    EVID DRUG       NFRLT\n",
       "1 CDISCPILOT01 PC     01-701-1028 0         2013-07-21 0    XANOMELINE 0.00 \n",
       "2 CDISCPILOT01 EX     01-701-1028 0         2013-07-21 1    XANOMELINE 0.00 \n",
       "3 CDISCPILOT01 PC     01-701-1028 0         2013-07-21 0    XANOMELINE 0.08 \n",
       "  PCSEQ PCTESTCD ... AFRLT       ARRLT       AXRLT     PCRFTDTM   FANLDT    \n",
       "1  1    XAN      ... -0.50000000 -0.50000000  -0.50000 2013-07-19 2013-07-19\n",
       "2 NA    NA       ...  0.00000000  0.00000000        NA 2013-07-19 2013-07-19\n",
       "3  2    XAN      ...  0.08333333  0.08333333 -23.91667 2013-07-19 2013-07-19\n",
       "  FANLTM   PCRFTDT    PCRFTTM  NRRLT NXRLT \n",
       "1 00:00:00 2013-07-19 00:00:00 0.00    0.00\n",
       "2 00:00:00 2013-07-19 00:00:00 0.00    0.00\n",
       "3 00:00:00 2013-07-19 00:00:00 0.08  -23.92"
      ]
     },
     "metadata": {},
     "output_type": "display_data"
    }
   ],
   "source": [
    "head(adpc_nrrlt, 3)"
   ]
  },
  {
   "cell_type": "code",
   "execution_count": 47,
   "id": "1b9ee21e",
   "metadata": {
    "vscode": {
     "languageId": "r"
    }
   },
   "outputs": [
    {
     "data": {
      "text/html": [
       "<style>\n",
       ".list-inline {list-style: none; margin:0; padding: 0}\n",
       ".list-inline>li {display: inline-block}\n",
       ".list-inline>li:not(:last-child)::after {content: \"\\00b7\"; padding: 0 .5ex}\n",
       "</style>\n",
       "<ol class=list-inline><li>'STUDYID'</li><li>'DOMAIN'</li><li>'USUBJID'</li><li>'min_NFRLT'</li><li>'maxdate'</li><li>'EVID'</li><li>'DRUG'</li><li>'NFRLT'</li><li>'PCSEQ'</li><li>'PCTESTCD'</li><li>'PCTEST'</li><li>'PCORRES'</li><li>'PCORRESU'</li><li>'PCSTRESC'</li><li>'PCSTRESN'</li><li>'PCSTRESU'</li><li>'PCNAM'</li><li>'PCSPEC'</li><li>'PCLLOQ'</li><li>'VISIT'</li><li>'VISITNUM'</li><li>'PCDTC'</li><li>'PCDY'</li><li>'PCTPT'</li><li>'PCTPTNUM'</li><li>'TRTSDT'</li><li>'TRTSDTM'</li><li>'TRT01P'</li><li>'TRT01A'</li><li>'ADTM'</li><li>'ATMF'</li><li>'ADT'</li><li>'ATM'</li><li>'ADY'</li><li>'FANLDTM'</li><li>'AVISITN'</li><li>'AVISIT'</li><li>'ADTM_prev'</li><li>'EXDOSE_prev'</li><li>'AVISIT_prev'</li><li>'AENDTM_prev'</li><li>'ADTM_next'</li><li>'EXDOSE_next'</li><li>'AVISIT_next'</li><li>'AENDTM_next'</li><li>'NFRLT_prev'</li><li>'NFRLT_next'</li><li>'EXDOSFRQ'</li><li>'EXDOSFRM'</li><li>'EXDOSE'</li><li>'EXDOSU'</li><li>'EXTRT'</li><li>'ASTDT'</li><li>'ASTDTM'</li><li>'AENDT'</li><li>'AENDTM'</li><li>'VISITDY'</li><li>'EXSEQ'</li><li>'ASTTM'</li><li>'AENTM'</li><li>'AFRLT'</li><li>'ARRLT'</li><li>'AXRLT'</li><li>'PCRFTDTM'</li><li>'FANLDT'</li><li>'FANLTM'</li><li>'PCRFTDT'</li><li>'PCRFTTM'</li><li>'NRRLT'</li><li>'NXRLT'</li></ol>\n"
      ],
      "text/latex": [
       "\\begin{enumerate*}\n",
       "\\item 'STUDYID'\n",
       "\\item 'DOMAIN'\n",
       "\\item 'USUBJID'\n",
       "\\item 'min\\_NFRLT'\n",
       "\\item 'maxdate'\n",
       "\\item 'EVID'\n",
       "\\item 'DRUG'\n",
       "\\item 'NFRLT'\n",
       "\\item 'PCSEQ'\n",
       "\\item 'PCTESTCD'\n",
       "\\item 'PCTEST'\n",
       "\\item 'PCORRES'\n",
       "\\item 'PCORRESU'\n",
       "\\item 'PCSTRESC'\n",
       "\\item 'PCSTRESN'\n",
       "\\item 'PCSTRESU'\n",
       "\\item 'PCNAM'\n",
       "\\item 'PCSPEC'\n",
       "\\item 'PCLLOQ'\n",
       "\\item 'VISIT'\n",
       "\\item 'VISITNUM'\n",
       "\\item 'PCDTC'\n",
       "\\item 'PCDY'\n",
       "\\item 'PCTPT'\n",
       "\\item 'PCTPTNUM'\n",
       "\\item 'TRTSDT'\n",
       "\\item 'TRTSDTM'\n",
       "\\item 'TRT01P'\n",
       "\\item 'TRT01A'\n",
       "\\item 'ADTM'\n",
       "\\item 'ATMF'\n",
       "\\item 'ADT'\n",
       "\\item 'ATM'\n",
       "\\item 'ADY'\n",
       "\\item 'FANLDTM'\n",
       "\\item 'AVISITN'\n",
       "\\item 'AVISIT'\n",
       "\\item 'ADTM\\_prev'\n",
       "\\item 'EXDOSE\\_prev'\n",
       "\\item 'AVISIT\\_prev'\n",
       "\\item 'AENDTM\\_prev'\n",
       "\\item 'ADTM\\_next'\n",
       "\\item 'EXDOSE\\_next'\n",
       "\\item 'AVISIT\\_next'\n",
       "\\item 'AENDTM\\_next'\n",
       "\\item 'NFRLT\\_prev'\n",
       "\\item 'NFRLT\\_next'\n",
       "\\item 'EXDOSFRQ'\n",
       "\\item 'EXDOSFRM'\n",
       "\\item 'EXDOSE'\n",
       "\\item 'EXDOSU'\n",
       "\\item 'EXTRT'\n",
       "\\item 'ASTDT'\n",
       "\\item 'ASTDTM'\n",
       "\\item 'AENDT'\n",
       "\\item 'AENDTM'\n",
       "\\item 'VISITDY'\n",
       "\\item 'EXSEQ'\n",
       "\\item 'ASTTM'\n",
       "\\item 'AENTM'\n",
       "\\item 'AFRLT'\n",
       "\\item 'ARRLT'\n",
       "\\item 'AXRLT'\n",
       "\\item 'PCRFTDTM'\n",
       "\\item 'FANLDT'\n",
       "\\item 'FANLTM'\n",
       "\\item 'PCRFTDT'\n",
       "\\item 'PCRFTTM'\n",
       "\\item 'NRRLT'\n",
       "\\item 'NXRLT'\n",
       "\\end{enumerate*}\n"
      ],
      "text/markdown": [
       "1. 'STUDYID'\n",
       "2. 'DOMAIN'\n",
       "3. 'USUBJID'\n",
       "4. 'min_NFRLT'\n",
       "5. 'maxdate'\n",
       "6. 'EVID'\n",
       "7. 'DRUG'\n",
       "8. 'NFRLT'\n",
       "9. 'PCSEQ'\n",
       "10. 'PCTESTCD'\n",
       "11. 'PCTEST'\n",
       "12. 'PCORRES'\n",
       "13. 'PCORRESU'\n",
       "14. 'PCSTRESC'\n",
       "15. 'PCSTRESN'\n",
       "16. 'PCSTRESU'\n",
       "17. 'PCNAM'\n",
       "18. 'PCSPEC'\n",
       "19. 'PCLLOQ'\n",
       "20. 'VISIT'\n",
       "21. 'VISITNUM'\n",
       "22. 'PCDTC'\n",
       "23. 'PCDY'\n",
       "24. 'PCTPT'\n",
       "25. 'PCTPTNUM'\n",
       "26. 'TRTSDT'\n",
       "27. 'TRTSDTM'\n",
       "28. 'TRT01P'\n",
       "29. 'TRT01A'\n",
       "30. 'ADTM'\n",
       "31. 'ATMF'\n",
       "32. 'ADT'\n",
       "33. 'ATM'\n",
       "34. 'ADY'\n",
       "35. 'FANLDTM'\n",
       "36. 'AVISITN'\n",
       "37. 'AVISIT'\n",
       "38. 'ADTM_prev'\n",
       "39. 'EXDOSE_prev'\n",
       "40. 'AVISIT_prev'\n",
       "41. 'AENDTM_prev'\n",
       "42. 'ADTM_next'\n",
       "43. 'EXDOSE_next'\n",
       "44. 'AVISIT_next'\n",
       "45. 'AENDTM_next'\n",
       "46. 'NFRLT_prev'\n",
       "47. 'NFRLT_next'\n",
       "48. 'EXDOSFRQ'\n",
       "49. 'EXDOSFRM'\n",
       "50. 'EXDOSE'\n",
       "51. 'EXDOSU'\n",
       "52. 'EXTRT'\n",
       "53. 'ASTDT'\n",
       "54. 'ASTDTM'\n",
       "55. 'AENDT'\n",
       "56. 'AENDTM'\n",
       "57. 'VISITDY'\n",
       "58. 'EXSEQ'\n",
       "59. 'ASTTM'\n",
       "60. 'AENTM'\n",
       "61. 'AFRLT'\n",
       "62. 'ARRLT'\n",
       "63. 'AXRLT'\n",
       "64. 'PCRFTDTM'\n",
       "65. 'FANLDT'\n",
       "66. 'FANLTM'\n",
       "67. 'PCRFTDT'\n",
       "68. 'PCRFTTM'\n",
       "69. 'NRRLT'\n",
       "70. 'NXRLT'\n",
       "\n",
       "\n"
      ],
      "text/plain": [
       " [1] \"STUDYID\"     \"DOMAIN\"      \"USUBJID\"     \"min_NFRLT\"   \"maxdate\"    \n",
       " [6] \"EVID\"        \"DRUG\"        \"NFRLT\"       \"PCSEQ\"       \"PCTESTCD\"   \n",
       "[11] \"PCTEST\"      \"PCORRES\"     \"PCORRESU\"    \"PCSTRESC\"    \"PCSTRESN\"   \n",
       "[16] \"PCSTRESU\"    \"PCNAM\"       \"PCSPEC\"      \"PCLLOQ\"      \"VISIT\"      \n",
       "[21] \"VISITNUM\"    \"PCDTC\"       \"PCDY\"        \"PCTPT\"       \"PCTPTNUM\"   \n",
       "[26] \"TRTSDT\"      \"TRTSDTM\"     \"TRT01P\"      \"TRT01A\"      \"ADTM\"       \n",
       "[31] \"ATMF\"        \"ADT\"         \"ATM\"         \"ADY\"         \"FANLDTM\"    \n",
       "[36] \"AVISITN\"     \"AVISIT\"      \"ADTM_prev\"   \"EXDOSE_prev\" \"AVISIT_prev\"\n",
       "[41] \"AENDTM_prev\" \"ADTM_next\"   \"EXDOSE_next\" \"AVISIT_next\" \"AENDTM_next\"\n",
       "[46] \"NFRLT_prev\"  \"NFRLT_next\"  \"EXDOSFRQ\"    \"EXDOSFRM\"    \"EXDOSE\"     \n",
       "[51] \"EXDOSU\"      \"EXTRT\"       \"ASTDT\"       \"ASTDTM\"      \"AENDT\"      \n",
       "[56] \"AENDTM\"      \"VISITDY\"     \"EXSEQ\"       \"ASTTM\"       \"AENTM\"      \n",
       "[61] \"AFRLT\"       \"ARRLT\"       \"AXRLT\"       \"PCRFTDTM\"    \"FANLDT\"     \n",
       "[66] \"FANLTM\"      \"PCRFTDT\"     \"PCRFTTM\"     \"NRRLT\"       \"NXRLT\"      "
      ]
     },
     "metadata": {},
     "output_type": "display_data"
    }
   ],
   "source": [
    "colnames(adpc_nrrlt)"
   ]
  },
  {
   "cell_type": "markdown",
   "id": "222ce6bf",
   "metadata": {},
   "source": [
    "### Derive Analysis Variables\n"
   ]
  },
  {
   "cell_type": "markdown",
   "id": "5c738a06",
   "metadata": {},
   "source": [
    "Here we derive the analysis variables such as `AVAL` and `ATPTREF`.\n"
   ]
  },
  {
   "cell_type": "code",
   "execution_count": 49,
   "id": "1f762a5c",
   "metadata": {
    "language": "{r",
    "vscode": {
     "languageId": "r"
    }
   },
   "outputs": [],
   "source": [
    "#| label: Analysis Variables\n",
    "\n",
    "adpc_aval <- adpc_nrrlt %>%\n",
    "  mutate(\n",
    "    PARCAT1 = PCSPEC,\n",
    "    ATPTN = case_when(\n",
    "      EVID == 1 ~ 0,\n",
    "      TRUE ~ PCTPTNUM\n",
    "    ),\n",
    "    ATPT = case_when(\n",
    "      EVID == 1 ~ \"Dose\",\n",
    "      TRUE ~ PCTPT\n",
    "    ),\n",
    "    ATPTREF = case_when(\n",
    "      EVID == 1 ~ AVISIT,\n",
    "      is.na(AVISIT_prev) ~ AVISIT_next,\n",
    "      TRUE ~ AVISIT_prev\n",
    "    ),\n",
    "    # Derive baseline flag for pre-dose records\n",
    "    ABLFL = case_when(\n",
    "      ATPT == \"Pre-dose\" ~ \"Y\",\n",
    "      TRUE ~ NA_character_\n",
    "    ),\n",
    "    # Derive BASETYPE\n",
    "    BASETYPE = paste(ATPTREF, \"Baseline\"),\n",
    "\n",
    "    # Derive Actual Dose\n",
    "    DOSEA = case_when(\n",
    "      EVID == 1 ~ EXDOSE,\n",
    "      is.na(EXDOSE_prev) ~ EXDOSE_next,\n",
    "      TRUE ~ EXDOSE_prev\n",
    "    ),\n",
    "    # Derive Planned Dose\n",
    "    DOSEP = case_when(\n",
    "      TRT01P == \"Xanomeline High Dose\" ~ 81,\n",
    "      TRT01P == \"Xanomeline Low Dose\" ~ 54\n",
    "    ),\n",
    "    DOSEU = \"mg\",\n",
    "  ) %>%\n",
    "  # Derive relative time units\n",
    "  mutate(\n",
    "    FRLTU = \"h\",\n",
    "    RRLTU = \"h\",\n",
    "    # Derive PARAMCD\n",
    "    PARAMCD = coalesce(PCTESTCD, \"DOSE\"),\n",
    "    ALLOQ = PCLLOQ,\n",
    "    # Derive AVAL\n",
    "    AVAL = case_when(\n",
    "      EVID == 1 ~ EXDOSE,\n",
    "      PCSTRESC == \"<BLQ\" & NFRLT == 0 ~ 0,\n",
    "      PCSTRESC == \"<BLQ\" & NFRLT > 0 ~ 0.5 * ALLOQ,\n",
    "      TRUE ~ PCSTRESN\n",
    "    ),\n",
    "    AVALU = case_when(\n",
    "      EVID == 1 ~ EXDOSU,\n",
    "      TRUE ~ PCSTRESU\n",
    "    ),\n",
    "    AVALCAT1 = if_else(PCSTRESC == \"<BLQ\", PCSTRESC, prettyNum(signif(AVAL, digits = 3))),\n",
    "  ) %>%\n",
    "  # Add SRCSEQ\n",
    "  mutate(\n",
    "    SRCDOM = DOMAIN,\n",
    "    SRCVAR = \"SEQ\",\n",
    "    SRCSEQ = coalesce(PCSEQ, EXSEQ)\n",
    "  )\n"
   ]
  },
  {
   "cell_type": "code",
   "execution_count": 50,
   "id": "02e0747a",
   "metadata": {
    "vscode": {
     "languageId": "r"
    }
   },
   "outputs": [
    {
     "data": {
      "text/html": [
       "<table class=\"dataframe\">\n",
       "<caption>A tibble: 3 x 89</caption>\n",
       "<thead>\n",
       "\t<tr><th scope=col>STUDYID</th><th scope=col>DOMAIN</th><th scope=col>USUBJID</th><th scope=col>min_NFRLT</th><th scope=col>maxdate</th><th scope=col>EVID</th><th scope=col>DRUG</th><th scope=col>NFRLT</th><th scope=col>PCSEQ</th><th scope=col>PCTESTCD</th><th scope=col>...</th><th scope=col>FRLTU</th><th scope=col>RRLTU</th><th scope=col>PARAMCD</th><th scope=col>ALLOQ</th><th scope=col>AVAL</th><th scope=col>AVALU</th><th scope=col>AVALCAT1</th><th scope=col>SRCDOM</th><th scope=col>SRCVAR</th><th scope=col>SRCSEQ</th></tr>\n",
       "\t<tr><th scope=col>&lt;chr&gt;</th><th scope=col>&lt;chr&gt;</th><th scope=col>&lt;chr&gt;</th><th scope=col>&lt;dbl&gt;</th><th scope=col>&lt;date&gt;</th><th scope=col>&lt;dbl&gt;</th><th scope=col>&lt;chr&gt;</th><th scope=col>&lt;dbl&gt;</th><th scope=col>&lt;int&gt;</th><th scope=col>&lt;chr&gt;</th><th scope=col>...</th><th scope=col>&lt;chr&gt;</th><th scope=col>&lt;chr&gt;</th><th scope=col>&lt;chr&gt;</th><th scope=col>&lt;dbl&gt;</th><th scope=col>&lt;dbl&gt;</th><th scope=col>&lt;chr&gt;</th><th scope=col>&lt;chr&gt;</th><th scope=col>&lt;chr&gt;</th><th scope=col>&lt;chr&gt;</th><th scope=col>&lt;dbl&gt;</th></tr>\n",
       "</thead>\n",
       "<tbody>\n",
       "\t<tr><td>CDISCPILOT01</td><td>PC</td><td>01-701-1028</td><td>0</td><td>2013-07-21</td><td>0</td><td>XANOMELINE</td><td>0.00</td><td> 1</td><td>XAN</td><td>...</td><td>h</td><td>h</td><td>XAN </td><td>0.01</td><td> 0.0000000</td><td>ug/ml</td><td>&lt;BLQ </td><td>PC</td><td>SEQ</td><td>1</td></tr>\n",
       "\t<tr><td>CDISCPILOT01</td><td>EX</td><td>01-701-1028</td><td>0</td><td>2013-07-21</td><td>1</td><td>XANOMELINE</td><td>0.00</td><td>NA</td><td>NA </td><td>...</td><td>h</td><td>h</td><td>DOSE</td><td>  NA</td><td>54.0000000</td><td>mg   </td><td>NA   </td><td>EX</td><td>SEQ</td><td>1</td></tr>\n",
       "\t<tr><td>CDISCPILOT01</td><td>PC</td><td>01-701-1028</td><td>0</td><td>2013-07-21</td><td>0</td><td>XANOMELINE</td><td>0.08</td><td> 2</td><td>XAN</td><td>...</td><td>h</td><td>h</td><td>XAN </td><td>0.01</td><td> 0.1015662</td><td>ug/ml</td><td>0.102</td><td>PC</td><td>SEQ</td><td>2</td></tr>\n",
       "</tbody>\n",
       "</table>\n"
      ],
      "text/latex": [
       "A tibble: 3 x 89\n",
       "\\begin{tabular}{lllllllllllllllllllll}\n",
       " STUDYID & DOMAIN & USUBJID & min\\_NFRLT & maxdate & EVID & DRUG & NFRLT & PCSEQ & PCTESTCD & ... & FRLTU & RRLTU & PARAMCD & ALLOQ & AVAL & AVALU & AVALCAT1 & SRCDOM & SRCVAR & SRCSEQ\\\\\n",
       " <chr> & <chr> & <chr> & <dbl> & <date> & <dbl> & <chr> & <dbl> & <int> & <chr> & ... & <chr> & <chr> & <chr> & <dbl> & <dbl> & <chr> & <chr> & <chr> & <chr> & <dbl>\\\\\n",
       "\\hline\n",
       "\t CDISCPILOT01 & PC & 01-701-1028 & 0 & 2013-07-21 & 0 & XANOMELINE & 0.00 &  1 & XAN & ... & h & h & XAN  & 0.01 &  0.0000000 & ug/ml & <BLQ  & PC & SEQ & 1\\\\\n",
       "\t CDISCPILOT01 & EX & 01-701-1028 & 0 & 2013-07-21 & 1 & XANOMELINE & 0.00 & NA & NA  & ... & h & h & DOSE &   NA & 54.0000000 & mg    & NA    & EX & SEQ & 1\\\\\n",
       "\t CDISCPILOT01 & PC & 01-701-1028 & 0 & 2013-07-21 & 0 & XANOMELINE & 0.08 &  2 & XAN & ... & h & h & XAN  & 0.01 &  0.1015662 & ug/ml & 0.102 & PC & SEQ & 2\\\\\n",
       "\\end{tabular}\n"
      ],
      "text/markdown": [
       "\n",
       "A tibble: 3 x 89\n",
       "\n",
       "| STUDYID &lt;chr&gt; | DOMAIN &lt;chr&gt; | USUBJID &lt;chr&gt; | min_NFRLT &lt;dbl&gt; | maxdate &lt;date&gt; | EVID &lt;dbl&gt; | DRUG &lt;chr&gt; | NFRLT &lt;dbl&gt; | PCSEQ &lt;int&gt; | PCTESTCD &lt;chr&gt; | ... ... | FRLTU &lt;chr&gt; | RRLTU &lt;chr&gt; | PARAMCD &lt;chr&gt; | ALLOQ &lt;dbl&gt; | AVAL &lt;dbl&gt; | AVALU &lt;chr&gt; | AVALCAT1 &lt;chr&gt; | SRCDOM &lt;chr&gt; | SRCVAR &lt;chr&gt; | SRCSEQ &lt;dbl&gt; |\n",
       "|---|---|---|---|---|---|---|---|---|---|---|---|---|---|---|---|---|---|---|---|---|\n",
       "| CDISCPILOT01 | PC | 01-701-1028 | 0 | 2013-07-21 | 0 | XANOMELINE | 0.00 |  1 | XAN | ... | h | h | XAN  | 0.01 |  0.0000000 | ug/ml | &lt;BLQ  | PC | SEQ | 1 |\n",
       "| CDISCPILOT01 | EX | 01-701-1028 | 0 | 2013-07-21 | 1 | XANOMELINE | 0.00 | NA | NA  | ... | h | h | DOSE |   NA | 54.0000000 | mg    | NA    | EX | SEQ | 1 |\n",
       "| CDISCPILOT01 | PC | 01-701-1028 | 0 | 2013-07-21 | 0 | XANOMELINE | 0.08 |  2 | XAN | ... | h | h | XAN  | 0.01 |  0.1015662 | ug/ml | 0.102 | PC | SEQ | 2 |\n",
       "\n"
      ],
      "text/plain": [
       "  STUDYID      DOMAIN USUBJID     min_NFRLT maxdate    EVID DRUG       NFRLT\n",
       "1 CDISCPILOT01 PC     01-701-1028 0         2013-07-21 0    XANOMELINE 0.00 \n",
       "2 CDISCPILOT01 EX     01-701-1028 0         2013-07-21 1    XANOMELINE 0.00 \n",
       "3 CDISCPILOT01 PC     01-701-1028 0         2013-07-21 0    XANOMELINE 0.08 \n",
       "  PCSEQ PCTESTCD ... FRLTU RRLTU PARAMCD ALLOQ AVAL       AVALU AVALCAT1 SRCDOM\n",
       "1  1    XAN      ... h     h     XAN     0.01   0.0000000 ug/ml <BLQ     PC    \n",
       "2 NA    NA       ... h     h     DOSE      NA  54.0000000 mg    NA       EX    \n",
       "3  2    XAN      ... h     h     XAN     0.01   0.1015662 ug/ml 0.102    PC    \n",
       "  SRCVAR SRCSEQ\n",
       "1 SEQ    1     \n",
       "2 SEQ    1     \n",
       "3 SEQ    2     "
      ]
     },
     "metadata": {},
     "output_type": "display_data"
    }
   ],
   "source": [
    "head(adpc_aval, 3)"
   ]
  },
  {
   "cell_type": "markdown",
   "id": "0d7ac345",
   "metadata": {},
   "source": [
    "### Derive DTYPE Copy Records\n"
   ]
  },
  {
   "cell_type": "markdown",
   "id": "d8a59a74",
   "metadata": {},
   "source": [
    "The CDISC ADaM Implementation Guide for Non-compartmental Analysis uses duplicated records for analysis when a record needs to be used in more than one way. In this example the 24 hour post-dose record will also be used a the pre-dose record for the \"Day 2\" dose.\n"
   ]
  },
  {
   "cell_type": "code",
   "execution_count": 52,
   "id": "0e135166",
   "metadata": {
    "language": "{r",
    "vscode": {
     "languageId": "r"
    }
   },
   "outputs": [],
   "source": [
    "#| label: DTYPE\n",
    "\n",
    "dtype <- adpc_aval %>%\n",
    "  filter(NFRLT > 0 & NXRLT == 0 & EVID == 0 & !is.na(AVISIT_next)) %>%\n",
    "  select(-PCRFTDT, -PCRFTTM) %>%\n",
    "  # Re-derive variables in for DTYPE copy records\n",
    "  mutate(\n",
    "    ABLFL = NA_character_,\n",
    "    ATPTREF = AVISIT_next,\n",
    "    ARRLT = AXRLT,\n",
    "    NRRLT = NXRLT,\n",
    "    PCRFTDTM = ADTM_next,\n",
    "    DOSEA = EXDOSE_next,\n",
    "    BASETYPE = paste(AVISIT_next, \"Baseline\"),\n",
    "    ATPT = \"Pre-dose\",\n",
    "    ATPTN = NFRLT,\n",
    "    ABLFL = \"Y\",\n",
    "    DTYPE = \"COPY\"\n",
    "  ) %>%\n",
    "  derive_vars_dtm_to_dt(exprs(PCRFTDTM)) %>%\n",
    "  derive_vars_dtm_to_tm(exprs(PCRFTDTM))\n"
   ]
  },
  {
   "cell_type": "code",
   "execution_count": 53,
   "id": "d6c3787d",
   "metadata": {
    "vscode": {
     "languageId": "r"
    }
   },
   "outputs": [
    {
     "data": {
      "text/html": [
       "<table class=\"dataframe\">\n",
       "<caption>A tibble: 3 x 90</caption>\n",
       "<thead>\n",
       "\t<tr><th scope=col>STUDYID</th><th scope=col>DOMAIN</th><th scope=col>USUBJID</th><th scope=col>min_NFRLT</th><th scope=col>maxdate</th><th scope=col>EVID</th><th scope=col>DRUG</th><th scope=col>NFRLT</th><th scope=col>PCSEQ</th><th scope=col>PCTESTCD</th><th scope=col>...</th><th scope=col>ALLOQ</th><th scope=col>AVAL</th><th scope=col>AVALU</th><th scope=col>AVALCAT1</th><th scope=col>SRCDOM</th><th scope=col>SRCVAR</th><th scope=col>SRCSEQ</th><th scope=col>DTYPE</th><th scope=col>PCRFTDT</th><th scope=col>PCRFTTM</th></tr>\n",
       "\t<tr><th scope=col>&lt;chr&gt;</th><th scope=col>&lt;chr&gt;</th><th scope=col>&lt;chr&gt;</th><th scope=col>&lt;dbl&gt;</th><th scope=col>&lt;date&gt;</th><th scope=col>&lt;dbl&gt;</th><th scope=col>&lt;chr&gt;</th><th scope=col>&lt;dbl&gt;</th><th scope=col>&lt;int&gt;</th><th scope=col>&lt;chr&gt;</th><th scope=col>...</th><th scope=col>&lt;dbl&gt;</th><th scope=col>&lt;dbl&gt;</th><th scope=col>&lt;chr&gt;</th><th scope=col>&lt;chr&gt;</th><th scope=col>&lt;chr&gt;</th><th scope=col>&lt;chr&gt;</th><th scope=col>&lt;dbl&gt;</th><th scope=col>&lt;chr&gt;</th><th scope=col>&lt;date&gt;</th><th scope=col>&lt;time&gt;</th></tr>\n",
       "</thead>\n",
       "<tbody>\n",
       "\t<tr><td>CDISCPILOT01</td><td>PC</td><td>01-701-1028</td><td>0</td><td>2013-07-21</td><td>0</td><td>XANOMELINE</td><td>24</td><td>12</td><td>XAN</td><td>...</td><td>0.01</td><td>0.01070627</td><td>ug/ml</td><td>0.0107</td><td>PC</td><td>SEQ</td><td>12</td><td>COPY</td><td>2013-07-20</td><td>00:00:00</td></tr>\n",
       "\t<tr><td>CDISCPILOT01</td><td>PC</td><td>01-701-1028</td><td>0</td><td>2013-07-21</td><td>0</td><td>XANOMELINE</td><td>48</td><td>14</td><td>XAN</td><td>...</td><td>0.01</td><td>0.00500000</td><td>ug/ml</td><td><span style=white-space:pre-wrap>&lt;BLQ  </span></td><td>PC</td><td>SEQ</td><td>14</td><td>COPY</td><td>2013-07-21</td><td>00:00:00</td></tr>\n",
       "\t<tr><td>CDISCPILOT01</td><td>PC</td><td>01-701-1033</td><td>0</td><td>2014-03-20</td><td>0</td><td>XANOMELINE</td><td>24</td><td>12</td><td>XAN</td><td>...</td><td>0.01</td><td>0.01783681</td><td>ug/ml</td><td>0.0178</td><td>PC</td><td>SEQ</td><td>12</td><td>COPY</td><td>2014-03-19</td><td>00:00:00</td></tr>\n",
       "</tbody>\n",
       "</table>\n"
      ],
      "text/latex": [
       "A tibble: 3 x 90\n",
       "\\begin{tabular}{lllllllllllllllllllll}\n",
       " STUDYID & DOMAIN & USUBJID & min\\_NFRLT & maxdate & EVID & DRUG & NFRLT & PCSEQ & PCTESTCD & ... & ALLOQ & AVAL & AVALU & AVALCAT1 & SRCDOM & SRCVAR & SRCSEQ & DTYPE & PCRFTDT & PCRFTTM\\\\\n",
       " <chr> & <chr> & <chr> & <dbl> & <date> & <dbl> & <chr> & <dbl> & <int> & <chr> & ... & <dbl> & <dbl> & <chr> & <chr> & <chr> & <chr> & <dbl> & <chr> & <date> & <time>\\\\\n",
       "\\hline\n",
       "\t CDISCPILOT01 & PC & 01-701-1028 & 0 & 2013-07-21 & 0 & XANOMELINE & 24 & 12 & XAN & ... & 0.01 & 0.01070627 & ug/ml & 0.0107 & PC & SEQ & 12 & COPY & 2013-07-20 & 00:00:00\\\\\n",
       "\t CDISCPILOT01 & PC & 01-701-1028 & 0 & 2013-07-21 & 0 & XANOMELINE & 48 & 14 & XAN & ... & 0.01 & 0.00500000 & ug/ml & <BLQ   & PC & SEQ & 14 & COPY & 2013-07-21 & 00:00:00\\\\\n",
       "\t CDISCPILOT01 & PC & 01-701-1033 & 0 & 2014-03-20 & 0 & XANOMELINE & 24 & 12 & XAN & ... & 0.01 & 0.01783681 & ug/ml & 0.0178 & PC & SEQ & 12 & COPY & 2014-03-19 & 00:00:00\\\\\n",
       "\\end{tabular}\n"
      ],
      "text/markdown": [
       "\n",
       "A tibble: 3 x 90\n",
       "\n",
       "| STUDYID &lt;chr&gt; | DOMAIN &lt;chr&gt; | USUBJID &lt;chr&gt; | min_NFRLT &lt;dbl&gt; | maxdate &lt;date&gt; | EVID &lt;dbl&gt; | DRUG &lt;chr&gt; | NFRLT &lt;dbl&gt; | PCSEQ &lt;int&gt; | PCTESTCD &lt;chr&gt; | ... ... | ALLOQ &lt;dbl&gt; | AVAL &lt;dbl&gt; | AVALU &lt;chr&gt; | AVALCAT1 &lt;chr&gt; | SRCDOM &lt;chr&gt; | SRCVAR &lt;chr&gt; | SRCSEQ &lt;dbl&gt; | DTYPE &lt;chr&gt; | PCRFTDT &lt;date&gt; | PCRFTTM &lt;time&gt; |\n",
       "|---|---|---|---|---|---|---|---|---|---|---|---|---|---|---|---|---|---|---|---|---|\n",
       "| CDISCPILOT01 | PC | 01-701-1028 | 0 | 2013-07-21 | 0 | XANOMELINE | 24 | 12 | XAN | ... | 0.01 | 0.01070627 | ug/ml | 0.0107 | PC | SEQ | 12 | COPY | 2013-07-20 | 00:00:00 |\n",
       "| CDISCPILOT01 | PC | 01-701-1028 | 0 | 2013-07-21 | 0 | XANOMELINE | 48 | 14 | XAN | ... | 0.01 | 0.00500000 | ug/ml | &lt;BLQ   | PC | SEQ | 14 | COPY | 2013-07-21 | 00:00:00 |\n",
       "| CDISCPILOT01 | PC | 01-701-1033 | 0 | 2014-03-20 | 0 | XANOMELINE | 24 | 12 | XAN | ... | 0.01 | 0.01783681 | ug/ml | 0.0178 | PC | SEQ | 12 | COPY | 2014-03-19 | 00:00:00 |\n",
       "\n"
      ],
      "text/plain": [
       "  STUDYID      DOMAIN USUBJID     min_NFRLT maxdate    EVID DRUG       NFRLT\n",
       "1 CDISCPILOT01 PC     01-701-1028 0         2013-07-21 0    XANOMELINE 24   \n",
       "2 CDISCPILOT01 PC     01-701-1028 0         2013-07-21 0    XANOMELINE 48   \n",
       "3 CDISCPILOT01 PC     01-701-1033 0         2014-03-20 0    XANOMELINE 24   \n",
       "  PCSEQ PCTESTCD ... ALLOQ AVAL       AVALU AVALCAT1 SRCDOM SRCVAR SRCSEQ DTYPE\n",
       "1 12    XAN      ... 0.01  0.01070627 ug/ml 0.0107   PC     SEQ    12     COPY \n",
       "2 14    XAN      ... 0.01  0.00500000 ug/ml <BLQ     PC     SEQ    14     COPY \n",
       "3 12    XAN      ... 0.01  0.01783681 ug/ml 0.0178   PC     SEQ    12     COPY \n",
       "  PCRFTDT    PCRFTTM \n",
       "1 2013-07-20 00:00:00\n",
       "2 2013-07-21 00:00:00\n",
       "3 2014-03-19 00:00:00"
      ]
     },
     "metadata": {},
     "output_type": "display_data"
    }
   ],
   "source": [
    "head(dtype,3)"
   ]
  },
  {
   "cell_type": "markdown",
   "id": "45331719",
   "metadata": {},
   "source": [
    "### Combine Original and DTYPE Copy\n"
   ]
  },
  {
   "cell_type": "markdown",
   "id": "17376458",
   "metadata": {},
   "source": [
    "Now the duplicated records are combined with the original records.\n"
   ]
  },
  {
   "cell_type": "code",
   "execution_count": 55,
   "id": "cb5b2a98",
   "metadata": {
    "language": "{r",
    "vscode": {
     "languageId": "r"
    }
   },
   "outputs": [],
   "source": [
    "#| label: Combine DTYPE\n",
    "\n",
    "adpc_dtype <- bind_rows(adpc_aval, dtype) %>%\n",
    "  arrange(STUDYID, USUBJID, BASETYPE, ADTM, NFRLT) %>%\n",
    "  mutate(\n",
    "    # Derive MRRLT, ANL01FL and ANL02FL\n",
    "    MRRLT = if_else(ARRLT < 0, 0, ARRLT),\n",
    "    ANL01FL = \"Y\",\n",
    "    ANL02FL = if_else(is.na(DTYPE), \"Y\", NA_character_),\n",
    "  )\n"
   ]
  },
  {
   "cell_type": "code",
   "execution_count": 56,
   "id": "79354259",
   "metadata": {
    "vscode": {
     "languageId": "r"
    }
   },
   "outputs": [
    {
     "data": {
      "text/html": [
       "<table class=\"dataframe\">\n",
       "<caption>A tibble: 3 x 93</caption>\n",
       "<thead>\n",
       "\t<tr><th scope=col>STUDYID</th><th scope=col>DOMAIN</th><th scope=col>USUBJID</th><th scope=col>min_NFRLT</th><th scope=col>maxdate</th><th scope=col>EVID</th><th scope=col>DRUG</th><th scope=col>NFRLT</th><th scope=col>PCSEQ</th><th scope=col>PCTESTCD</th><th scope=col>...</th><th scope=col>AVAL</th><th scope=col>AVALU</th><th scope=col>AVALCAT1</th><th scope=col>SRCDOM</th><th scope=col>SRCVAR</th><th scope=col>SRCSEQ</th><th scope=col>DTYPE</th><th scope=col>MRRLT</th><th scope=col>ANL01FL</th><th scope=col>ANL02FL</th></tr>\n",
       "\t<tr><th scope=col>&lt;chr&gt;</th><th scope=col>&lt;chr&gt;</th><th scope=col>&lt;chr&gt;</th><th scope=col>&lt;dbl&gt;</th><th scope=col>&lt;date&gt;</th><th scope=col>&lt;dbl&gt;</th><th scope=col>&lt;chr&gt;</th><th scope=col>&lt;dbl&gt;</th><th scope=col>&lt;int&gt;</th><th scope=col>&lt;chr&gt;</th><th scope=col>...</th><th scope=col>&lt;dbl&gt;</th><th scope=col>&lt;chr&gt;</th><th scope=col>&lt;chr&gt;</th><th scope=col>&lt;chr&gt;</th><th scope=col>&lt;chr&gt;</th><th scope=col>&lt;dbl&gt;</th><th scope=col>&lt;chr&gt;</th><th scope=col>&lt;dbl&gt;</th><th scope=col>&lt;chr&gt;</th><th scope=col>&lt;chr&gt;</th></tr>\n",
       "</thead>\n",
       "<tbody>\n",
       "\t<tr><td>CDISCPILOT01</td><td>PC</td><td>01-701-1028</td><td>0</td><td>2013-07-21</td><td>0</td><td>XANOMELINE</td><td>0.00</td><td> 1</td><td>XAN</td><td>...</td><td> 0.0000000</td><td>ug/ml</td><td>&lt;BLQ </td><td>PC</td><td>SEQ</td><td>1</td><td>NA</td><td>0.00000000</td><td>Y</td><td>Y</td></tr>\n",
       "\t<tr><td>CDISCPILOT01</td><td>EX</td><td>01-701-1028</td><td>0</td><td>2013-07-21</td><td>1</td><td>XANOMELINE</td><td>0.00</td><td>NA</td><td>NA </td><td>...</td><td>54.0000000</td><td>mg   </td><td>NA   </td><td>EX</td><td>SEQ</td><td>1</td><td>NA</td><td>0.00000000</td><td>Y</td><td>Y</td></tr>\n",
       "\t<tr><td>CDISCPILOT01</td><td>PC</td><td>01-701-1028</td><td>0</td><td>2013-07-21</td><td>0</td><td>XANOMELINE</td><td>0.08</td><td> 2</td><td>XAN</td><td>...</td><td> 0.1015662</td><td>ug/ml</td><td>0.102</td><td>PC</td><td>SEQ</td><td>2</td><td>NA</td><td>0.08333333</td><td>Y</td><td>Y</td></tr>\n",
       "</tbody>\n",
       "</table>\n"
      ],
      "text/latex": [
       "A tibble: 3 x 93\n",
       "\\begin{tabular}{lllllllllllllllllllll}\n",
       " STUDYID & DOMAIN & USUBJID & min\\_NFRLT & maxdate & EVID & DRUG & NFRLT & PCSEQ & PCTESTCD & ... & AVAL & AVALU & AVALCAT1 & SRCDOM & SRCVAR & SRCSEQ & DTYPE & MRRLT & ANL01FL & ANL02FL\\\\\n",
       " <chr> & <chr> & <chr> & <dbl> & <date> & <dbl> & <chr> & <dbl> & <int> & <chr> & ... & <dbl> & <chr> & <chr> & <chr> & <chr> & <dbl> & <chr> & <dbl> & <chr> & <chr>\\\\\n",
       "\\hline\n",
       "\t CDISCPILOT01 & PC & 01-701-1028 & 0 & 2013-07-21 & 0 & XANOMELINE & 0.00 &  1 & XAN & ... &  0.0000000 & ug/ml & <BLQ  & PC & SEQ & 1 & NA & 0.00000000 & Y & Y\\\\\n",
       "\t CDISCPILOT01 & EX & 01-701-1028 & 0 & 2013-07-21 & 1 & XANOMELINE & 0.00 & NA & NA  & ... & 54.0000000 & mg    & NA    & EX & SEQ & 1 & NA & 0.00000000 & Y & Y\\\\\n",
       "\t CDISCPILOT01 & PC & 01-701-1028 & 0 & 2013-07-21 & 0 & XANOMELINE & 0.08 &  2 & XAN & ... &  0.1015662 & ug/ml & 0.102 & PC & SEQ & 2 & NA & 0.08333333 & Y & Y\\\\\n",
       "\\end{tabular}\n"
      ],
      "text/markdown": [
       "\n",
       "A tibble: 3 x 93\n",
       "\n",
       "| STUDYID &lt;chr&gt; | DOMAIN &lt;chr&gt; | USUBJID &lt;chr&gt; | min_NFRLT &lt;dbl&gt; | maxdate &lt;date&gt; | EVID &lt;dbl&gt; | DRUG &lt;chr&gt; | NFRLT &lt;dbl&gt; | PCSEQ &lt;int&gt; | PCTESTCD &lt;chr&gt; | ... ... | AVAL &lt;dbl&gt; | AVALU &lt;chr&gt; | AVALCAT1 &lt;chr&gt; | SRCDOM &lt;chr&gt; | SRCVAR &lt;chr&gt; | SRCSEQ &lt;dbl&gt; | DTYPE &lt;chr&gt; | MRRLT &lt;dbl&gt; | ANL01FL &lt;chr&gt; | ANL02FL &lt;chr&gt; |\n",
       "|---|---|---|---|---|---|---|---|---|---|---|---|---|---|---|---|---|---|---|---|---|\n",
       "| CDISCPILOT01 | PC | 01-701-1028 | 0 | 2013-07-21 | 0 | XANOMELINE | 0.00 |  1 | XAN | ... |  0.0000000 | ug/ml | &lt;BLQ  | PC | SEQ | 1 | NA | 0.00000000 | Y | Y |\n",
       "| CDISCPILOT01 | EX | 01-701-1028 | 0 | 2013-07-21 | 1 | XANOMELINE | 0.00 | NA | NA  | ... | 54.0000000 | mg    | NA    | EX | SEQ | 1 | NA | 0.00000000 | Y | Y |\n",
       "| CDISCPILOT01 | PC | 01-701-1028 | 0 | 2013-07-21 | 0 | XANOMELINE | 0.08 |  2 | XAN | ... |  0.1015662 | ug/ml | 0.102 | PC | SEQ | 2 | NA | 0.08333333 | Y | Y |\n",
       "\n"
      ],
      "text/plain": [
       "  STUDYID      DOMAIN USUBJID     min_NFRLT maxdate    EVID DRUG       NFRLT\n",
       "1 CDISCPILOT01 PC     01-701-1028 0         2013-07-21 0    XANOMELINE 0.00 \n",
       "2 CDISCPILOT01 EX     01-701-1028 0         2013-07-21 1    XANOMELINE 0.00 \n",
       "3 CDISCPILOT01 PC     01-701-1028 0         2013-07-21 0    XANOMELINE 0.08 \n",
       "  PCSEQ PCTESTCD ... AVAL       AVALU AVALCAT1 SRCDOM SRCVAR SRCSEQ DTYPE\n",
       "1  1    XAN      ...  0.0000000 ug/ml <BLQ     PC     SEQ    1      NA   \n",
       "2 NA    NA       ... 54.0000000 mg    NA       EX     SEQ    1      NA   \n",
       "3  2    XAN      ...  0.1015662 ug/ml 0.102    PC     SEQ    2      NA   \n",
       "  MRRLT      ANL01FL ANL02FL\n",
       "1 0.00000000 Y       Y      \n",
       "2 0.00000000 Y       Y      \n",
       "3 0.08333333 Y       Y      "
      ]
     },
     "metadata": {},
     "output_type": "display_data"
    }
   ],
   "source": [
    "head(adpc_dtype,3)"
   ]
  },
  {
   "cell_type": "code",
   "execution_count": 57,
   "id": "9be42e9a",
   "metadata": {
    "vscode": {
     "languageId": "r"
    }
   },
   "outputs": [
    {
     "data": {
      "text/html": [
       "<style>\n",
       ".list-inline {list-style: none; margin:0; padding: 0}\n",
       ".list-inline>li {display: inline-block}\n",
       ".list-inline>li:not(:last-child)::after {content: \"\\00b7\"; padding: 0 .5ex}\n",
       "</style>\n",
       "<ol class=list-inline><li>'STUDYID'</li><li>'DOMAIN'</li><li>'USUBJID'</li><li>'min_NFRLT'</li><li>'maxdate'</li><li>'EVID'</li><li>'DRUG'</li><li>'NFRLT'</li><li>'PCSEQ'</li><li>'PCTESTCD'</li><li>'PCTEST'</li><li>'PCORRES'</li><li>'PCORRESU'</li><li>'PCSTRESC'</li><li>'PCSTRESN'</li><li>'PCSTRESU'</li><li>'PCNAM'</li><li>'PCSPEC'</li><li>'PCLLOQ'</li><li>'VISIT'</li><li>'VISITNUM'</li><li>'PCDTC'</li><li>'PCDY'</li><li>'PCTPT'</li><li>'PCTPTNUM'</li><li>'TRTSDT'</li><li>'TRTSDTM'</li><li>'TRT01P'</li><li>'TRT01A'</li><li>'ADTM'</li><li>'ATMF'</li><li>'ADT'</li><li>'ATM'</li><li>'ADY'</li><li>'FANLDTM'</li><li>'AVISITN'</li><li>'AVISIT'</li><li>'ADTM_prev'</li><li>'EXDOSE_prev'</li><li>'AVISIT_prev'</li><li>'AENDTM_prev'</li><li>'ADTM_next'</li><li>'EXDOSE_next'</li><li>'AVISIT_next'</li><li>'AENDTM_next'</li><li>'NFRLT_prev'</li><li>'NFRLT_next'</li><li>'EXDOSFRQ'</li><li>'EXDOSFRM'</li><li>'EXDOSE'</li><li>'EXDOSU'</li><li>'EXTRT'</li><li>'ASTDT'</li><li>'ASTDTM'</li><li>'AENDT'</li><li>'AENDTM'</li><li>'VISITDY'</li><li>'EXSEQ'</li><li>'ASTTM'</li><li>'AENTM'</li><li>'AFRLT'</li><li>'ARRLT'</li><li>'AXRLT'</li><li>'PCRFTDTM'</li><li>'FANLDT'</li><li>'FANLTM'</li><li>'PCRFTDT'</li><li>'PCRFTTM'</li><li>'NRRLT'</li><li>'NXRLT'</li><li>'PARCAT1'</li><li>'ATPTN'</li><li>'ATPT'</li><li>'ATPTREF'</li><li>'ABLFL'</li><li>'BASETYPE'</li><li>'DOSEA'</li><li>'DOSEP'</li><li>'DOSEU'</li><li>'FRLTU'</li><li>'RRLTU'</li><li>'PARAMCD'</li><li>'ALLOQ'</li><li>'AVAL'</li><li>'AVALU'</li><li>'AVALCAT1'</li><li>'SRCDOM'</li><li>'SRCVAR'</li><li>'SRCSEQ'</li><li>'DTYPE'</li><li>'MRRLT'</li><li>'ANL01FL'</li><li>'ANL02FL'</li></ol>\n"
      ],
      "text/latex": [
       "\\begin{enumerate*}\n",
       "\\item 'STUDYID'\n",
       "\\item 'DOMAIN'\n",
       "\\item 'USUBJID'\n",
       "\\item 'min\\_NFRLT'\n",
       "\\item 'maxdate'\n",
       "\\item 'EVID'\n",
       "\\item 'DRUG'\n",
       "\\item 'NFRLT'\n",
       "\\item 'PCSEQ'\n",
       "\\item 'PCTESTCD'\n",
       "\\item 'PCTEST'\n",
       "\\item 'PCORRES'\n",
       "\\item 'PCORRESU'\n",
       "\\item 'PCSTRESC'\n",
       "\\item 'PCSTRESN'\n",
       "\\item 'PCSTRESU'\n",
       "\\item 'PCNAM'\n",
       "\\item 'PCSPEC'\n",
       "\\item 'PCLLOQ'\n",
       "\\item 'VISIT'\n",
       "\\item 'VISITNUM'\n",
       "\\item 'PCDTC'\n",
       "\\item 'PCDY'\n",
       "\\item 'PCTPT'\n",
       "\\item 'PCTPTNUM'\n",
       "\\item 'TRTSDT'\n",
       "\\item 'TRTSDTM'\n",
       "\\item 'TRT01P'\n",
       "\\item 'TRT01A'\n",
       "\\item 'ADTM'\n",
       "\\item 'ATMF'\n",
       "\\item 'ADT'\n",
       "\\item 'ATM'\n",
       "\\item 'ADY'\n",
       "\\item 'FANLDTM'\n",
       "\\item 'AVISITN'\n",
       "\\item 'AVISIT'\n",
       "\\item 'ADTM\\_prev'\n",
       "\\item 'EXDOSE\\_prev'\n",
       "\\item 'AVISIT\\_prev'\n",
       "\\item 'AENDTM\\_prev'\n",
       "\\item 'ADTM\\_next'\n",
       "\\item 'EXDOSE\\_next'\n",
       "\\item 'AVISIT\\_next'\n",
       "\\item 'AENDTM\\_next'\n",
       "\\item 'NFRLT\\_prev'\n",
       "\\item 'NFRLT\\_next'\n",
       "\\item 'EXDOSFRQ'\n",
       "\\item 'EXDOSFRM'\n",
       "\\item 'EXDOSE'\n",
       "\\item 'EXDOSU'\n",
       "\\item 'EXTRT'\n",
       "\\item 'ASTDT'\n",
       "\\item 'ASTDTM'\n",
       "\\item 'AENDT'\n",
       "\\item 'AENDTM'\n",
       "\\item 'VISITDY'\n",
       "\\item 'EXSEQ'\n",
       "\\item 'ASTTM'\n",
       "\\item 'AENTM'\n",
       "\\item 'AFRLT'\n",
       "\\item 'ARRLT'\n",
       "\\item 'AXRLT'\n",
       "\\item 'PCRFTDTM'\n",
       "\\item 'FANLDT'\n",
       "\\item 'FANLTM'\n",
       "\\item 'PCRFTDT'\n",
       "\\item 'PCRFTTM'\n",
       "\\item 'NRRLT'\n",
       "\\item 'NXRLT'\n",
       "\\item 'PARCAT1'\n",
       "\\item 'ATPTN'\n",
       "\\item 'ATPT'\n",
       "\\item 'ATPTREF'\n",
       "\\item 'ABLFL'\n",
       "\\item 'BASETYPE'\n",
       "\\item 'DOSEA'\n",
       "\\item 'DOSEP'\n",
       "\\item 'DOSEU'\n",
       "\\item 'FRLTU'\n",
       "\\item 'RRLTU'\n",
       "\\item 'PARAMCD'\n",
       "\\item 'ALLOQ'\n",
       "\\item 'AVAL'\n",
       "\\item 'AVALU'\n",
       "\\item 'AVALCAT1'\n",
       "\\item 'SRCDOM'\n",
       "\\item 'SRCVAR'\n",
       "\\item 'SRCSEQ'\n",
       "\\item 'DTYPE'\n",
       "\\item 'MRRLT'\n",
       "\\item 'ANL01FL'\n",
       "\\item 'ANL02FL'\n",
       "\\end{enumerate*}\n"
      ],
      "text/markdown": [
       "1. 'STUDYID'\n",
       "2. 'DOMAIN'\n",
       "3. 'USUBJID'\n",
       "4. 'min_NFRLT'\n",
       "5. 'maxdate'\n",
       "6. 'EVID'\n",
       "7. 'DRUG'\n",
       "8. 'NFRLT'\n",
       "9. 'PCSEQ'\n",
       "10. 'PCTESTCD'\n",
       "11. 'PCTEST'\n",
       "12. 'PCORRES'\n",
       "13. 'PCORRESU'\n",
       "14. 'PCSTRESC'\n",
       "15. 'PCSTRESN'\n",
       "16. 'PCSTRESU'\n",
       "17. 'PCNAM'\n",
       "18. 'PCSPEC'\n",
       "19. 'PCLLOQ'\n",
       "20. 'VISIT'\n",
       "21. 'VISITNUM'\n",
       "22. 'PCDTC'\n",
       "23. 'PCDY'\n",
       "24. 'PCTPT'\n",
       "25. 'PCTPTNUM'\n",
       "26. 'TRTSDT'\n",
       "27. 'TRTSDTM'\n",
       "28. 'TRT01P'\n",
       "29. 'TRT01A'\n",
       "30. 'ADTM'\n",
       "31. 'ATMF'\n",
       "32. 'ADT'\n",
       "33. 'ATM'\n",
       "34. 'ADY'\n",
       "35. 'FANLDTM'\n",
       "36. 'AVISITN'\n",
       "37. 'AVISIT'\n",
       "38. 'ADTM_prev'\n",
       "39. 'EXDOSE_prev'\n",
       "40. 'AVISIT_prev'\n",
       "41. 'AENDTM_prev'\n",
       "42. 'ADTM_next'\n",
       "43. 'EXDOSE_next'\n",
       "44. 'AVISIT_next'\n",
       "45. 'AENDTM_next'\n",
       "46. 'NFRLT_prev'\n",
       "47. 'NFRLT_next'\n",
       "48. 'EXDOSFRQ'\n",
       "49. 'EXDOSFRM'\n",
       "50. 'EXDOSE'\n",
       "51. 'EXDOSU'\n",
       "52. 'EXTRT'\n",
       "53. 'ASTDT'\n",
       "54. 'ASTDTM'\n",
       "55. 'AENDT'\n",
       "56. 'AENDTM'\n",
       "57. 'VISITDY'\n",
       "58. 'EXSEQ'\n",
       "59. 'ASTTM'\n",
       "60. 'AENTM'\n",
       "61. 'AFRLT'\n",
       "62. 'ARRLT'\n",
       "63. 'AXRLT'\n",
       "64. 'PCRFTDTM'\n",
       "65. 'FANLDT'\n",
       "66. 'FANLTM'\n",
       "67. 'PCRFTDT'\n",
       "68. 'PCRFTTM'\n",
       "69. 'NRRLT'\n",
       "70. 'NXRLT'\n",
       "71. 'PARCAT1'\n",
       "72. 'ATPTN'\n",
       "73. 'ATPT'\n",
       "74. 'ATPTREF'\n",
       "75. 'ABLFL'\n",
       "76. 'BASETYPE'\n",
       "77. 'DOSEA'\n",
       "78. 'DOSEP'\n",
       "79. 'DOSEU'\n",
       "80. 'FRLTU'\n",
       "81. 'RRLTU'\n",
       "82. 'PARAMCD'\n",
       "83. 'ALLOQ'\n",
       "84. 'AVAL'\n",
       "85. 'AVALU'\n",
       "86. 'AVALCAT1'\n",
       "87. 'SRCDOM'\n",
       "88. 'SRCVAR'\n",
       "89. 'SRCSEQ'\n",
       "90. 'DTYPE'\n",
       "91. 'MRRLT'\n",
       "92. 'ANL01FL'\n",
       "93. 'ANL02FL'\n",
       "\n",
       "\n"
      ],
      "text/plain": [
       " [1] \"STUDYID\"     \"DOMAIN\"      \"USUBJID\"     \"min_NFRLT\"   \"maxdate\"    \n",
       " [6] \"EVID\"        \"DRUG\"        \"NFRLT\"       \"PCSEQ\"       \"PCTESTCD\"   \n",
       "[11] \"PCTEST\"      \"PCORRES\"     \"PCORRESU\"    \"PCSTRESC\"    \"PCSTRESN\"   \n",
       "[16] \"PCSTRESU\"    \"PCNAM\"       \"PCSPEC\"      \"PCLLOQ\"      \"VISIT\"      \n",
       "[21] \"VISITNUM\"    \"PCDTC\"       \"PCDY\"        \"PCTPT\"       \"PCTPTNUM\"   \n",
       "[26] \"TRTSDT\"      \"TRTSDTM\"     \"TRT01P\"      \"TRT01A\"      \"ADTM\"       \n",
       "[31] \"ATMF\"        \"ADT\"         \"ATM\"         \"ADY\"         \"FANLDTM\"    \n",
       "[36] \"AVISITN\"     \"AVISIT\"      \"ADTM_prev\"   \"EXDOSE_prev\" \"AVISIT_prev\"\n",
       "[41] \"AENDTM_prev\" \"ADTM_next\"   \"EXDOSE_next\" \"AVISIT_next\" \"AENDTM_next\"\n",
       "[46] \"NFRLT_prev\"  \"NFRLT_next\"  \"EXDOSFRQ\"    \"EXDOSFRM\"    \"EXDOSE\"     \n",
       "[51] \"EXDOSU\"      \"EXTRT\"       \"ASTDT\"       \"ASTDTM\"      \"AENDT\"      \n",
       "[56] \"AENDTM\"      \"VISITDY\"     \"EXSEQ\"       \"ASTTM\"       \"AENTM\"      \n",
       "[61] \"AFRLT\"       \"ARRLT\"       \"AXRLT\"       \"PCRFTDTM\"    \"FANLDT\"     \n",
       "[66] \"FANLTM\"      \"PCRFTDT\"     \"PCRFTTM\"     \"NRRLT\"       \"NXRLT\"      \n",
       "[71] \"PARCAT1\"     \"ATPTN\"       \"ATPT\"        \"ATPTREF\"     \"ABLFL\"      \n",
       "[76] \"BASETYPE\"    \"DOSEA\"       \"DOSEP\"       \"DOSEU\"       \"FRLTU\"      \n",
       "[81] \"RRLTU\"       \"PARAMCD\"     \"ALLOQ\"       \"AVAL\"        \"AVALU\"      \n",
       "[86] \"AVALCAT1\"    \"SRCDOM\"      \"SRCVAR\"      \"SRCSEQ\"      \"DTYPE\"      \n",
       "[91] \"MRRLT\"       \"ANL01FL\"     \"ANL02FL\"    "
      ]
     },
     "metadata": {},
     "output_type": "display_data"
    }
   ],
   "source": [
    "colnames(adpc_dtype)"
   ]
  },
  {
   "cell_type": "markdown",
   "id": "d132e95f",
   "metadata": {},
   "source": [
    "### Derive BASE and CHG\n"
   ]
  },
  {
   "cell_type": "code",
   "execution_count": 58,
   "id": "4fb6e520",
   "metadata": {
    "language": "{r",
    "vscode": {
     "languageId": "r"
    }
   },
   "outputs": [],
   "source": [
    "#| label: BASE\n",
    "\n",
    "# ---- Derive BASE and Calculate Change from Baseline ----\n",
    "\n",
    "adpc_base <- adpc_dtype %>%\n",
    "  derive_var_base(\n",
    "    by_vars = exprs(STUDYID, USUBJID, PARAMCD, PARCAT1, BASETYPE),\n",
    "    source_var = AVAL,\n",
    "    new_var = BASE,\n",
    "    filter = ABLFL == \"Y\"\n",
    "  )\n",
    "\n",
    "adpc_chg <- derive_var_chg(adpc_base)\n"
   ]
  },
  {
   "cell_type": "code",
   "execution_count": 59,
   "id": "a48d5811",
   "metadata": {
    "vscode": {
     "languageId": "r"
    }
   },
   "outputs": [
    {
     "data": {
      "text/html": [
       "<table class=\"dataframe\">\n",
       "<caption>A tibble: 3 x 94</caption>\n",
       "<thead>\n",
       "\t<tr><th scope=col>STUDYID</th><th scope=col>DOMAIN</th><th scope=col>USUBJID</th><th scope=col>min_NFRLT</th><th scope=col>maxdate</th><th scope=col>EVID</th><th scope=col>DRUG</th><th scope=col>NFRLT</th><th scope=col>PCSEQ</th><th scope=col>PCTESTCD</th><th scope=col>...</th><th scope=col>AVALU</th><th scope=col>AVALCAT1</th><th scope=col>SRCDOM</th><th scope=col>SRCVAR</th><th scope=col>SRCSEQ</th><th scope=col>DTYPE</th><th scope=col>MRRLT</th><th scope=col>ANL01FL</th><th scope=col>ANL02FL</th><th scope=col>BASE</th></tr>\n",
       "\t<tr><th scope=col>&lt;chr&gt;</th><th scope=col>&lt;chr&gt;</th><th scope=col>&lt;chr&gt;</th><th scope=col>&lt;dbl&gt;</th><th scope=col>&lt;date&gt;</th><th scope=col>&lt;dbl&gt;</th><th scope=col>&lt;chr&gt;</th><th scope=col>&lt;dbl&gt;</th><th scope=col>&lt;int&gt;</th><th scope=col>&lt;chr&gt;</th><th scope=col>...</th><th scope=col>&lt;chr&gt;</th><th scope=col>&lt;chr&gt;</th><th scope=col>&lt;chr&gt;</th><th scope=col>&lt;chr&gt;</th><th scope=col>&lt;dbl&gt;</th><th scope=col>&lt;chr&gt;</th><th scope=col>&lt;dbl&gt;</th><th scope=col>&lt;chr&gt;</th><th scope=col>&lt;chr&gt;</th><th scope=col>&lt;dbl&gt;</th></tr>\n",
       "</thead>\n",
       "<tbody>\n",
       "\t<tr><td>CDISCPILOT01</td><td>PC</td><td>01-701-1028</td><td>0</td><td>2013-07-21</td><td>0</td><td>XANOMELINE</td><td>0.00</td><td> 1</td><td>XAN</td><td>...</td><td>ug/ml</td><td>&lt;BLQ </td><td>PC</td><td>SEQ</td><td>1</td><td>NA</td><td>0.00000000</td><td>Y</td><td>Y</td><td> 0</td></tr>\n",
       "\t<tr><td>CDISCPILOT01</td><td>EX</td><td>01-701-1028</td><td>0</td><td>2013-07-21</td><td>1</td><td>XANOMELINE</td><td>0.00</td><td>NA</td><td>NA </td><td>...</td><td>mg   </td><td>NA   </td><td>EX</td><td>SEQ</td><td>1</td><td>NA</td><td>0.00000000</td><td>Y</td><td>Y</td><td>NA</td></tr>\n",
       "\t<tr><td>CDISCPILOT01</td><td>PC</td><td>01-701-1028</td><td>0</td><td>2013-07-21</td><td>0</td><td>XANOMELINE</td><td>0.08</td><td> 2</td><td>XAN</td><td>...</td><td>ug/ml</td><td>0.102</td><td>PC</td><td>SEQ</td><td>2</td><td>NA</td><td>0.08333333</td><td>Y</td><td>Y</td><td> 0</td></tr>\n",
       "</tbody>\n",
       "</table>\n"
      ],
      "text/latex": [
       "A tibble: 3 x 94\n",
       "\\begin{tabular}{lllllllllllllllllllll}\n",
       " STUDYID & DOMAIN & USUBJID & min\\_NFRLT & maxdate & EVID & DRUG & NFRLT & PCSEQ & PCTESTCD & ... & AVALU & AVALCAT1 & SRCDOM & SRCVAR & SRCSEQ & DTYPE & MRRLT & ANL01FL & ANL02FL & BASE\\\\\n",
       " <chr> & <chr> & <chr> & <dbl> & <date> & <dbl> & <chr> & <dbl> & <int> & <chr> & ... & <chr> & <chr> & <chr> & <chr> & <dbl> & <chr> & <dbl> & <chr> & <chr> & <dbl>\\\\\n",
       "\\hline\n",
       "\t CDISCPILOT01 & PC & 01-701-1028 & 0 & 2013-07-21 & 0 & XANOMELINE & 0.00 &  1 & XAN & ... & ug/ml & <BLQ  & PC & SEQ & 1 & NA & 0.00000000 & Y & Y &  0\\\\\n",
       "\t CDISCPILOT01 & EX & 01-701-1028 & 0 & 2013-07-21 & 1 & XANOMELINE & 0.00 & NA & NA  & ... & mg    & NA    & EX & SEQ & 1 & NA & 0.00000000 & Y & Y & NA\\\\\n",
       "\t CDISCPILOT01 & PC & 01-701-1028 & 0 & 2013-07-21 & 0 & XANOMELINE & 0.08 &  2 & XAN & ... & ug/ml & 0.102 & PC & SEQ & 2 & NA & 0.08333333 & Y & Y &  0\\\\\n",
       "\\end{tabular}\n"
      ],
      "text/markdown": [
       "\n",
       "A tibble: 3 x 94\n",
       "\n",
       "| STUDYID &lt;chr&gt; | DOMAIN &lt;chr&gt; | USUBJID &lt;chr&gt; | min_NFRLT &lt;dbl&gt; | maxdate &lt;date&gt; | EVID &lt;dbl&gt; | DRUG &lt;chr&gt; | NFRLT &lt;dbl&gt; | PCSEQ &lt;int&gt; | PCTESTCD &lt;chr&gt; | ... ... | AVALU &lt;chr&gt; | AVALCAT1 &lt;chr&gt; | SRCDOM &lt;chr&gt; | SRCVAR &lt;chr&gt; | SRCSEQ &lt;dbl&gt; | DTYPE &lt;chr&gt; | MRRLT &lt;dbl&gt; | ANL01FL &lt;chr&gt; | ANL02FL &lt;chr&gt; | BASE &lt;dbl&gt; |\n",
       "|---|---|---|---|---|---|---|---|---|---|---|---|---|---|---|---|---|---|---|---|---|\n",
       "| CDISCPILOT01 | PC | 01-701-1028 | 0 | 2013-07-21 | 0 | XANOMELINE | 0.00 |  1 | XAN | ... | ug/ml | &lt;BLQ  | PC | SEQ | 1 | NA | 0.00000000 | Y | Y |  0 |\n",
       "| CDISCPILOT01 | EX | 01-701-1028 | 0 | 2013-07-21 | 1 | XANOMELINE | 0.00 | NA | NA  | ... | mg    | NA    | EX | SEQ | 1 | NA | 0.00000000 | Y | Y | NA |\n",
       "| CDISCPILOT01 | PC | 01-701-1028 | 0 | 2013-07-21 | 0 | XANOMELINE | 0.08 |  2 | XAN | ... | ug/ml | 0.102 | PC | SEQ | 2 | NA | 0.08333333 | Y | Y |  0 |\n",
       "\n"
      ],
      "text/plain": [
       "  STUDYID      DOMAIN USUBJID     min_NFRLT maxdate    EVID DRUG       NFRLT\n",
       "1 CDISCPILOT01 PC     01-701-1028 0         2013-07-21 0    XANOMELINE 0.00 \n",
       "2 CDISCPILOT01 EX     01-701-1028 0         2013-07-21 1    XANOMELINE 0.00 \n",
       "3 CDISCPILOT01 PC     01-701-1028 0         2013-07-21 0    XANOMELINE 0.08 \n",
       "  PCSEQ PCTESTCD ... AVALU AVALCAT1 SRCDOM SRCVAR SRCSEQ DTYPE MRRLT     \n",
       "1  1    XAN      ... ug/ml <BLQ     PC     SEQ    1      NA    0.00000000\n",
       "2 NA    NA       ... mg    NA       EX     SEQ    1      NA    0.00000000\n",
       "3  2    XAN      ... ug/ml 0.102    PC     SEQ    2      NA    0.08333333\n",
       "  ANL01FL ANL02FL BASE\n",
       "1 Y       Y        0  \n",
       "2 Y       Y       NA  \n",
       "3 Y       Y        0  "
      ]
     },
     "metadata": {},
     "output_type": "display_data"
    }
   ],
   "source": [
    "head(adpc_base,3)"
   ]
  },
  {
   "cell_type": "code",
   "execution_count": 60,
   "id": "7ba3d551",
   "metadata": {
    "vscode": {
     "languageId": "r"
    }
   },
   "outputs": [
    {
     "data": {
      "text/html": [
       "<style>\n",
       ".list-inline {list-style: none; margin:0; padding: 0}\n",
       ".list-inline>li {display: inline-block}\n",
       ".list-inline>li:not(:last-child)::after {content: \"\\00b7\"; padding: 0 .5ex}\n",
       "</style>\n",
       "<ol class=list-inline><li>'STUDYID'</li><li>'DOMAIN'</li><li>'USUBJID'</li><li>'min_NFRLT'</li><li>'maxdate'</li><li>'EVID'</li><li>'DRUG'</li><li>'NFRLT'</li><li>'PCSEQ'</li><li>'PCTESTCD'</li><li>'PCTEST'</li><li>'PCORRES'</li><li>'PCORRESU'</li><li>'PCSTRESC'</li><li>'PCSTRESN'</li><li>'PCSTRESU'</li><li>'PCNAM'</li><li>'PCSPEC'</li><li>'PCLLOQ'</li><li>'VISIT'</li><li>'VISITNUM'</li><li>'PCDTC'</li><li>'PCDY'</li><li>'PCTPT'</li><li>'PCTPTNUM'</li><li>'TRTSDT'</li><li>'TRTSDTM'</li><li>'TRT01P'</li><li>'TRT01A'</li><li>'ADTM'</li><li>'ATMF'</li><li>'ADT'</li><li>'ATM'</li><li>'ADY'</li><li>'FANLDTM'</li><li>'AVISITN'</li><li>'AVISIT'</li><li>'ADTM_prev'</li><li>'EXDOSE_prev'</li><li>'AVISIT_prev'</li><li>'AENDTM_prev'</li><li>'ADTM_next'</li><li>'EXDOSE_next'</li><li>'AVISIT_next'</li><li>'AENDTM_next'</li><li>'NFRLT_prev'</li><li>'NFRLT_next'</li><li>'EXDOSFRQ'</li><li>'EXDOSFRM'</li><li>'EXDOSE'</li><li>'EXDOSU'</li><li>'EXTRT'</li><li>'ASTDT'</li><li>'ASTDTM'</li><li>'AENDT'</li><li>'AENDTM'</li><li>'VISITDY'</li><li>'EXSEQ'</li><li>'ASTTM'</li><li>'AENTM'</li><li>'AFRLT'</li><li>'ARRLT'</li><li>'AXRLT'</li><li>'PCRFTDTM'</li><li>'FANLDT'</li><li>'FANLTM'</li><li>'PCRFTDT'</li><li>'PCRFTTM'</li><li>'NRRLT'</li><li>'NXRLT'</li><li>'PARCAT1'</li><li>'ATPTN'</li><li>'ATPT'</li><li>'ATPTREF'</li><li>'ABLFL'</li><li>'BASETYPE'</li><li>'DOSEA'</li><li>'DOSEP'</li><li>'DOSEU'</li><li>'FRLTU'</li><li>'RRLTU'</li><li>'PARAMCD'</li><li>'ALLOQ'</li><li>'AVAL'</li><li>'AVALU'</li><li>'AVALCAT1'</li><li>'SRCDOM'</li><li>'SRCVAR'</li><li>'SRCSEQ'</li><li>'DTYPE'</li><li>'MRRLT'</li><li>'ANL01FL'</li><li>'ANL02FL'</li><li>'BASE'</li></ol>\n"
      ],
      "text/latex": [
       "\\begin{enumerate*}\n",
       "\\item 'STUDYID'\n",
       "\\item 'DOMAIN'\n",
       "\\item 'USUBJID'\n",
       "\\item 'min\\_NFRLT'\n",
       "\\item 'maxdate'\n",
       "\\item 'EVID'\n",
       "\\item 'DRUG'\n",
       "\\item 'NFRLT'\n",
       "\\item 'PCSEQ'\n",
       "\\item 'PCTESTCD'\n",
       "\\item 'PCTEST'\n",
       "\\item 'PCORRES'\n",
       "\\item 'PCORRESU'\n",
       "\\item 'PCSTRESC'\n",
       "\\item 'PCSTRESN'\n",
       "\\item 'PCSTRESU'\n",
       "\\item 'PCNAM'\n",
       "\\item 'PCSPEC'\n",
       "\\item 'PCLLOQ'\n",
       "\\item 'VISIT'\n",
       "\\item 'VISITNUM'\n",
       "\\item 'PCDTC'\n",
       "\\item 'PCDY'\n",
       "\\item 'PCTPT'\n",
       "\\item 'PCTPTNUM'\n",
       "\\item 'TRTSDT'\n",
       "\\item 'TRTSDTM'\n",
       "\\item 'TRT01P'\n",
       "\\item 'TRT01A'\n",
       "\\item 'ADTM'\n",
       "\\item 'ATMF'\n",
       "\\item 'ADT'\n",
       "\\item 'ATM'\n",
       "\\item 'ADY'\n",
       "\\item 'FANLDTM'\n",
       "\\item 'AVISITN'\n",
       "\\item 'AVISIT'\n",
       "\\item 'ADTM\\_prev'\n",
       "\\item 'EXDOSE\\_prev'\n",
       "\\item 'AVISIT\\_prev'\n",
       "\\item 'AENDTM\\_prev'\n",
       "\\item 'ADTM\\_next'\n",
       "\\item 'EXDOSE\\_next'\n",
       "\\item 'AVISIT\\_next'\n",
       "\\item 'AENDTM\\_next'\n",
       "\\item 'NFRLT\\_prev'\n",
       "\\item 'NFRLT\\_next'\n",
       "\\item 'EXDOSFRQ'\n",
       "\\item 'EXDOSFRM'\n",
       "\\item 'EXDOSE'\n",
       "\\item 'EXDOSU'\n",
       "\\item 'EXTRT'\n",
       "\\item 'ASTDT'\n",
       "\\item 'ASTDTM'\n",
       "\\item 'AENDT'\n",
       "\\item 'AENDTM'\n",
       "\\item 'VISITDY'\n",
       "\\item 'EXSEQ'\n",
       "\\item 'ASTTM'\n",
       "\\item 'AENTM'\n",
       "\\item 'AFRLT'\n",
       "\\item 'ARRLT'\n",
       "\\item 'AXRLT'\n",
       "\\item 'PCRFTDTM'\n",
       "\\item 'FANLDT'\n",
       "\\item 'FANLTM'\n",
       "\\item 'PCRFTDT'\n",
       "\\item 'PCRFTTM'\n",
       "\\item 'NRRLT'\n",
       "\\item 'NXRLT'\n",
       "\\item 'PARCAT1'\n",
       "\\item 'ATPTN'\n",
       "\\item 'ATPT'\n",
       "\\item 'ATPTREF'\n",
       "\\item 'ABLFL'\n",
       "\\item 'BASETYPE'\n",
       "\\item 'DOSEA'\n",
       "\\item 'DOSEP'\n",
       "\\item 'DOSEU'\n",
       "\\item 'FRLTU'\n",
       "\\item 'RRLTU'\n",
       "\\item 'PARAMCD'\n",
       "\\item 'ALLOQ'\n",
       "\\item 'AVAL'\n",
       "\\item 'AVALU'\n",
       "\\item 'AVALCAT1'\n",
       "\\item 'SRCDOM'\n",
       "\\item 'SRCVAR'\n",
       "\\item 'SRCSEQ'\n",
       "\\item 'DTYPE'\n",
       "\\item 'MRRLT'\n",
       "\\item 'ANL01FL'\n",
       "\\item 'ANL02FL'\n",
       "\\item 'BASE'\n",
       "\\end{enumerate*}\n"
      ],
      "text/markdown": [
       "1. 'STUDYID'\n",
       "2. 'DOMAIN'\n",
       "3. 'USUBJID'\n",
       "4. 'min_NFRLT'\n",
       "5. 'maxdate'\n",
       "6. 'EVID'\n",
       "7. 'DRUG'\n",
       "8. 'NFRLT'\n",
       "9. 'PCSEQ'\n",
       "10. 'PCTESTCD'\n",
       "11. 'PCTEST'\n",
       "12. 'PCORRES'\n",
       "13. 'PCORRESU'\n",
       "14. 'PCSTRESC'\n",
       "15. 'PCSTRESN'\n",
       "16. 'PCSTRESU'\n",
       "17. 'PCNAM'\n",
       "18. 'PCSPEC'\n",
       "19. 'PCLLOQ'\n",
       "20. 'VISIT'\n",
       "21. 'VISITNUM'\n",
       "22. 'PCDTC'\n",
       "23. 'PCDY'\n",
       "24. 'PCTPT'\n",
       "25. 'PCTPTNUM'\n",
       "26. 'TRTSDT'\n",
       "27. 'TRTSDTM'\n",
       "28. 'TRT01P'\n",
       "29. 'TRT01A'\n",
       "30. 'ADTM'\n",
       "31. 'ATMF'\n",
       "32. 'ADT'\n",
       "33. 'ATM'\n",
       "34. 'ADY'\n",
       "35. 'FANLDTM'\n",
       "36. 'AVISITN'\n",
       "37. 'AVISIT'\n",
       "38. 'ADTM_prev'\n",
       "39. 'EXDOSE_prev'\n",
       "40. 'AVISIT_prev'\n",
       "41. 'AENDTM_prev'\n",
       "42. 'ADTM_next'\n",
       "43. 'EXDOSE_next'\n",
       "44. 'AVISIT_next'\n",
       "45. 'AENDTM_next'\n",
       "46. 'NFRLT_prev'\n",
       "47. 'NFRLT_next'\n",
       "48. 'EXDOSFRQ'\n",
       "49. 'EXDOSFRM'\n",
       "50. 'EXDOSE'\n",
       "51. 'EXDOSU'\n",
       "52. 'EXTRT'\n",
       "53. 'ASTDT'\n",
       "54. 'ASTDTM'\n",
       "55. 'AENDT'\n",
       "56. 'AENDTM'\n",
       "57. 'VISITDY'\n",
       "58. 'EXSEQ'\n",
       "59. 'ASTTM'\n",
       "60. 'AENTM'\n",
       "61. 'AFRLT'\n",
       "62. 'ARRLT'\n",
       "63. 'AXRLT'\n",
       "64. 'PCRFTDTM'\n",
       "65. 'FANLDT'\n",
       "66. 'FANLTM'\n",
       "67. 'PCRFTDT'\n",
       "68. 'PCRFTTM'\n",
       "69. 'NRRLT'\n",
       "70. 'NXRLT'\n",
       "71. 'PARCAT1'\n",
       "72. 'ATPTN'\n",
       "73. 'ATPT'\n",
       "74. 'ATPTREF'\n",
       "75. 'ABLFL'\n",
       "76. 'BASETYPE'\n",
       "77. 'DOSEA'\n",
       "78. 'DOSEP'\n",
       "79. 'DOSEU'\n",
       "80. 'FRLTU'\n",
       "81. 'RRLTU'\n",
       "82. 'PARAMCD'\n",
       "83. 'ALLOQ'\n",
       "84. 'AVAL'\n",
       "85. 'AVALU'\n",
       "86. 'AVALCAT1'\n",
       "87. 'SRCDOM'\n",
       "88. 'SRCVAR'\n",
       "89. 'SRCSEQ'\n",
       "90. 'DTYPE'\n",
       "91. 'MRRLT'\n",
       "92. 'ANL01FL'\n",
       "93. 'ANL02FL'\n",
       "94. 'BASE'\n",
       "\n",
       "\n"
      ],
      "text/plain": [
       " [1] \"STUDYID\"     \"DOMAIN\"      \"USUBJID\"     \"min_NFRLT\"   \"maxdate\"    \n",
       " [6] \"EVID\"        \"DRUG\"        \"NFRLT\"       \"PCSEQ\"       \"PCTESTCD\"   \n",
       "[11] \"PCTEST\"      \"PCORRES\"     \"PCORRESU\"    \"PCSTRESC\"    \"PCSTRESN\"   \n",
       "[16] \"PCSTRESU\"    \"PCNAM\"       \"PCSPEC\"      \"PCLLOQ\"      \"VISIT\"      \n",
       "[21] \"VISITNUM\"    \"PCDTC\"       \"PCDY\"        \"PCTPT\"       \"PCTPTNUM\"   \n",
       "[26] \"TRTSDT\"      \"TRTSDTM\"     \"TRT01P\"      \"TRT01A\"      \"ADTM\"       \n",
       "[31] \"ATMF\"        \"ADT\"         \"ATM\"         \"ADY\"         \"FANLDTM\"    \n",
       "[36] \"AVISITN\"     \"AVISIT\"      \"ADTM_prev\"   \"EXDOSE_prev\" \"AVISIT_prev\"\n",
       "[41] \"AENDTM_prev\" \"ADTM_next\"   \"EXDOSE_next\" \"AVISIT_next\" \"AENDTM_next\"\n",
       "[46] \"NFRLT_prev\"  \"NFRLT_next\"  \"EXDOSFRQ\"    \"EXDOSFRM\"    \"EXDOSE\"     \n",
       "[51] \"EXDOSU\"      \"EXTRT\"       \"ASTDT\"       \"ASTDTM\"      \"AENDT\"      \n",
       "[56] \"AENDTM\"      \"VISITDY\"     \"EXSEQ\"       \"ASTTM\"       \"AENTM\"      \n",
       "[61] \"AFRLT\"       \"ARRLT\"       \"AXRLT\"       \"PCRFTDTM\"    \"FANLDT\"     \n",
       "[66] \"FANLTM\"      \"PCRFTDT\"     \"PCRFTTM\"     \"NRRLT\"       \"NXRLT\"      \n",
       "[71] \"PARCAT1\"     \"ATPTN\"       \"ATPT\"        \"ATPTREF\"     \"ABLFL\"      \n",
       "[76] \"BASETYPE\"    \"DOSEA\"       \"DOSEP\"       \"DOSEU\"       \"FRLTU\"      \n",
       "[81] \"RRLTU\"       \"PARAMCD\"     \"ALLOQ\"       \"AVAL\"        \"AVALU\"      \n",
       "[86] \"AVALCAT1\"    \"SRCDOM\"      \"SRCVAR\"      \"SRCSEQ\"      \"DTYPE\"      \n",
       "[91] \"MRRLT\"       \"ANL01FL\"     \"ANL02FL\"     \"BASE\"       "
      ]
     },
     "metadata": {},
     "output_type": "display_data"
    }
   ],
   "source": [
    "colnames(adpc_base)"
   ]
  },
  {
   "cell_type": "markdown",
   "id": "1d4d60e9",
   "metadata": {},
   "source": [
    "### Derive `PARAM` with `{metatools}`\n"
   ]
  },
  {
   "cell_type": "markdown",
   "id": "53d7cd1f",
   "metadata": {},
   "source": [
    "Here we derive `PARAM` and `PARAMN` using `create_var_from_codelist()` from `{metatools}`.\n"
   ]
  },
  {
   "cell_type": "code",
   "execution_count": 61,
   "id": "2169df69",
   "metadata": {
    "language": "{r",
    "vscode": {
     "languageId": "r"
    }
   },
   "outputs": [],
   "source": [
    "#| label: ASEQ\n",
    "\n",
    "# ---- Add ASEQ ----\n",
    "\n",
    "adpc_aseq <- adpc_chg %>%\n",
    "  # Calculate ASEQ\n",
    "  derive_var_obs_number(\n",
    "    new_var = ASEQ,\n",
    "    by_vars = exprs(STUDYID, USUBJID),\n",
    "    order = exprs(ADTM, BASETYPE, EVID, AVISITN, ATPTN, PARCAT1, DTYPE),\n",
    "    check_type = \"error\"\n",
    "  ) %>%\n",
    "  # Derive PARAM and PARAMN using metatools\n",
    "  create_var_from_codelist(metacore, input_var = PARAMCD, out_var = PARAM) %>%\n",
    "  create_var_from_codelist(metacore, input_var = PARAMCD, out_var = PARAMN)\n"
   ]
  },
  {
   "cell_type": "code",
   "execution_count": 62,
   "id": "e7255664",
   "metadata": {
    "vscode": {
     "languageId": "r"
    }
   },
   "outputs": [
    {
     "data": {
      "text/html": [
       "<table class=\"dataframe\">\n",
       "<caption>A tibble: 3 x 98</caption>\n",
       "<thead>\n",
       "\t<tr><th scope=col>STUDYID</th><th scope=col>DOMAIN</th><th scope=col>USUBJID</th><th scope=col>min_NFRLT</th><th scope=col>maxdate</th><th scope=col>EVID</th><th scope=col>DRUG</th><th scope=col>NFRLT</th><th scope=col>PCSEQ</th><th scope=col>PCTESTCD</th><th scope=col>...</th><th scope=col>SRCSEQ</th><th scope=col>DTYPE</th><th scope=col>MRRLT</th><th scope=col>ANL01FL</th><th scope=col>ANL02FL</th><th scope=col>BASE</th><th scope=col>CHG</th><th scope=col>ASEQ</th><th scope=col>PARAM</th><th scope=col>PARAMN</th></tr>\n",
       "\t<tr><th scope=col>&lt;chr&gt;</th><th scope=col>&lt;chr&gt;</th><th scope=col>&lt;chr&gt;</th><th scope=col>&lt;dbl&gt;</th><th scope=col>&lt;date&gt;</th><th scope=col>&lt;dbl&gt;</th><th scope=col>&lt;chr&gt;</th><th scope=col>&lt;dbl&gt;</th><th scope=col>&lt;int&gt;</th><th scope=col>&lt;chr&gt;</th><th scope=col>...</th><th scope=col>&lt;dbl&gt;</th><th scope=col>&lt;chr&gt;</th><th scope=col>&lt;dbl&gt;</th><th scope=col>&lt;chr&gt;</th><th scope=col>&lt;chr&gt;</th><th scope=col>&lt;dbl&gt;</th><th scope=col>&lt;dbl&gt;</th><th scope=col>&lt;int&gt;</th><th scope=col>&lt;chr&gt;</th><th scope=col>&lt;dbl&gt;</th></tr>\n",
       "</thead>\n",
       "<tbody>\n",
       "\t<tr><td>CDISCPILOT01</td><td>PC</td><td>01-701-1028</td><td>0</td><td>2013-07-21</td><td>0</td><td>XANOMELINE</td><td>0.00</td><td> 1</td><td>XAN</td><td>...</td><td>1</td><td>NA</td><td>0.00000000</td><td>Y</td><td>Y</td><td> 0</td><td>0.0000000</td><td>1</td><td>Pharmacokinetic concentration of Xanomeline</td><td>1</td></tr>\n",
       "\t<tr><td>CDISCPILOT01</td><td>EX</td><td>01-701-1028</td><td>0</td><td>2013-07-21</td><td>1</td><td>XANOMELINE</td><td>0.00</td><td>NA</td><td>NA </td><td>...</td><td>1</td><td>NA</td><td>0.00000000</td><td>Y</td><td>Y</td><td>NA</td><td>       NA</td><td>2</td><td>Xanomeline Patch Dose                      </td><td>2</td></tr>\n",
       "\t<tr><td>CDISCPILOT01</td><td>PC</td><td>01-701-1028</td><td>0</td><td>2013-07-21</td><td>0</td><td>XANOMELINE</td><td>0.08</td><td> 2</td><td>XAN</td><td>...</td><td>2</td><td>NA</td><td>0.08333333</td><td>Y</td><td>Y</td><td> 0</td><td>0.1015662</td><td>3</td><td>Pharmacokinetic concentration of Xanomeline</td><td>1</td></tr>\n",
       "</tbody>\n",
       "</table>\n"
      ],
      "text/latex": [
       "A tibble: 3 x 98\n",
       "\\begin{tabular}{lllllllllllllllllllll}\n",
       " STUDYID & DOMAIN & USUBJID & min\\_NFRLT & maxdate & EVID & DRUG & NFRLT & PCSEQ & PCTESTCD & ... & SRCSEQ & DTYPE & MRRLT & ANL01FL & ANL02FL & BASE & CHG & ASEQ & PARAM & PARAMN\\\\\n",
       " <chr> & <chr> & <chr> & <dbl> & <date> & <dbl> & <chr> & <dbl> & <int> & <chr> & ... & <dbl> & <chr> & <dbl> & <chr> & <chr> & <dbl> & <dbl> & <int> & <chr> & <dbl>\\\\\n",
       "\\hline\n",
       "\t CDISCPILOT01 & PC & 01-701-1028 & 0 & 2013-07-21 & 0 & XANOMELINE & 0.00 &  1 & XAN & ... & 1 & NA & 0.00000000 & Y & Y &  0 & 0.0000000 & 1 & Pharmacokinetic concentration of Xanomeline & 1\\\\\n",
       "\t CDISCPILOT01 & EX & 01-701-1028 & 0 & 2013-07-21 & 1 & XANOMELINE & 0.00 & NA & NA  & ... & 1 & NA & 0.00000000 & Y & Y & NA &        NA & 2 & Xanomeline Patch Dose                       & 2\\\\\n",
       "\t CDISCPILOT01 & PC & 01-701-1028 & 0 & 2013-07-21 & 0 & XANOMELINE & 0.08 &  2 & XAN & ... & 2 & NA & 0.08333333 & Y & Y &  0 & 0.1015662 & 3 & Pharmacokinetic concentration of Xanomeline & 1\\\\\n",
       "\\end{tabular}\n"
      ],
      "text/markdown": [
       "\n",
       "A tibble: 3 x 98\n",
       "\n",
       "| STUDYID &lt;chr&gt; | DOMAIN &lt;chr&gt; | USUBJID &lt;chr&gt; | min_NFRLT &lt;dbl&gt; | maxdate &lt;date&gt; | EVID &lt;dbl&gt; | DRUG &lt;chr&gt; | NFRLT &lt;dbl&gt; | PCSEQ &lt;int&gt; | PCTESTCD &lt;chr&gt; | ... ... | SRCSEQ &lt;dbl&gt; | DTYPE &lt;chr&gt; | MRRLT &lt;dbl&gt; | ANL01FL &lt;chr&gt; | ANL02FL &lt;chr&gt; | BASE &lt;dbl&gt; | CHG &lt;dbl&gt; | ASEQ &lt;int&gt; | PARAM &lt;chr&gt; | PARAMN &lt;dbl&gt; |\n",
       "|---|---|---|---|---|---|---|---|---|---|---|---|---|---|---|---|---|---|---|---|---|\n",
       "| CDISCPILOT01 | PC | 01-701-1028 | 0 | 2013-07-21 | 0 | XANOMELINE | 0.00 |  1 | XAN | ... | 1 | NA | 0.00000000 | Y | Y |  0 | 0.0000000 | 1 | Pharmacokinetic concentration of Xanomeline | 1 |\n",
       "| CDISCPILOT01 | EX | 01-701-1028 | 0 | 2013-07-21 | 1 | XANOMELINE | 0.00 | NA | NA  | ... | 1 | NA | 0.00000000 | Y | Y | NA |        NA | 2 | Xanomeline Patch Dose                       | 2 |\n",
       "| CDISCPILOT01 | PC | 01-701-1028 | 0 | 2013-07-21 | 0 | XANOMELINE | 0.08 |  2 | XAN | ... | 2 | NA | 0.08333333 | Y | Y |  0 | 0.1015662 | 3 | Pharmacokinetic concentration of Xanomeline | 1 |\n",
       "\n"
      ],
      "text/plain": [
       "  STUDYID      DOMAIN USUBJID     min_NFRLT maxdate    EVID DRUG       NFRLT\n",
       "1 CDISCPILOT01 PC     01-701-1028 0         2013-07-21 0    XANOMELINE 0.00 \n",
       "2 CDISCPILOT01 EX     01-701-1028 0         2013-07-21 1    XANOMELINE 0.00 \n",
       "3 CDISCPILOT01 PC     01-701-1028 0         2013-07-21 0    XANOMELINE 0.08 \n",
       "  PCSEQ PCTESTCD ... SRCSEQ DTYPE MRRLT      ANL01FL ANL02FL BASE CHG      \n",
       "1  1    XAN      ... 1      NA    0.00000000 Y       Y        0   0.0000000\n",
       "2 NA    NA       ... 1      NA    0.00000000 Y       Y       NA          NA\n",
       "3  2    XAN      ... 2      NA    0.08333333 Y       Y        0   0.1015662\n",
       "  ASEQ PARAM                                       PARAMN\n",
       "1 1    Pharmacokinetic concentration of Xanomeline 1     \n",
       "2 2    Xanomeline Patch Dose                       2     \n",
       "3 3    Pharmacokinetic concentration of Xanomeline 1     "
      ]
     },
     "metadata": {},
     "output_type": "display_data"
    }
   ],
   "source": [
    "head(adpc_aseq,3)"
   ]
  },
  {
   "cell_type": "markdown",
   "id": "ee87b550",
   "metadata": {},
   "source": [
    "### Derive Additional Baselines\n"
   ]
  },
  {
   "cell_type": "markdown",
   "id": "048c57bb",
   "metadata": {},
   "source": [
    "Here we derive additional baseline values from `VS` for baseline height `HTBL` and weight `WTBL` and compute the body mass index (BMI) with `compute_bmi()`.\n"
   ]
  },
  {
   "cell_type": "code",
   "execution_count": 63,
   "id": "6366c487",
   "metadata": {
    "language": "{r",
    "vscode": {
     "languageId": "r"
    }
   },
   "outputs": [],
   "source": [
    "#| label: Baselines\n",
    "#---- Derive additional baselines from VS ----\n",
    "\n",
    "adpc_baselines <- adpc_aseq %>%\n",
    "  derive_vars_merged(\n",
    "    dataset_add = vs,\n",
    "    filter_add = VSTESTCD == \"HEIGHT\",\n",
    "    by_vars = exprs(STUDYID, USUBJID),\n",
    "    new_vars = exprs(HTBL = VSSTRESN, HTBLU = VSSTRESU)\n",
    "  ) %>%\n",
    "  derive_vars_merged(\n",
    "    dataset_add = vs,\n",
    "    filter_add = VSTESTCD == \"WEIGHT\" & VSBLFL == \"Y\",\n",
    "    by_vars = exprs(STUDYID, USUBJID),\n",
    "    new_vars = exprs(WTBL = VSSTRESN, WTBLU = VSSTRESU)\n",
    "  ) %>%\n",
    "  mutate(\n",
    "    BMIBL = compute_bmi(height = HTBL, weight = WTBL),\n",
    "    BMIBLU = \"kg/m^2\"\n",
    "  )\n"
   ]
  },
  {
   "cell_type": "code",
   "execution_count": 64,
   "id": "1cd91e0d",
   "metadata": {
    "vscode": {
     "languageId": "r"
    }
   },
   "outputs": [
    {
     "data": {
      "text/html": [
       "<table class=\"dataframe\">\n",
       "<caption>A tibble: 3 x 104</caption>\n",
       "<thead>\n",
       "\t<tr><th scope=col>STUDYID</th><th scope=col>DOMAIN</th><th scope=col>USUBJID</th><th scope=col>min_NFRLT</th><th scope=col>maxdate</th><th scope=col>EVID</th><th scope=col>DRUG</th><th scope=col>NFRLT</th><th scope=col>PCSEQ</th><th scope=col>PCTESTCD</th><th scope=col>...</th><th scope=col>CHG</th><th scope=col>ASEQ</th><th scope=col>PARAM</th><th scope=col>PARAMN</th><th scope=col>HTBL</th><th scope=col>HTBLU</th><th scope=col>WTBL</th><th scope=col>WTBLU</th><th scope=col>BMIBL</th><th scope=col>BMIBLU</th></tr>\n",
       "\t<tr><th scope=col>&lt;chr&gt;</th><th scope=col>&lt;chr&gt;</th><th scope=col>&lt;chr&gt;</th><th scope=col>&lt;dbl&gt;</th><th scope=col>&lt;date&gt;</th><th scope=col>&lt;dbl&gt;</th><th scope=col>&lt;chr&gt;</th><th scope=col>&lt;dbl&gt;</th><th scope=col>&lt;int&gt;</th><th scope=col>&lt;chr&gt;</th><th scope=col>...</th><th scope=col>&lt;dbl&gt;</th><th scope=col>&lt;int&gt;</th><th scope=col>&lt;chr&gt;</th><th scope=col>&lt;dbl&gt;</th><th scope=col>&lt;dbl&gt;</th><th scope=col>&lt;chr&gt;</th><th scope=col>&lt;dbl&gt;</th><th scope=col>&lt;chr&gt;</th><th scope=col>&lt;dbl&gt;</th><th scope=col>&lt;chr&gt;</th></tr>\n",
       "</thead>\n",
       "<tbody>\n",
       "\t<tr><td>CDISCPILOT01</td><td>PC</td><td>01-701-1028</td><td>0</td><td>2013-07-21</td><td>0</td><td>XANOMELINE</td><td>0.00</td><td> 1</td><td>XAN</td><td>...</td><td>0.0000000</td><td>1</td><td>Pharmacokinetic concentration of Xanomeline</td><td>1</td><td>177.8</td><td>cm</td><td>99.34</td><td>kg</td><td>31.42394</td><td>kg/m^2</td></tr>\n",
       "\t<tr><td>CDISCPILOT01</td><td>EX</td><td>01-701-1028</td><td>0</td><td>2013-07-21</td><td>1</td><td>XANOMELINE</td><td>0.00</td><td>NA</td><td>NA </td><td>...</td><td>       NA</td><td>2</td><td>Xanomeline Patch Dose                      </td><td>2</td><td>177.8</td><td>cm</td><td>99.34</td><td>kg</td><td>31.42394</td><td>kg/m^2</td></tr>\n",
       "\t<tr><td>CDISCPILOT01</td><td>PC</td><td>01-701-1028</td><td>0</td><td>2013-07-21</td><td>0</td><td>XANOMELINE</td><td>0.08</td><td> 2</td><td>XAN</td><td>...</td><td>0.1015662</td><td>3</td><td>Pharmacokinetic concentration of Xanomeline</td><td>1</td><td>177.8</td><td>cm</td><td>99.34</td><td>kg</td><td>31.42394</td><td>kg/m^2</td></tr>\n",
       "</tbody>\n",
       "</table>\n"
      ],
      "text/latex": [
       "A tibble: 3 x 104\n",
       "\\begin{tabular}{lllllllllllllllllllll}\n",
       " STUDYID & DOMAIN & USUBJID & min\\_NFRLT & maxdate & EVID & DRUG & NFRLT & PCSEQ & PCTESTCD & ... & CHG & ASEQ & PARAM & PARAMN & HTBL & HTBLU & WTBL & WTBLU & BMIBL & BMIBLU\\\\\n",
       " <chr> & <chr> & <chr> & <dbl> & <date> & <dbl> & <chr> & <dbl> & <int> & <chr> & ... & <dbl> & <int> & <chr> & <dbl> & <dbl> & <chr> & <dbl> & <chr> & <dbl> & <chr>\\\\\n",
       "\\hline\n",
       "\t CDISCPILOT01 & PC & 01-701-1028 & 0 & 2013-07-21 & 0 & XANOMELINE & 0.00 &  1 & XAN & ... & 0.0000000 & 1 & Pharmacokinetic concentration of Xanomeline & 1 & 177.8 & cm & 99.34 & kg & 31.42394 & kg/m\\textasciicircum{}2\\\\\n",
       "\t CDISCPILOT01 & EX & 01-701-1028 & 0 & 2013-07-21 & 1 & XANOMELINE & 0.00 & NA & NA  & ... &        NA & 2 & Xanomeline Patch Dose                       & 2 & 177.8 & cm & 99.34 & kg & 31.42394 & kg/m\\textasciicircum{}2\\\\\n",
       "\t CDISCPILOT01 & PC & 01-701-1028 & 0 & 2013-07-21 & 0 & XANOMELINE & 0.08 &  2 & XAN & ... & 0.1015662 & 3 & Pharmacokinetic concentration of Xanomeline & 1 & 177.8 & cm & 99.34 & kg & 31.42394 & kg/m\\textasciicircum{}2\\\\\n",
       "\\end{tabular}\n"
      ],
      "text/markdown": [
       "\n",
       "A tibble: 3 x 104\n",
       "\n",
       "| STUDYID &lt;chr&gt; | DOMAIN &lt;chr&gt; | USUBJID &lt;chr&gt; | min_NFRLT &lt;dbl&gt; | maxdate &lt;date&gt; | EVID &lt;dbl&gt; | DRUG &lt;chr&gt; | NFRLT &lt;dbl&gt; | PCSEQ &lt;int&gt; | PCTESTCD &lt;chr&gt; | ... ... | CHG &lt;dbl&gt; | ASEQ &lt;int&gt; | PARAM &lt;chr&gt; | PARAMN &lt;dbl&gt; | HTBL &lt;dbl&gt; | HTBLU &lt;chr&gt; | WTBL &lt;dbl&gt; | WTBLU &lt;chr&gt; | BMIBL &lt;dbl&gt; | BMIBLU &lt;chr&gt; |\n",
       "|---|---|---|---|---|---|---|---|---|---|---|---|---|---|---|---|---|---|---|---|---|\n",
       "| CDISCPILOT01 | PC | 01-701-1028 | 0 | 2013-07-21 | 0 | XANOMELINE | 0.00 |  1 | XAN | ... | 0.0000000 | 1 | Pharmacokinetic concentration of Xanomeline | 1 | 177.8 | cm | 99.34 | kg | 31.42394 | kg/m^2 |\n",
       "| CDISCPILOT01 | EX | 01-701-1028 | 0 | 2013-07-21 | 1 | XANOMELINE | 0.00 | NA | NA  | ... |        NA | 2 | Xanomeline Patch Dose                       | 2 | 177.8 | cm | 99.34 | kg | 31.42394 | kg/m^2 |\n",
       "| CDISCPILOT01 | PC | 01-701-1028 | 0 | 2013-07-21 | 0 | XANOMELINE | 0.08 |  2 | XAN | ... | 0.1015662 | 3 | Pharmacokinetic concentration of Xanomeline | 1 | 177.8 | cm | 99.34 | kg | 31.42394 | kg/m^2 |\n",
       "\n"
      ],
      "text/plain": [
       "  STUDYID      DOMAIN USUBJID     min_NFRLT maxdate    EVID DRUG       NFRLT\n",
       "1 CDISCPILOT01 PC     01-701-1028 0         2013-07-21 0    XANOMELINE 0.00 \n",
       "2 CDISCPILOT01 EX     01-701-1028 0         2013-07-21 1    XANOMELINE 0.00 \n",
       "3 CDISCPILOT01 PC     01-701-1028 0         2013-07-21 0    XANOMELINE 0.08 \n",
       "  PCSEQ PCTESTCD ... CHG       ASEQ PARAM                                      \n",
       "1  1    XAN      ... 0.0000000 1    Pharmacokinetic concentration of Xanomeline\n",
       "2 NA    NA       ...        NA 2    Xanomeline Patch Dose                      \n",
       "3  2    XAN      ... 0.1015662 3    Pharmacokinetic concentration of Xanomeline\n",
       "  PARAMN HTBL  HTBLU WTBL  WTBLU BMIBL    BMIBLU\n",
       "1 1      177.8 cm    99.34 kg    31.42394 kg/m^2\n",
       "2 2      177.8 cm    99.34 kg    31.42394 kg/m^2\n",
       "3 1      177.8 cm    99.34 kg    31.42394 kg/m^2"
      ]
     },
     "metadata": {},
     "output_type": "display_data"
    }
   ],
   "source": [
    "head(adpc_baselines,3)"
   ]
  },
  {
   "cell_type": "markdown",
   "id": "8f0df07a",
   "metadata": {},
   "source": [
    "### Combine with ADSL\n"
   ]
  },
  {
   "cell_type": "markdown",
   "id": "669c9cae",
   "metadata": {},
   "source": [
    "If needed, the other `ADSL` variables can now be added:\n"
   ]
  },
  {
   "cell_type": "code",
   "execution_count": 65,
   "id": "d1a19ab9",
   "metadata": {
    "language": "{r",
    "vscode": {
     "languageId": "r"
    }
   },
   "outputs": [],
   "source": [
    "#| label: Combine with ADSL\n",
    "# ---- Add all ADSL variables ----\n",
    "\n",
    "# Add all ADSL variables\n",
    "adpc_prefinal <- adpc_baselines %>%\n",
    "  derive_vars_merged(\n",
    "    dataset_add = select(adsl, !!!negate_vars(adsl_vars)),\n",
    "    by_vars = exprs(STUDYID, USUBJID)\n",
    "  )\n"
   ]
  },
  {
   "cell_type": "code",
   "execution_count": 66,
   "id": "e8253779",
   "metadata": {
    "vscode": {
     "languageId": "r"
    }
   },
   "outputs": [
    {
     "data": {
      "text/html": [
       "<table class=\"dataframe\">\n",
       "<caption>A tibble: 3 x 152</caption>\n",
       "<thead>\n",
       "\t<tr><th scope=col>STUDYID</th><th scope=col>DOMAIN</th><th scope=col>USUBJID</th><th scope=col>min_NFRLT</th><th scope=col>maxdate</th><th scope=col>EVID</th><th scope=col>DRUG</th><th scope=col>NFRLT</th><th scope=col>PCSEQ</th><th scope=col>PCTESTCD</th><th scope=col>...</th><th scope=col>DTHCGR1</th><th scope=col>LSTALVDT</th><th scope=col>SAFFL</th><th scope=col>RACEGR1</th><th scope=col>AGEGR1</th><th scope=col>REGION1</th><th scope=col>LDDTHGR1</th><th scope=col>DTH30FL</th><th scope=col>DTHA30FL</th><th scope=col>DTHB30FL</th></tr>\n",
       "\t<tr><th scope=col>&lt;chr&gt;</th><th scope=col>&lt;chr&gt;</th><th scope=col>&lt;chr&gt;</th><th scope=col>&lt;dbl&gt;</th><th scope=col>&lt;date&gt;</th><th scope=col>&lt;dbl&gt;</th><th scope=col>&lt;chr&gt;</th><th scope=col>&lt;dbl&gt;</th><th scope=col>&lt;int&gt;</th><th scope=col>&lt;chr&gt;</th><th scope=col>...</th><th scope=col>&lt;chr&gt;</th><th scope=col>&lt;date&gt;</th><th scope=col>&lt;chr&gt;</th><th scope=col>&lt;chr&gt;</th><th scope=col>&lt;chr&gt;</th><th scope=col>&lt;chr&gt;</th><th scope=col>&lt;chr&gt;</th><th scope=col>&lt;chr&gt;</th><th scope=col>&lt;chr&gt;</th><th scope=col>&lt;chr&gt;</th></tr>\n",
       "</thead>\n",
       "<tbody>\n",
       "\t<tr><td>CDISCPILOT01</td><td>PC</td><td>01-701-1028</td><td>0</td><td>2013-07-21</td><td>0</td><td>XANOMELINE</td><td>0.00</td><td> 1</td><td>XAN</td><td>...</td><td>NA</td><td>2014-01-14</td><td>Y</td><td>White</td><td>&gt;64</td><td>NA</td><td>NA</td><td>NA</td><td>NA</td><td>NA</td></tr>\n",
       "\t<tr><td>CDISCPILOT01</td><td>EX</td><td>01-701-1028</td><td>0</td><td>2013-07-21</td><td>1</td><td>XANOMELINE</td><td>0.00</td><td>NA</td><td>NA </td><td>...</td><td>NA</td><td>2014-01-14</td><td>Y</td><td>White</td><td>&gt;64</td><td>NA</td><td>NA</td><td>NA</td><td>NA</td><td>NA</td></tr>\n",
       "\t<tr><td>CDISCPILOT01</td><td>PC</td><td>01-701-1028</td><td>0</td><td>2013-07-21</td><td>0</td><td>XANOMELINE</td><td>0.08</td><td> 2</td><td>XAN</td><td>...</td><td>NA</td><td>2014-01-14</td><td>Y</td><td>White</td><td>&gt;64</td><td>NA</td><td>NA</td><td>NA</td><td>NA</td><td>NA</td></tr>\n",
       "</tbody>\n",
       "</table>\n"
      ],
      "text/latex": [
       "A tibble: 3 x 152\n",
       "\\begin{tabular}{lllllllllllllllllllll}\n",
       " STUDYID & DOMAIN & USUBJID & min\\_NFRLT & maxdate & EVID & DRUG & NFRLT & PCSEQ & PCTESTCD & ... & DTHCGR1 & LSTALVDT & SAFFL & RACEGR1 & AGEGR1 & REGION1 & LDDTHGR1 & DTH30FL & DTHA30FL & DTHB30FL\\\\\n",
       " <chr> & <chr> & <chr> & <dbl> & <date> & <dbl> & <chr> & <dbl> & <int> & <chr> & ... & <chr> & <date> & <chr> & <chr> & <chr> & <chr> & <chr> & <chr> & <chr> & <chr>\\\\\n",
       "\\hline\n",
       "\t CDISCPILOT01 & PC & 01-701-1028 & 0 & 2013-07-21 & 0 & XANOMELINE & 0.00 &  1 & XAN & ... & NA & 2014-01-14 & Y & White & >64 & NA & NA & NA & NA & NA\\\\\n",
       "\t CDISCPILOT01 & EX & 01-701-1028 & 0 & 2013-07-21 & 1 & XANOMELINE & 0.00 & NA & NA  & ... & NA & 2014-01-14 & Y & White & >64 & NA & NA & NA & NA & NA\\\\\n",
       "\t CDISCPILOT01 & PC & 01-701-1028 & 0 & 2013-07-21 & 0 & XANOMELINE & 0.08 &  2 & XAN & ... & NA & 2014-01-14 & Y & White & >64 & NA & NA & NA & NA & NA\\\\\n",
       "\\end{tabular}\n"
      ],
      "text/markdown": [
       "\n",
       "A tibble: 3 x 152\n",
       "\n",
       "| STUDYID &lt;chr&gt; | DOMAIN &lt;chr&gt; | USUBJID &lt;chr&gt; | min_NFRLT &lt;dbl&gt; | maxdate &lt;date&gt; | EVID &lt;dbl&gt; | DRUG &lt;chr&gt; | NFRLT &lt;dbl&gt; | PCSEQ &lt;int&gt; | PCTESTCD &lt;chr&gt; | ... ... | DTHCGR1 &lt;chr&gt; | LSTALVDT &lt;date&gt; | SAFFL &lt;chr&gt; | RACEGR1 &lt;chr&gt; | AGEGR1 &lt;chr&gt; | REGION1 &lt;chr&gt; | LDDTHGR1 &lt;chr&gt; | DTH30FL &lt;chr&gt; | DTHA30FL &lt;chr&gt; | DTHB30FL &lt;chr&gt; |\n",
       "|---|---|---|---|---|---|---|---|---|---|---|---|---|---|---|---|---|---|---|---|---|\n",
       "| CDISCPILOT01 | PC | 01-701-1028 | 0 | 2013-07-21 | 0 | XANOMELINE | 0.00 |  1 | XAN | ... | NA | 2014-01-14 | Y | White | &gt;64 | NA | NA | NA | NA | NA |\n",
       "| CDISCPILOT01 | EX | 01-701-1028 | 0 | 2013-07-21 | 1 | XANOMELINE | 0.00 | NA | NA  | ... | NA | 2014-01-14 | Y | White | &gt;64 | NA | NA | NA | NA | NA |\n",
       "| CDISCPILOT01 | PC | 01-701-1028 | 0 | 2013-07-21 | 0 | XANOMELINE | 0.08 |  2 | XAN | ... | NA | 2014-01-14 | Y | White | &gt;64 | NA | NA | NA | NA | NA |\n",
       "\n"
      ],
      "text/plain": [
       "  STUDYID      DOMAIN USUBJID     min_NFRLT maxdate    EVID DRUG       NFRLT\n",
       "1 CDISCPILOT01 PC     01-701-1028 0         2013-07-21 0    XANOMELINE 0.00 \n",
       "2 CDISCPILOT01 EX     01-701-1028 0         2013-07-21 1    XANOMELINE 0.00 \n",
       "3 CDISCPILOT01 PC     01-701-1028 0         2013-07-21 0    XANOMELINE 0.08 \n",
       "  PCSEQ PCTESTCD ... DTHCGR1 LSTALVDT   SAFFL RACEGR1 AGEGR1 REGION1 LDDTHGR1\n",
       "1  1    XAN      ... NA      2014-01-14 Y     White   >64    NA      NA      \n",
       "2 NA    NA       ... NA      2014-01-14 Y     White   >64    NA      NA      \n",
       "3  2    XAN      ... NA      2014-01-14 Y     White   >64    NA      NA      \n",
       "  DTH30FL DTHA30FL DTHB30FL\n",
       "1 NA      NA       NA      \n",
       "2 NA      NA       NA      \n",
       "3 NA      NA       NA      "
      ]
     },
     "metadata": {},
     "output_type": "display_data"
    }
   ],
   "source": [
    "head(adpc_prefinal,3)"
   ]
  },
  {
   "cell_type": "code",
   "execution_count": 67,
   "id": "49edb5a9",
   "metadata": {
    "vscode": {
     "languageId": "r"
    }
   },
   "outputs": [
    {
     "data": {
      "text/html": [
       "<style>\n",
       ".list-inline {list-style: none; margin:0; padding: 0}\n",
       ".list-inline>li {display: inline-block}\n",
       ".list-inline>li:not(:last-child)::after {content: \"\\00b7\"; padding: 0 .5ex}\n",
       "</style>\n",
       "<ol class=list-inline><li>'STUDYID'</li><li>'DOMAIN'</li><li>'USUBJID'</li><li>'min_NFRLT'</li><li>'maxdate'</li><li>'EVID'</li><li>'DRUG'</li><li>'NFRLT'</li><li>'PCSEQ'</li><li>'PCTESTCD'</li><li>'PCTEST'</li><li>'PCORRES'</li><li>'PCORRESU'</li><li>'PCSTRESC'</li><li>'PCSTRESN'</li><li>'PCSTRESU'</li><li>'PCNAM'</li><li>'PCSPEC'</li><li>'PCLLOQ'</li><li>'VISIT'</li><li>'VISITNUM'</li><li>'PCDTC'</li><li>'PCDY'</li><li>'PCTPT'</li><li>'PCTPTNUM'</li><li>'TRTSDT'</li><li>'TRTSDTM'</li><li>'TRT01P'</li><li>'TRT01A'</li><li>'ADTM'</li><li>'ATMF'</li><li>'ADT'</li><li>'ATM'</li><li>'ADY'</li><li>'FANLDTM'</li><li>'AVISITN'</li><li>'AVISIT'</li><li>'ADTM_prev'</li><li>'EXDOSE_prev'</li><li>'AVISIT_prev'</li><li>'AENDTM_prev'</li><li>'ADTM_next'</li><li>'EXDOSE_next'</li><li>'AVISIT_next'</li><li>'AENDTM_next'</li><li>'NFRLT_prev'</li><li>'NFRLT_next'</li><li>'EXDOSFRQ'</li><li>'EXDOSFRM'</li><li>'EXDOSE'</li><li>'EXDOSU'</li><li>'EXTRT'</li><li>'ASTDT'</li><li>'ASTDTM'</li><li>'AENDT'</li><li>'AENDTM'</li><li>'VISITDY'</li><li>'EXSEQ'</li><li>'ASTTM'</li><li>'AENTM'</li><li>'AFRLT'</li><li>'ARRLT'</li><li>'AXRLT'</li><li>'PCRFTDTM'</li><li>'FANLDT'</li><li>'FANLTM'</li><li>'PCRFTDT'</li><li>'PCRFTTM'</li><li>'NRRLT'</li><li>'NXRLT'</li><li>'PARCAT1'</li><li>'ATPTN'</li><li>'ATPT'</li><li>'ATPTREF'</li><li>'ABLFL'</li><li>'BASETYPE'</li><li>'DOSEA'</li><li>'DOSEP'</li><li>'DOSEU'</li><li>'FRLTU'</li><li>'RRLTU'</li><li>'PARAMCD'</li><li>'ALLOQ'</li><li>'AVAL'</li><li>'AVALU'</li><li>'AVALCAT1'</li><li>'SRCDOM'</li><li>'SRCVAR'</li><li>'SRCSEQ'</li><li>'DTYPE'</li><li>'MRRLT'</li><li>'ANL01FL'</li><li>'ANL02FL'</li><li>'BASE'</li><li>'CHG'</li><li>'ASEQ'</li><li>'PARAM'</li><li>'PARAMN'</li><li>'HTBL'</li><li>'HTBLU'</li><li>'WTBL'</li><li>'WTBLU'</li><li>'BMIBL'</li><li>'BMIBLU'</li><li>'SUBJID'</li><li>'RFSTDTC'</li><li>'RFENDTC'</li><li>'RFXSTDTC'</li><li>'RFXENDTC'</li><li>'RFICDTC'</li><li>'RFPENDTC'</li><li>'DTHDTC'</li><li>'DTHFL'</li><li>'SITEID'</li><li>'AGE'</li><li>'AGEU'</li><li>'SEX'</li><li>'RACE'</li><li>'ETHNIC'</li><li>'ARMCD'</li><li>'ARM'</li><li>'ACTARMCD'</li><li>'ACTARM'</li><li>'COUNTRY'</li><li>'DMDTC'</li><li>'DMDY'</li><li>'TRTSTMF'</li><li>'TRTEDTM'</li><li>'TRTETMF'</li><li>'TRTEDT'</li><li>'TRTDURD'</li><li>'SCRFDT'</li><li>'EOSDT'</li><li>'EOSSTT'</li><li>'FRVDT'</li><li>'RANDDT'</li><li>'DTHDT'</li><li>'DTHDTF'</li><li>'DTHADY'</li><li>'LDDTHELD'</li><li>'DTHCAUS'</li><li>'DTHDOM'</li><li>'DTHCGR1'</li><li>'LSTALVDT'</li><li>'SAFFL'</li><li>'RACEGR1'</li><li>'AGEGR1'</li><li>'REGION1'</li><li>'LDDTHGR1'</li><li>'DTH30FL'</li><li>'DTHA30FL'</li><li>'DTHB30FL'</li></ol>\n"
      ],
      "text/latex": [
       "\\begin{enumerate*}\n",
       "\\item 'STUDYID'\n",
       "\\item 'DOMAIN'\n",
       "\\item 'USUBJID'\n",
       "\\item 'min\\_NFRLT'\n",
       "\\item 'maxdate'\n",
       "\\item 'EVID'\n",
       "\\item 'DRUG'\n",
       "\\item 'NFRLT'\n",
       "\\item 'PCSEQ'\n",
       "\\item 'PCTESTCD'\n",
       "\\item 'PCTEST'\n",
       "\\item 'PCORRES'\n",
       "\\item 'PCORRESU'\n",
       "\\item 'PCSTRESC'\n",
       "\\item 'PCSTRESN'\n",
       "\\item 'PCSTRESU'\n",
       "\\item 'PCNAM'\n",
       "\\item 'PCSPEC'\n",
       "\\item 'PCLLOQ'\n",
       "\\item 'VISIT'\n",
       "\\item 'VISITNUM'\n",
       "\\item 'PCDTC'\n",
       "\\item 'PCDY'\n",
       "\\item 'PCTPT'\n",
       "\\item 'PCTPTNUM'\n",
       "\\item 'TRTSDT'\n",
       "\\item 'TRTSDTM'\n",
       "\\item 'TRT01P'\n",
       "\\item 'TRT01A'\n",
       "\\item 'ADTM'\n",
       "\\item 'ATMF'\n",
       "\\item 'ADT'\n",
       "\\item 'ATM'\n",
       "\\item 'ADY'\n",
       "\\item 'FANLDTM'\n",
       "\\item 'AVISITN'\n",
       "\\item 'AVISIT'\n",
       "\\item 'ADTM\\_prev'\n",
       "\\item 'EXDOSE\\_prev'\n",
       "\\item 'AVISIT\\_prev'\n",
       "\\item 'AENDTM\\_prev'\n",
       "\\item 'ADTM\\_next'\n",
       "\\item 'EXDOSE\\_next'\n",
       "\\item 'AVISIT\\_next'\n",
       "\\item 'AENDTM\\_next'\n",
       "\\item 'NFRLT\\_prev'\n",
       "\\item 'NFRLT\\_next'\n",
       "\\item 'EXDOSFRQ'\n",
       "\\item 'EXDOSFRM'\n",
       "\\item 'EXDOSE'\n",
       "\\item 'EXDOSU'\n",
       "\\item 'EXTRT'\n",
       "\\item 'ASTDT'\n",
       "\\item 'ASTDTM'\n",
       "\\item 'AENDT'\n",
       "\\item 'AENDTM'\n",
       "\\item 'VISITDY'\n",
       "\\item 'EXSEQ'\n",
       "\\item 'ASTTM'\n",
       "\\item 'AENTM'\n",
       "\\item 'AFRLT'\n",
       "\\item 'ARRLT'\n",
       "\\item 'AXRLT'\n",
       "\\item 'PCRFTDTM'\n",
       "\\item 'FANLDT'\n",
       "\\item 'FANLTM'\n",
       "\\item 'PCRFTDT'\n",
       "\\item 'PCRFTTM'\n",
       "\\item 'NRRLT'\n",
       "\\item 'NXRLT'\n",
       "\\item 'PARCAT1'\n",
       "\\item 'ATPTN'\n",
       "\\item 'ATPT'\n",
       "\\item 'ATPTREF'\n",
       "\\item 'ABLFL'\n",
       "\\item 'BASETYPE'\n",
       "\\item 'DOSEA'\n",
       "\\item 'DOSEP'\n",
       "\\item 'DOSEU'\n",
       "\\item 'FRLTU'\n",
       "\\item 'RRLTU'\n",
       "\\item 'PARAMCD'\n",
       "\\item 'ALLOQ'\n",
       "\\item 'AVAL'\n",
       "\\item 'AVALU'\n",
       "\\item 'AVALCAT1'\n",
       "\\item 'SRCDOM'\n",
       "\\item 'SRCVAR'\n",
       "\\item 'SRCSEQ'\n",
       "\\item 'DTYPE'\n",
       "\\item 'MRRLT'\n",
       "\\item 'ANL01FL'\n",
       "\\item 'ANL02FL'\n",
       "\\item 'BASE'\n",
       "\\item 'CHG'\n",
       "\\item 'ASEQ'\n",
       "\\item 'PARAM'\n",
       "\\item 'PARAMN'\n",
       "\\item 'HTBL'\n",
       "\\item 'HTBLU'\n",
       "\\item 'WTBL'\n",
       "\\item 'WTBLU'\n",
       "\\item 'BMIBL'\n",
       "\\item 'BMIBLU'\n",
       "\\item 'SUBJID'\n",
       "\\item 'RFSTDTC'\n",
       "\\item 'RFENDTC'\n",
       "\\item 'RFXSTDTC'\n",
       "\\item 'RFXENDTC'\n",
       "\\item 'RFICDTC'\n",
       "\\item 'RFPENDTC'\n",
       "\\item 'DTHDTC'\n",
       "\\item 'DTHFL'\n",
       "\\item 'SITEID'\n",
       "\\item 'AGE'\n",
       "\\item 'AGEU'\n",
       "\\item 'SEX'\n",
       "\\item 'RACE'\n",
       "\\item 'ETHNIC'\n",
       "\\item 'ARMCD'\n",
       "\\item 'ARM'\n",
       "\\item 'ACTARMCD'\n",
       "\\item 'ACTARM'\n",
       "\\item 'COUNTRY'\n",
       "\\item 'DMDTC'\n",
       "\\item 'DMDY'\n",
       "\\item 'TRTSTMF'\n",
       "\\item 'TRTEDTM'\n",
       "\\item 'TRTETMF'\n",
       "\\item 'TRTEDT'\n",
       "\\item 'TRTDURD'\n",
       "\\item 'SCRFDT'\n",
       "\\item 'EOSDT'\n",
       "\\item 'EOSSTT'\n",
       "\\item 'FRVDT'\n",
       "\\item 'RANDDT'\n",
       "\\item 'DTHDT'\n",
       "\\item 'DTHDTF'\n",
       "\\item 'DTHADY'\n",
       "\\item 'LDDTHELD'\n",
       "\\item 'DTHCAUS'\n",
       "\\item 'DTHDOM'\n",
       "\\item 'DTHCGR1'\n",
       "\\item 'LSTALVDT'\n",
       "\\item 'SAFFL'\n",
       "\\item 'RACEGR1'\n",
       "\\item 'AGEGR1'\n",
       "\\item 'REGION1'\n",
       "\\item 'LDDTHGR1'\n",
       "\\item 'DTH30FL'\n",
       "\\item 'DTHA30FL'\n",
       "\\item 'DTHB30FL'\n",
       "\\end{enumerate*}\n"
      ],
      "text/markdown": [
       "1. 'STUDYID'\n",
       "2. 'DOMAIN'\n",
       "3. 'USUBJID'\n",
       "4. 'min_NFRLT'\n",
       "5. 'maxdate'\n",
       "6. 'EVID'\n",
       "7. 'DRUG'\n",
       "8. 'NFRLT'\n",
       "9. 'PCSEQ'\n",
       "10. 'PCTESTCD'\n",
       "11. 'PCTEST'\n",
       "12. 'PCORRES'\n",
       "13. 'PCORRESU'\n",
       "14. 'PCSTRESC'\n",
       "15. 'PCSTRESN'\n",
       "16. 'PCSTRESU'\n",
       "17. 'PCNAM'\n",
       "18. 'PCSPEC'\n",
       "19. 'PCLLOQ'\n",
       "20. 'VISIT'\n",
       "21. 'VISITNUM'\n",
       "22. 'PCDTC'\n",
       "23. 'PCDY'\n",
       "24. 'PCTPT'\n",
       "25. 'PCTPTNUM'\n",
       "26. 'TRTSDT'\n",
       "27. 'TRTSDTM'\n",
       "28. 'TRT01P'\n",
       "29. 'TRT01A'\n",
       "30. 'ADTM'\n",
       "31. 'ATMF'\n",
       "32. 'ADT'\n",
       "33. 'ATM'\n",
       "34. 'ADY'\n",
       "35. 'FANLDTM'\n",
       "36. 'AVISITN'\n",
       "37. 'AVISIT'\n",
       "38. 'ADTM_prev'\n",
       "39. 'EXDOSE_prev'\n",
       "40. 'AVISIT_prev'\n",
       "41. 'AENDTM_prev'\n",
       "42. 'ADTM_next'\n",
       "43. 'EXDOSE_next'\n",
       "44. 'AVISIT_next'\n",
       "45. 'AENDTM_next'\n",
       "46. 'NFRLT_prev'\n",
       "47. 'NFRLT_next'\n",
       "48. 'EXDOSFRQ'\n",
       "49. 'EXDOSFRM'\n",
       "50. 'EXDOSE'\n",
       "51. 'EXDOSU'\n",
       "52. 'EXTRT'\n",
       "53. 'ASTDT'\n",
       "54. 'ASTDTM'\n",
       "55. 'AENDT'\n",
       "56. 'AENDTM'\n",
       "57. 'VISITDY'\n",
       "58. 'EXSEQ'\n",
       "59. 'ASTTM'\n",
       "60. 'AENTM'\n",
       "61. 'AFRLT'\n",
       "62. 'ARRLT'\n",
       "63. 'AXRLT'\n",
       "64. 'PCRFTDTM'\n",
       "65. 'FANLDT'\n",
       "66. 'FANLTM'\n",
       "67. 'PCRFTDT'\n",
       "68. 'PCRFTTM'\n",
       "69. 'NRRLT'\n",
       "70. 'NXRLT'\n",
       "71. 'PARCAT1'\n",
       "72. 'ATPTN'\n",
       "73. 'ATPT'\n",
       "74. 'ATPTREF'\n",
       "75. 'ABLFL'\n",
       "76. 'BASETYPE'\n",
       "77. 'DOSEA'\n",
       "78. 'DOSEP'\n",
       "79. 'DOSEU'\n",
       "80. 'FRLTU'\n",
       "81. 'RRLTU'\n",
       "82. 'PARAMCD'\n",
       "83. 'ALLOQ'\n",
       "84. 'AVAL'\n",
       "85. 'AVALU'\n",
       "86. 'AVALCAT1'\n",
       "87. 'SRCDOM'\n",
       "88. 'SRCVAR'\n",
       "89. 'SRCSEQ'\n",
       "90. 'DTYPE'\n",
       "91. 'MRRLT'\n",
       "92. 'ANL01FL'\n",
       "93. 'ANL02FL'\n",
       "94. 'BASE'\n",
       "95. 'CHG'\n",
       "96. 'ASEQ'\n",
       "97. 'PARAM'\n",
       "98. 'PARAMN'\n",
       "99. 'HTBL'\n",
       "100. 'HTBLU'\n",
       "101. 'WTBL'\n",
       "102. 'WTBLU'\n",
       "103. 'BMIBL'\n",
       "104. 'BMIBLU'\n",
       "105. 'SUBJID'\n",
       "106. 'RFSTDTC'\n",
       "107. 'RFENDTC'\n",
       "108. 'RFXSTDTC'\n",
       "109. 'RFXENDTC'\n",
       "110. 'RFICDTC'\n",
       "111. 'RFPENDTC'\n",
       "112. 'DTHDTC'\n",
       "113. 'DTHFL'\n",
       "114. 'SITEID'\n",
       "115. 'AGE'\n",
       "116. 'AGEU'\n",
       "117. 'SEX'\n",
       "118. 'RACE'\n",
       "119. 'ETHNIC'\n",
       "120. 'ARMCD'\n",
       "121. 'ARM'\n",
       "122. 'ACTARMCD'\n",
       "123. 'ACTARM'\n",
       "124. 'COUNTRY'\n",
       "125. 'DMDTC'\n",
       "126. 'DMDY'\n",
       "127. 'TRTSTMF'\n",
       "128. 'TRTEDTM'\n",
       "129. 'TRTETMF'\n",
       "130. 'TRTEDT'\n",
       "131. 'TRTDURD'\n",
       "132. 'SCRFDT'\n",
       "133. 'EOSDT'\n",
       "134. 'EOSSTT'\n",
       "135. 'FRVDT'\n",
       "136. 'RANDDT'\n",
       "137. 'DTHDT'\n",
       "138. 'DTHDTF'\n",
       "139. 'DTHADY'\n",
       "140. 'LDDTHELD'\n",
       "141. 'DTHCAUS'\n",
       "142. 'DTHDOM'\n",
       "143. 'DTHCGR1'\n",
       "144. 'LSTALVDT'\n",
       "145. 'SAFFL'\n",
       "146. 'RACEGR1'\n",
       "147. 'AGEGR1'\n",
       "148. 'REGION1'\n",
       "149. 'LDDTHGR1'\n",
       "150. 'DTH30FL'\n",
       "151. 'DTHA30FL'\n",
       "152. 'DTHB30FL'\n",
       "\n",
       "\n"
      ],
      "text/plain": [
       "  [1] \"STUDYID\"     \"DOMAIN\"      \"USUBJID\"     \"min_NFRLT\"   \"maxdate\"    \n",
       "  [6] \"EVID\"        \"DRUG\"        \"NFRLT\"       \"PCSEQ\"       \"PCTESTCD\"   \n",
       " [11] \"PCTEST\"      \"PCORRES\"     \"PCORRESU\"    \"PCSTRESC\"    \"PCSTRESN\"   \n",
       " [16] \"PCSTRESU\"    \"PCNAM\"       \"PCSPEC\"      \"PCLLOQ\"      \"VISIT\"      \n",
       " [21] \"VISITNUM\"    \"PCDTC\"       \"PCDY\"        \"PCTPT\"       \"PCTPTNUM\"   \n",
       " [26] \"TRTSDT\"      \"TRTSDTM\"     \"TRT01P\"      \"TRT01A\"      \"ADTM\"       \n",
       " [31] \"ATMF\"        \"ADT\"         \"ATM\"         \"ADY\"         \"FANLDTM\"    \n",
       " [36] \"AVISITN\"     \"AVISIT\"      \"ADTM_prev\"   \"EXDOSE_prev\" \"AVISIT_prev\"\n",
       " [41] \"AENDTM_prev\" \"ADTM_next\"   \"EXDOSE_next\" \"AVISIT_next\" \"AENDTM_next\"\n",
       " [46] \"NFRLT_prev\"  \"NFRLT_next\"  \"EXDOSFRQ\"    \"EXDOSFRM\"    \"EXDOSE\"     \n",
       " [51] \"EXDOSU\"      \"EXTRT\"       \"ASTDT\"       \"ASTDTM\"      \"AENDT\"      \n",
       " [56] \"AENDTM\"      \"VISITDY\"     \"EXSEQ\"       \"ASTTM\"       \"AENTM\"      \n",
       " [61] \"AFRLT\"       \"ARRLT\"       \"AXRLT\"       \"PCRFTDTM\"    \"FANLDT\"     \n",
       " [66] \"FANLTM\"      \"PCRFTDT\"     \"PCRFTTM\"     \"NRRLT\"       \"NXRLT\"      \n",
       " [71] \"PARCAT1\"     \"ATPTN\"       \"ATPT\"        \"ATPTREF\"     \"ABLFL\"      \n",
       " [76] \"BASETYPE\"    \"DOSEA\"       \"DOSEP\"       \"DOSEU\"       \"FRLTU\"      \n",
       " [81] \"RRLTU\"       \"PARAMCD\"     \"ALLOQ\"       \"AVAL\"        \"AVALU\"      \n",
       " [86] \"AVALCAT1\"    \"SRCDOM\"      \"SRCVAR\"      \"SRCSEQ\"      \"DTYPE\"      \n",
       " [91] \"MRRLT\"       \"ANL01FL\"     \"ANL02FL\"     \"BASE\"        \"CHG\"        \n",
       " [96] \"ASEQ\"        \"PARAM\"       \"PARAMN\"      \"HTBL\"        \"HTBLU\"      \n",
       "[101] \"WTBL\"        \"WTBLU\"       \"BMIBL\"       \"BMIBLU\"      \"SUBJID\"     \n",
       "[106] \"RFSTDTC\"     \"RFENDTC\"     \"RFXSTDTC\"    \"RFXENDTC\"    \"RFICDTC\"    \n",
       "[111] \"RFPENDTC\"    \"DTHDTC\"      \"DTHFL\"       \"SITEID\"      \"AGE\"        \n",
       "[116] \"AGEU\"        \"SEX\"         \"RACE\"        \"ETHNIC\"      \"ARMCD\"      \n",
       "[121] \"ARM\"         \"ACTARMCD\"    \"ACTARM\"      \"COUNTRY\"     \"DMDTC\"      \n",
       "[126] \"DMDY\"        \"TRTSTMF\"     \"TRTEDTM\"     \"TRTETMF\"     \"TRTEDT\"     \n",
       "[131] \"TRTDURD\"     \"SCRFDT\"      \"EOSDT\"       \"EOSSTT\"      \"FRVDT\"      \n",
       "[136] \"RANDDT\"      \"DTHDT\"       \"DTHDTF\"      \"DTHADY\"      \"LDDTHELD\"   \n",
       "[141] \"DTHCAUS\"     \"DTHDOM\"      \"DTHCGR1\"     \"LSTALVDT\"    \"SAFFL\"      \n",
       "[146] \"RACEGR1\"     \"AGEGR1\"      \"REGION1\"     \"LDDTHGR1\"    \"DTH30FL\"    \n",
       "[151] \"DTHA30FL\"    \"DTHB30FL\"   "
      ]
     },
     "metadata": {},
     "output_type": "display_data"
    }
   ],
   "source": [
    "colnames(adpc_prefinal)"
   ]
  },
  {
   "cell_type": "markdown",
   "id": "ce00c719",
   "metadata": {},
   "source": [
    "## Check Data With metacore and metatools\n"
   ]
  },
  {
   "cell_type": "markdown",
   "id": "6afaba1c",
   "metadata": {},
   "source": [
    "We use `{metacore}` objects with `{metatools}` functions to perform a number of checks on the data. We will drop variables not in the specs and make sure all the variables from the specs are included.\n"
   ]
  },
  {
   "cell_type": "code",
   "execution_count": 68,
   "id": "d24a519b",
   "metadata": {
    "language": "{r",
    "vscode": {
     "languageId": "r"
    }
   },
   "outputs": [
    {
     "name": "stderr",
     "output_type": "stream",
     "text": [
      "The following variable(s) were dropped:\n",
      "  DOMAIN\n",
      "  min_NFRLT\n",
      "  maxdate\n",
      "  EVID\n",
      "  DRUG\n",
      "  PCSEQ\n",
      "  ADTM_prev\n",
      "  EXDOSE_prev\n",
      "  AVISIT_prev\n",
      "  AENDTM_prev\n",
      "  ADTM_next\n",
      "  EXDOSE_next\n",
      "  AVISIT_next\n",
      "  AENDTM_next\n",
      "  NFRLT_prev\n",
      "  NFRLT_next\n",
      "  EXDOSFRQ\n",
      "  EXDOSFRM\n",
      "  EXDOSE\n",
      "  EXDOSU\n",
      "  EXTRT\n",
      "  VISITDY\n",
      "  EXSEQ\n",
      "  AXRLT\n",
      "  NXRLT\n",
      "  PARCAT1\n",
      "  DTHDTF\n",
      "  DTHCAUS\n",
      "  DTHDOM\n",
      "  DTHCGR1\n",
      "\n",
      "No missing or extra variables\n",
      "\n"
     ]
    }
   ],
   "source": [
    "#| label: Metacore\n",
    "#| warning: false\n",
    "# Apply metadata and perform associated checks ----\n",
    "adpc <- adpc_prefinal %>%\n",
    "  drop_unspec_vars(metacore) %>% # Drop unspecified variables from specs\n",
    "  check_variables(metacore) %>% # Check all variables specified are present and no more\n",
    "  check_ct_data(metacore) %>% # Checks all variables with CT only contain values within the CT\n",
    "  order_cols(metacore) %>% # Orders the columns according to the spec\n",
    "  sort_by_key(metacore) # Sorts the rows by the sort keys\n"
   ]
  },
  {
   "cell_type": "markdown",
   "id": "f4d4bdaa",
   "metadata": {},
   "source": [
    "## Apply Labels and Formats with xportr\n"
   ]
  },
  {
   "cell_type": "markdown",
   "id": "32b79dcd",
   "metadata": {},
   "source": [
    "Using `{xportr}` we check variable type, assign variable lenght, add variable labels, add variable formats, and save a transport file. At the end you could add a call to `xportr::xportr_write()` to produce the XPT file.\n"
   ]
  },
  {
   "cell_type": "code",
   "execution_count": 69,
   "id": "3accc314",
   "metadata": {
    "language": "{r",
    "vscode": {
     "languageId": "r"
    }
   },
   "outputs": [
    {
     "name": "stderr",
     "output_type": "stream",
     "text": [
      "\n",
      "\n",
      "-- \u001b[1m\u001b[1mVariable type mismatches found.\u001b[1m\u001b[22m --\n",
      "\n",
      "\n",
      "\n",
      "\u001b[32mv\u001b[39m 5 variables coerced\n",
      "\n"
     ]
    }
   ],
   "source": [
    "#| label: xportr\n",
    "#| warning: false\n",
    "dir <- tempdir() # Change to whichever directory you want to save the dataset in\n",
    "\n",
    "adpc_xpt <- adpc %>%\n",
    "  xportr_type(metacore, domain = \"ADPC\") %>% # Coerce variable type to match spec\n",
    "  xportr_length(metacore) %>% # Assigns SAS length from a variable level metadata\n",
    "  xportr_label(metacore) %>% # Assigns variable label from metacore specifications\n",
    "  xportr_format(metacore) %>% # Assigns variable format from metacore specifications\n",
    "  xportr_df_label(metacore) %>% # Assigns dataset label from metacore specifications\n",
    "  xportr_write(file.path(dir, \"adpc.xpt\")) # Write xpt v5 transport file\n"
   ]
  },
  {
   "cell_type": "code",
   "execution_count": 70,
   "id": "e90e345f",
   "metadata": {
    "vscode": {
     "languageId": "r"
    }
   },
   "outputs": [
    {
     "data": {
      "text/html": [
       "<table class=\"dataframe\">\n",
       "<caption>A data.frame: 3 x 122</caption>\n",
       "<thead>\n",
       "\t<tr><th></th><th scope=col>STUDYID</th><th scope=col>SITEID</th><th scope=col>USUBJID</th><th scope=col>SUBJID</th><th scope=col>COUNTRY</th><th scope=col>AGE</th><th scope=col>AGEU</th><th scope=col>AGEGR1</th><th scope=col>SEX</th><th scope=col>RACE</th><th scope=col>...</th><th scope=col>WTBL</th><th scope=col>HTBL</th><th scope=col>BMIBL</th><th scope=col>WTBLU</th><th scope=col>HTBLU</th><th scope=col>BMIBLU</th><th scope=col>ASEQ</th><th scope=col>SRCDOM</th><th scope=col>SRCVAR</th><th scope=col>SRCSEQ</th></tr>\n",
       "\t<tr><th></th><th scope=col>&lt;chr&gt;</th><th scope=col>&lt;chr&gt;</th><th scope=col>&lt;chr&gt;</th><th scope=col>&lt;chr&gt;</th><th scope=col>&lt;chr&gt;</th><th scope=col>&lt;dbl&gt;</th><th scope=col>&lt;chr&gt;</th><th scope=col>&lt;chr&gt;</th><th scope=col>&lt;chr&gt;</th><th scope=col>&lt;chr&gt;</th><th scope=col>...</th><th scope=col>&lt;dbl&gt;</th><th scope=col>&lt;dbl&gt;</th><th scope=col>&lt;dbl&gt;</th><th scope=col>&lt;chr&gt;</th><th scope=col>&lt;chr&gt;</th><th scope=col>&lt;chr&gt;</th><th scope=col>&lt;int&gt;</th><th scope=col>&lt;chr&gt;</th><th scope=col>&lt;chr&gt;</th><th scope=col>&lt;dbl&gt;</th></tr>\n",
       "</thead>\n",
       "<tbody>\n",
       "\t<tr><th scope=row>1</th><td>CDISCPILOT01</td><td>701</td><td>01-701-1028</td><td>1028</td><td>USA</td><td>71</td><td>YEARS</td><td>&gt;64</td><td>M</td><td>WHITE</td><td>...</td><td>99.34</td><td>177.8</td><td>31.42394</td><td>kg</td><td>cm</td><td>kg/m^2</td><td> 2</td><td>EX</td><td>SEQ</td><td>1</td></tr>\n",
       "\t<tr><th scope=row>2</th><td>CDISCPILOT01</td><td>701</td><td>01-701-1028</td><td>1028</td><td>USA</td><td>71</td><td>YEARS</td><td>&gt;64</td><td>M</td><td>WHITE</td><td>...</td><td>99.34</td><td>177.8</td><td>31.42394</td><td>kg</td><td>cm</td><td>kg/m^2</td><td>18</td><td>EX</td><td>SEQ</td><td>1</td></tr>\n",
       "\t<tr><th scope=row>3</th><td>CDISCPILOT01</td><td>701</td><td>01-701-1028</td><td>1028</td><td>USA</td><td>71</td><td>YEARS</td><td>&gt;64</td><td>M</td><td>WHITE</td><td>...</td><td>99.34</td><td>177.8</td><td>31.42394</td><td>kg</td><td>cm</td><td>kg/m^2</td><td>23</td><td>EX</td><td>SEQ</td><td>1</td></tr>\n",
       "</tbody>\n",
       "</table>\n"
      ],
      "text/latex": [
       "A data.frame: 3 x 122\n",
       "\\begin{tabular}{r|lllllllllllllllllllll}\n",
       "  & STUDYID & SITEID & USUBJID & SUBJID & COUNTRY & AGE & AGEU & AGEGR1 & SEX & RACE & ... & WTBL & HTBL & BMIBL & WTBLU & HTBLU & BMIBLU & ASEQ & SRCDOM & SRCVAR & SRCSEQ\\\\\n",
       "  & <chr> & <chr> & <chr> & <chr> & <chr> & <dbl> & <chr> & <chr> & <chr> & <chr> & ... & <dbl> & <dbl> & <dbl> & <chr> & <chr> & <chr> & <int> & <chr> & <chr> & <dbl>\\\\\n",
       "\\hline\n",
       "\t1 & CDISCPILOT01 & 701 & 01-701-1028 & 1028 & USA & 71 & YEARS & >64 & M & WHITE & ... & 99.34 & 177.8 & 31.42394 & kg & cm & kg/m\\textasciicircum{}2 &  2 & EX & SEQ & 1\\\\\n",
       "\t2 & CDISCPILOT01 & 701 & 01-701-1028 & 1028 & USA & 71 & YEARS & >64 & M & WHITE & ... & 99.34 & 177.8 & 31.42394 & kg & cm & kg/m\\textasciicircum{}2 & 18 & EX & SEQ & 1\\\\\n",
       "\t3 & CDISCPILOT01 & 701 & 01-701-1028 & 1028 & USA & 71 & YEARS & >64 & M & WHITE & ... & 99.34 & 177.8 & 31.42394 & kg & cm & kg/m\\textasciicircum{}2 & 23 & EX & SEQ & 1\\\\\n",
       "\\end{tabular}\n"
      ],
      "text/markdown": [
       "\n",
       "A data.frame: 3 x 122\n",
       "\n",
       "| <!--/--> | STUDYID &lt;chr&gt; | SITEID &lt;chr&gt; | USUBJID &lt;chr&gt; | SUBJID &lt;chr&gt; | COUNTRY &lt;chr&gt; | AGE &lt;dbl&gt; | AGEU &lt;chr&gt; | AGEGR1 &lt;chr&gt; | SEX &lt;chr&gt; | RACE &lt;chr&gt; | ... ... | WTBL &lt;dbl&gt; | HTBL &lt;dbl&gt; | BMIBL &lt;dbl&gt; | WTBLU &lt;chr&gt; | HTBLU &lt;chr&gt; | BMIBLU &lt;chr&gt; | ASEQ &lt;int&gt; | SRCDOM &lt;chr&gt; | SRCVAR &lt;chr&gt; | SRCSEQ &lt;dbl&gt; |\n",
       "|---|---|---|---|---|---|---|---|---|---|---|---|---|---|---|---|---|---|---|---|---|---|\n",
       "| 1 | CDISCPILOT01 | 701 | 01-701-1028 | 1028 | USA | 71 | YEARS | &gt;64 | M | WHITE | ... | 99.34 | 177.8 | 31.42394 | kg | cm | kg/m^2 |  2 | EX | SEQ | 1 |\n",
       "| 2 | CDISCPILOT01 | 701 | 01-701-1028 | 1028 | USA | 71 | YEARS | &gt;64 | M | WHITE | ... | 99.34 | 177.8 | 31.42394 | kg | cm | kg/m^2 | 18 | EX | SEQ | 1 |\n",
       "| 3 | CDISCPILOT01 | 701 | 01-701-1028 | 1028 | USA | 71 | YEARS | &gt;64 | M | WHITE | ... | 99.34 | 177.8 | 31.42394 | kg | cm | kg/m^2 | 23 | EX | SEQ | 1 |\n",
       "\n"
      ],
      "text/plain": [
       "  STUDYID      SITEID USUBJID     SUBJID COUNTRY AGE AGEU  AGEGR1 SEX RACE  ...\n",
       "1 CDISCPILOT01 701    01-701-1028 1028   USA     71  YEARS >64    M   WHITE ...\n",
       "2 CDISCPILOT01 701    01-701-1028 1028   USA     71  YEARS >64    M   WHITE ...\n",
       "3 CDISCPILOT01 701    01-701-1028 1028   USA     71  YEARS >64    M   WHITE ...\n",
       "  WTBL  HTBL  BMIBL    WTBLU HTBLU BMIBLU ASEQ SRCDOM SRCVAR SRCSEQ\n",
       "1 99.34 177.8 31.42394 kg    cm    kg/m^2  2   EX     SEQ    1     \n",
       "2 99.34 177.8 31.42394 kg    cm    kg/m^2 18   EX     SEQ    1     \n",
       "3 99.34 177.8 31.42394 kg    cm    kg/m^2 23   EX     SEQ    1     "
      ]
     },
     "metadata": {},
     "output_type": "display_data"
    }
   ],
   "source": [
    "head(adpc_xpt,3)"
   ]
  }
 ],
 "metadata": {
  "kernelspec": {
   "display_name": "R",
   "language": "R",
   "name": "ir"
  },
  "language_info": {
   "codemirror_mode": "r",
   "file_extension": ".r",
   "mimetype": "text/x-r-source",
   "name": "R",
   "pygments_lexer": "r",
   "version": "4.4.1"
  }
 },
 "nbformat": 4,
 "nbformat_minor": 5
}
