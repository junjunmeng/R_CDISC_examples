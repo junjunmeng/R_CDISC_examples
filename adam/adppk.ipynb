{
 "cells": [
  {
   "cell_type": "markdown",
   "id": "902e9324",
   "metadata": {},
   "source": [
    "---\n"
   ]
  },
  {
   "cell_type": "markdown",
   "id": "4861cd6c",
   "metadata": {},
   "source": [
    "# title: \"ADPPK\"\n"
   ]
  },
  {
   "cell_type": "markdown",
   "id": "3973cc2a",
   "metadata": {},
   "source": [
    "order: 3\n"
   ]
  },
  {
   "cell_type": "markdown",
   "id": "27994bf2",
   "metadata": {},
   "source": [
    "---\n"
   ]
  },
  {
   "cell_type": "markdown",
   "id": "4c032cb9",
   "metadata": {},
   "source": [
    "\n"
   ]
  },
  {
   "cell_type": "code",
   "execution_count": null,
   "id": "531ef398",
   "metadata": {
    "language": "{r setup script, include=FALSE, purl=FALSE"
   },
   "outputs": [],
   "source": [
    "invisible_hook_purl <- function(before, options, ...) {knitr::hook_purl(before, options, ...); NULL}\n",
    "knitr::knit_hooks$set(purl = invisible_hook_purl)\n"
   ]
  },
  {
   "cell_type": "markdown",
   "id": "619894fa",
   "metadata": {},
   "source": [
    "\n"
   ]
  },
  {
   "cell_type": "markdown",
   "id": "8f27fd97",
   "metadata": {},
   "source": [
    "The Population PK Analysis Data (ADPPK) follows the CDISC Implementation Guide (<https://www.cdisc.org/standards/foundational/adam/basic-data-structure-adam-poppk-implementation-guide-v1-0>). Population PK models generally make use of nonlinear mixed effects models that require numeric variables. The data used in the models will include both dosing and concentration records, relative time variables, and numeric covariate variables. A `DV` or dependent variable is often expected. For more details see the `{admiral}` [vignette](https://pharmaverse.github.io/admiral/articles/pk_adnca.html){target=\"_blank\"}.\n"
   ]
  },
  {
   "cell_type": "markdown",
   "id": "ed1dd30c",
   "metadata": {},
   "source": [
    "\n"
   ]
  },
  {
   "cell_type": "markdown",
   "id": "241211d5",
   "metadata": {},
   "source": [
    "## First Load Packages\n"
   ]
  },
  {
   "cell_type": "markdown",
   "id": "58e47ff2",
   "metadata": {},
   "source": [
    "\n"
   ]
  },
  {
   "cell_type": "markdown",
   "id": "4c0f318d",
   "metadata": {},
   "source": [
    "First we will load the packages required for our project. We will use `{admiral}` for the creation of analysis data. `{admiral}` requires `{dplyr}`, `{lubridate}` and `{stringr}`. We will use `{metacore}` and `{metatools}` to store and manipulate metadata from our specifications. We will use `{xportr}` to perform checks on the final data and export to a transport file.\n"
   ]
  },
  {
   "cell_type": "markdown",
   "id": "05d4e3e2",
   "metadata": {},
   "source": [
    "\n"
   ]
  },
  {
   "cell_type": "markdown",
   "id": "718b680a",
   "metadata": {},
   "source": [
    "The source SDTM data will come from the CDISC pilot study data stored in `{pharmaversesdtm}`.\n"
   ]
  },
  {
   "cell_type": "markdown",
   "id": "303c7272",
   "metadata": {},
   "source": [
    "\n"
   ]
  },
  {
   "cell_type": "code",
   "execution_count": null,
   "id": "530cbd83",
   "metadata": {
    "language": "{r echo=TRUE, message=FALSE"
   },
   "outputs": [],
   "source": [
    "#| label: Load Packages\n",
    "# Load Packages\n",
    "library(admiral)\n",
    "library(dplyr)\n",
    "library(lubridate)\n",
    "library(stringr)\n",
    "library(metacore)\n",
    "library(metatools)\n",
    "library(xportr)\n",
    "library(readr)\n",
    "library(pharmaversesdtm)\n",
    "library(pharmaverseadam)\n"
   ]
  },
  {
   "cell_type": "markdown",
   "id": "33babeaa",
   "metadata": {},
   "source": [
    "\n"
   ]
  },
  {
   "cell_type": "markdown",
   "id": "f75ce844",
   "metadata": {},
   "source": [
    "## Next Load Specifications for Metacore\n"
   ]
  },
  {
   "cell_type": "markdown",
   "id": "a547e263",
   "metadata": {},
   "source": [
    "\n"
   ]
  },
  {
   "cell_type": "markdown",
   "id": "d9388f5b",
   "metadata": {},
   "source": [
    "We have saved our specifications in an Excel file and will load them into `{metacore}` with the `metacore::spec_to_metacore()` function.\n"
   ]
  },
  {
   "cell_type": "markdown",
   "id": "5a61d743",
   "metadata": {},
   "source": [
    "\n"
   ]
  },
  {
   "cell_type": "code",
   "execution_count": null,
   "id": "fb578c83",
   "metadata": {
    "language": "{r echo=TRUE, message=FALSE"
   },
   "outputs": [],
   "source": [
    "#| label: Load Specs\n",
    "#| warning: false\n",
    "# ---- Load Specs for Metacore ----\n",
    "metacore <- spec_to_metacore(\"./metadata/pk_spec.xlsx\") %>%\n",
    "  select_dataset(\"ADPPK\")\n"
   ]
  },
  {
   "cell_type": "markdown",
   "id": "6af6510f",
   "metadata": {},
   "source": [
    "\n"
   ]
  },
  {
   "cell_type": "markdown",
   "id": "d14cb4dd",
   "metadata": {},
   "source": [
    "## Load Source Datasets\n"
   ]
  },
  {
   "cell_type": "markdown",
   "id": "9272c48b",
   "metadata": {},
   "source": [
    "\n"
   ]
  },
  {
   "cell_type": "markdown",
   "id": "060c25fd",
   "metadata": {},
   "source": [
    "We will load are SDTM data from `{pharmaversesdtm}`. The main components of this will be exposure data from `EX` and pharmacokinetic concentration data from `PC`. We will use `ADSL` for baseline characteristics and we will derive additional baselines from vital signs `VS` and laboratory data `LB`.\n"
   ]
  },
  {
   "cell_type": "markdown",
   "id": "e04f2599",
   "metadata": {},
   "source": [
    "\n"
   ]
  },
  {
   "cell_type": "code",
   "execution_count": null,
   "id": "3c45a8fd",
   "metadata": {
    "language": "{r"
   },
   "outputs": [],
   "source": [
    "#| label: Load Source\n",
    "# ---- Load source datasets ----\n",
    "# Load PC, EX, VS, LB and ADSL\n",
    "data(\"pc\")\n",
    "data(\"ex\")\n",
    "data(\"vs\")\n",
    "data(\"lb\")\n",
    "\n",
    "data(\"adsl\")\n",
    "\n",
    "ex <- convert_blanks_to_na(ex)\n",
    "pc <- convert_blanks_to_na(pc)\n",
    "vs <- convert_blanks_to_na(vs)\n",
    "lb <- convert_blanks_to_na(lb)\n"
   ]
  },
  {
   "cell_type": "markdown",
   "id": "a4491fc9",
   "metadata": {},
   "source": [
    "\n"
   ]
  },
  {
   "cell_type": "markdown",
   "id": "198cf086",
   "metadata": {},
   "source": [
    "## Derivations\n"
   ]
  },
  {
   "cell_type": "markdown",
   "id": "d04e88e4",
   "metadata": {},
   "source": [
    "\n"
   ]
  },
  {
   "cell_type": "markdown",
   "id": "bfa57136",
   "metadata": {},
   "source": [
    "### Derive PC Dates\n"
   ]
  },
  {
   "cell_type": "markdown",
   "id": "712027d0",
   "metadata": {},
   "source": [
    "\n"
   ]
  },
  {
   "cell_type": "markdown",
   "id": "beead6dd",
   "metadata": {},
   "source": [
    "Here we use `{admiral}` functions for working with dates and we will also create a nominal time from first dose `NFRLT` for `PC` data based on `PCTPTNUM`.\n"
   ]
  },
  {
   "cell_type": "markdown",
   "id": "131aea68",
   "metadata": {},
   "source": [
    "\n"
   ]
  },
  {
   "cell_type": "code",
   "execution_count": null,
   "id": "e351f61d",
   "metadata": {
    "language": "{r"
   },
   "outputs": [],
   "source": [
    "#| label: PC Dates\n",
    "# ---- Derivations ----\n",
    "\n",
    "# Get list of ADSL vars required for derivations\n",
    "adsl_vars <- exprs(TRTSDT, TRTSDTM, TRT01P, TRT01A)\n",
    "\n",
    "pc_dates <- pc %>%\n",
    "  # Join ADSL with PC (need TRTSDT for ADY derivation)\n",
    "  derive_vars_merged(\n",
    "    dataset_add = adsl,\n",
    "    new_vars = adsl_vars,\n",
    "    by_vars = exprs(STUDYID, USUBJID)\n",
    "  ) %>%\n",
    "  # Derive analysis date/time\n",
    "  # Impute missing time to 00:00:00\n",
    "  derive_vars_dtm(\n",
    "    new_vars_prefix = \"A\",\n",
    "    dtc = PCDTC,\n",
    "    time_imputation = \"00:00:00\"\n",
    "  ) %>%\n",
    "  # Derive dates and times from date/times\n",
    "  derive_vars_dtm_to_dt(exprs(ADTM)) %>%\n",
    "  derive_vars_dtm_to_tm(exprs(ADTM)) %>%\n",
    "  # Derive event ID and nominal relative time from first dose (NFRLT)\n",
    "  mutate(\n",
    "    EVID = 0,\n",
    "    DRUG = PCTEST,\n",
    "    NFRLT = if_else(PCTPTNUM < 0, 0, PCTPTNUM), .after = USUBJID\n",
    "  )\n"
   ]
  },
  {
   "cell_type": "markdown",
   "id": "98555bdd",
   "metadata": {},
   "source": [
    "\n"
   ]
  },
  {
   "cell_type": "markdown",
   "id": "949d2a49",
   "metadata": {},
   "source": [
    "### Get Dosing Information\n"
   ]
  },
  {
   "cell_type": "markdown",
   "id": "599d4869",
   "metadata": {},
   "source": [
    "\n"
   ]
  },
  {
   "cell_type": "markdown",
   "id": "8c1c4433",
   "metadata": {},
   "source": [
    "Here we also create nominal time from first dose `NFRLT` for `EX` data based on `VISITDY`.\n"
   ]
  },
  {
   "cell_type": "markdown",
   "id": "2398be92",
   "metadata": {},
   "source": [
    "\n"
   ]
  },
  {
   "cell_type": "code",
   "execution_count": null,
   "id": "9e781756",
   "metadata": {
    "language": "{r"
   },
   "outputs": [],
   "source": [
    "#| label: Dosing\n",
    "# ---- Get dosing information ----\n",
    "\n",
    "ex_dates <- ex %>%\n",
    "  derive_vars_merged(\n",
    "    dataset_add = adsl,\n",
    "    new_vars = adsl_vars,\n",
    "    by_vars = exprs(STUDYID, USUBJID)\n",
    "  ) %>%\n",
    "  # Keep records with nonzero dose\n",
    "  filter(EXDOSE > 0) %>%\n",
    "  # Add time and set missing end date to start date\n",
    "  # Impute missing time to 00:00:00\n",
    "  # Note all times are missing for dosing records in this example data\n",
    "  # Derive Analysis Start and End Dates\n",
    "  derive_vars_dtm(\n",
    "    new_vars_prefix = \"AST\",\n",
    "    dtc = EXSTDTC,\n",
    "    time_imputation = \"00:00:00\"\n",
    "  ) %>%\n",
    "  derive_vars_dtm(\n",
    "    new_vars_prefix = \"AEN\",\n",
    "    dtc = EXENDTC,\n",
    "    time_imputation = \"00:00:00\"\n",
    "  ) %>%\n",
    "  # Derive event ID and nominal relative time from first dose (NFRLT)\n",
    "  mutate(\n",
    "    EVID = 1,\n",
    "    NFRLT = case_when(\n",
    "      VISITDY == 1 ~ 0,\n",
    "      TRUE ~ 24 * VISITDY\n",
    "    )\n",
    "  ) %>%\n",
    "  # Set missing end dates to start date\n",
    "  mutate(AENDTM = case_when(\n",
    "    is.na(AENDTM) ~ ASTDTM,\n",
    "    TRUE ~ AENDTM\n",
    "  )) %>%\n",
    "  # Derive dates from date/times\n",
    "  derive_vars_dtm_to_dt(exprs(ASTDTM)) %>%\n",
    "  derive_vars_dtm_to_dt(exprs(AENDTM))\n"
   ]
  },
  {
   "cell_type": "markdown",
   "id": "c01ea95f",
   "metadata": {},
   "source": [
    "\n"
   ]
  },
  {
   "cell_type": "markdown",
   "id": "7ff82831",
   "metadata": {},
   "source": [
    "### Expand Dosing Records\n"
   ]
  },
  {
   "cell_type": "markdown",
   "id": "be619035",
   "metadata": {},
   "source": [
    "\n"
   ]
  },
  {
   "cell_type": "markdown",
   "id": "f7190ab1",
   "metadata": {},
   "source": [
    "Since there is a start date and end date for dosing records we need to expand the dosing records between the start date and end date using the function `admiral::create_single_dose_dataset()`.\n"
   ]
  },
  {
   "cell_type": "markdown",
   "id": "d34777e0",
   "metadata": {},
   "source": [
    "\n"
   ]
  },
  {
   "cell_type": "code",
   "execution_count": null,
   "id": "23ba4ce1",
   "metadata": {
    "language": "{r"
   },
   "outputs": [],
   "source": [
    "#| label: Expand\n",
    "\n",
    "ex_exp <- ex_dates %>%\n",
    "  create_single_dose_dataset(\n",
    "    dose_freq = EXDOSFRQ,\n",
    "    start_date = ASTDT,\n",
    "    start_datetime = ASTDTM,\n",
    "    end_date = AENDT,\n",
    "    end_datetime = AENDTM,\n",
    "    nominal_time = NFRLT,\n",
    "    lookup_table = dose_freq_lookup,\n",
    "    lookup_column = CDISC_VALUE,\n",
    "    keep_source_vars = exprs(\n",
    "      STUDYID, USUBJID, EVID, EXDOSFRQ, EXDOSFRM,\n",
    "      NFRLT, EXDOSE, EXDOSU, EXTRT, ASTDT, ASTDTM, AENDT, AENDTM,\n",
    "      VISIT, VISITNUM, VISITDY,\n",
    "      TRT01A, TRT01P, DOMAIN, EXSEQ, !!!adsl_vars\n",
    "    )\n",
    "  ) %>%\n",
    "  # Derive AVISIT based on nominal relative time\n",
    "  # Derive AVISITN to nominal time in whole days using integer division\n",
    "  # Define AVISIT based on nominal day\n",
    "  mutate(\n",
    "    AVISITN = NFRLT %/% 24 + 1,\n",
    "    AVISIT = paste(\"Day\", AVISITN),\n",
    "    ADTM = ASTDTM,\n",
    "    DRUG = EXTRT\n",
    "  ) %>%\n",
    "  # Derive dates and times from datetimes\n",
    "  derive_vars_dtm_to_dt(exprs(ADTM)) %>%\n",
    "  derive_vars_dtm_to_tm(exprs(ADTM)) %>%\n",
    "  derive_vars_dtm_to_tm(exprs(ASTDTM)) %>%\n",
    "  derive_vars_dtm_to_tm(exprs(AENDTM))\n"
   ]
  },
  {
   "cell_type": "markdown",
   "id": "db22d8ac",
   "metadata": {},
   "source": [
    "\n"
   ]
  },
  {
   "cell_type": "markdown",
   "id": "f5d9550d",
   "metadata": {},
   "source": [
    "### Find First Dose\n"
   ]
  },
  {
   "cell_type": "markdown",
   "id": "92bc9244",
   "metadata": {},
   "source": [
    "\n"
   ]
  },
  {
   "cell_type": "markdown",
   "id": "0012ace2",
   "metadata": {},
   "source": [
    "In this section we will find the first dose for each subject and drug.\n"
   ]
  },
  {
   "cell_type": "markdown",
   "id": "702a06a2",
   "metadata": {},
   "source": [
    "\n"
   ]
  },
  {
   "cell_type": "code",
   "execution_count": null,
   "id": "37438d68",
   "metadata": {
    "language": "{r"
   },
   "outputs": [],
   "source": [
    "#| label: First Dose\n",
    "# ---- Find first dose per treatment per subject ----\n",
    "# ---- Join with ADPPK data and keep only subjects with dosing ----\n",
    "\n",
    "adppk_first_dose <- pc_dates %>%\n",
    "  derive_vars_merged(\n",
    "    dataset_add = ex_exp,\n",
    "    filter_add = (!is.na(ADTM)),\n",
    "    new_vars = exprs(FANLDTM = ADTM, EXDOSE_first = EXDOSE),\n",
    "    order = exprs(ADTM, EXSEQ),\n",
    "    mode = \"first\",\n",
    "    by_vars = exprs(STUDYID, USUBJID, DRUG)\n",
    "  ) %>%\n",
    "  filter(!is.na(FANLDTM)) %>%\n",
    "  # Derive AVISIT based on nominal relative time\n",
    "  # Derive AVISITN to nominal time in whole days using integer division\n",
    "  # Define AVISIT based on nominal day\n",
    "  mutate(\n",
    "    AVISITN = NFRLT %/% 24 + 1,\n",
    "    AVISIT = paste(\"Day\", AVISITN),\n",
    "  )\n"
   ]
  },
  {
   "cell_type": "markdown",
   "id": "bb36be23",
   "metadata": {},
   "source": [
    "\n"
   ]
  },
  {
   "cell_type": "markdown",
   "id": "63930a1d",
   "metadata": {},
   "source": [
    "### Find Previous Dose\n"
   ]
  },
  {
   "cell_type": "markdown",
   "id": "d1010292",
   "metadata": {},
   "source": [
    "\n"
   ]
  },
  {
   "cell_type": "markdown",
   "id": "08530d03",
   "metadata": {},
   "source": [
    "For `ADPPK` we will find the previous dose with respect to actual time and nominal time.\n"
   ]
  },
  {
   "cell_type": "markdown",
   "id": "cbb6b464",
   "metadata": {},
   "source": [
    "\n"
   ]
  },
  {
   "cell_type": "code",
   "execution_count": null,
   "id": "f35b6c40",
   "metadata": {
    "language": "{r"
   },
   "outputs": [],
   "source": [
    "#| label: Previous Dose\n",
    "# ---- Find previous dose  ----\n",
    "\n",
    "adppk_prev <- adppk_first_dose %>%\n",
    "  derive_vars_joined(\n",
    "    dataset_add = ex_exp,\n",
    "    by_vars = exprs(USUBJID),\n",
    "    order = exprs(ADTM),\n",
    "    new_vars = exprs(\n",
    "      ADTM_prev = ADTM, EXDOSE_prev = EXDOSE, AVISIT_prev = AVISIT,\n",
    "      AENDTM_prev = AENDTM\n",
    "    ),\n",
    "    join_vars = exprs(ADTM),\n",
    "    join_type = \"all\",\n",
    "    filter_add = NULL,\n",
    "    filter_join = ADTM > ADTM.join,\n",
    "    mode = \"last\",\n",
    "    check_type = \"none\"\n",
    "  )\n"
   ]
  },
  {
   "cell_type": "markdown",
   "id": "4d9700ef",
   "metadata": {},
   "source": [
    "\n"
   ]
  },
  {
   "cell_type": "markdown",
   "id": "f39befa3",
   "metadata": {},
   "source": [
    "### Find Previous Nominal Dose\n"
   ]
  },
  {
   "cell_type": "markdown",
   "id": "422a7149",
   "metadata": {},
   "source": [
    "\n"
   ]
  },
  {
   "cell_type": "code",
   "execution_count": null,
   "id": "a2842e99",
   "metadata": {
    "language": "{r"
   },
   "outputs": [],
   "source": [
    "#| label: Previous Nominal Dose\n",
    "\n",
    "adppk_nom_prev <- adppk_prev %>%\n",
    "  derive_vars_joined(\n",
    "    dataset_add = ex_exp,\n",
    "    by_vars = exprs(USUBJID),\n",
    "    order = exprs(NFRLT),\n",
    "    new_vars = exprs(NFRLT_prev = NFRLT),\n",
    "    join_vars = exprs(NFRLT),\n",
    "    join_type = \"all\",\n",
    "    filter_add = NULL,\n",
    "    filter_join = NFRLT > NFRLT.join,\n",
    "    mode = \"last\",\n",
    "    check_type = \"none\"\n",
    "  )\n"
   ]
  },
  {
   "cell_type": "markdown",
   "id": "89b515c3",
   "metadata": {},
   "source": [
    "\n"
   ]
  },
  {
   "cell_type": "markdown",
   "id": "e9865e35",
   "metadata": {},
   "source": [
    "### Combine PC and EX Data\n"
   ]
  },
  {
   "cell_type": "markdown",
   "id": "c149410f",
   "metadata": {},
   "source": [
    "\n"
   ]
  },
  {
   "cell_type": "markdown",
   "id": "2f8910ca",
   "metadata": {},
   "source": [
    "Here we combine `PC` and `EX` records. We will derive the relative time variables `AFRLT` (Actual Relative Time from First Dose), `APRLT` (Actual Relative Time from Previous Dose), and `NPRLT` (Nominal Relative Time from Previous Dose).\n"
   ]
  },
  {
   "cell_type": "markdown",
   "id": "a1db0207",
   "metadata": {},
   "source": [
    "\n"
   ]
  },
  {
   "cell_type": "code",
   "execution_count": null,
   "id": "6bab2201",
   "metadata": {
    "language": "{r"
   },
   "outputs": [],
   "source": [
    "#| label: Combine\n",
    "\n",
    "adppk_aprlt <- bind_rows(adppk_nom_prev, ex_exp) %>%\n",
    "  group_by(USUBJID, DRUG) %>%\n",
    "  mutate(\n",
    "    FANLDTM = min(FANLDTM, na.rm = TRUE),\n",
    "    min_NFRLT = min(NFRLT, na.rm = TRUE),\n",
    "    maxdate = max(ADT[EVID == 0], na.rm = TRUE), .after = USUBJID\n",
    "  ) %>%\n",
    "  arrange(USUBJID, ADTM) %>%\n",
    "  ungroup() %>%\n",
    "  filter(ADT <= maxdate) %>%\n",
    "  # Derive Actual Relative Time from First Dose (AFRLT)\n",
    "  derive_vars_duration(\n",
    "    new_var = AFRLT,\n",
    "    start_date = FANLDTM,\n",
    "    end_date = ADTM,\n",
    "    out_unit = \"hours\",\n",
    "    floor_in = FALSE,\n",
    "    add_one = FALSE\n",
    "  ) %>%\n",
    "  # Derive Actual Relative Time from Reference Dose (APRLT)\n",
    "  derive_vars_duration(\n",
    "    new_var = APRLT,\n",
    "    start_date = ADTM_prev,\n",
    "    end_date = ADTM,\n",
    "    out_unit = \"hours\",\n",
    "    floor_in = FALSE,\n",
    "    add_one = FALSE\n",
    "  ) %>%\n",
    "  # Derive APRLT\n",
    "  mutate(\n",
    "    APRLT = case_when(\n",
    "      EVID == 1 ~ 0,\n",
    "      is.na(APRLT) ~ AFRLT,\n",
    "      TRUE ~ APRLT\n",
    "    ),\n",
    "    NPRLT = case_when(\n",
    "      EVID == 1 ~ 0,\n",
    "      is.na(NFRLT_prev) ~ NFRLT - min_NFRLT,\n",
    "      TRUE ~ NFRLT - NFRLT_prev\n",
    "    )\n",
    "  )\n"
   ]
  },
  {
   "cell_type": "markdown",
   "id": "c81cba4a",
   "metadata": {},
   "source": [
    "\n"
   ]
  },
  {
   "cell_type": "markdown",
   "id": "1f576f41",
   "metadata": {},
   "source": [
    "### Derive Analysis Variables\n"
   ]
  },
  {
   "cell_type": "markdown",
   "id": "c2e1d395",
   "metadata": {},
   "source": [
    "\n"
   ]
  },
  {
   "cell_type": "markdown",
   "id": "a7a81b69",
   "metadata": {},
   "source": [
    "The expected analysis variable for `ADPPK` is `DV` or dependent variable. For this example `DV` is set to the numeric concentration value `PCSTRESN`. We will also include `AVAL` equivalent to `DV` for consistency with CDISC ADaM standards. `MDV` missing dependent variable will also be included.\n"
   ]
  },
  {
   "cell_type": "markdown",
   "id": "02c1cf8c",
   "metadata": {},
   "source": [
    "\n"
   ]
  },
  {
   "cell_type": "code",
   "execution_count": null,
   "id": "49c197d3",
   "metadata": {
    "language": "{r"
   },
   "outputs": [],
   "source": [
    "#| label: Analysis Variables\n",
    "# ---- Derive Analysis Variables ----\n",
    "# Derive actual dose DOSEA and planned dose DOSEP,\n",
    "# Derive AVAL and DV\n",
    "\n",
    "adppk_aval <- adppk_aprlt %>%\n",
    "  mutate(\n",
    "    # Derive Actual Dose\n",
    "    DOSEA = case_when(\n",
    "      EVID == 1 ~ EXDOSE,\n",
    "      is.na(EXDOSE_prev) ~ EXDOSE_first,\n",
    "      TRUE ~ EXDOSE_prev\n",
    "    ),\n",
    "    # Derive Planned Dose\n",
    "    DOSEP = case_when(\n",
    "      TRT01P == \"Xanomeline High Dose\" ~ 81,\n",
    "      TRT01P == \"Xanomeline Low Dose\" ~ 54,\n",
    "      TRT01P == \"Placebo\" ~ 0\n",
    "    ),\n",
    "    # Derive PARAMCD\n",
    "    PARAMCD = case_when(\n",
    "      EVID == 1 ~ \"DOSE\",\n",
    "      TRUE ~ PCTESTCD\n",
    "    ),\n",
    "    ALLOQ = PCLLOQ,\n",
    "    # Derive CMT\n",
    "    CMT = case_when(\n",
    "      EVID == 1 ~ 1,\n",
    "      PCSPEC == \"PLASMA\" ~ 2,\n",
    "      TRUE ~ 3\n",
    "    ),\n",
    "    # Derive BLQFL/BLQFN\n",
    "    BLQFL = case_when(\n",
    "      PCSTRESC == \"<BLQ\" ~ \"Y\",\n",
    "      TRUE ~ \"N\"\n",
    "    ),\n",
    "    BLQFN = case_when(\n",
    "      PCSTRESC == \"<BLQ\" ~ 1,\n",
    "      TRUE ~ 0\n",
    "    ),\n",
    "    AMT = case_when(\n",
    "      EVID == 1 ~ EXDOSE,\n",
    "      TRUE ~ NA_real_\n",
    "    ),\n",
    "    # Derive DV and AVAL\n",
    "    DV = PCSTRESN,\n",
    "    DVID = PCTESTCD,\n",
    "    AVAL = DV,\n",
    "    DVL = case_when(\n",
    "      DV != 0 ~ log(DV),\n",
    "      TRUE ~ NA_real_\n",
    "    ),\n",
    "    # Derive MDV\n",
    "    MDV = case_when(\n",
    "      EVID == 1 ~ 1,\n",
    "      is.na(DV) ~ 1,\n",
    "      TRUE ~ 0\n",
    "    ),\n",
    "    AVALU = case_when(\n",
    "      EVID == 1 ~ NA_character_,\n",
    "      TRUE ~ PCSTRESU\n",
    "    ),\n",
    "    RLTU = \"h\",\n",
    "    USTRESC = PCSTRESC,\n",
    "    UDTC = format_ISO8601(ADTM),\n",
    "    II = if_else(EVID == 1, 1, 0),\n",
    "    SS = if_else(EVID == 1, 1, 0),\n",
    "    ADDL = 0,\n",
    "    OCC = 1,\n",
    "  )\n"
   ]
  },
  {
   "cell_type": "markdown",
   "id": "72af3d32",
   "metadata": {},
   "source": [
    "\n"
   ]
  },
  {
   "cell_type": "markdown",
   "id": "cc20a275",
   "metadata": {},
   "source": [
    "### Add ASEQ\n"
   ]
  },
  {
   "cell_type": "markdown",
   "id": "46965e5f",
   "metadata": {},
   "source": [
    "\n"
   ]
  },
  {
   "cell_type": "code",
   "execution_count": null,
   "id": "7b7120b5",
   "metadata": {
    "language": "{r"
   },
   "outputs": [],
   "source": [
    "#| label: ASEQ\n",
    "# ---- Add ASEQ ----\n",
    "\n",
    "adppk_aseq <- adppk_aval %>%\n",
    "  # Calculate ASEQ\n",
    "  derive_var_obs_number(\n",
    "    new_var = ASEQ,\n",
    "    by_vars = exprs(STUDYID, USUBJID),\n",
    "    order = exprs(AFRLT, EVID, CMT),\n",
    "    check_type = \"error\"\n",
    "  ) %>%\n",
    "  mutate(\n",
    "    PROJID = DRUG,\n",
    "    PROJIDN = 1,\n",
    "    PART = 1,\n",
    "  )\n"
   ]
  },
  {
   "cell_type": "markdown",
   "id": "2ab24bbb",
   "metadata": {},
   "source": [
    "\n"
   ]
  },
  {
   "cell_type": "markdown",
   "id": "6efec966",
   "metadata": {},
   "source": [
    "## Derive Covariates Using `{metatools}`\n"
   ]
  },
  {
   "cell_type": "markdown",
   "id": "bccc032e",
   "metadata": {},
   "source": [
    "\n"
   ]
  },
  {
   "cell_type": "markdown",
   "id": "0e1fe35a",
   "metadata": {},
   "source": [
    "In this step we will create our numeric covariates using the `metatools::create_var_from_codelist()` function.\n"
   ]
  },
  {
   "cell_type": "markdown",
   "id": "0aaeba5c",
   "metadata": {},
   "source": [
    "\n"
   ]
  },
  {
   "cell_type": "code",
   "execution_count": null,
   "id": "8ac5fc49",
   "metadata": {
    "language": "{r"
   },
   "outputs": [],
   "source": [
    "#| label: Covariates\n",
    "#---- Derive Covariates ----\n",
    "# Include numeric values for STUDYIDN, USUBJIDN, SEXN, RACEN etc.\n",
    "\n",
    "covar <- adsl %>%\n",
    "  create_var_from_codelist(metacore, input_var = STUDYID, out_var = STUDYIDN) %>%\n",
    "  create_var_from_codelist(metacore, input_var = SEX, out_var = SEXN) %>%\n",
    "  create_var_from_codelist(metacore, input_var = RACE, out_var = RACEN) %>%\n",
    "  create_var_from_codelist(metacore, input_var = ETHNIC, out_var = AETHNIC) %>%\n",
    "  create_var_from_codelist(metacore, input_var = AETHNIC, out_var = AETHNICN) %>%\n",
    "  create_var_from_codelist(metacore, input_var = ARMCD, out_var = COHORT) %>%\n",
    "  create_var_from_codelist(metacore, input_var = ARMCD, out_var = COHORTC) %>%\n",
    "  create_var_from_codelist(metacore, input_var = COUNTRY, out_var = COUNTRYN) %>%\n",
    "  create_var_from_codelist(metacore, input_var = COUNTRY, out_var = COUNTRYL) %>%\n",
    "  mutate(\n",
    "    STUDYIDN = as.numeric(word(USUBJID, 1, sep = fixed(\"-\"))),\n",
    "    SITEIDN = as.numeric(word(USUBJID, 2, sep = fixed(\"-\"))),\n",
    "    USUBJIDN = as.numeric(word(USUBJID, 3, sep = fixed(\"-\"))),\n",
    "    SUBJIDN = as.numeric(SUBJID),\n",
    "    ROUTE = unique(ex$EXROUTE),\n",
    "    FORM = unique(ex$EXDOSFRM),\n",
    "    REGION1 = COUNTRY,\n",
    "    REGION1N = COUNTRYN,\n",
    "    SUBJTYPC = \"Volunteer\",\n",
    "  ) %>%\n",
    "  create_var_from_codelist(metacore, input_var = FORM, out_var = FORMN) %>%\n",
    "  create_var_from_codelist(metacore, input_var = ROUTE, out_var = ROUTEN) %>%\n",
    "  create_var_from_codelist(metacore, input_var = SUBJTYPC, out_var = SUBJTYP)\n"
   ]
  },
  {
   "cell_type": "markdown",
   "id": "a539c397",
   "metadata": {},
   "source": [
    "\n"
   ]
  },
  {
   "cell_type": "markdown",
   "id": "0fd6ec80",
   "metadata": {},
   "source": [
    "### Derive Additional Baselines\n"
   ]
  },
  {
   "cell_type": "markdown",
   "id": "0d999f31",
   "metadata": {},
   "source": [
    "\n"
   ]
  },
  {
   "cell_type": "markdown",
   "id": "a0b46966",
   "metadata": {},
   "source": [
    "Next we add additional baselines from vital signs and laboratory data.\n"
   ]
  },
  {
   "cell_type": "markdown",
   "id": "c16d2844",
   "metadata": {},
   "source": [
    "\n"
   ]
  },
  {
   "cell_type": "code",
   "execution_count": null,
   "id": "8966e971",
   "metadata": {
    "language": "{r"
   },
   "outputs": [],
   "source": [
    "#| label: Baselines\n",
    "\n",
    "labsbl <- lb %>%\n",
    "  filter(LBBLFL == \"Y\" & LBTESTCD %in% c(\"CREAT\", \"ALT\", \"AST\", \"BILI\")) %>%\n",
    "  mutate(LBTESTCDB = paste0(LBTESTCD, \"BL\")) %>%\n",
    "  select(STUDYID, USUBJID, LBTESTCDB, LBSTRESN)\n",
    "\n",
    "covar_vslb <- covar %>%\n",
    "  derive_vars_merged(\n",
    "    dataset_add = vs,\n",
    "    filter_add = VSTESTCD == \"HEIGHT\",\n",
    "    by_vars = exprs(STUDYID, USUBJID),\n",
    "    new_vars = exprs(HTBL = VSSTRESN)\n",
    "  ) %>%\n",
    "  derive_vars_merged(\n",
    "    dataset_add = vs,\n",
    "    filter_add = VSTESTCD == \"WEIGHT\" & VSBLFL == \"Y\",\n",
    "    by_vars = exprs(STUDYID, USUBJID),\n",
    "    new_vars = exprs(WTBL = VSSTRESN)\n",
    "  ) %>%\n",
    "  derive_vars_transposed(\n",
    "    dataset_merge = labsbl,\n",
    "    by_vars = exprs(STUDYID, USUBJID),\n",
    "    key_var = LBTESTCDB,\n",
    "    value_var = LBSTRESN\n",
    "  ) %>%\n",
    "  mutate(\n",
    "    BMIBL = compute_bmi(height = HTBL, weight = WTBL),\n",
    "    BSABL = compute_bsa(\n",
    "      height = HTBL,\n",
    "      weight = HTBL,\n",
    "      method = \"Mosteller\"\n",
    "    ),\n",
    "    CRCLBL = compute_egfr(\n",
    "      creat = CREATBL, creatu = \"SI\", age = AGE, weight = WTBL, sex = SEX,\n",
    "      method = \"CRCL\"\n",
    "    ),\n",
    "    EGFRBL = compute_egfr(\n",
    "      creat = CREATBL, creatu = \"SI\", age = AGE, weight = WTBL, sex = SEX,\n",
    "      method = \"CKD-EPI\"\n",
    "    )\n",
    "  ) %>%\n",
    "  rename(TBILBL = BILIBL)\n"
   ]
  },
  {
   "cell_type": "markdown",
   "id": "d13dd0fd",
   "metadata": {},
   "source": [
    "\n"
   ]
  },
  {
   "cell_type": "markdown",
   "id": "260bcbda",
   "metadata": {},
   "source": [
    "### Combine with Covariates\n"
   ]
  },
  {
   "cell_type": "markdown",
   "id": "8d2e2739",
   "metadata": {},
   "source": [
    "\n"
   ]
  },
  {
   "cell_type": "markdown",
   "id": "9a03115a",
   "metadata": {},
   "source": [
    "We combine our covariates with the rest of the data\n"
   ]
  },
  {
   "cell_type": "markdown",
   "id": "68600042",
   "metadata": {},
   "source": [
    "\n"
   ]
  },
  {
   "cell_type": "code",
   "execution_count": null,
   "id": "f8bb7aa4",
   "metadata": {
    "language": "{r"
   },
   "outputs": [],
   "source": [
    "#| label: Combine with Covariates\n",
    "# Combine covariates with APPPK data\n",
    "\n",
    "adppk_prefinal <- adppk_aseq %>%\n",
    "  derive_vars_merged(\n",
    "    dataset_add = select(covar_vslb, !!!negate_vars(adsl_vars)),\n",
    "    by_vars = exprs(STUDYID, USUBJID)\n",
    "  ) %>%\n",
    "  arrange(STUDYIDN, USUBJIDN, AFRLT, EVID) %>%\n",
    "  # Add RECSEQ\n",
    "  # Exclude records if needed\n",
    "  mutate(\n",
    "    RECSEQ = row_number(),\n",
    "    EXCLFCOM = \"None\"\n",
    "  ) %>%\n",
    "  create_var_from_codelist(metacore, input_var = DVID, out_var = DVIDN) %>%\n",
    "  create_var_from_codelist(metacore, input_var = EXCLFCOM, out_var = EXCLF)\n"
   ]
  },
  {
   "cell_type": "markdown",
   "id": "74af01eb",
   "metadata": {},
   "source": [
    "\n"
   ]
  },
  {
   "cell_type": "markdown",
   "id": "5f171308",
   "metadata": {},
   "source": [
    "## Check Data With metacore and metatools\n"
   ]
  },
  {
   "cell_type": "markdown",
   "id": "2425cb58",
   "metadata": {},
   "source": [
    "\n"
   ]
  },
  {
   "cell_type": "markdown",
   "id": "df6417f0",
   "metadata": {},
   "source": [
    "We use `{metacore}` objects with `{metatools}` functions to perform a number of checks on the data. We will drop variables not in the specs and make sure all the variables from the specs are included.\n"
   ]
  },
  {
   "cell_type": "markdown",
   "id": "e3c2ebb6",
   "metadata": {},
   "source": [
    "\n"
   ]
  },
  {
   "cell_type": "code",
   "execution_count": null,
   "id": "29b4e820",
   "metadata": {
    "language": "{r"
   },
   "outputs": [],
   "source": [
    "#| label: Metacore\n",
    "#| warning: false\n",
    "\n",
    "adppk <- adppk_prefinal %>%\n",
    "  drop_unspec_vars(metacore) %>% # Drop unspecified variables from specs\n",
    "  check_variables(metacore) %>% # Check all variables specified are present and no more\n",
    "  check_ct_data(metacore) %>% # Checks all variables with CT only contain values within the CT\n",
    "  order_cols(metacore) %>% # Orders the columns according to the spec\n",
    "  sort_by_key(metacore) # Sorts the rows by the sort keys\n"
   ]
  },
  {
   "cell_type": "markdown",
   "id": "5a4b6e64",
   "metadata": {},
   "source": [
    "\n"
   ]
  },
  {
   "cell_type": "markdown",
   "id": "5a54c97d",
   "metadata": {},
   "source": [
    "## Apply Labels and Formats with xportr\n"
   ]
  },
  {
   "cell_type": "markdown",
   "id": "ed0b0952",
   "metadata": {},
   "source": [
    "\n"
   ]
  },
  {
   "cell_type": "markdown",
   "id": "68429240",
   "metadata": {},
   "source": [
    "Using {xportr} we check variable type, assign variable lenght, add variable labels, add variable formats, and save a transport file with `xportr::xportr_write()`.\n"
   ]
  },
  {
   "cell_type": "markdown",
   "id": "176f2470",
   "metadata": {},
   "source": [
    "\n"
   ]
  },
  {
   "cell_type": "code",
   "execution_count": null,
   "id": "095a4103",
   "metadata": {
    "language": "{r"
   },
   "outputs": [],
   "source": [
    "#| label: xportr\n",
    "dir <- tempdir() # Change to whichever directory you want to save the dataset in\n",
    "\n",
    "adppk_xpt <- adppk %>%\n",
    "  xportr_type(metacore, domain = \"ADPPK\") %>% # Coerce variable type to match spec\n",
    "  xportr_length(metacore) %>% # Assigns SAS length from a variable level metadata\n",
    "  xportr_label(metacore) %>% # Assigns variable label from metacore specifications\n",
    "  xportr_format(metacore) %>% # Assigns variable format from metacore specifications\n",
    "  xportr_df_label(metacore) %>% # Assigns dataset label from metacore specifications\n",
    "  xportr_write(file.path(dir, \"adppk.xpt\")) # Write xpt v5 transport file\n"
   ]
  }
 ],
 "metadata": {
  "language_info": {
   "name": "python"
  }
 },
 "nbformat": 4,
 "nbformat_minor": 5
}
